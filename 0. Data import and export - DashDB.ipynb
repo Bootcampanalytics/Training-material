{
    "nbformat": 4, 
    "metadata": {
        "language_info": {
            "pygments_lexer": "ipython2", 
            "file_extension": ".py", 
            "mimetype": "text/x-python", 
            "nbconvert_exporter": "python", 
            "version": "2.7.11", 
            "codemirror_mode": {
                "name": "ipython", 
                "version": 2
            }, 
            "name": "python"
        }, 
        "kernelspec": {
            "name": "python2", 
            "language": "python", 
            "display_name": "Python 2 with Spark 1.6"
        }
    }, 
    "cells": [
        {
            "source": "# In-and export from DashDB\n\nUseful doc: \nhttp://pythonhosted.org/ibmdbpy/start.html", 
            "metadata": {
                "collapsed": true
            }, 
            "cell_type": "markdown"
        }, 
        {
            "outputs": [], 
            "source": "#imports\nimport ibmdbpy\nfrom ibmdbpy import IdaDataBase, IdaDataFrame\n\nimport pandas as pd\nimport numpy as np", 
            "execution_count": 3, 
            "cell_type": "code", 
            "metadata": {
                "collapsed": true
            }
        }, 
        {
            "outputs": [
                {
                    "output_type": "execute_result", 
                    "execution_count": 23, 
                    "data": {
                        "text/plain": "          a         b         c\n0  0.579127  0.691267  0.156212\n1  0.475068  0.030056  0.096346\n2  0.950316  0.898397  0.994278\n3  0.540834  0.900723  0.902864\n4  0.299987  0.733373  0.101006", 
                        "text/html": "<div>\n<table border=\"1\" class=\"dataframe\">\n  <thead>\n    <tr style=\"text-align: right;\">\n      <th></th>\n      <th>a</th>\n      <th>b</th>\n      <th>c</th>\n    </tr>\n  </thead>\n  <tbody>\n    <tr>\n      <th>0</th>\n      <td>0.579127</td>\n      <td>0.691267</td>\n      <td>0.156212</td>\n    </tr>\n    <tr>\n      <th>1</th>\n      <td>0.475068</td>\n      <td>0.030056</td>\n      <td>0.096346</td>\n    </tr>\n    <tr>\n      <th>2</th>\n      <td>0.950316</td>\n      <td>0.898397</td>\n      <td>0.994278</td>\n    </tr>\n    <tr>\n      <th>3</th>\n      <td>0.540834</td>\n      <td>0.900723</td>\n      <td>0.902864</td>\n    </tr>\n    <tr>\n      <th>4</th>\n      <td>0.299987</td>\n      <td>0.733373</td>\n      <td>0.101006</td>\n    </tr>\n  </tbody>\n</table>\n</div>"
                    }, 
                    "metadata": {}
                }
            ], 
            "source": "# create some data\nrandom_data=pd.DataFrame(np.random.random((1000, 3)),columns=['a','b','c'])\nrandom_data.head()", 
            "execution_count": 23, 
            "cell_type": "code", 
            "metadata": {
                "collapsed": false
            }
        }, 
        {
            "outputs": [], 
            "source": "# The code was removed by DSX for sharing.", 
            "execution_count": 24, 
            "cell_type": "code", 
            "metadata": {
                "collapsed": true
            }
        }, 
        {
            "outputs": [
                {
                    "name": "stdout", 
                    "output_type": "stream", 
                    "text": "Uploading 1000 rows (maxnrow was set to 2666)\n"
                }, 
                {
                    "name": "stderr", 
                    "output_type": "stream", 
                    "text": "Exception AttributeError: \"Cursor instance has no attribute 'closed'\" in <bound method Cursor.__del__ of <pypyodbc.Cursor instance at 0x7f78e03f0dd0>> ignored\n"
                }
            ], 
            "source": "# use case: you have some data in Python (for example from a csv file) and you want to upload it to a database\n\nidadb = IdaDataBase(dsn=\"DASHDB;Database=BLUDB;Hostname=\" + \n                    credentials_1[\"host\"] + \";Port=50000;PROTOCOL=TCPIP;UID=\" + \n                    credentials_1[\"user\"] + \";PWD=\" + \n                    credentials_1[\"password\"])\n\nidadf = idadb.as_idadataframe(random_data, \"RANDOM_DATA\", clear_existing=True) #input: a Pandas dataframe", 
            "execution_count": 25, 
            "cell_type": "code", 
            "metadata": {
                "collapsed": false
            }
        }, 
        {
            "outputs": [
                {
                    "name": "stdout", 
                    "output_type": "stream", 
                    "text": "Uploading 1000 rows (maxnrow was set to 2666)\n"
                }
            ], 
            "source": "# use case: you have an existing table and you want to append additional records\n\nRANDOM_DATA_DATAFRAME = IdaDataFrame(idadb, 'RANDOM_DATA')  #define the IdaDataFrame\n   \nidadb.append(RANDOM_DATA_DATAFRAME,random_data) # add the Pandas Dataframe 'random_data' once more to the database\nRANDOM_DATA_DATAFRAME.commit() #ensure a commit or else you won't see the addition", 
            "execution_count": 26, 
            "cell_type": "code", 
            "metadata": {
                "collapsed": false
            }
        }, 
        {
            "outputs": [
                {
                    "name": "stderr", 
                    "output_type": "stream", 
                    "text": "Exception AttributeError: \"Cursor instance has no attribute 'closed'\" in <bound method Cursor.__del__ of <pypyodbc.Cursor instance at 0x7f78eaf55cf8>> ignored\n"
                }, 
                {
                    "output_type": "execute_result", 
                    "execution_count": 28, 
                    "data": {
                        "text/plain": "(2000, 3)"
                    }, 
                    "metadata": {}
                }
            ], 
            "source": "# use case: you have data in a database and want to make it accessible to Pyton\n\nidadb = IdaDataBase(dsn=\"DASHDB;Database=BLUDB;Hostname=\" + \n                    credentials_1[\"host\"] + \";Port=50000;PROTOCOL=TCPIP;UID=\" + \n                    credentials_1[\"user\"] + \";PWD=\" + \n                    credentials_1[\"password\"])\n\nrandom_data = IdaDataFrame(idadb, 'RANDOM_DATA')\nrandom_data = random_data.as_dataframe()\nrandom_data.head()\n#random_data.shape #2000 due to the appending", 
            "execution_count": 28, 
            "cell_type": "code", 
            "metadata": {
                "collapsed": false
            }
        }, 
        {
            "outputs": [], 
            "source": "", 
            "execution_count": null, 
            "cell_type": "code", 
            "metadata": {
                "collapsed": true
            }
        }
    ], 
    "nbformat_minor": 0
}