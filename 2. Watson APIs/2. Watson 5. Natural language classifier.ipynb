{
    "nbformat": 4, 
    "nbformat_minor": 0, 
    "cells": [
        {
            "source": "# Natural language classifier", 
            "cell_type": "markdown", 
            "metadata": {
                "collapsed": true
            }
        }, 
        {
            "source": "# The code was removed by DSX for sharing.", 
            "execution_count": 1, 
            "cell_type": "code", 
            "metadata": {
                "collapsed": true
            }, 
            "outputs": []
        }, 
        {
            "source": "import json\nfrom watson_developer_cloud import NaturalLanguageClassifierV1\n\nnatural_language_classifier = NaturalLanguageClassifierV1(\n    username=credentials_1['username'],\n    password=credentials_1['password'])\n\nclassifiers = natural_language_classifier.list()\nprint(json.dumps(classifiers, indent=2))", 
            "execution_count": 3, 
            "cell_type": "code", 
            "metadata": {
                "collapsed": false
            }, 
            "outputs": [
                {
                    "name": "stdout", 
                    "text": "{\n  \"classifiers\": []\n}\n", 
                    "output_type": "stream"
                }
            ]
        }, 
        {
            "source": "#create a classifier\nimport urllib\nurllib.urlretrieve (\"https://raw.githubusercontent.com/analytics-bootcamp/Training-material/master/7.%20Training%20-%20Misc/weather.txt\", \"weather.txt\")\n\nwith open('weather.txt', 'rb') as training_data:\n     print(json.dumps(natural_language_classifier.create(training_data=training_data, name='weather'), indent=2))\n", 
            "execution_count": 10, 
            "cell_type": "code", 
            "metadata": {
                "scrolled": true, 
                "collapsed": false
            }, 
            "outputs": [
                {
                    "name": "stdout", 
                    "text": "{\n  \"status\": \"Training\", \n  \"name\": \"weather\", \n  \"language\": \"en\", \n  \"created\": \"2017-03-09T04:15:28.693Z\", \n  \"url\": \"https://gateway.watsonplatform.net/natural-language-classifier/api/v1/classifiers/4d5c10x177-nlc-2873\", \n  \"status_description\": \"The classifier instance is in its training phase, not yet ready to accept classify requests\", \n  \"classifier_id\": \"4d5c10x177-nlc-2873\"\n}\n", 
                    "output_type": "stream"
                }
            ]
        }, 
        {
            "source": "# replace 2374f9x68-nlc-2697 with your classifier id\nstatus = natural_language_classifier.status('4d5c10x177-nlc-2873')\nprint(json.dumps(status, indent=2))", 
            "execution_count": 13, 
            "cell_type": "code", 
            "metadata": {
                "collapsed": false
            }, 
            "outputs": [
                {
                    "name": "stdout", 
                    "text": "{\n  \"status\": \"Training\", \n  \"name\": \"weather\", \n  \"language\": \"en\", \n  \"created\": \"2017-03-09T04:15:28.693Z\", \n  \"url\": \"https://gateway.watsonplatform.net/natural-language-classifier/api/v1/classifiers/4d5c10x177-nlc-2873\", \n  \"status_description\": \"The classifier instance is in its training phase, not yet ready to accept classify requests\", \n  \"classifier_id\": \"4d5c10x177-nlc-2873\"\n}\n", 
                    "output_type": "stream"
                }
            ]
        }, 
        {
            "source": "status = natural_language_classifier.status('4d5c10x177-nlc-2873')\nprint(json.dumps(status, indent=2))\n\nif status['status'] == 'Available':\n    classes = natural_language_classifier.classify('4d5c10x177-nlc-2873','How hot will it be tomorrow?')\n    print(json.dumps(classes, indent=2))\n\n", 
            "execution_count": 14, 
            "cell_type": "code", 
            "metadata": {
                "collapsed": false
            }, 
            "outputs": [
                {
                    "name": "stdout", 
                    "text": "{\n  \"status\": \"Training\", \n  \"name\": \"weather\", \n  \"language\": \"en\", \n  \"created\": \"2017-03-09T04:15:28.693Z\", \n  \"url\": \"https://gateway.watsonplatform.net/natural-language-classifier/api/v1/classifiers/4d5c10x177-nlc-2873\", \n  \"status_description\": \"The classifier instance is in its training phase, not yet ready to accept classify requests\", \n  \"classifier_id\": \"4d5c10x177-nlc-2873\"\n}\n", 
                    "output_type": "stream"
                }
            ]
        }, 
        {
            "source": "delete = natural_language_classifier.remove('4d5c10x177-nlc-2873')\nprint(json.dumps(delete, indent=2))", 
            "execution_count": null, 
            "cell_type": "code", 
            "metadata": {
                "collapsed": true
            }, 
            "outputs": []
        }
    ], 
    "metadata": {
        "language_info": {
            "nbconvert_exporter": "python", 
            "mimetype": "text/x-python", 
            "pygments_lexer": "ipython2", 
            "version": "2.7.11", 
            "file_extension": ".py", 
            "name": "python", 
            "codemirror_mode": {
                "name": "ipython", 
                "version": 2
            }
        }, 
        "kernelspec": {
            "name": "python2", 
            "display_name": "Python 2 with Spark 1.6", 
            "language": "python"
        }
    }
}