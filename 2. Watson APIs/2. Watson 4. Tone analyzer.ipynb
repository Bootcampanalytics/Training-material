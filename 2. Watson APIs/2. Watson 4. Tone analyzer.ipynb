{
    "nbformat": 4, 
    "nbformat_minor": 0, 
    "cells": [
        {
            "source": "# Tone analyzer", 
            "cell_type": "markdown", 
            "metadata": {
                "collapsed": true
            }
        }, 
        {
            "source": "# The code was removed by DSX for sharing.", 
            "execution_count": 1, 
            "cell_type": "code", 
            "metadata": {
                "collapsed": true
            }, 
            "outputs": []
        }, 
        {
            "source": "import json\nfrom watson_developer_cloud import ToneAnalyzerV3\n\n\ntone_analyzer = ToneAnalyzerV3(\n    username=credentials_1['username'],\n    password=credentials_1['password'],\n    version='2016-02-11')\n\nprint(json.dumps(tone_analyzer.tone(text='I am very happy'), indent=2))", 
            "execution_count": 3, 
            "cell_type": "code", 
            "metadata": {
                "collapsed": false
            }, 
            "outputs": [
                {
                    "name": "stdout", 
                    "text": "{\n  \"document_tone\": {\n    \"tone_categories\": [\n      {\n        \"category_id\": \"emotion_tone\", \n        \"tones\": [\n          {\n            \"tone_name\": \"Anger\", \n            \"score\": 0.006227, \n            \"tone_id\": \"anger\"\n          }, \n          {\n            \"tone_name\": \"Disgust\", \n            \"score\": 0.008777, \n            \"tone_id\": \"disgust\"\n          }, \n          {\n            \"tone_name\": \"Fear\", \n            \"score\": 0.007074, \n            \"tone_id\": \"fear\"\n          }, \n          {\n            \"tone_name\": \"Joy\", \n            \"score\": 0.973498, \n            \"tone_id\": \"joy\"\n          }, \n          {\n            \"tone_name\": \"Sadness\", \n            \"score\": 0.017861, \n            \"tone_id\": \"sadness\"\n          }\n        ], \n        \"category_name\": \"Emotion Tone\"\n      }, \n      {\n        \"category_id\": \"writing_tone\", \n        \"tones\": [\n          {\n            \"tone_name\": \"Analytical\", \n            \"score\": 0.0, \n            \"tone_id\": \"analytical\"\n          }, \n          {\n            \"tone_name\": \"Confident\", \n            \"score\": 0.97759, \n            \"tone_id\": \"confident\"\n          }, \n          {\n            \"tone_name\": \"Tentative\", \n            \"score\": 0.0, \n            \"tone_id\": \"tentative\"\n          }\n        ], \n        \"category_name\": \"Writing Tone\"\n      }, \n      {\n        \"category_id\": \"social_tone\", \n        \"tones\": [\n          {\n            \"tone_name\": \"Openness\", \n            \"score\": 0.096859, \n            \"tone_id\": \"openness_big5\"\n          }, \n          {\n            \"tone_name\": \"Conscientiousness\", \n            \"score\": 0.264058, \n            \"tone_id\": \"conscientiousness_big5\"\n          }, \n          {\n            \"tone_name\": \"Extraversion\", \n            \"score\": 0.472657, \n            \"tone_id\": \"extraversion_big5\"\n          }, \n          {\n            \"tone_name\": \"Agreeableness\", \n            \"score\": 0.61522, \n            \"tone_id\": \"agreeableness_big5\"\n          }, \n          {\n            \"tone_name\": \"Emotional Range\", \n            \"score\": 0.104851, \n            \"tone_id\": \"neuroticism_big5\"\n          }\n        ], \n        \"category_name\": \"Social Tone\"\n      }\n    ]\n  }\n}\n", 
                    "output_type": "stream"
                }
            ]
        }
    ], 
    "metadata": {
        "language_info": {
            "nbconvert_exporter": "python", 
            "mimetype": "text/x-python", 
            "pygments_lexer": "ipython2", 
            "version": "2.7.11", 
            "file_extension": ".py", 
            "name": "python", 
            "codemirror_mode": {
                "name": "ipython", 
                "version": 2
            }
        }, 
        "kernelspec": {
            "name": "python2", 
            "display_name": "Python 2 with Spark 1.6", 
            "language": "python"
        }
    }
}