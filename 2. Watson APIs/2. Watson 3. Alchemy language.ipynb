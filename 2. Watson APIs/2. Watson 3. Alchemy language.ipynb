{
    "nbformat": 4, 
    "nbformat_minor": 0, 
    "cells": [
        {
            "source": "# Alchemy language", 
            "cell_type": "markdown", 
            "metadata": {
                "collapsed": true
            }
        }, 
        {
            "execution_count": null, 
            "metadata": {
                "collapsed": true
            }, 
            "outputs": [], 
            "cell_type": "code", 
            "source": "!pip install watson-developer-cloud"
        }, 
        {
            "execution_count": 3, 
            "metadata": {
                "collapsed": true
            }, 
            "outputs": [], 
            "cell_type": "code", 
            "source": "# The code was removed by DSX for sharing."
        }, 
        {
            "execution_count": null, 
            "metadata": {
                "collapsed": true
            }, 
            "outputs": [], 
            "cell_type": "code", 
            "source": "import json\nfrom os.path import join, dirname\nfrom watson_developer_cloud import AlchemyLanguageV1\n\nalchemy_language = AlchemyLanguageV1(api_key=credentials_1['apikey'])\n\nurl = 'https://developer.ibm.com/watson/blog/2015/11/03/price-reduction-for-watson-personality-insights/'"
        }, 
        {
            "execution_count": 6, 
            "metadata": {
                "collapsed": true
            }, 
            "outputs": [
                {
                    "evalue": "Error: daily-transaction-limit-exceeded", 
                    "traceback": [
                        "\u001b[1;31m\u001b[0m", 
                        "\u001b[1;31mWatsonException\u001b[0mTraceback (most recent call last)", 
                        "\u001b[1;32m<ipython-input-6-44ee7d7c3650>\u001b[0m in \u001b[0;36m<module>\u001b[1;34m()\u001b[0m\n\u001b[1;32m----> 1\u001b[1;33m \u001b[1;32mprint\u001b[0m\u001b[1;33m(\u001b[0m\u001b[0mjson\u001b[0m\u001b[1;33m.\u001b[0m\u001b[0mdumps\u001b[0m\u001b[1;33m(\u001b[0m\u001b[0malchemy_language\u001b[0m\u001b[1;33m.\u001b[0m\u001b[0mtargeted_sentiment\u001b[0m\u001b[1;33m(\u001b[0m\u001b[0mtext\u001b[0m\u001b[1;33m=\u001b[0m\u001b[1;34m'I love cats! Dogs are smelly.'\u001b[0m\u001b[1;33m,\u001b[0m\u001b[0mtargets\u001b[0m\u001b[1;33m=\u001b[0m\u001b[1;33m[\u001b[0m\u001b[1;34m'cats'\u001b[0m\u001b[1;33m,\u001b[0m \u001b[1;34m'dogs'\u001b[0m\u001b[1;33m]\u001b[0m\u001b[1;33m,\u001b[0m\u001b[0mlanguage\u001b[0m\u001b[1;33m=\u001b[0m\u001b[1;34m'english'\u001b[0m\u001b[1;33m)\u001b[0m\u001b[1;33m,\u001b[0m \u001b[0mindent\u001b[0m\u001b[1;33m=\u001b[0m\u001b[1;36m2\u001b[0m\u001b[1;33m)\u001b[0m\u001b[1;33m)\u001b[0m\u001b[1;33m\u001b[0m\u001b[0m\n\u001b[0m", 
                        "\u001b[1;32m/gpfs/fs01/user/s2de-6c3e21af46e198-7a7840b6cba3/.local/lib/python2.7/site-packages/watson_developer_cloud/alchemy_language_v1.pyc\u001b[0m in \u001b[0;36mtargeted_sentiment\u001b[1;34m(self, targets, html, text, url, language, constraint_query, xpath_query, show_source_text, source_text_type)\u001b[0m\n\u001b[0;32m    320\u001b[0m                   'sourceText': source_text_type}\n\u001b[0;32m    321\u001b[0m         return self._alchemy_html_request('GetTargetedSentiment', html=html,\n\u001b[1;32m--> 322\u001b[1;33m                                           text=text, url=url, params=params)\n\u001b[0m", 
                        "\u001b[1;32m/gpfs/fs01/user/s2de-6c3e21af46e198-7a7840b6cba3/.local/lib/python2.7/site-packages/watson_developer_cloud/watson_developer_cloud_service.pyc\u001b[0m in \u001b[0;36m_alchemy_html_request\u001b[1;34m(self, method_name, url, html, text, params, method, method_url)\u001b[0m\n\u001b[0;32m    225\u001b[0m         return self.request(method=method, url=method_url, params=params,\n\u001b[0;32m    226\u001b[0m                             \u001b[0mdata\u001b[0m\u001b[1;33m=\u001b[0m\u001b[0murl_encoded_params\u001b[0m\u001b[1;33m,\u001b[0m \u001b[0mheaders\u001b[0m\u001b[1;33m=\u001b[0m\u001b[0mheaders\u001b[0m\u001b[1;33m,\u001b[0m\u001b[1;33m\u001b[0m\u001b[0m\n\u001b[1;32m--> 227\u001b[1;33m                             accept_json=True)\n\u001b[0m\u001b[0;32m    228\u001b[0m \u001b[1;33m\u001b[0m\u001b[0m\n\u001b[0;32m    229\u001b[0m     def _alchemy_image_request(self, method_name, image_file=None,\n", 
                        "\u001b[1;32m/gpfs/fs01/user/s2de-6c3e21af46e198-7a7840b6cba3/.local/lib/python2.7/site-packages/watson_developer_cloud/watson_developer_cloud_service.pyc\u001b[0m in \u001b[0;36mrequest\u001b[1;34m(self, method, url, accept_json, headers, params, json, data, files, **kwargs)\u001b[0m\n\u001b[0;32m    309\u001b[0m                     \u001b[1;32mif\u001b[0m \u001b[0merror_message\u001b[0m \u001b[1;33m==\u001b[0m \u001b[1;34m'invalid-api-key'\u001b[0m\u001b[1;33m:\u001b[0m\u001b[1;33m\u001b[0m\u001b[0m\n\u001b[0;32m    310\u001b[0m                         \u001b[0mresponse\u001b[0m\u001b[1;33m.\u001b[0m\u001b[0mstatus_code\u001b[0m \u001b[1;33m=\u001b[0m \u001b[1;36m401\u001b[0m\u001b[1;33m\u001b[0m\u001b[0m\n\u001b[1;32m--> 311\u001b[1;33m                     \u001b[1;32mraise\u001b[0m \u001b[0mWatsonException\u001b[0m\u001b[1;33m(\u001b[0m\u001b[1;34m'Error: '\u001b[0m \u001b[1;33m+\u001b[0m \u001b[0merror_message\u001b[0m\u001b[1;33m)\u001b[0m\u001b[1;33m\u001b[0m\u001b[0m\n\u001b[0m\u001b[0;32m    312\u001b[0m                 \u001b[1;32mreturn\u001b[0m \u001b[0mresponse_json\u001b[0m\u001b[1;33m\u001b[0m\u001b[0m\n\u001b[0;32m    313\u001b[0m             \u001b[1;32mreturn\u001b[0m \u001b[0mresponse\u001b[0m\u001b[1;33m\u001b[0m\u001b[0m\n", 
                        "\u001b[1;31mWatsonException\u001b[0m: Error: daily-transaction-limit-exceeded"
                    ], 
                    "ename": "WatsonException", 
                    "output_type": "error"
                }
            ], 
            "cell_type": "code", 
            "source": "print(json.dumps(alchemy_language.targeted_sentiment(text='I love cats! Dogs are smelly.',targets=['cats', 'dogs'],language='english'), indent=2))"
        }, 
        {
            "execution_count": null, 
            "metadata": {
                "collapsed": true
            }, 
            "outputs": [], 
            "cell_type": "code", 
            "source": "print(json.dumps(alchemy_language.targeted_emotion(text='I love apples. I hate bananas', targets=['apples','bananas'], language='english'), indent=2))"
        }, 
        {
            "execution_count": null, 
            "metadata": {
                "collapsed": true
            }, 
            "outputs": [], 
            "cell_type": "code", 
            "source": "print(json.dumps(alchemy_language.author(url=url), indent=2))"
        }, 
        {
            "execution_count": null, 
            "metadata": {
                "collapsed": true
            }, 
            "outputs": [], 
            "cell_type": "code", 
            "source": "print(json.dumps(alchemy_language.concepts(max_items=2, url=url), indent=2))"
        }, 
        {
            "execution_count": null, 
            "metadata": {
                "collapsed": true
            }, 
            "outputs": [], 
            "cell_type": "code", 
            "source": "print(json.dumps(alchemy_language.dates(url=url, anchor_date='2016-03-22 00:00:00'), indent=2))"
        }, 
        {
            "execution_count": null, 
            "metadata": {
                "collapsed": true
            }, 
            "outputs": [], 
            "cell_type": "code", 
            "source": "print(json.dumps(alchemy_language.emotion(url=url), indent=2))"
        }, 
        {
            "execution_count": null, 
            "metadata": {
                "collapsed": true
            }, 
            "outputs": [], 
            "cell_type": "code", 
            "source": "print(json.dumps(alchemy_language.entities(url=url), indent=2))"
        }, 
        {
            "execution_count": null, 
            "metadata": {
                "collapsed": true
            }, 
            "outputs": [], 
            "cell_type": "code", 
            "source": "print(json.dumps(alchemy_language.entities(url=url), indent=2))"
        }, 
        {
            "execution_count": null, 
            "metadata": {
                "collapsed": true
            }, 
            "outputs": [], 
            "cell_type": "code", 
            "source": "print(json.dumps(alchemy_language.keywords(max_items=5, url=url), indent=2))"
        }, 
        {
            "execution_count": null, 
            "metadata": {
                "collapsed": true
            }, 
            "outputs": [], 
            "cell_type": "code", 
            "source": "print(json.dumps(alchemy_language.category(url=url), indent=2))"
        }, 
        {
            "execution_count": null, 
            "metadata": {
                "collapsed": true
            }, 
            "outputs": [], 
            "cell_type": "code", 
            "source": "print(json.dumps(alchemy_language.typed_relations(url=url), indent=2))"
        }, 
        {
            "execution_count": null, 
            "metadata": {
                "collapsed": true
            }, 
            "outputs": [], 
            "cell_type": "code", 
            "source": "print(json.dumps(alchemy_language.relations(url=url), indent=2))"
        }, 
        {
            "execution_count": null, 
            "metadata": {
                "collapsed": true
            }, 
            "outputs": [], 
            "cell_type": "code", 
            "source": "print(json.dumps(alchemy_language.language(url=url), indent=2))"
        }, 
        {
            "execution_count": null, 
            "metadata": {
                "collapsed": true
            }, 
            "outputs": [], 
            "cell_type": "code", 
            "source": "print(json.dumps(alchemy_language.text(url=url), indent=2))"
        }, 
        {
            "execution_count": null, 
            "metadata": {
                "collapsed": true
            }, 
            "outputs": [], 
            "cell_type": "code", 
            "source": "print(json.dumps(alchemy_language.raw_text(url=url), indent=2))"
        }, 
        {
            "execution_count": null, 
            "metadata": {
                "collapsed": true
            }, 
            "outputs": [], 
            "cell_type": "code", 
            "source": "print(json.dumps(alchemy_language.title(url=url), indent=2))"
        }, 
        {
            "execution_count": null, 
            "metadata": {
                "collapsed": true
            }, 
            "outputs": [], 
            "cell_type": "code", 
            "source": "print(json.dumps(alchemy_language.feeds(url=url), indent=2))"
        }, 
        {
            "execution_count": null, 
            "metadata": {
                "collapsed": true
            }, 
            "outputs": [], 
            "cell_type": "code", 
            "source": "print(json.dumps(alchemy_language.microformats(url='http://microformats.org/wiki/hcard-examples'), indent=2))"
        }, 
        {
            "execution_count": null, 
            "metadata": {
                "collapsed": true
            }, 
            "outputs": [], 
            "cell_type": "code", 
            "source": "print(json.dumps(alchemy_language.publication_date(url=url), indent=2))"
        }, 
        {
            "execution_count": null, 
            "metadata": {
                "collapsed": true
            }, 
            "outputs": [], 
            "cell_type": "code", 
            "source": "print(json.dumps(alchemy_language.taxonomy(url=url), indent=2))"
        }, 
        {
            "execution_count": null, 
            "metadata": {
                "collapsed": true
            }, 
            "outputs": [], 
            "cell_type": "code", 
            "source": "combined_operations = ['page-image', 'entity', 'keyword', 'title', 'author','taxonomy', 'concept', 'doc-emotion']\nprint(json.dumps(alchemy_language.combined(url=url, extract=combined_operations),indent=2))"
        }, 
        {
            "execution_count": null, 
            "metadata": {
                "collapsed": true
            }, 
            "outputs": [], 
            "cell_type": "code", 
            "source": "# Get sentiment and emotion information results for detected entities/keywords:\nprint(json.dumps(alchemy_language.entities(url=url, sentiment=True,emotion=True), indent=2))"
        }, 
        {
            "execution_count": null, 
            "metadata": {
                "collapsed": true
            }, 
            "outputs": [], 
            "cell_type": "code", 
            "source": "print(json.dumps(alchemy_language.keywords(max_items=5, url=url,sentiment=True, emotion=True), indent=2))"
        }
    ], 
    "metadata": {
        "language_info": {
            "nbconvert_exporter": "python", 
            "file_extension": ".py", 
            "codemirror_mode": {
                "name": "ipython", 
                "version": 2
            }, 
            "pygments_lexer": "ipython2", 
            "version": "2.7.11", 
            "mimetype": "text/x-python", 
            "name": "python"
        }, 
        "kernelspec": {
            "language": "python", 
            "display_name": "Python 2 with Spark 1.6", 
            "name": "python2"
        }
    }
}