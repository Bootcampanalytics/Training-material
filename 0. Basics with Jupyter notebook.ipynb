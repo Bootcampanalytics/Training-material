{
    "metadata": {
        "language_info": {
            "file_extension": ".py", 
            "nbconvert_exporter": "python", 
            "mimetype": "text/x-python", 
            "version": "2.7.11", 
            "pygments_lexer": "ipython2", 
            "codemirror_mode": {
                "name": "ipython", 
                "version": 2
            }, 
            "name": "python"
        }, 
        "kernelspec": {
            "name": "python2", 
            "language": "python", 
            "display_name": "Python 2 with Spark 1.6"
        }
    }, 
    "nbformat": 4, 
    "nbformat_minor": 0, 
    "cells": [
        {
            "source": "# Jupyter notebook basics", 
            "metadata": {
                "collapsed": true
            }, 
            "cell_type": "markdown"
        }, 
        {
            "source": "Notebook documents (or \u201cnotebooks\u201d, all lower case) are documents produced by the Jupyter Notebook App, which contain both computer code (e.g. python) and rich text elements (paragraph, equations, figures, links, etc...). \n\nNotebook documents are both human-readable documents containing the analysis description and the results (figures, tables, etc..) as well as executable documents which can be run to perform data analysis.", 
            "metadata": {}, 
            "cell_type": "markdown"
        }, 
        {
            "source": "The Jupyter Notebook App is a server-client application that allows editing and running notebook documents via a web browser. The IBM version of Jupyter Notebook App is installed on a remote server and accessed through the internet.", 
            "metadata": {}, 
            "cell_type": "markdown"
        }, 
        {
            "source": "A notebook kernel is a \u201ccomputational engine\u201d that executes the code contained in a Notebook document. The ipython kernel, referenced in this guide, executes python code. Kernels for many other languages exist (check the Kernels menu above).\n\nWhen you open a Notebook document, the associated kernel is automatically launched. When the notebook is executed (either cell-by-cell or with menu Cell -> Run All), the kernel performs the computation and produces the results. Depending on the type of computations, the kernel may consume significant CPU and RAM. Note that the RAM is not released until the kernel is shut-down", 
            "metadata": {}, 
            "cell_type": "markdown"
        }, 
        {
            "source": "# Useful shortcuts in Jupter:\n\nctrl-enter: execute the active cell and stay in that cell\nshift-enter: execute the active cell and move to the next cell\n\nTry it out in the next cell:", 
            "metadata": {}, 
            "cell_type": "markdown"
        }, 
        {
            "execution_count": 1, 
            "source": "print (\"Hello world\")", 
            "cell_type": "code", 
            "metadata": {
                "scrolled": true, 
                "collapsed": false
            }, 
            "outputs": [
                {
                    "name": "stdout", 
                    "output_type": "stream", 
                    "text": "Hello world\n"
                }
            ]
        }, 
        {
            "execution_count": 3, 
            "source": "print (\"Second line\")", 
            "cell_type": "code", 
            "metadata": {
                "scrolled": true, 
                "collapsed": false
            }, 
            "outputs": [
                {
                    "name": "stdout", 
                    "output_type": "stream", 
                    "text": "Second line\n"
                }
            ]
        }, 
        {
            "source": "# Inserting new cells\n\nwhen a cell is selected in blue (click in the margin to the left of the cell), it shows a blue surrounding box.\n\nType: \na (above) to create a new empty cell above the currently active cell\nb (below) to create a new empty cell below the currently active cell\n\nTry it out.", 
            "metadata": {}, 
            "cell_type": "markdown"
        }, 
        {
            "source": "# markup code\n\nThe shorcut m (with the blue selection) changes the cell from computation to markdown. This allows to create rich text elements to document the code.", 
            "metadata": {}, 
            "cell_type": "markdown"
        }, 
        {
            "execution_count": null, 
            "source": "Try it out: make this text part of the markdown. ", 
            "cell_type": "code", 
            "metadata": {
                "collapsed": true
            }, 
            "outputs": []
        }, 
        {
            "execution_count": null, 
            "source": "# Heading 1\n## Heading 2\n### Heading 3\n#### Heading 4\n\n**bold**\n\n*italics*\n\nempty line is a paragraph\n\nthis is a new parapgraph", 
            "cell_type": "code", 
            "metadata": {
                "collapsed": true
            }, 
            "outputs": []
        }, 
        {
            "source": "# Heading 1\n## Heading 2\n### Heading 3\n#### Heading 4\n\n**bold**\n\n*italics*\n\nempty line is a paragraph\n\nthis is a new parapgraph", 
            "metadata": {}, 
            "cell_type": "markdown"
        }, 
        {
            "source": "# other shotcuts\n\nThe shorcut h (with the blue selection) shows other shortcuts\nThe shortcut o (with the blue selection) will hide long output.", 
            "metadata": {}, 
            "cell_type": "markdown"
        }, 
        {
            "execution_count": 5, 
            "source": "# Try toggling the output\nfor i in range(10):\n    print (\"Hello world\")", 
            "cell_type": "code", 
            "metadata": {
                "scrolled": true, 
                "collapsed": false
            }, 
            "outputs": [
                {
                    "name": "stdout", 
                    "output_type": "stream", 
                    "text": "Hello world\nHello world\nHello world\nHello world\nHello world\nHello world\nHello world\nHello world\nHello world\nHello world\n"
                }
            ]
        }, 
        {
            "source": "Help on objects:\nobj?, obj??      : Get help, or more help for object (also works as\n                   ?obj, ??obj).\n?foo.*abc*       : List names in 'foo' containing 'abc' in them.", 
            "metadata": {}, 
            "cell_type": "markdown"
        }, 
        {
            "execution_count": 15, 
            "source": "#try it out\n?dict", 
            "cell_type": "code", 
            "metadata": {
                "collapsed": false
            }, 
            "outputs": []
        }
    ]
}