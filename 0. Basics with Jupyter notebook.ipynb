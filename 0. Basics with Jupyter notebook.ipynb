{
    "nbformat": 4, 
    "metadata": {
        "language_info": {
            "pygments_lexer": "ipython2", 
            "file_extension": ".py", 
            "mimetype": "text/x-python", 
            "nbconvert_exporter": "python", 
            "version": "2.7.11", 
            "codemirror_mode": {
                "name": "ipython", 
                "version": 2
            }, 
            "name": "python"
        }, 
        "kernelspec": {
            "name": "python2", 
            "language": "python", 
            "display_name": "Python 2 with Spark 1.6"
        }
    }, 
    "cells": [
        {
            "source": "# Jupyter notebook basics", 
            "metadata": {
                "collapsed": true
            }, 
            "cell_type": "markdown"
        }, 
        {
            "source": "Notebook documents (or \u201cnotebooks\u201d, all lower case) are documents produced by the Jupyter Notebook App, which contain both computer code (e.g. python) and rich text elements (paragraph, equations, figures, links, etc...). \n\nNotebook documents are both human-readable documents containing the analysis description and the results (figures, tables, etc..) as well as executable documents which can be run to perform data analysis.", 
            "metadata": {}, 
            "cell_type": "markdown"
        }, 
        {
            "source": "The Jupyter Notebook App is a server-client application that allows editing and running notebook documents via a web browser. The IBM version of Jupyter Notebook App is installed on a remote server and accessed through the internet.", 
            "metadata": {}, 
            "cell_type": "markdown"
        }, 
        {
            "source": "A notebook kernel is a \u201ccomputational engine\u201d that executes the code contained in a Notebook document. The ipython kernel, referenced in this guide, executes python code. Kernels for many other languages exist (check the Kernels menu above).\n\nWhen you open a Notebook document, the associated kernel is automatically launched. When the notebook is executed (either cell-by-cell or with menu Cell -> Run All), the kernel performs the computation and produces the results. Depending on the type of computations, the kernel may consume significant CPU and RAM. Note that the RAM is not released until the kernel is shut-down", 
            "metadata": {}, 
            "cell_type": "markdown"
        }, 
        {
            "source": "# Useful shortcuts in Jupter:\n\nctrl-enter: execute the active cell and stay in that cell\nshift-enter: execute the active cell and move to the next cell\n\nTry it out in the next cell:", 
            "metadata": {}, 
            "cell_type": "markdown"
        }, 
        {
            "outputs": [
                {
                    "name": "stdout", 
                    "output_type": "stream", 
                    "text": "Hello world\n"
                }
            ], 
            "source": "print (\"Hello world\")", 
            "execution_count": 1, 
            "cell_type": "code", 
            "metadata": {
                "scrolled": true, 
                "collapsed": false
            }
        }, 
        {
            "outputs": [
                {
                    "name": "stdout", 
                    "output_type": "stream", 
                    "text": "Second line\n"
                }
            ], 
            "source": "print (\"Second line\")", 
            "execution_count": 3, 
            "cell_type": "code", 
            "metadata": {
                "scrolled": true, 
                "collapsed": false
            }
        }, 
        {
            "source": "# Inserting new cells\n\nwhen a cell is selected in blue (click in the margin to the left of the cell), it shows a blue surrounding box.\n\nType: \na (above) to create a new empty cell above the currently active cell\nb (below) to create a new empty cell below the currently active cell\n\nTry it out.", 
            "metadata": {}, 
            "cell_type": "markdown"
        }, 
        {
            "source": "# markup code\n\nThe shorcut m (with the blue selection) changes the cell from computation to markdown. This allows to create rich text elements to document the code.", 
            "metadata": {}, 
            "cell_type": "markdown"
        }, 
        {
            "outputs": [], 
            "source": "Try it out: make this text part of the markdown. ", 
            "execution_count": null, 
            "cell_type": "code", 
            "metadata": {
                "collapsed": true
            }
        }, 
        {
            "source": "# other shotcuts\n\nThe shorcut h (with the blue selection) shows other shortcuts", 
            "metadata": {}, 
            "cell_type": "markdown"
        }
    ], 
    "nbformat_minor": 0
}