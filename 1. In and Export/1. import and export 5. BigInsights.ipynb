{
    "nbformat": 4, 
    "nbformat_minor": 0, 
    "cells": [
        {
            "source": "# In-and export from BigInsights\n\nhttps://developer.ibm.com/hadoop/docs/getting-started/tutorials/big-sql-hadoop-tutorial/", 
            "cell_type": "markdown", 
            "metadata": {
                "collapsed": true
            }
        }, 
        {
            "source": "!pip install --user ibm_db", 
            "execution_count": 1, 
            "cell_type": "code", 
            "metadata": {
                "scrolled": true, 
                "collapsed": false
            }, 
            "outputs": [
                {
                    "name": "stdout", 
                    "text": "Collecting ibm-db\n  Downloading ibm_db-2.0.7.tar.gz (553kB)\n\u001b[K    100% |\u2588\u2588\u2588\u2588\u2588\u2588\u2588\u2588\u2588\u2588\u2588\u2588\u2588\u2588\u2588\u2588\u2588\u2588\u2588\u2588\u2588\u2588\u2588\u2588\u2588\u2588\u2588\u2588\u2588\u2588\u2588\u2588| 563kB 1.9MB/s \n\u001b[?25hInstalling collected packages: ibm-db\n  Running setup.py install for ibm-db ... \u001b[?25l-\b \b\\\b \b|\b \b/\b \b-\b \b\\\b \b|\b \b/\b \b-\b \b\\\b \b|\b \b/\b \b-\b \b\\\b \b|\b \b/\b \b-\b \b\\\b \b|\b \b/\b \b-\b \b\\\b \b|\b \b/\b \b-\b \b\\\b \b|\b \bdone\n\u001b[?25hSuccessfully installed ibm-db-2.0.7\n", 
                    "output_type": "stream"
                }
            ]
        }, 
        {
            "source": "import ibm_db", 
            "execution_count": 2, 
            "cell_type": "code", 
            "metadata": {
                "collapsed": true
            }, 
            "outputs": []
        }, 
        {
            "source": "Credentials", 
            "cell_type": "markdown", 
            "metadata": {}
        }, 
        {
            "source": "@hidden_cell\n\ncredentials_1 = {\n  'user':'bootcamp',\n  'password':'bootcamp1bootcamp',\n  'database' : 'bigsql',\n  'hostname' : 'iop-bi-master.imdemocloud.com',\n  'port' : '32051'  \n}", 
            "execution_count": null, 
            "cell_type": "code", 
            "metadata": {
                "collapsed": true
            }, 
            "outputs": []
        }, 
        {
            "source": "conn_string = (\n      \"DRIVER={{IBM DB2 ODBC DRIVER}};\"\n      \"DATABASE={0};\"\n      \"HOSTNAME={1};\"\n      \"PORT={2};\"\n      \"PROTOCOL=TCPIP;\"\n      \"UID={3};\"\n      \"PWD={4};\").format(database, hostname, port, username, password);\n\nconn = ibm_db.connect(conn_string, \"\", \"\")", 
            "execution_count": null, 
            "cell_type": "code", 
            "metadata": {
                "collapsed": true
            }, 
            "outputs": []
        }, 
        {
            "source": "query = \"USE \"+username+\";\";\nibm_db.exec_immediate(conn, query);", 
            "execution_count": null, 
            "cell_type": "code", 
            "metadata": {
                "collapsed": true
            }, 
            "outputs": []
        }, 
        {
            "source": "# BigSQL not available in current cloud based BigInsights offering", 
            "execution_count": null, 
            "cell_type": "code", 
            "metadata": {
                "collapsed": true
            }, 
            "outputs": []
        }
    ], 
    "metadata": {
        "language_info": {
            "nbconvert_exporter": "python", 
            "mimetype": "text/x-python", 
            "pygments_lexer": "ipython2", 
            "version": "2.7.11", 
            "file_extension": ".py", 
            "name": "python", 
            "codemirror_mode": {
                "name": "ipython", 
                "version": 2
            }
        }, 
        "kernelspec": {
            "name": "python2", 
            "display_name": "Python 2 with Spark 1.6", 
            "language": "python"
        }
    }
}