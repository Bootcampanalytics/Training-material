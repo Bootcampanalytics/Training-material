{
 "cells": [
  {
   "cell_type": "code",
   "execution_count": 14,
   "metadata": {
    "collapsed": false
   },
   "outputs": [],
   "source": [
    "import requests\n",
    "\n",
    "score=requests.get(\"https://codeshare.io/2pAwm4\").content\n",
    "res=score.split(\"xxx\")[1].split(\"\\\\n\")"
   ]
  },
  {
   "cell_type": "code",
   "execution_count": 71,
   "metadata": {
    "collapsed": false,
    "scrolled": true
   },
   "outputs": [
    {
     "data": {
      "text/plain": [
       "[('0. Basics', 1.0),\n",
       " ('1. In and Export', 1.1),\n",
       " ('2. Watson APIs', 2.0),\n",
       " ('3. Visualization', 2.0),\n",
       " ('4. Spark', 2.4),\n",
       " ('5. Machine Learning', 2.3),\n",
       " ('6. Training - Deep Learning', 2.2)]"
      ]
     },
     "execution_count": 71,
     "metadata": {},
     "output_type": "execute_result"
    }
   ],
   "source": [
    "main=[i.split(\"#\") for i in res[3:10]]\n",
    "topics=[i[0].strip() for i in main]\n",
    "hours=[i[1] for i in main]\n",
    "votes = [len(i) for i in hours]\n",
    "tot_score = [sum(int(i) for i in  j) for j in hours ]\n",
    "avg_scores=[round(float(a)/float(b),1) for a,b in zip(tot_score,votes)]\n",
    "\n",
    "zip(topics,avg_scores)"
   ]
  },
  {
   "cell_type": "code",
   "execution_count": 121,
   "metadata": {
    "collapsed": false
   },
   "outputs": [
    {
     "name": "stdout",
     "output_type": "stream",
     "text": [
      "\n",
      "('0', 'Basics\\\\\\\\0. Basics 1. Python', 1.0)\n",
      "('0', 'Basics\\\\\\\\0. Basics 0. Jupyter notebook', 1.2)\n",
      "('0', 'Basics\\\\\\\\0. Basics 4. Jupyter notebook magics, shell and R', 1.4)\n",
      "('0', 'Basics\\\\\\\\0. Basics 3. Pandas', 2.5)\n",
      "('0', 'Basics\\\\\\\\0. Basics 2. Numpy', 2.6)\n",
      "\n",
      "('1', 'In and Export\\\\\\\\1. import and export 0. Object Storage', 1.3)\n",
      "('1', 'In and Export\\\\\\\\1. import and export 1. Download and upload', 1.3)\n",
      "('1', 'In and Export\\\\\\\\1. import and export 2. DashDB', 1.4)\n",
      "('1', 'In and Export\\\\\\\\1. import and export 3. Cloudant', 2.2)\n",
      "('1', 'In and Export\\\\\\\\1. import and export 4. Twitter', 2.2)\n",
      "('1', 'In and Export\\\\\\\\1. import and export 5. BigInsights', 2.3)\n",
      "\n",
      "('2', 'Watson APIs\\\\\\\\2. Watson 0. Weather API', 1.0)\n",
      "('2', 'Watson APIs\\\\\\\\2. Watson 2. Alchemy News', 1.5)\n",
      "('2', 'Watson APIs\\\\\\\\2. Watson 1. Personality Insights', 1.8)\n",
      "('2', 'Watson APIs\\\\\\\\2. Watson 5. Natural language classifier', 2.1)\n",
      "('2', 'Watson APIs\\\\\\\\2. Watson 3. Alchemy language', 2.3)\n",
      "('2', 'Watson APIs\\\\\\\\2. Watson 4. Tone analyzer', 2.3)\n",
      "\n",
      "('3', 'Visualization\\\\\\\\3. Visualization 0. Matplotlib', 1.8)\n",
      "('3', 'Visualization\\\\\\\\3. Visualization 1. Machine learning techniques', 1.8)\n",
      "('3', 'Visualization\\\\\\\\3. Visualization 2. Pixiedust', 2.0)\n",
      "('3', 'Visualization\\\\\\\\3. Visualization 3. Bokeh', 2.7)\n",
      "\n",
      "('4', 'Spark\\\\\\\\4. Spark 0. rdd-creation', 1.4)\n",
      "('4', 'Spark\\\\\\\\4. Spark 1. rdd-basics', 1.4)\n",
      "('4', 'Spark\\\\\\\\4. Spark 2. rdd-sampling', 2.5)\n",
      "('4', 'Spark\\\\\\\\4. Spark 3. rdd-set', 2.5)\n",
      "('4', 'Spark\\\\\\\\4. Spark 4. rdd-aggregations', 2.5)\n",
      "('4', 'Spark\\\\\\\\4. Spark 5. rdd-key-value', 2.5)\n",
      "('4', 'Spark\\\\\\\\4. Spark 7. mllib-logit', 2.5)\n",
      "('4', 'Spark\\\\\\\\4. Spark 8. mllib-trees', 2.5)\n",
      "('4', 'Spark\\\\\\\\4. Spark 9. sql-dataframes', 2.7)\n",
      "('4', 'Spark\\\\\\\\4. Spark 6. mllib-statistics', 2.8)\n",
      "\n",
      "('5', 'Machine Learning\\\\\\\\5. ML 1. Introduction', 1.3)\n",
      "('5', 'Machine Learning\\\\\\\\5. ML 3. Scikit Learn interface', 2.0)\n",
      "('5', 'Machine Learning\\\\\\\\5. ML 2. Data preparation', 2.1)\n",
      "('5', 'Machine Learning\\\\\\\\5. ML 0. Install requirements', 2.3)\n",
      "('5', 'Machine Learning\\\\\\\\5. ML 5. Model evaluation', 2.3)\n",
      "('5', 'Machine Learning\\\\\\\\5. ML 4. Bias and variance', 2.4)\n",
      "('5', 'Machine Learning\\\\\\\\5. ML 7. Ensemble methods advanced', 2.5)\n",
      "('5', 'Machine Learning\\\\\\\\5. ML 9. Time series', 2.6)\n",
      "('5', 'Machine Learning\\\\\\\\5. ML 6. Ensemble methods', 2.7)\n",
      "('5', 'Machine Learning\\\\\\\\5. ML 8. Multi Model Ensembles', 2.8)\n",
      "\n",
      "('6', 'Deep Learning\\\\\\\\6. DL 0. Keras starter kit', 1.4)\n",
      "('6', 'Deep Learning\\\\\\\\6. DL 1. Fun with activation functions', 1.8)\n",
      "('6', 'Deep Learning\\\\\\\\6. DL 3. Embedding', 2.3)\n",
      "('6', 'Deep Learning\\\\\\\\6. DL 5. Auto encoder', 2.3)\n",
      "('6', 'Deep Learning\\\\\\\\6. DL 6. Recurrent networks', 2.5)\n",
      "('6', 'Deep Learning\\\\\\\\6. DL 2. Convolutional networks', 2.6)\n",
      "('6', 'Deep Learning\\\\\\\\6. DL 4. Multi-input models', 2.9)\n"
     ]
    }
   ],
   "source": [
    "main=[i.strip() for i in res[14:]]\n",
    "main=filter(None, main)\n",
    "main=[i.split(\"#\") for i in main]\n",
    "topics=[i[0].strip() for i in main]\n",
    "rank=[i[1] for i in main]\n",
    "votes = [len(i) for i in rank]\n",
    "tot_score = [sum(int(i) for i in  j) for j in rank ]\n",
    "chapter = [i[0] for i in topics ]\n",
    "topics = [i[3:] for i in topics ]\n",
    "avg_scores=[round(float(a)/float(b),1) for a,b in zip(tot_score,votes)]\n",
    "\n",
    "score=zip(chapter,topics,avg_scores)\n",
    "score =sorted(score, key=lambda score: (score[0],score[2]))\n",
    "\n",
    "chapter=0\n",
    "for i in score:\n",
    "    if i[0]!=chapter:\n",
    "        print \"\"\n",
    "    print i\n",
    "    chapter=i[0]"
   ]
  }
 ],
 "metadata": {
  "anaconda-cloud": {},
  "kernelspec": {
   "display_name": "Python [conda root]",
   "language": "python",
   "name": "conda-root-py"
  },
  "language_info": {
   "codemirror_mode": {
    "name": "ipython",
    "version": 2
   },
   "file_extension": ".py",
   "mimetype": "text/x-python",
   "name": "python",
   "nbconvert_exporter": "python",
   "pygments_lexer": "ipython2",
   "version": "2.7.12"
  }
 },
 "nbformat": 4,
 "nbformat_minor": 1
}
