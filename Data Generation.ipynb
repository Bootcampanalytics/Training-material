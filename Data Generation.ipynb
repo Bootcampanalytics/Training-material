{
    "nbformat_minor": 0, 
    "cells": [
        {
            "cell_type": "code", 
            "execution_count": 1, 
            "source": "import numpy as np\nimport pandas as pd", 
            "outputs": [], 
            "metadata": {
                "collapsed": true
            }
        }, 
        {
            "cell_type": "code", 
            "execution_count": 2, 
            "source": "def gen_data(n=100):\n    data = { \\\n    'v01': np.random.normal(0,1,n), \n    'v02': np.random.beta(3,1,n),\n    'v03': np.random.chisquare(3,n),       \n    'v04': np.random.exponential(3,n),\n    'v05': np.random.f(10,3,n),      \n    'v06': np.random.gamma(2,n),         \n    'v07': np.random.logistic(10,1,n),  \n    'v08': np.random.choice(2, n, p=[0.1, 0.9]),\n    'v09': np.random.choice(2, n, p=[0.2, 0.8]),\n    'v10': np.random.choice(2, n, p=[0.4, 0.6]),                \n    'v11': np.random.choice(3, n, p=[0.1, 0.2, 0.7]),\n    'v12': np.random.choice(3, n, p=[0.3, 0.3, 0.4]),\n    'v13': np.random.choice(5, n, p=[0.1, 0.2, 0.3, 0.2, 0.2 ]),\n    'v14': np.random.choice(5, n, p=[0.2, 0.2, 0.2, 0.2, 0.2]),\n    'v15': np.random.choice(10, n, p=[0.1, 0.1, 0.1, 0.1, 0.1,0.1, 0.1, 0.1, 0.1, 0.1]) \\\n         }\n\n    df = pd.DataFrame(data) \n\n\n    target =             \\\n    0.1     * df.v01 +      \\\n    -0.1    * df.v03 +      \\\n    0.015   * df.v04 +      \\\n    -0.00015* df.v06 +      \\\n    0.12    * df.v07 +      \\\n    0.11    * df.v08 +      \\\n    -0.13   * df.v10 +      \\\n    -0.05   * (df.v11==1) + \\\n    0.13    * (df.v13==1) + \\\n    -0.12   * (df.v13==3) + \\\n    0.16    * (df.v14==1) + \\\n    -0.02   * (df.v14==2) + \\\n    0.01    * (df.v15==2) + \\\n    -0.02   * (df.v15==4) + \\\n    0.04    * (df.v15==6) + \\\n    -0.04   * (df.v15==8) + \\\n    0.1     * df.v01 * df.v02 +        \\\n    -0.1    * df.v02 * df.v03 +        \\\n    0.000005* df.v04 * df.v06 +        \\\n    -0.15   * df.v03 * df.v08 +        \\\n    0.12    * df.v07 * df.v09 +        \\\n    0.11    * df.v10 * df.v11 +        \\\n    -0.13   * df.v12 * df.v14 +        \\\n    -0.05   * (df.v11==2) * df.v01 +   \\\n    0.13    * (df.v13==1) * df.v02 +   \\\n    -0.12   * (df.v13==2) * df.v03 +   \\\n    0.16    * (df.v14==2) * df.v04 +   \\\n    -0.02   * (df.v14==3) * df.v05 +   \\\n    0.00001 * (df.v15==1) * df.v06 +   \\\n    -0.02   * (df.v15==5) * df.v07 +   \\\n    0.04    * (df.v15==7) * df.v08 +   \\\n    -0.04   * (df.v15==5) * df.v09 +   \\\n    0.04    * (df.v15==4) * (df.v13==8) +  \\\n    -0.04   * (df.v15==3) * (df.v13==8) +  \\\n    0.04    * (df.v15==2) * (df.v14==8) +  \\\n    -0.04   * (df.v15==1) * (df.v14==8) +  \\\n    0.04    * (df.v15==2) * (df.v12==8) +  \\\n    -0.04   * (df.v15==3) * (df.v13==8)\n\n    #df['target']=target\n    df['target']=(np.exp(target)/(1+np.exp(target))>0.5).astype(int)\n    \n    return df\n", 
            "outputs": [], 
            "metadata": {
                "collapsed": false
            }
        }, 
        {
            "cell_type": "code", 
            "execution_count": 3, 
            "source": "data_train = gen_data(n=20000)\ndata_test  = gen_data(n=100000)\n\ndata_train.head()\n", 
            "outputs": [
                {
                    "data": {
                        "text/html": "<div>\n<table border=\"1\" class=\"dataframe\">\n  <thead>\n    <tr style=\"text-align: right;\">\n      <th></th>\n      <th>v01</th>\n      <th>v02</th>\n      <th>v03</th>\n      <th>v04</th>\n      <th>v05</th>\n      <th>v06</th>\n      <th>v07</th>\n      <th>v08</th>\n      <th>v09</th>\n      <th>v10</th>\n      <th>v11</th>\n      <th>v12</th>\n      <th>v13</th>\n      <th>v14</th>\n      <th>v15</th>\n      <th>target</th>\n    </tr>\n  </thead>\n  <tbody>\n    <tr>\n      <th>0</th>\n      <td>0.030566</td>\n      <td>0.830517</td>\n      <td>2.535149</td>\n      <td>9.362301</td>\n      <td>39.726231</td>\n      <td>38971.533556</td>\n      <td>9.478149</td>\n      <td>1</td>\n      <td>1</td>\n      <td>0</td>\n      <td>1</td>\n      <td>0</td>\n      <td>1</td>\n      <td>4</td>\n      <td>3</td>\n      <td>0</td>\n    </tr>\n    <tr>\n      <th>1</th>\n      <td>-0.642726</td>\n      <td>0.509175</td>\n      <td>1.826594</td>\n      <td>1.414537</td>\n      <td>1.104915</td>\n      <td>38971.533556</td>\n      <td>14.786624</td>\n      <td>1</td>\n      <td>1</td>\n      <td>0</td>\n      <td>2</td>\n      <td>0</td>\n      <td>4</td>\n      <td>3</td>\n      <td>5</td>\n      <td>0</td>\n    </tr>\n    <tr>\n      <th>2</th>\n      <td>0.836390</td>\n      <td>0.998866</td>\n      <td>0.353996</td>\n      <td>0.061124</td>\n      <td>1.108725</td>\n      <td>38971.533556</td>\n      <td>12.218756</td>\n      <td>1</td>\n      <td>0</td>\n      <td>1</td>\n      <td>1</td>\n      <td>2</td>\n      <td>3</td>\n      <td>4</td>\n      <td>6</td>\n      <td>0</td>\n    </tr>\n    <tr>\n      <th>3</th>\n      <td>1.659920</td>\n      <td>0.849450</td>\n      <td>1.941248</td>\n      <td>1.115180</td>\n      <td>0.396991</td>\n      <td>38971.533556</td>\n      <td>9.041833</td>\n      <td>0</td>\n      <td>0</td>\n      <td>1</td>\n      <td>2</td>\n      <td>2</td>\n      <td>1</td>\n      <td>1</td>\n      <td>5</td>\n      <td>0</td>\n    </tr>\n    <tr>\n      <th>4</th>\n      <td>0.358462</td>\n      <td>0.632421</td>\n      <td>2.776163</td>\n      <td>0.277544</td>\n      <td>1.768004</td>\n      <td>38971.533556</td>\n      <td>10.506477</td>\n      <td>1</td>\n      <td>1</td>\n      <td>1</td>\n      <td>2</td>\n      <td>2</td>\n      <td>4</td>\n      <td>2</td>\n      <td>8</td>\n      <td>0</td>\n    </tr>\n  </tbody>\n</table>\n</div>", 
                        "text/plain": "        v01       v02       v03       v04        v05           v06        v07  \\\n0  0.030566  0.830517  2.535149  9.362301  39.726231  38971.533556   9.478149   \n1 -0.642726  0.509175  1.826594  1.414537   1.104915  38971.533556  14.786624   \n2  0.836390  0.998866  0.353996  0.061124   1.108725  38971.533556  12.218756   \n3  1.659920  0.849450  1.941248  1.115180   0.396991  38971.533556   9.041833   \n4  0.358462  0.632421  2.776163  0.277544   1.768004  38971.533556  10.506477   \n\n   v08  v09  v10  v11  v12  v13  v14  v15  target  \n0    1    1    0    1    0    1    4    3       0  \n1    1    1    0    2    0    4    3    5       0  \n2    1    0    1    1    2    3    4    6       0  \n3    0    0    1    2    2    1    1    5       0  \n4    1    1    1    2    2    4    2    8       0  "
                    }, 
                    "output_type": "execute_result", 
                    "execution_count": 3, 
                    "metadata": {}
                }
            ], 
            "metadata": {
                "collapsed": false, 
                "scrolled": true
            }
        }, 
        {
            "cell_type": "markdown", 
            "metadata": {}, 
            "source": "# storing data in database"
        }, 
        {
            "cell_type": "code", 
            "execution_count": 48, 
            "source": "import ibmdbpy\nfrom ibmdbpy import IdaDataBase\n\ncredentials_1 = {\n  'host':'awh-yp-small03.services.dal.bluemix.net',\n  'port':'50000',\n  'user':'dash110459',\n  'password':\"\"\"cc7fcfe60374\"\"\",\n  'database':'BLUDB'\n}\n\nidadb = IdaDataBase(dsn=\"DASHDB;Database=BLUDB;Hostname=\" + credentials_1[\"host\"] + \";Port=50000;PROTOCOL=TCPIP;UID=\" + credentials_1[\"user\"] + \";PWD=\" + credentials_1[\"password\"])\nidadf = idadb.as_idadataframe(data_train, \"DATA_TRAIN\", clear_existing=True)\nidadf = idadb.as_idadataframe(data_test, \"DATA_TEST\", clear_existing=True)", 
            "outputs": [
                {
                    "name": "stderr", 
                    "output_type": "stream", 
                    "text": "Exception AttributeError: \"Cursor instance has no attribute 'closed'\" in <bound method Cursor.__del__ of <pypyodbc.Cursor instance at 0x7f79963ed7e8>> ignored\n"
                }, 
                {
                    "name": "stdout", 
                    "output_type": "stream", 
                    "text": "DataFrame will be splitted into 40 chunks. (500 rows per chunk)\nUploaded: 40/40... [DONE]\n"
                }, 
                {
                    "name": "stderr", 
                    "output_type": "stream", 
                    "text": "Exception AttributeError: \"Cursor instance has no attribute 'closed'\" in <bound method Cursor.__del__ of <pypyodbc.Cursor instance at 0x7f79899cc758>> ignored\n"
                }, 
                {
                    "name": "stdout", 
                    "output_type": "stream", 
                    "text": "DataFrame will be splitted into 200 chunks. (500 rows per chunk)\nUploaded: 200/200... [DONE]\n"
                }
            ], 
            "metadata": {
                "collapsed": false, 
                "scrolled": true
            }
        }, 
        {
            "cell_type": "markdown", 
            "metadata": {}, 
            "source": "# loading data from database"
        }, 
        {
            "cell_type": "code", 
            "execution_count": null, 
            "source": "credentials_1 = {\n  'host':'awh-yp-small03.services.dal.bluemix.net',\n  'port':'50000',\n  'user':'dash110459',\n  'password':\"\"\"cc7fcfe60374\"\"\",\n  'database':'BLUDB'\n}\n\nidadb = IdaDataBase(dsn=\"DASHDB;Database=BLUDB;Hostname=\" + credentials_1[\"host\"] + \";Port=50000;PROTOCOL=TCPIP;UID=\" + credentials_1[\"user\"] + \";PWD=\" + credentials_1[\"password\"])\ndata_train = IdaDataFrame(idadb, 'DATA_TRAIN')\ndata_train = data_train.as_dataframe()\ndata_train.head()", 
            "outputs": [], 
            "metadata": {
                "collapsed": true
            }
        }, 
        {
            "cell_type": "markdown", 
            "metadata": {}, 
            "source": "# from database to csv"
        }, 
        {
            "cell_type": "code", 
            "execution_count": 6, 
            "source": "data_train.to_csv('data_train.csv',index=False)\n\n\ncredentials_1= {\n  \"auth_url\": \"https://identity.open.softlayer.com\",\n  \"project\": \"object_storage_effacaaa_ad08_4ee4_bd59_b2e105bc9639\",\n  \"projectId\": \"e96165fa44c44a7d956507ebf4026cfb\",\n  \"region\": \"dallas\",\n  \"userId\": \"5002ddd00432452d8dd086e3f74ed3f1\",\n  \"username\": \"admin_bdffbeee0797e72fe86a4270ec23774a835cbd4b\",\n  \"password\": \"TAu!-k36VR[&xp9V\",\n  \"domainId\": \"193a321481be4f73b08e76a87e7d585a\",\n  \"container\":\"DSETraining101ObjectStorage\",\n  \"domainName\": \"1123181\",\n  \"role\": \"admin\"\n}\n\n\n\nfrom io import BytesIO  \nimport requests  \nimport json  \nimport pandas as pd\n\ndef put_file(credentials, local_file_name):  \n    \"\"\"This functions returns a StringIO object containing\n    the file content from Bluemix Object Storage V3.\"\"\"\n    f = open(local_file_name,'r')\n    my_data = f.read()\n    url1 = ''.join(['https://identity.open.softlayer.com', '/v3/auth/tokens'])\n    data = {'auth': {'identity': {'methods': ['password'],\n            'password': {'user': {'name': credentials['username'],'domain': {'id': credentials['domainId']},\n            'password': credentials['password']}}}}}\n    headers1 = {'Content-Type': 'application/json'}\n    resp1 = requests.post(url=url1, data=json.dumps(data), headers=headers1)\n    resp1_body = resp1.json()\n    for e1 in resp1_body['token']['catalog']:\n        if(e1['type']=='object-store'):\n            for e2 in e1['endpoints']:\n                        if(e2['interface']=='public'and e2['region']=='dallas'):\n                            url2 = ''.join([e2['url'],'/', credentials['container'], '/', local_file_name])\n    s_subject_token = resp1.headers['x-subject-token']\n    headers2 = {'X-Auth-Token': s_subject_token, 'accept': 'application/json'}\n    resp2 = requests.put(url=url2, headers=headers2, data = my_data )\n    print resp2\n    \n    \nput_file(credentials_1,\"data_train.csv\")  ", 
            "outputs": [
                {
                    "name": "stdout", 
                    "output_type": "stream", 
                    "text": "<Response [201]>\n"
                }
            ], 
            "metadata": {
                "collapsed": false
            }
        }, 
        {
            "cell_type": "code", 
            "execution_count": null, 
            "source": "", 
            "outputs": [], 
            "metadata": {
                "collapsed": true
            }
        }
    ], 
    "metadata": {
        "kernelspec": {
            "display_name": "Python 2 with Spark 1.6", 
            "language": "python", 
            "name": "python2"
        }, 
        "language_info": {
            "version": "2.7.11", 
            "nbconvert_exporter": "python", 
            "mimetype": "text/x-python", 
            "file_extension": ".py", 
            "name": "python", 
            "pygments_lexer": "ipython2", 
            "codemirror_mode": {
                "version": 2, 
                "name": "ipython"
            }
        }
    }, 
    "nbformat": 4
}