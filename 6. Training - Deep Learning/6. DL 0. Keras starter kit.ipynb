{
 "cells": [
  {
   "cell_type": "markdown",
   "metadata": {},
   "source": [
    "# Keras starter kit\n",
    "\n",
    "## Elements needed for a neural network"
   ]
  },
  {
   "cell_type": "markdown",
   "metadata": {},
   "source": [
    "### Library"
   ]
  },
  {
   "cell_type": "code",
   "execution_count": 32,
   "metadata": {
    "collapsed": false
   },
   "outputs": [],
   "source": [
    "# library to submit the model to Keras\n",
    "from keras.models import Model\n",
    "\n",
    "# The input layer and a fully connected layer (traditional neural network) architecture\n",
    "from keras.layers import Input, Dense\n",
    "\n",
    "# Plotting functions\n",
    "import matplotlib.pyplot as plt\n",
    "%matplotlib inline"
   ]
  },
  {
   "cell_type": "markdown",
   "metadata": {},
   "source": [
    "### Components for the model specification"
   ]
  },
  {
   "cell_type": "code",
   "execution_count": 4,
   "metadata": {
    "collapsed": false
   },
   "outputs": [],
   "source": [
    "# Input() Every network starts with one or more inputs: the predictors.\n",
    "# shape=(n,) specifies the shape of the predictors. (n,) meaning: there are n predictors.\n",
    "# shape-(m,n) can be: there are n predictors with m timesteps: the input PER OBSERVATION is a matrix. \n",
    "# note 1: the batch dimension/ the number of observations is implicite.\n",
    "# note 2: the input layer does not compute/learn anything:it has no weights associated with it. \n",
    "\n",
    "input1 = Input(shape=(10,)) # The Input (capital) is set to input1. This is the name of the 'tensor' or network element. \n",
    "\n",
    "# Dense(p,activation='') specifies a hidden layer with p nodes. \n",
    "# Dense(p, activation='')(prev) specifies that the layer called 'prev' goes into that layer. \n",
    "\n",
    "# note on activations used in the hidden layers:\n",
    "# tanh outputs -1,1     is not very good with scaling to unnormalized input, but is smooth\n",
    "# relu outputs 0, inf   is good at scaling to unnormalized input \n",
    "\n",
    "x = Dense(10, activation='tanh')(input1)\n",
    "\n",
    "x = Dense(5,activation='tanh')(x)  # the tensor X is reused. \n",
    "\n",
    "# Finally, the output will be named uniquely so there's no confusion on what will be predicted\n",
    "# note that the number of hidden nodes needs to correspond to the number of targets you are trying to estimate.\n",
    "\n",
    "# note on activations used in the hidden layers:\n",
    "# softmax all outputs sum up to 1\n",
    "# sigmoid outputs between 0,1 (implicit negative category as 1-sigmoid) \n",
    "# linear regression type output. Scales to -inf,inf\n",
    "\n",
    "prediction = Dense(1,activation='sigmoid')(x)\n",
    "\n",
    "# The full code with different names to it is clear what are variabel and what not:\n",
    "# network has 10 predictors,\n",
    "# network has 2 hidden layers, respectively with 8 and 5 nodes \n",
    "# network predicts 2 target variables.\n",
    "\n",
    "tralala_1 = Input(shape=(10,))  \n",
    "tralala_2 = Dense(8, activation='tanh')(tralala_1)\n",
    "tralala_2 = Dense(5, activation='tanh')(tralala_2)\n",
    "tralala_3 = Dense(2, activation='sigmoid')(tralala_2)"
   ]
  },
  {
   "cell_type": "markdown",
   "metadata": {},
   "source": [
    "### Letting Keras know what the total model is"
   ]
  },
  {
   "cell_type": "code",
   "execution_count": 6,
   "metadata": {
    "collapsed": false
   },
   "outputs": [
    {
     "name": "stdout",
     "output_type": "stream",
     "text": [
      "____________________________________________________________________________________________________\n",
      "Layer (type)                     Output Shape          Param #     Connected to                     \n",
      "====================================================================================================\n",
      "input_3 (InputLayer)             (None, 10)            0                                            \n",
      "____________________________________________________________________________________________________\n",
      "dense_7 (Dense)                  (None, 10)            110         input_3[0][0]                    \n",
      "____________________________________________________________________________________________________\n",
      "dense_8 (Dense)                  (None, 5)             55          dense_7[0][0]                    \n",
      "____________________________________________________________________________________________________\n",
      "dense_9 (Dense)                  (None, 1)             6           dense_8[0][0]                    \n",
      "====================================================================================================\n",
      "Total params: 171\n",
      "____________________________________________________________________________________________________\n"
     ]
    }
   ],
   "source": [
    "\n",
    "# 'model_1' is the given name of the model that starts with input1 and ends with prediction. \n",
    "model_1 = Model(input=input1, output=prediction)\n",
    "\n",
    "# model needs to be compiled. A loss function and an optimizer are required.\n",
    "model_1.compile(loss='binary_crossentropy', optimizer ='adam')\n",
    "\n",
    "# common choices for loss functions are:\n",
    "\n",
    "#binary_crossentropy        target is binary (classification)\n",
    "#categorical_crossentropy   target has multiply categories \n",
    "#mean_squared_error         target is continuous (regression)\n",
    "\n",
    "# common choices for optimizers are:\n",
    "\n",
    "# SGD      'vanilla' optimizer\n",
    "#RMSprop    suggested to work well with recurrent networks\n",
    "#Adam       optimizer that optimizes its own learning rate\n",
    "\n",
    "# model summary specifies the resulting architecture. Count the parameters to understand the model\n",
    "model_1.summary()"
   ]
  },
  {
   "cell_type": "code",
   "execution_count": null,
   "metadata": {
    "collapsed": false
   },
   "outputs": [],
   "source": [
    "'''\n",
    "hint for parameter counting:\n",
    "\n",
    "For this example:\n",
    "input1 = Input(shape=(10,))\n",
    "x = Dense(10, activation='tanh')(input1)\n",
    "x = Dense(5,activation='tanh')(x)  \n",
    "prediction = Dense(1,activation='sigmoid')(x)\n",
    "\n",
    "\n",
    "10 inputs to a layer with 10 hidden nodes:\n",
    "weights: 10 x 10 = 100  \n",
    "intercepts: 10 \n",
    "total parameters: 100+10 = 110\n",
    "\n",
    "10 hidden nodes to a layer with 5 hidden nodes:\n",
    "weights: 10 x 5 = 50 \n",
    "intercepts: 5\n",
    "total parameters: 50+5 = 55\n",
    "\n",
    "5 hidden nodes to a layer with 1 output:\n",
    "weights: 5 x 1 = 5 \n",
    "intercepts: 1\n",
    "total parameters: 5+1 = 6\n",
    "\n",
    "Total number of parameters: 110 + 55 + 6 = 171\n",
    "'''"
   ]
  },
  {
   "cell_type": "markdown",
   "metadata": {},
   "source": [
    "### Fitting (estimating) the model"
   ]
  },
  {
   "cell_type": "code",
   "execution_count": null,
   "metadata": {
    "collapsed": true
   },
   "outputs": [],
   "source": [
    "\n",
    "# Specification of the fit.\n",
    "# note: can't run yet as there's no data specified. \n",
    "\n",
    "model_1.fit(train_x,train_y,                         # predictor and target specification \n",
    "            validation_data=(test_x, test_y),        # specification of the validation set\n",
    "            nb_epoch=500,                            # number of iterations\n",
    "            verbose=0)                               # 0: no logging, 1: progress bar, 2: one log line per epoch\n",
    "\n",
    "# A plot that displays the convergence curves after the fitting. \n",
    "# Note that the validation loss gives important clues on overfittingb\n",
    "plt.plot(model_1.history.epoch, model_1.history.history['loss'], 'g--',\n",
    "         model_1.history.epoch, model_1.history.history['val_loss'], 'b--',)\n",
    "plt.legend(['train', 'test'], loc='upper left')\n",
    "\n",
    "# the loss of the last iteration as convenience: \n",
    "\n",
    "print (\"loss:\",model_1.history.history['loss'][-1],\"test loss:\",model_1.history.history['val_loss'][-1])"
   ]
  },
  {
   "cell_type": "markdown",
   "metadata": {},
   "source": [
    "### Predicting "
   ]
  },
  {
   "cell_type": "code",
   "execution_count": null,
   "metadata": {
    "collapsed": true
   },
   "outputs": [],
   "source": [
    "# predicting is easy:\n",
    "\n",
    "model_1.predict(newdata_with_same_x_format)"
   ]
  },
  {
   "cell_type": "markdown",
   "metadata": {},
   "source": [
    "## My first network"
   ]
  },
  {
   "cell_type": "code",
   "execution_count": 29,
   "metadata": {
    "collapsed": false
   },
   "outputs": [
    {
     "name": "stdout",
     "output_type": "stream",
     "text": [
      "(array([1, 1, 1]), 1)\n",
      "(array([1, 0, 1]), 0)\n",
      "(array([0, 1, 0]), 1)\n",
      "(array([0, 0, 0]), 0)\n",
      "(array([1, 1, 0]), 0)\n",
      "(array([0, 1, 1]), 0)\n",
      "(array([0, 0, 1]), 1)\n",
      "(array([1, 0, 0]), 1)\n"
     ]
    }
   ],
   "source": [
    "#Generating some data:\n",
    "import numpy as np\n",
    "\n",
    "def data_gen1(digits):\n",
    "    vfunc = np.vectorize(np.binary_repr)\n",
    "    x = np.random.permutation(vfunc(range(2**digits),width=digits).repeat(1))\n",
    "    x = np.array([list(x[i]) for i in range(x.shape[0])]).astype(int)\n",
    "    y=np.sum(x,axis=1)%2\n",
    "    return x,y\n",
    "\n",
    "train_x, train_y = data_gen1(3)\n",
    "\n",
    "for i in range(len(train_y)):\n",
    "    print (train_x[i],train_y[i])"
   ]
  },
  {
   "cell_type": "code",
   "execution_count": 35,
   "metadata": {
    "collapsed": false
   },
   "outputs": [
    {
     "name": "stdout",
     "output_type": "stream",
     "text": [
      "____________________________________________________________________________________________________\n",
      "Layer (type)                     Output Shape          Param #     Connected to                     \n",
      "====================================================================================================\n",
      "input_9 (InputLayer)             (None, 3)             0                                            \n",
      "____________________________________________________________________________________________________\n",
      "dense_21 (Dense)                 (None, 5)             20          input_9[0][0]                    \n",
      "____________________________________________________________________________________________________\n",
      "dense_22 (Dense)                 (None, 1)             6           dense_21[0][0]                   \n",
      "====================================================================================================\n",
      "Total params: 26\n",
      "____________________________________________________________________________________________________\n",
      "('loss:', 0.00031040867906995118)\n"
     ]
    },
    {
     "data": {
      "image/png": "[encoded data removed]",
      "text/plain": [
       "<matplotlib.figure.Figure at 0x125ed0f0>"
      ]
     },
     "metadata": {},
     "output_type": "display_data"
    }
   ],
   "source": [
    "# Model:\n",
    "input1 = Input(shape=(3,)) \n",
    "x = Dense(5,activation='tanh')(input1) \n",
    "prediction = Dense(1, activation='sigmoid')(x)\n",
    "\n",
    "# Provide model to Keras\n",
    "model_1 = Model(input=input1, output=prediction)\n",
    "model_1.compile(loss='binary_crossentropy', optimizer ='adam')\n",
    "model_1.summary()\n",
    "\n",
    "# Fit\n",
    "model_1.fit(train_x,train_y, nb_epoch=10000,verbose=0)  \n",
    "plt.plot(model_1.history.epoch, model_1.history.history['loss'], 'g--')\n",
    "print (\"loss:\",model_1.history.history['loss'][-1])"
   ]
  },
  {
   "cell_type": "code",
   "execution_count": 40,
   "metadata": {
    "collapsed": false
   },
   "outputs": [
    {
     "name": "stdout",
     "output_type": "stream",
     "text": [
      "(1, 1.0)\n",
      "(0, 0.0)\n",
      "(1, 1.0)\n",
      "(0, 0.0)\n",
      "(0, 0.0)\n",
      "(0, 0.0)\n",
      "(1, 1.0)\n",
      "(1, 1.0)\n"
     ]
    }
   ],
   "source": [
    "pred=model_1.predict(train_x)\n",
    "\n",
    "for i in range(len(train_y)):\n",
    "    print (train_y[i], round(pred[i],2))"
   ]
  },
  {
   "cell_type": "markdown",
   "metadata": {},
   "source": [
    "### Splitting training and testing"
   ]
  },
  {
   "cell_type": "code",
   "execution_count": 43,
   "metadata": {
    "collapsed": false
   },
   "outputs": [
    {
     "name": "stdout",
     "output_type": "stream",
     "text": [
      "Train:\n",
      "(array([1, 1, 1]), 1)\n",
      "(array([1, 0, 1]), 0)\n",
      "(array([0, 1, 0]), 1)\n",
      "(array([0, 0, 0]), 0)\n",
      "Test:\n",
      "(array([1, 1, 0]), 0)\n",
      "(array([0, 1, 1]), 0)\n",
      "(array([0, 0, 1]), 1)\n",
      "(array([1, 0, 0]), 1)\n"
     ]
    }
   ],
   "source": [
    "test_x=train_x[4:]\n",
    "test_y=train_y[4:]\n",
    "\n",
    "train_x=train_x[:4]\n",
    "train_y=train_y[:4]\n",
    "\n",
    "print (\"Train:\")\n",
    "for i in range(len(train_y)):\n",
    "    print (train_x[i],train_y[i])\n",
    "\n",
    "print (\"Test:\")\n",
    "for i in range(len(test_y)):\n",
    "    print (test_x[i],test_y[i])"
   ]
  },
  {
   "cell_type": "code",
   "execution_count": 48,
   "metadata": {
    "collapsed": false
   },
   "outputs": [
    {
     "name": "stdout",
     "output_type": "stream",
     "text": [
      "____________________________________________________________________________________________________\n",
      "Layer (type)                     Output Shape          Param #     Connected to                     \n",
      "====================================================================================================\n",
      "input_13 (InputLayer)            (None, 3)             0                                            \n",
      "____________________________________________________________________________________________________\n",
      "dense_29 (Dense)                 (None, 5)             20          input_13[0][0]                   \n",
      "____________________________________________________________________________________________________\n",
      "dense_30 (Dense)                 (None, 1)             6           dense_29[0][0]                   \n",
      "====================================================================================================\n",
      "Total params: 26\n",
      "____________________________________________________________________________________________________\n",
      "('loss:', 0.001352988532744348, 'test loss:', 6.4043788909912109)\n"
     ]
    },
    {
     "data": {
      "image/png": "[encoded data removed]",
      "text/plain": [
       "<matplotlib.figure.Figure at 0x16016320>"
      ]
     },
     "metadata": {},
     "output_type": "display_data"
    }
   ],
   "source": [
    "# Model:\n",
    "input1 = Input(shape=(3,)) \n",
    "x = Dense(5,activation='tanh')(input1) \n",
    "prediction = Dense(1, activation='sigmoid')(x)\n",
    "\n",
    "# Provide model to Keras\n",
    "model_2 = Model(input=input1, output=prediction)\n",
    "model_2.compile(loss='binary_crossentropy', optimizer ='adam')\n",
    "model_2.summary()\n",
    "\n",
    "# Fit\n",
    "model_2.fit(train_x,train_y,validation_data=(test_x, test_y), nb_epoch=5000,verbose=0)  \n",
    "plt.plot(model_2.history.epoch, model_2.history.history['loss'], 'g--',\n",
    "         model_2.history.epoch, model_2.history.history['val_loss'], 'b--',)\n",
    "plt.legend(['train', 'test'], loc='upper left')\n",
    "\n",
    "print (\"loss:\",model_2.history.history['loss'][-1],\"test loss:\",model_2.history.history['val_loss'][-1])"
   ]
  },
  {
   "cell_type": "code",
   "execution_count": 49,
   "metadata": {
    "collapsed": false
   },
   "outputs": [
    {
     "name": "stdout",
     "output_type": "stream",
     "text": [
      "train:\n",
      "(1, 0.6)\n",
      "(0, 0.3)\n",
      "(1, 0.67)\n",
      "(0, 0.43)\n",
      "test:\n",
      "(0, 0.53)\n",
      "(0, 0.69)\n",
      "(1, 0.43)\n",
      "(1, 0.28)\n"
     ]
    }
   ],
   "source": [
    "pred=model_1.predict(train_x)\n",
    "print (\"train:\")\n",
    "for i in range(len(train_y)):\n",
    "    print (train_y[i], round(pred[i],2))\n",
    "    \n",
    "    \n",
    "pred=model_1.predict(test_x)\n",
    "print (\"test:\")\n",
    "for i in range(len(test_y)):\n",
    "    print (test_y[i], round(pred[i],2))"
   ]
  }
 ],
 "metadata": {
  "kernelspec": {
   "display_name": "Python [conda root]",
   "language": "python",
   "name": "conda-root-py"
  },
  "language_info": {
   "codemirror_mode": {
    "name": "ipython",
    "version": 2
   },
   "file_extension": ".py",
   "mimetype": "text/x-python",
   "name": "python",
   "nbconvert_exporter": "python",
   "pygments_lexer": "ipython2",
   "version": "2.7.12"
  }
 },
 "nbformat": 4,
 "nbformat_minor": 1
}
