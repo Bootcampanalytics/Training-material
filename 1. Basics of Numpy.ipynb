{
    "nbformat": 4, 
    "cells": [
        {
            "cell_type": "markdown", 
            "metadata": {}, 
            "source": "# Basics of Numpy\n\nadopted from http://cs231n.github.io/python-numpy-tutorial/"
        }, 
        {
            "cell_type": "markdown", 
            "metadata": {}, 
            "source": "Numpy is the core library for scientific computing in Python. It provides a high-performance multidimensional array object, and tools for working with these arrays. "
        }, 
        {
            "cell_type": "markdown", 
            "metadata": {}, 
            "source": "To use Numpy, we first need to import the `numpy` package:"
        }, 
        {
            "cell_type": "code", 
            "execution_count": 181, 
            "source": "import numpy as np", 
            "metadata": {
                "collapsed": false
            }, 
            "outputs": []
        }, 
        {
            "cell_type": "markdown", 
            "metadata": {}, 
            "source": "### Arrays"
        }, 
        {
            "cell_type": "markdown", 
            "metadata": {}, 
            "source": "A numpy array is a grid of values, all of the same type, and is indexed by a tuple of nonnegative integers. The number of dimensions is the rank of the array; the shape of an array is a tuple of integers giving the size of the array along each dimension."
        }, 
        {
            "cell_type": "markdown", 
            "metadata": {}, 
            "source": "We can initialize numpy arrays from nested Python lists, and access elements using square brackets:"
        }, 
        {
            "cell_type": "code", 
            "execution_count": 196, 
            "source": "a = np.array([1, 2, 3])  # Create a rank 1 array\nprint type(a), a.shape, a[0], a[1], a[2]\na[0] = 5                 # Change an element of the array\nprint a                  ", 
            "metadata": {
                "collapsed": false
            }, 
            "outputs": [
                {
                    "name": "stdout", 
                    "output_type": "stream", 
                    "text": "<type 'numpy.ndarray'> (3,) 1 2 3\n[5 2 3]\n"
                }
            ]
        }, 
        {
            "cell_type": "code", 
            "execution_count": 198, 
            "source": "b = np.array([[1,2,3],[4,5,6]])   # Create a rank 2 array\nprint b", 
            "metadata": {
                "collapsed": false
            }, 
            "outputs": [
                {
                    "name": "stdout", 
                    "output_type": "stream", 
                    "text": "[[1 2 3]\n [4 5 6]]\n"
                }
            ]
        }, 
        {
            "cell_type": "code", 
            "execution_count": 199, 
            "source": "print b.shape                   \nprint b[0, 0], b[0, 1], b[1, 0]", 
            "metadata": {
                "collapsed": false
            }, 
            "outputs": [
                {
                    "name": "stdout", 
                    "output_type": "stream", 
                    "text": "(2, 3)\n1 2 4\n"
                }
            ]
        }, 
        {
            "cell_type": "markdown", 
            "metadata": {}, 
            "source": "Numpy also provides many functions to create arrays:"
        }, 
        {
            "cell_type": "code", 
            "execution_count": 186, 
            "source": "a = np.zeros((2,2))  # Create an array of all zeros\nprint a", 
            "metadata": {
                "collapsed": false
            }, 
            "outputs": [
                {
                    "name": "stdout", 
                    "output_type": "stream", 
                    "text": "[[ 0.  0.]\n [ 0.  0.]]\n"
                }
            ]
        }, 
        {
            "cell_type": "code", 
            "execution_count": 187, 
            "source": "b = np.ones((1,2))   # Create an array of all ones\nprint b", 
            "metadata": {
                "collapsed": false
            }, 
            "outputs": [
                {
                    "name": "stdout", 
                    "output_type": "stream", 
                    "text": "[[ 1.  1.]]\n"
                }
            ]
        }, 
        {
            "cell_type": "code", 
            "execution_count": 188, 
            "source": "c = np.full((2,2), 7) # Create a constant array\nprint c ", 
            "metadata": {
                "collapsed": false
            }, 
            "outputs": [
                {
                    "name": "stdout", 
                    "output_type": "stream", 
                    "text": "[[ 7.  7.]\n [ 7.  7.]]\n"
                }
            ]
        }, 
        {
            "cell_type": "code", 
            "execution_count": 190, 
            "source": "d = np.eye(2)        # Create a 2x2 identity matrix\nprint d", 
            "metadata": {
                "collapsed": false
            }, 
            "outputs": [
                {
                    "name": "stdout", 
                    "output_type": "stream", 
                    "text": "[[ 1.  0.]\n [ 0.  1.]]\n"
                }
            ]
        }, 
        {
            "cell_type": "code", 
            "execution_count": 192, 
            "source": "e = np.random.random((2,2)) # Create an array filled with random values\nprint e", 
            "metadata": {
                "collapsed": false
            }, 
            "outputs": [
                {
                    "name": "stdout", 
                    "output_type": "stream", 
                    "text": "[[ 0.09477679  0.79267634]\n [ 0.78291274  0.38962829]]\n"
                }
            ]
        }, 
        {
            "cell_type": "markdown", 
            "metadata": {}, 
            "source": "### Array indexing"
        }, 
        {
            "cell_type": "markdown", 
            "metadata": {}, 
            "source": "Numpy offers several ways to index into arrays."
        }, 
        {
            "cell_type": "markdown", 
            "metadata": {}, 
            "source": "Slicing: Similar to Python lists, numpy arrays can be sliced. Since arrays may be multidimensional, you must specify a slice for each dimension of the array:"
        }, 
        {
            "cell_type": "code", 
            "execution_count": 203, 
            "source": "import numpy as np\n\n# Create the following rank 2 array with shape (3, 4)\n# [[ 1  2  3  4]\n#  [ 5  6  7  8]\n#  [ 9 10 11 12]]\na = np.array([[1,2,3,4], [5,6,7,8], [9,10,11,12]])\n\n# Use slicing to pull out the subarray consisting of the first 2 rows\n# and columns 1 and 2; b is the following array of shape (2, 2):\n# [[2 3]\n#  [6 7]]\nb = a[:2, 1:3]\nprint b", 
            "metadata": {
                "collapsed": false
            }, 
            "outputs": [
                {
                    "name": "stdout", 
                    "output_type": "stream", 
                    "text": "[[2 3]\n [6 7]]\n"
                }
            ]
        }, 
        {
            "cell_type": "markdown", 
            "metadata": {}, 
            "source": "A slice of an array is a view into the same data, so modifying it will modify the original array."
        }, 
        {
            "cell_type": "code", 
            "execution_count": 202, 
            "source": "print a[0, 1]  \nb[0, 0] = 77    # b[0, 0] is the same piece of data as a[0, 1]\nprint a[0, 1] ", 
            "metadata": {
                "collapsed": false
            }, 
            "outputs": [
                {
                    "name": "stdout", 
                    "output_type": "stream", 
                    "text": "2\n77\n"
                }
            ]
        }, 
        {
            "cell_type": "markdown", 
            "metadata": {}, 
            "source": "You can also mix integer indexing with slice indexing. However, doing so will yield an array of lower rank than the original array. Note that this is quite different from the way that MATLAB handles array slicing:"
        }, 
        {
            "cell_type": "code", 
            "execution_count": 209, 
            "source": "# Create the following rank 2 array with shape (3, 4)\na = np.array([[1,2,3,4], [5,6,7,8], [9,10,11,12]])\nprint a", 
            "metadata": {
                "collapsed": false
            }, 
            "outputs": [
                {
                    "name": "stdout", 
                    "output_type": "stream", 
                    "text": "[[ 1  2  3  4]\n [ 5  6  7  8]\n [ 9 10 11 12]]\n"
                }
            ]
        }, 
        {
            "cell_type": "markdown", 
            "metadata": {}, 
            "source": "Two ways of accessing the data in the middle row of the array.\nMixing integer indexing with slices yields an array of lower rank,\nwhile using only slices yields an array of the same rank as the\noriginal array:"
        }, 
        {
            "cell_type": "code", 
            "execution_count": 219, 
            "source": "row_r1 = a[1, :]    # Rank 1 view of the second row of a  \nrow_r2 = a[1:2, :]  # Rank 2 view of the second row of a\nrow_r3 = a[[1], :]  # Rank 2 view of the second row of a\nprint row_r1, row_r1.shape \nprint row_r2, row_r2.shape\nprint row_r3, row_r3.shape", 
            "metadata": {
                "collapsed": false
            }, 
            "outputs": [
                {
                    "name": "stdout", 
                    "output_type": "stream", 
                    "text": "[ 4  5 26] (3,)\n[[ 4  5 26]] (1, 3)\n[[ 4  5 26]] (1, 3)\n"
                }
            ]
        }, 
        {
            "cell_type": "code", 
            "execution_count": 212, 
            "source": "# We can make the same distinction when accessing columns of an array:\ncol_r1 = a[:, 1]\ncol_r2 = a[:, 1:2]\nprint col_r1, col_r1.shape\nprint\nprint col_r2, col_r2.shape", 
            "metadata": {
                "collapsed": false
            }, 
            "outputs": [
                {
                    "name": "stdout", 
                    "output_type": "stream", 
                    "text": "[ 2  6 10] (3,)\n\n[[ 2]\n [ 6]\n [10]] (3, 1)\n"
                }
            ]
        }, 
        {
            "cell_type": "markdown", 
            "metadata": {}, 
            "source": "Integer array indexing: When you index into numpy arrays using slicing, the resulting array view will always be a subarray of the original array. In contrast, integer array indexing allows you to construct arbitrary arrays using the data from another array. Here is an example:"
        }, 
        {
            "cell_type": "code", 
            "execution_count": 220, 
            "source": "a = np.array([[1,2], [3, 4], [5, 6]])\n\n# An example of integer array indexing.\n# The returned array will have shape (3,) and \nprint a[[0, 1, 2], [0, 1, 0]]\n\n# The above example of integer array indexing is equivalent to this:\nprint np.array([a[0, 0], a[1, 1], a[2, 0]])", 
            "metadata": {
                "collapsed": false
            }, 
            "outputs": [
                {
                    "name": "stdout", 
                    "output_type": "stream", 
                    "text": "[1 4 5]\n[1 4 5]\n"
                }
            ]
        }, 
        {
            "cell_type": "code", 
            "execution_count": 221, 
            "source": "# When using integer array indexing, you can reuse the same\n# element from the source array:\nprint a[[0, 0], [1, 1]]\n\n# Equivalent to the previous integer array indexing example\nprint np.array([a[0, 1], a[0, 1]])", 
            "metadata": {
                "collapsed": false
            }, 
            "outputs": [
                {
                    "name": "stdout", 
                    "output_type": "stream", 
                    "text": "[2 2]\n[2 2]\n"
                }
            ]
        }, 
        {
            "cell_type": "markdown", 
            "metadata": {}, 
            "source": "One useful trick with integer array indexing is selecting or mutating one element from each row of a matrix:"
        }, 
        {
            "cell_type": "code", 
            "execution_count": 215, 
            "source": "# Create a new array from which we will select elements\na = np.array([[1,2,3], [4,5,6], [7,8,9], [10, 11, 12]])\nprint a", 
            "metadata": {
                "collapsed": false
            }, 
            "outputs": [
                {
                    "name": "stdout", 
                    "output_type": "stream", 
                    "text": "[[ 1  2  3]\n [ 4  5  6]\n [ 7  8  9]\n [10 11 12]]\n"
                }
            ]
        }, 
        {
            "cell_type": "code", 
            "execution_count": 216, 
            "source": "# Create an array of indices\nb = np.array([0, 2, 0, 1])\n\n# Select one element from each row of a using the indices in b\nprint a[np.arange(4), b]  # Prints \"[ 1  6  7 11]\"", 
            "metadata": {
                "collapsed": false
            }, 
            "outputs": [
                {
                    "name": "stdout", 
                    "output_type": "stream", 
                    "text": "[ 1  6  7 11]\n"
                }
            ]
        }, 
        {
            "cell_type": "code", 
            "execution_count": 218, 
            "source": "# Mutate one element from each row of a using the indices in b\na[np.arange(4), b] += 10\nprint a", 
            "metadata": {
                "collapsed": false
            }, 
            "outputs": [
                {
                    "name": "stdout", 
                    "output_type": "stream", 
                    "text": "[[11  2  3]\n [ 4  5 16]\n [17  8  9]\n [10 21 12]]\n"
                }
            ]
        }, 
        {
            "cell_type": "markdown", 
            "metadata": {}, 
            "source": "Boolean array indexing: Boolean array indexing lets you pick out arbitrary elements of an array. Frequently this type of indexing is used to select the elements of an array that satisfy some condition. Here is an example:"
        }, 
        {
            "cell_type": "code", 
            "execution_count": 223, 
            "source": "import numpy as np\n\na = np.array([[1,2], [3, 4], [5, 6]])\n\nbool_idx = (a > 2)  # Find the elements of a that are bigger than 2;\n                    # this returns a numpy array of Booleans of the same\n                    # shape as a, where each slot of bool_idx tells\n                    # whether that element of a is > 2.\n\nprint bool_idx", 
            "metadata": {
                "collapsed": false
            }, 
            "outputs": [
                {
                    "name": "stdout", 
                    "output_type": "stream", 
                    "text": "[[False False]\n [ True  True]\n [ True  True]]\n"
                }
            ]
        }, 
        {
            "cell_type": "code", 
            "execution_count": 225, 
            "source": "# We use boolean array indexing to construct a rank 1 array\n# consisting of the elements of a corresponding to the True values\n# of bool_idx\nprint a[bool_idx]\n\n# We can do all of the above in a single concise statement:\nprint a[a > 2]", 
            "metadata": {
                "collapsed": false
            }, 
            "outputs": [
                {
                    "name": "stdout", 
                    "output_type": "stream", 
                    "text": "[3 4 5 6]\n[3 4 5 6]\n"
                }
            ]
        }, 
        {
            "cell_type": "markdown", 
            "metadata": {}, 
            "source": "For brevity we have left out a lot of details about numpy array indexing; if you want to know more you should read the documentation."
        }, 
        {
            "cell_type": "markdown", 
            "metadata": {}, 
            "source": "### Datatypes"
        }, 
        {
            "cell_type": "markdown", 
            "metadata": {}, 
            "source": "Every numpy array is a grid of elements of the same type. Numpy provides a large set of numeric datatypes that you can use to construct arrays. Numpy tries to guess a datatype when you create an array, but functions that construct arrays usually also include an optional argument to explicitly specify the datatype. Here is an example:"
        }, 
        {
            "cell_type": "code", 
            "execution_count": 226, 
            "source": "x = np.array([1, 2])  # Let numpy choose the datatype\ny = np.array([1.0, 2.0])  # Let numpy choose the datatype\nz = np.array([1, 2], dtype=np.int64)  # Force a particular datatype\n\nprint x.dtype, y.dtype, z.dtype", 
            "metadata": {
                "collapsed": false
            }, 
            "outputs": [
                {
                    "name": "stdout", 
                    "output_type": "stream", 
                    "text": "int64 float64 int64\n"
                }
            ]
        }, 
        {
            "cell_type": "markdown", 
            "metadata": {}, 
            "source": "You can read all about numpy datatypes in the [documentation](http://docs.scipy.org/doc/numpy/reference/arrays.dtypes.html)."
        }, 
        {
            "cell_type": "markdown", 
            "metadata": {}, 
            "source": "### Array math"
        }, 
        {
            "cell_type": "markdown", 
            "metadata": {}, 
            "source": "Basic mathematical functions operate elementwise on arrays, and are available both as operator overloads and as functions in the numpy module:"
        }, 
        {
            "cell_type": "code", 
            "execution_count": 227, 
            "source": "x = np.array([[1,2],[3,4]], dtype=np.float64)\ny = np.array([[5,6],[7,8]], dtype=np.float64)\n\n# Elementwise sum; both produce the array\nprint x + y\nprint np.add(x, y)", 
            "metadata": {
                "collapsed": false
            }, 
            "outputs": [
                {
                    "name": "stdout", 
                    "output_type": "stream", 
                    "text": "[[  6.   8.]\n [ 10.  12.]]\n[[  6.   8.]\n [ 10.  12.]]\n"
                }
            ]
        }, 
        {
            "cell_type": "code", 
            "execution_count": 228, 
            "source": "# Elementwise difference; both produce the array\nprint x - y\nprint np.subtract(x, y)", 
            "metadata": {
                "collapsed": false
            }, 
            "outputs": [
                {
                    "name": "stdout", 
                    "output_type": "stream", 
                    "text": "[[-4. -4.]\n [-4. -4.]]\n[[-4. -4.]\n [-4. -4.]]\n"
                }
            ]
        }, 
        {
            "cell_type": "code", 
            "execution_count": 229, 
            "source": "# Elementwise product; both produce the array\nprint x * y\nprint np.multiply(x, y)", 
            "metadata": {
                "collapsed": false
            }, 
            "outputs": [
                {
                    "name": "stdout", 
                    "output_type": "stream", 
                    "text": "[[  5.  12.]\n [ 21.  32.]]\n[[  5.  12.]\n [ 21.  32.]]\n"
                }
            ]
        }, 
        {
            "cell_type": "code", 
            "execution_count": 230, 
            "source": "# Elementwise division; both produce the array\n# [[ 0.2         0.33333333]\n#  [ 0.42857143  0.5       ]]\nprint x / y\nprint np.divide(x, y)", 
            "metadata": {
                "collapsed": false
            }, 
            "outputs": [
                {
                    "name": "stdout", 
                    "output_type": "stream", 
                    "text": "[[ 0.2         0.33333333]\n [ 0.42857143  0.5       ]]\n[[ 0.2         0.33333333]\n [ 0.42857143  0.5       ]]\n"
                }
            ]
        }, 
        {
            "cell_type": "code", 
            "execution_count": 231, 
            "source": "# Elementwise square root; produces the array\n# [[ 1.          1.41421356]\n#  [ 1.73205081  2.        ]]\nprint np.sqrt(x)", 
            "metadata": {
                "collapsed": false
            }, 
            "outputs": [
                {
                    "name": "stdout", 
                    "output_type": "stream", 
                    "text": "[[ 1.          1.41421356]\n [ 1.73205081  2.        ]]\n"
                }
            ]
        }, 
        {
            "cell_type": "markdown", 
            "metadata": {}, 
            "source": "Note that unlike MATLAB, `*` is elementwise multiplication, not matrix multiplication. We instead use the dot function to compute inner products of vectors, to multiply a vector by a matrix, and to multiply matrices. dot is available both as a function in the numpy module and as an instance method of array objects:"
        }, 
        {
            "cell_type": "code", 
            "execution_count": 232, 
            "source": "x = np.array([[1,2],[3,4]])\ny = np.array([[5,6],[7,8]])\n\nv = np.array([9,10])\nw = np.array([11, 12])\n\n# Inner product of vectors; both produce 219\nprint v.dot(w)\nprint np.dot(v, w)", 
            "metadata": {
                "collapsed": false
            }, 
            "outputs": [
                {
                    "name": "stdout", 
                    "output_type": "stream", 
                    "text": "219\n219\n"
                }
            ]
        }, 
        {
            "cell_type": "code", 
            "execution_count": 233, 
            "source": "# Matrix / vector product; both produce the rank 1 array [29 67]\nprint x.dot(v)\nprint np.dot(x, v)", 
            "metadata": {
                "collapsed": false
            }, 
            "outputs": [
                {
                    "name": "stdout", 
                    "output_type": "stream", 
                    "text": "[29 67]\n[29 67]\n"
                }
            ]
        }, 
        {
            "cell_type": "code", 
            "execution_count": 234, 
            "source": "# Matrix / matrix product; both produce the rank 2 array\n# [[19 22]\n#  [43 50]]\nprint x.dot(y)\nprint np.dot(x, y)", 
            "metadata": {
                "collapsed": false
            }, 
            "outputs": [
                {
                    "name": "stdout", 
                    "output_type": "stream", 
                    "text": "[[19 22]\n [43 50]]\n[[19 22]\n [43 50]]\n"
                }
            ]
        }, 
        {
            "cell_type": "markdown", 
            "metadata": {}, 
            "source": "Numpy provides many useful functions for performing computations on arrays; one of the most useful is `sum`:"
        }, 
        {
            "cell_type": "code", 
            "execution_count": 235, 
            "source": "x = np.array([[1,2],[3,4]])\n\nprint np.sum(x)  # Compute sum of all elements; prints \"10\"\nprint np.sum(x, axis=0)  # Compute sum of each column; prints \"[4 6]\"\nprint np.sum(x, axis=1)  # Compute sum of each row; prints \"[3 7]\"", 
            "metadata": {
                "collapsed": false
            }, 
            "outputs": [
                {
                    "name": "stdout", 
                    "output_type": "stream", 
                    "text": "10\n[4 6]\n[3 7]\n"
                }
            ]
        }, 
        {
            "cell_type": "markdown", 
            "metadata": {}, 
            "source": "You can find the full list of mathematical functions provided by numpy in the [documentation](http://docs.scipy.org/doc/numpy/reference/routines.math.html).\n\nApart from computing mathematical functions using arrays, we frequently need to reshape or otherwise manipulate data in arrays. The simplest example of this type of operation is transposing a matrix; to transpose a matrix, simply use the T attribute of an array object:"
        }, 
        {
            "cell_type": "code", 
            "execution_count": 236, 
            "source": "print x\nprint x.T", 
            "metadata": {
                "collapsed": false
            }, 
            "outputs": [
                {
                    "name": "stdout", 
                    "output_type": "stream", 
                    "text": "[[1 2]\n [3 4]]\n[[1 3]\n [2 4]]\n"
                }
            ]
        }, 
        {
            "cell_type": "code", 
            "execution_count": 237, 
            "source": "v = np.array([[1,2,3]])\nprint v \nprint v.T", 
            "metadata": {
                "collapsed": false
            }, 
            "outputs": [
                {
                    "name": "stdout", 
                    "output_type": "stream", 
                    "text": "[1 2 3]\n[1 2 3]\n"
                }
            ]
        }, 
        {
            "cell_type": "markdown", 
            "metadata": {}, 
            "source": "### Broadcasting"
        }, 
        {
            "cell_type": "markdown", 
            "metadata": {}, 
            "source": "Broadcasting is a powerful mechanism that allows numpy to work with arrays of different shapes when performing arithmetic operations. Frequently we have a smaller array and a larger array, and we want to use the smaller array multiple times to perform some operation on the larger array.\n\nFor example, suppose that we want to add a constant vector to each row of a matrix. We could do it like this:"
        }, 
        {
            "cell_type": "code", 
            "execution_count": 238, 
            "source": "# We will add the vector v to each row of the matrix x,\n# storing the result in the matrix y\nx = np.array([[1,2,3], [4,5,6], [7,8,9], [10, 11, 12]])\nv = np.array([1, 0, 1])\ny = np.empty_like(x)   # Create an empty matrix with the same shape as x\n\n# Add the vector v to each row of the matrix x with an explicit loop\nfor i in range(4):\n    y[i, :] = x[i, :] + v\n\nprint y", 
            "metadata": {
                "collapsed": false
            }, 
            "outputs": [
                {
                    "name": "stdout", 
                    "output_type": "stream", 
                    "text": "[[ 2  2  4]\n [ 5  5  7]\n [ 8  8 10]\n [11 11 13]]\n"
                }
            ]
        }, 
        {
            "cell_type": "markdown", 
            "metadata": {}, 
            "source": "This works; however when the matrix `x` is very large, computing an explicit loop in Python could be slow. Note that adding the vector v to each row of the matrix `x` is equivalent to forming a matrix `vv` by stacking multiple copies of `v` vertically, then performing elementwise summation of `x` and `vv`. We could implement this approach like this:"
        }, 
        {
            "cell_type": "code", 
            "execution_count": 240, 
            "source": "vv = np.tile(v, (4, 1))  # Stack 4 copies of v on top of each other\nprint vv                 # Prints \"[[1 0 1]\n                         #          [1 0 1]\n                         #          [1 0 1]\n                         #          [1 0 1]]\"", 
            "metadata": {
                "collapsed": false
            }, 
            "outputs": [
                {
                    "name": "stdout", 
                    "output_type": "stream", 
                    "text": "[[1 0 1]\n [1 0 1]\n [1 0 1]\n [1 0 1]]\n"
                }
            ]
        }, 
        {
            "cell_type": "code", 
            "execution_count": 241, 
            "source": "y = x + vv  # Add x and vv elementwise\nprint y", 
            "metadata": {
                "collapsed": false
            }, 
            "outputs": [
                {
                    "name": "stdout", 
                    "output_type": "stream", 
                    "text": "[[ 2  2  4]\n [ 5  5  7]\n [ 8  8 10]\n [11 11 13]]\n"
                }
            ]
        }, 
        {
            "cell_type": "markdown", 
            "metadata": {}, 
            "source": "Numpy broadcasting allows us to perform this computation without actually creating multiple copies of v. Consider this version, using broadcasting:"
        }, 
        {
            "cell_type": "code", 
            "execution_count": 242, 
            "source": "import numpy as np\n\n# We will add the vector v to each row of the matrix x,\n# storing the result in the matrix y\nx = np.array([[1,2,3], [4,5,6], [7,8,9], [10, 11, 12]])\nv = np.array([1, 0, 1])\ny = x + v  # Add v to each row of x using broadcasting\nprint y", 
            "metadata": {
                "collapsed": false
            }, 
            "outputs": [
                {
                    "name": "stdout", 
                    "output_type": "stream", 
                    "text": "[[ 2  2  4]\n [ 5  5  7]\n [ 8  8 10]\n [11 11 13]]\n"
                }
            ]
        }, 
        {
            "cell_type": "markdown", 
            "metadata": {}, 
            "source": "The line `y = x + v` works even though `x` has shape `(4, 3)` and `v` has shape `(3,)` due to broadcasting; this line works as if v actually had shape `(4, 3)`, where each row was a copy of `v`, and the sum was performed elementwise.\n\nBroadcasting two arrays together follows these rules:\n\n1. If the arrays do not have the same rank, prepend the shape of the lower rank array with 1s until both shapes have the same length.\n2. The two arrays are said to be compatible in a dimension if they have the same size in the dimension, or if one of the arrays has size 1 in that dimension.\n3. The arrays can be broadcast together if they are compatible in all dimensions.\n4. After broadcasting, each array behaves as if it had shape equal to the elementwise maximum of shapes of the two input arrays.\n5. In any dimension where one array had size 1 and the other array had size greater than 1, the first array behaves as if it were copied along that dimension\n\nIf this explanation does not make sense, try reading the explanation from the [documentation](http://docs.scipy.org/doc/numpy/user/basics.broadcasting.html) or this [explanation](http://wiki.scipy.org/EricsBroadcastingDoc).\n\nFunctions that support broadcasting are known as universal functions. You can find the list of all universal functions in the [documentation](http://docs.scipy.org/doc/numpy/reference/ufuncs.html#available-ufuncs).\n\nHere are some applications of broadcasting:"
        }, 
        {
            "cell_type": "code", 
            "execution_count": 243, 
            "source": "# Compute outer product of vectors\nv = np.array([1,2,3])  # v has shape (3,)\nw = np.array([4,5])    # w has shape (2,)\n# To compute an outer product, we first reshape v to be a column\n# vector of shape (3, 1); we can then broadcast it against w to yield\n# an output of shape (3, 2), which is the outer product of v and w:\n\nprint np.reshape(v, (3, 1)) * w", 
            "metadata": {
                "collapsed": false
            }, 
            "outputs": [
                {
                    "name": "stdout", 
                    "output_type": "stream", 
                    "text": "[[ 4  5]\n [ 8 10]\n [12 15]]\n"
                }
            ]
        }, 
        {
            "cell_type": "code", 
            "execution_count": 244, 
            "source": "# Add a vector to each row of a matrix\nx = np.array([[1,2,3], [4,5,6]])\n# x has shape (2, 3) and v has shape (3,) so they broadcast to (2, 3),\n# giving the following matrix:\n\nprint x + v", 
            "metadata": {
                "collapsed": false
            }, 
            "outputs": [
                {
                    "name": "stdout", 
                    "output_type": "stream", 
                    "text": "[[2 4 6]\n [5 7 9]]\n"
                }
            ]
        }, 
        {
            "cell_type": "code", 
            "execution_count": 245, 
            "source": "# Add a vector to each column of a matrix\n# x has shape (2, 3) and w has shape (2,).\n# If we transpose x then it has shape (3, 2) and can be broadcast\n# against w to yield a result of shape (3, 2); transposing this result\n# yields the final result of shape (2, 3) which is the matrix x with\n# the vector w added to each column. Gives the following matrix:\n\nprint (x.T + w).T", 
            "metadata": {
                "collapsed": false
            }, 
            "outputs": [
                {
                    "name": "stdout", 
                    "output_type": "stream", 
                    "text": "[[ 5  6  7]\n [ 9 10 11]]\n"
                }
            ]
        }, 
        {
            "cell_type": "code", 
            "execution_count": 246, 
            "source": "# Another solution is to reshape w to be a row vector of shape (2, 1);\n# we can then broadcast it directly against x to produce the same\n# output.\nprint x + np.reshape(w, (2, 1))", 
            "metadata": {
                "collapsed": false
            }, 
            "outputs": [
                {
                    "name": "stdout", 
                    "output_type": "stream", 
                    "text": "[[ 5  6  7]\n [ 9 10 11]]\n"
                }
            ]
        }, 
        {
            "cell_type": "code", 
            "execution_count": 247, 
            "source": "# Multiply a matrix by a constant:\n# x has shape (2, 3). Numpy treats scalars as arrays of shape ();\n# these can be broadcast together to shape (2, 3), producing the\n# following array:\nprint x * 2", 
            "metadata": {
                "collapsed": false
            }, 
            "outputs": [
                {
                    "name": "stdout", 
                    "output_type": "stream", 
                    "text": "[[ 2  4  6]\n [ 8 10 12]]\n"
                }
            ]
        }, 
        {
            "cell_type": "markdown", 
            "metadata": {}, 
            "source": "Broadcasting typically makes your code more concise and faster, so you should strive to use it where possible."
        }, 
        {
            "cell_type": "markdown", 
            "metadata": {}, 
            "source": "This brief overview has touched on many of the important things that you need to know about numpy, but is far from complete. Check out the [numpy reference](http://docs.scipy.org/doc/numpy/reference/) to find out much more about numpy."
        }
    ], 
    "metadata": {
        "kernelspec": {
            "display_name": "Python 2 with Spark 1.6", 
            "language": "python", 
            "name": "python2"
        }, 
        "language_info": {
            "codemirror_mode": {
                "version": 2, 
                "name": "ipython"
            }, 
            "version": "2.7.11", 
            "name": "python", 
            "pygments_lexer": "ipython2", 
            "nbconvert_exporter": "python", 
            "mimetype": "text/x-python", 
            "file_extension": ".py"
        }
    }, 
    "nbformat_minor": 0
}