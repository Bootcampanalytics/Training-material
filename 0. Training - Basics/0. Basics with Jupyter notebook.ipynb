{
    "nbformat": 4, 
    "nbformat_minor": 0, 
    "cells": [
        {
            "source": "# Jupyter notebook basics", 
            "cell_type": "markdown", 
            "metadata": {
                "collapsed": true
            }
        }, 
        {
            "source": "Notebook documents (or \u201cnotebooks\u201d, all lower case) are documents produced by the Jupyter Notebook App, which contain both computer code (e.g. python) and rich text elements (paragraph, equations, figures, links, etc...). \n\nNotebook documents are both human-readable documents containing the analysis description and the results (figures, tables, etc..) as well as executable documents which can be run to perform data analysis.", 
            "cell_type": "markdown", 
            "metadata": {}
        }, 
        {
            "source": "The Jupyter Notebook App is a server-client application that allows editing and running notebook documents via a web browser. The IBM version of Jupyter Notebook App is installed on a remote server and accessed through the internet.", 
            "cell_type": "markdown", 
            "metadata": {}
        }, 
        {
            "source": "A notebook kernel is a \u201ccomputational engine\u201d that executes the code contained in a Notebook document. The ipython kernel, referenced in this guide, executes python code. Kernels for many other languages exist (check the Kernels menu above).\n\nWhen you open a Notebook document, the associated kernel is automatically launched. When the notebook is executed (either cell-by-cell or with menu Cell -> Run All), the kernel performs the computation and produces the results. Depending on the type of computations, the kernel may consume significant CPU and RAM. Note that the RAM is not released until the kernel is shut-down", 
            "cell_type": "markdown", 
            "metadata": {}
        }, 
        {
            "source": "# Useful shortcuts in Jupter:\n\nctrl-enter: execute the active cell and stay in that cell\nshift-enter: execute the active cell and move to the next cell\n\nTry it out in the next cell:", 
            "cell_type": "markdown", 
            "metadata": {}
        }, 
        {
            "execution_count": 1, 
            "metadata": {
                "collapsed": false, 
                "scrolled": true
            }, 
            "outputs": [
                {
                    "text": "Hello world\n", 
                    "name": "stdout", 
                    "output_type": "stream"
                }
            ], 
            "cell_type": "code", 
            "source": "print (\"Hello world\")"
        }, 
        {
            "execution_count": 3, 
            "metadata": {
                "collapsed": false, 
                "scrolled": true
            }, 
            "outputs": [
                {
                    "text": "Second line\n", 
                    "name": "stdout", 
                    "output_type": "stream"
                }
            ], 
            "cell_type": "code", 
            "source": "print (\"Second line\")"
        }, 
        {
            "source": "# Inserting new cells\n\nwhen a cell is selected in blue (click in the margin to the left of the cell), it shows a blue surrounding box.\n\nType: \na (above) to create a new empty cell above the currently active cell\nb (below) to create a new empty cell below the currently active cell\n\nTry it out.", 
            "cell_type": "markdown", 
            "metadata": {}
        }, 
        {
            "source": "# markup code\n\nThe shorcut m (with the blue selection) changes the cell from computation to markdown. This allows to create rich text elements to document the code.", 
            "cell_type": "markdown", 
            "metadata": {}
        }, 
        {
            "execution_count": null, 
            "metadata": {
                "collapsed": true
            }, 
            "outputs": [], 
            "cell_type": "code", 
            "source": "Try it out: make this text part of the markdown. "
        }, 
        {
            "execution_count": null, 
            "metadata": {
                "collapsed": true
            }, 
            "outputs": [], 
            "cell_type": "code", 
            "source": "# Heading 1\n## Heading 2\n### Heading 3\n#### Heading 4\n\n**bold**\n\n*italics*\n\nempty line is a paragraph\n\nthis is a new parapgraph"
        }, 
        {
            "source": "# Heading 1\n## Heading 2\n### Heading 3\n#### Heading 4\n\n**bold**\n\n*italics*\n\nempty line is a paragraph\n\nthis is a new parapgraph", 
            "cell_type": "markdown", 
            "metadata": {}
        }, 
        {
            "source": "# other shotcuts\n\nThe shorcut h (with the blue selection) shows other shortcuts\nThe shortcut o (with the blue selection) will hide long output.", 
            "cell_type": "markdown", 
            "metadata": {}
        }, 
        {
            "execution_count": 5, 
            "metadata": {
                "collapsed": false, 
                "scrolled": true
            }, 
            "outputs": [
                {
                    "text": "Hello world\nHello world\nHello world\nHello world\nHello world\nHello world\nHello world\nHello world\nHello world\nHello world\n", 
                    "name": "stdout", 
                    "output_type": "stream"
                }
            ], 
            "cell_type": "code", 
            "source": "# Try toggling the output\nfor i in range(10):\n    print (\"Hello world\")"
        }, 
        {
            "source": "Help on objects:\nobj?, obj??      : Get help, or more help for object (also works as\n                   ?obj, ??obj).\n?foo.*abc*       : List names in 'foo' containing 'abc' in them.", 
            "cell_type": "markdown", 
            "metadata": {}
        }, 
        {
            "execution_count": 15, 
            "metadata": {
                "collapsed": false
            }, 
            "outputs": [], 
            "cell_type": "code", 
            "source": "#try it out\n?dict"
        }
    ], 
    "metadata": {
        "language_info": {
            "nbconvert_exporter": "python", 
            "file_extension": ".py", 
            "codemirror_mode": {
                "name": "ipython", 
                "version": 2
            }, 
            "pygments_lexer": "ipython2", 
            "version": "2.7.11", 
            "mimetype": "text/x-python", 
            "name": "python"
        }, 
        "kernelspec": {
            "language": "python", 
            "display_name": "Python 2 with Spark 1.6", 
            "name": "python2"
        }
    }
}