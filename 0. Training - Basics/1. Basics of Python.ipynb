{
    "nbformat": 4, 
    "nbformat_minor": 0, 
    "cells": [
        {
            "source": "# Basics of Python\n\nAdopted from http://cs231n.github.io/python-numpy-tutorial/", 
            "cell_type": "markdown", 
            "metadata": {}
        }, 
        {
            "source": "Python is a high-level, dynamically typed multiparadigm programming language. Python code is often said to be almost like pseudocode, since it allows you to express very powerful ideas in very few lines of code while being very readable.", 
            "cell_type": "markdown", 
            "metadata": {}
        }, 
        {
            "source": "### Basic data types", 
            "cell_type": "markdown", 
            "metadata": {}
        }, 
        {
            "source": "#### Numbers", 
            "cell_type": "markdown", 
            "metadata": {}
        }, 
        {
            "source": "Integers and floats work as you would expect from other languages:", 
            "cell_type": "markdown", 
            "metadata": {}
        }, 
        {
            "execution_count": 13, 
            "metadata": {
                "collapsed": false
            }, 
            "outputs": [
                {
                    "text": "3 <type 'int'>\n", 
                    "name": "stdout", 
                    "output_type": "stream"
                }
            ], 
            "cell_type": "code", 
            "source": "x = 3\nprint x, type(x)"
        }, 
        {
            "execution_count": 15, 
            "metadata": {
                "collapsed": false
            }, 
            "outputs": [
                {
                    "text": "4\n2\n6\n9\n", 
                    "name": "stdout", 
                    "output_type": "stream"
                }
            ], 
            "cell_type": "code", 
            "source": "print x + 1   # Addition;\nprint x - 1   # Subtraction;\nprint x * 2   # Multiplication;\nprint x ** 2  # Exponentiation;"
        }, 
        {
            "execution_count": 16, 
            "metadata": {
                "collapsed": false
            }, 
            "outputs": [
                {
                    "text": "4\n8\n", 
                    "name": "stdout", 
                    "output_type": "stream"
                }
            ], 
            "cell_type": "code", 
            "source": "x += 1\nprint x  # Prints \"4\"\nx *= 2\nprint x  # Prints \"8\""
        }, 
        {
            "execution_count": 17, 
            "metadata": {
                "collapsed": false
            }, 
            "outputs": [
                {
                    "text": "<type 'float'>\n2.5 3.5 5.0 6.25\n", 
                    "name": "stdout", 
                    "output_type": "stream"
                }
            ], 
            "cell_type": "code", 
            "source": "y = 2.5\nprint type(y) # Prints \"<type 'float'>\"\nprint y, y + 1, y * 2, y ** 2 # Prints \"2.5 3.5 5.0 6.25\""
        }, 
        {
            "source": "Note that unlike many languages, Python does not have unary increment (x++) or decrement (x--) operators.\n\nPython also has built-in types for long integers and complex numbers; you can find all of the details in the [documentation](https://docs.python.org/2/library/stdtypes.html#numeric-types-int-float-long-complex).", 
            "cell_type": "markdown", 
            "metadata": {}
        }, 
        {
            "source": "#### Booleans", 
            "cell_type": "markdown", 
            "metadata": {}
        }, 
        {
            "source": "Python implements all of the usual operators for Boolean logic, but uses English words rather than symbols (`&&`, `||`, etc.):", 
            "cell_type": "markdown", 
            "metadata": {}
        }, 
        {
            "execution_count": 139, 
            "metadata": {
                "collapsed": false
            }, 
            "outputs": [
                {
                    "text": "<type 'bool'>\n", 
                    "name": "stdout", 
                    "output_type": "stream"
                }
            ], 
            "cell_type": "code", 
            "source": "t, f = True, False\nprint type(t) # Prints \"<type 'bool'>\""
        }, 
        {
            "source": "Now we let's look at the operations:", 
            "cell_type": "markdown", 
            "metadata": {}
        }, 
        {
            "execution_count": 140, 
            "metadata": {
                "collapsed": false
            }, 
            "outputs": [
                {
                    "text": "False\nTrue\nFalse\nTrue\n", 
                    "name": "stdout", 
                    "output_type": "stream"
                }
            ], 
            "cell_type": "code", 
            "source": "print t and f # Logical AND;\nprint t or f  # Logical OR;\nprint not t   # Logical NOT;\nprint t != f  # Logical XOR;"
        }, 
        {
            "source": "#### Strings", 
            "cell_type": "markdown", 
            "metadata": {}
        }, 
        {
            "execution_count": 142, 
            "metadata": {
                "collapsed": false
            }, 
            "outputs": [
                {
                    "text": "hello 5\n", 
                    "name": "stdout", 
                    "output_type": "stream"
                }
            ], 
            "cell_type": "code", 
            "source": "hello = 'hello'   # String literals can use single quotes\nworld = \"world\"   # or double quotes; it does not matter.\nprint hello, len(hello)"
        }, 
        {
            "execution_count": 143, 
            "metadata": {
                "collapsed": false
            }, 
            "outputs": [
                {
                    "text": "hello world\n", 
                    "name": "stdout", 
                    "output_type": "stream"
                }
            ], 
            "cell_type": "code", 
            "source": "hw = hello + ' ' + world  # String concatenation\nprint hw  # prints \"hello world\""
        }, 
        {
            "execution_count": 144, 
            "metadata": {
                "collapsed": false
            }, 
            "outputs": [
                {
                    "text": "hello world 12\n", 
                    "name": "stdout", 
                    "output_type": "stream"
                }
            ], 
            "cell_type": "code", 
            "source": "hw12 = '%s %s %d' % (hello, world, 12)  # sprintf style string formatting\nprint hw12  # prints \"hello world 12\""
        }, 
        {
            "source": "String objects have a bunch of useful methods; for example:", 
            "cell_type": "markdown", 
            "metadata": {}
        }, 
        {
            "execution_count": 26, 
            "metadata": {
                "collapsed": false
            }, 
            "outputs": [
                {
                    "text": "Hello\nHELLO\n  hello\n hello \nhe(ell)(ell)o\nworld\n", 
                    "name": "stdout", 
                    "output_type": "stream"
                }
            ], 
            "cell_type": "code", 
            "source": "s = \"hello\"\nprint s.capitalize()  # Capitalize a string; prints \"Hello\"\nprint s.upper()       # Convert a string to uppercase; prints \"HELLO\"\nprint s.rjust(7)      # Right-justify a string, padding with spaces; prints \"  hello\"\nprint s.center(7)     # Center a string, padding with spaces; prints \" hello \"\nprint s.replace('l', '(ell)')  # Replace all instances of one substring with another;\n                               # prints \"he(ell)(ell)o\"\nprint '  world '.strip()  # Strip leading and trailing whitespace; prints \"world\""
        }, 
        {
            "source": "You can find a list of all string methods in the [documentation](https://docs.python.org/2/library/stdtypes.html#string-methods).", 
            "cell_type": "markdown", 
            "metadata": {}
        }, 
        {
            "source": "### Containers", 
            "cell_type": "markdown", 
            "metadata": {}
        }, 
        {
            "source": "Python includes several built-in container types: lists, dictionaries, sets, and tuples.", 
            "cell_type": "markdown", 
            "metadata": {}
        }, 
        {
            "source": "#### Lists", 
            "cell_type": "markdown", 
            "metadata": {}
        }, 
        {
            "source": "A list is the Python equivalent of an array, but is resizeable and can contain elements of different types:", 
            "cell_type": "markdown", 
            "metadata": {}
        }, 
        {
            "execution_count": 146, 
            "metadata": {
                "collapsed": false
            }, 
            "outputs": [
                {
                    "text": "[3, 1, 2] 2\n2\n", 
                    "name": "stdout", 
                    "output_type": "stream"
                }
            ], 
            "cell_type": "code", 
            "source": "xs = [3, 1, 2]   # Create a list\nprint xs, xs[2]\nprint xs[-1]     # Negative indices count from the end of the list; prints \"2\""
        }, 
        {
            "execution_count": 148, 
            "metadata": {
                "collapsed": false
            }, 
            "outputs": [
                {
                    "text": "[3, 1, 'foo']\n", 
                    "name": "stdout", 
                    "output_type": "stream"
                }
            ], 
            "cell_type": "code", 
            "source": "xs[2] = 'foo'    # Lists can contain elements of different types\nprint xs"
        }, 
        {
            "execution_count": 150, 
            "metadata": {
                "collapsed": false
            }, 
            "outputs": [
                {
                    "text": "[3, 1, 'foo', 'bar', 'bar']\n", 
                    "name": "stdout", 
                    "output_type": "stream"
                }
            ], 
            "cell_type": "code", 
            "source": "xs.append('bar') # Add a new element to the end of the list\nprint xs  "
        }, 
        {
            "execution_count": 152, 
            "metadata": {
                "collapsed": false
            }, 
            "outputs": [
                {
                    "text": "bar [3, 1, 'foo']\n", 
                    "name": "stdout", 
                    "output_type": "stream"
                }
            ], 
            "cell_type": "code", 
            "source": "x = xs.pop()     # Remove and return the last element of the list\nprint x, xs "
        }, 
        {
            "source": "As usual, you can find all the gory details about lists in the [documentation](https://docs.python.org/2/tutorial/datastructures.html#more-on-lists).", 
            "cell_type": "markdown", 
            "metadata": {}
        }, 
        {
            "source": "#### Slicing", 
            "cell_type": "markdown", 
            "metadata": {}
        }, 
        {
            "source": "In addition to accessing list elements one at a time, Python provides concise syntax to access sublists; this is known as slicing:", 
            "cell_type": "markdown", 
            "metadata": {}
        }, 
        {
            "execution_count": 36, 
            "metadata": {
                "collapsed": false
            }, 
            "outputs": [
                {
                    "text": "[0, 1, 2, 3, 4]\n[2, 3]\n[2, 3, 4]\n[0, 1]\n[0, 1, 2, 3, 4]\n[0, 1, 2, 3]\n[0, 1, 8, 9, 4]\n", 
                    "name": "stdout", 
                    "output_type": "stream"
                }
            ], 
            "cell_type": "code", 
            "source": "nums = range(5)    # range is a built-in function that creates a list of integers\nprint nums         # Prints \"[0, 1, 2, 3, 4]\"\nprint nums[2:4]    # Get a slice from index 2 to 4 (exclusive); prints \"[2, 3]\"\nprint nums[2:]     # Get a slice from index 2 to the end; prints \"[2, 3, 4]\"\nprint nums[:2]     # Get a slice from the start to index 2 (exclusive); prints \"[0, 1]\"\nprint nums[:]      # Get a slice of the whole list; prints [\"0, 1, 2, 3, 4]\"\nprint nums[:-1]    # Slice indices can be negative; prints [\"0, 1, 2, 3]\"\nnums[2:4] = [8, 9] # Assign a new sublist to a slice\nprint nums         # Prints \"[0, 1, 8, 8, 4]\""
        }, 
        {
            "source": "#### Loops", 
            "cell_type": "markdown", 
            "metadata": {}
        }, 
        {
            "source": "You can loop over the elements of a list like this:", 
            "cell_type": "markdown", 
            "metadata": {}
        }, 
        {
            "execution_count": 153, 
            "metadata": {
                "collapsed": false
            }, 
            "outputs": [
                {
                    "text": "cat\ndog\nmonkey\n", 
                    "name": "stdout", 
                    "output_type": "stream"
                }
            ], 
            "cell_type": "code", 
            "source": "animals = ['cat', 'dog', 'monkey']\nfor animal in animals:\n    print animal"
        }, 
        {
            "source": "If you want access to the index of each element within the body of a loop, use the built-in `enumerate` function:", 
            "cell_type": "markdown", 
            "metadata": {}
        }, 
        {
            "execution_count": 154, 
            "metadata": {
                "collapsed": false
            }, 
            "outputs": [
                {
                    "text": "#1: cat\n#2: dog\n#3: monkey\n", 
                    "name": "stdout", 
                    "output_type": "stream"
                }
            ], 
            "cell_type": "code", 
            "source": "animals = ['cat', 'dog', 'monkey']\nfor idx, animal in enumerate(animals):\n    print '#%d: %s' % (idx + 1, animal)"
        }, 
        {
            "source": "#### List comprehensions:", 
            "cell_type": "markdown", 
            "metadata": {}
        }, 
        {
            "source": "When programming, frequently we want to transform one type of data into another. As a simple example, consider the following code that computes square numbers:", 
            "cell_type": "markdown", 
            "metadata": {}
        }, 
        {
            "execution_count": 155, 
            "metadata": {
                "collapsed": false
            }, 
            "outputs": [
                {
                    "text": "[0, 1, 4, 9, 16]\n", 
                    "name": "stdout", 
                    "output_type": "stream"
                }
            ], 
            "cell_type": "code", 
            "source": "nums = [0, 1, 2, 3, 4]\nsquares = []\nfor x in nums:\n    squares.append(x ** 2)\nprint squares"
        }, 
        {
            "source": "You can make this code simpler using a list comprehension:", 
            "cell_type": "markdown", 
            "metadata": {}
        }, 
        {
            "execution_count": 156, 
            "metadata": {
                "collapsed": false
            }, 
            "outputs": [
                {
                    "text": "[0, 1, 4, 9, 16]\n", 
                    "name": "stdout", 
                    "output_type": "stream"
                }
            ], 
            "cell_type": "code", 
            "source": "nums = [0, 1, 2, 3, 4]\nsquares = [x ** 2 for x in nums]\nprint squares"
        }, 
        {
            "source": "List comprehensions can also contain conditions:", 
            "cell_type": "markdown", 
            "metadata": {}
        }, 
        {
            "execution_count": 157, 
            "metadata": {
                "collapsed": false
            }, 
            "outputs": [
                {
                    "text": "[0, 4, 16]\n", 
                    "name": "stdout", 
                    "output_type": "stream"
                }
            ], 
            "cell_type": "code", 
            "source": "nums = [0, 1, 2, 3, 4]\neven_squares = [x ** 2 for x in nums if x % 2 == 0]\nprint even_squares"
        }, 
        {
            "source": "#### Dictionaries", 
            "cell_type": "markdown", 
            "metadata": {}
        }, 
        {
            "source": "A dictionary stores (key, value) pairs, similar to a `Map` in Java or an object in Javascript. You can use it like this:", 
            "cell_type": "markdown", 
            "metadata": {}
        }, 
        {
            "execution_count": 158, 
            "metadata": {
                "collapsed": false
            }, 
            "outputs": [
                {
                    "text": "cute\nTrue\n", 
                    "name": "stdout", 
                    "output_type": "stream"
                }
            ], 
            "cell_type": "code", 
            "source": "d = {'cat': 'cute', 'dog': 'furry'}  # Create a new dictionary with some data\nprint d['cat']       # Get an entry from a dictionary; prints \"cute\"\nprint 'cat' in d     # Check if a dictionary has a given key; prints \"True\""
        }, 
        {
            "execution_count": 159, 
            "metadata": {
                "collapsed": false
            }, 
            "outputs": [
                {
                    "text": "wet\n", 
                    "name": "stdout", 
                    "output_type": "stream"
                }
            ], 
            "cell_type": "code", 
            "source": "d['fish'] = 'wet'    # Set an entry in a dictionary\nprint d['fish']      # Prints \"wet\""
        }, 
        {
            "execution_count": 161, 
            "metadata": {
                "collapsed": false
            }, 
            "outputs": [
                {
                    "evalue": "'monkey'", 
                    "traceback": [
                        "\u001b[0;31m---------------------------------------------------------------------------\u001b[0m\n\u001b[0;31mKeyError\u001b[0m                                  Traceback (most recent call last)", 
                        "\u001b[0;32m<ipython-input-161-85f0c5ba0fa7>\u001b[0m in \u001b[0;36m<module>\u001b[0;34m()\u001b[0m\n\u001b[0;32m----> 1\u001b[0;31m \u001b[0;32mprint\u001b[0m \u001b[0md\u001b[0m\u001b[0;34m[\u001b[0m\u001b[0;34m'monkey'\u001b[0m\u001b[0;34m]\u001b[0m  \u001b[0;31m# KeyError: 'monkey' not a key of d\u001b[0m\u001b[0;34m\u001b[0m\u001b[0m\n\u001b[0m", 
                        "\u001b[0;31mKeyError\u001b[0m: 'monkey'"
                    ], 
                    "ename": "KeyError", 
                    "output_type": "error"
                }
            ], 
            "cell_type": "code", 
            "source": "print d['monkey']  # KeyError: 'monkey' not a key of d"
        }, 
        {
            "execution_count": 162, 
            "metadata": {
                "collapsed": false
            }, 
            "outputs": [
                {
                    "text": "N/A\nwet\n", 
                    "name": "stdout", 
                    "output_type": "stream"
                }
            ], 
            "cell_type": "code", 
            "source": "print d.get('monkey', 'N/A')  # Get an element with a default; prints \"N/A\"\nprint d.get('fish', 'N/A')    # Get an element with a default; prints \"wet\""
        }, 
        {
            "execution_count": 163, 
            "metadata": {
                "collapsed": false
            }, 
            "outputs": [
                {
                    "text": "N/A\n", 
                    "name": "stdout", 
                    "output_type": "stream"
                }
            ], 
            "cell_type": "code", 
            "source": "del d['fish']        # Remove an element from a dictionary\nprint d.get('fish', 'N/A') # \"fish\" is no longer a key; prints \"N/A\""
        }, 
        {
            "source": "You can find all you need to know about dictionaries in the [documentation](https://docs.python.org/2/library/stdtypes.html#dict).", 
            "cell_type": "markdown", 
            "metadata": {}
        }, 
        {
            "source": "It is easy to iterate over the keys in a dictionary:", 
            "cell_type": "markdown", 
            "metadata": {}
        }, 
        {
            "execution_count": 164, 
            "metadata": {
                "collapsed": false
            }, 
            "outputs": [
                {
                    "text": "A person has 2 legs\nA spider has 8 legs\nA cat has 4 legs\n", 
                    "name": "stdout", 
                    "output_type": "stream"
                }
            ], 
            "cell_type": "code", 
            "source": "d = {'person': 2, 'cat': 4, 'spider': 8}\nfor animal in d:\n    legs = d[animal]\n    print 'A %s has %d legs' % (animal, legs)"
        }, 
        {
            "source": "If you want access to keys and their corresponding values, use the iteritems method:", 
            "cell_type": "markdown", 
            "metadata": {}
        }, 
        {
            "execution_count": 165, 
            "metadata": {
                "collapsed": false
            }, 
            "outputs": [
                {
                    "text": "A person has 2 legs\nA spider has 8 legs\nA cat has 4 legs\n", 
                    "name": "stdout", 
                    "output_type": "stream"
                }
            ], 
            "cell_type": "code", 
            "source": "d = {'person': 2, 'cat': 4, 'spider': 8}\nfor animal, legs in d.iteritems():\n    print 'A %s has %d legs' % (animal, legs)"
        }, 
        {
            "source": "Dictionary comprehensions: These are similar to list comprehensions, but allow you to easily construct dictionaries. For example:", 
            "cell_type": "markdown", 
            "metadata": {}
        }, 
        {
            "execution_count": 166, 
            "metadata": {
                "collapsed": false
            }, 
            "outputs": [
                {
                    "text": "{0: 0, 2: 4, 4: 16}\n", 
                    "name": "stdout", 
                    "output_type": "stream"
                }
            ], 
            "cell_type": "code", 
            "source": "nums = [0, 1, 2, 3, 4]\neven_num_to_square = {x: x ** 2 for x in nums if x % 2 == 0}\nprint even_num_to_square"
        }, 
        {
            "source": "#### Sets", 
            "cell_type": "markdown", 
            "metadata": {}
        }, 
        {
            "source": "A set is an unordered collection of distinct elements. As a simple example, consider the following:", 
            "cell_type": "markdown", 
            "metadata": {}
        }, 
        {
            "execution_count": 167, 
            "metadata": {
                "collapsed": false
            }, 
            "outputs": [
                {
                    "text": "True\nFalse\n", 
                    "name": "stdout", 
                    "output_type": "stream"
                }
            ], 
            "cell_type": "code", 
            "source": "animals = {'cat', 'dog'}\nprint 'cat' in animals   # Check if an element is in a set; prints \"True\"\nprint 'fish' in animals  # prints \"False\"\n"
        }, 
        {
            "execution_count": 170, 
            "metadata": {
                "collapsed": false
            }, 
            "outputs": [
                {
                    "text": "True\n3\n", 
                    "name": "stdout", 
                    "output_type": "stream"
                }
            ], 
            "cell_type": "code", 
            "source": "animals.add('fish')      # Add an element to a set\nprint 'fish' in animals\nprint len(animals)       # Number of elements in a set;"
        }, 
        {
            "execution_count": 171, 
            "metadata": {
                "collapsed": false
            }, 
            "outputs": [
                {
                    "text": "3\n2\n", 
                    "name": "stdout", 
                    "output_type": "stream"
                }
            ], 
            "cell_type": "code", 
            "source": "animals.add('cat')       # Adding an element that is already in the set does nothing\nprint len(animals)       \nanimals.remove('cat')    # Remove an element from a set\nprint len(animals)       "
        }, 
        {
            "source": "_Loops_: Iterating over a set has the same syntax as iterating over a list; however since sets are unordered, you cannot make assumptions about the order in which you visit the elements of the set:", 
            "cell_type": "markdown", 
            "metadata": {}
        }, 
        {
            "execution_count": 63, 
            "metadata": {
                "collapsed": false
            }, 
            "outputs": [
                {
                    "text": "#1: fish\n#2: dog\n#3: cat\n", 
                    "name": "stdout", 
                    "output_type": "stream"
                }
            ], 
            "cell_type": "code", 
            "source": "animals = {'cat', 'dog', 'fish'}\nfor idx, animal in enumerate(animals):\n    print '#%d: %s' % (idx + 1, animal)\n# Prints \"#1: fish\", \"#2: dog\", \"#3: cat\""
        }, 
        {
            "source": "Set comprehensions: Like lists and dictionaries, we can easily construct sets using set comprehensions:", 
            "cell_type": "markdown", 
            "metadata": {}
        }, 
        {
            "execution_count": 172, 
            "metadata": {
                "collapsed": false
            }, 
            "outputs": [
                {
                    "text": "set([0, 1, 2, 3, 4, 5])\n", 
                    "name": "stdout", 
                    "output_type": "stream"
                }
            ], 
            "cell_type": "code", 
            "source": "from math import sqrt\nprint {int(sqrt(x)) for x in range(30)}"
        }, 
        {
            "source": "#### Tuples", 
            "cell_type": "markdown", 
            "metadata": {}
        }, 
        {
            "source": "A tuple is an (immutable) ordered list of values. A tuple is in many ways similar to a list; one of the most important differences is that tuples can be used as keys in dictionaries and as elements of sets, while lists cannot. Here is a trivial example:", 
            "cell_type": "markdown", 
            "metadata": {}
        }, 
        {
            "execution_count": 173, 
            "metadata": {
                "collapsed": false
            }, 
            "outputs": [
                {
                    "text": "<type 'tuple'>\n5\n1\n", 
                    "name": "stdout", 
                    "output_type": "stream"
                }
            ], 
            "cell_type": "code", 
            "source": "d = {(x, x + 1): x for x in range(10)}  # Create a dictionary with tuple keys\nt = (5, 6)       # Create a tuple\nprint type(t)\nprint d[t]       \nprint d[(1, 2)]"
        }, 
        {
            "execution_count": 176, 
            "metadata": {
                "collapsed": false
            }, 
            "outputs": [
                {
                    "evalue": "'tuple' object does not support item assignment", 
                    "traceback": [
                        "\u001b[0;31m---------------------------------------------------------------------------\u001b[0m\n\u001b[0;31mTypeError\u001b[0m                                 Traceback (most recent call last)", 
                        "\u001b[0;32m<ipython-input-176-0a69537257d5>\u001b[0m in \u001b[0;36m<module>\u001b[0;34m()\u001b[0m\n\u001b[0;32m----> 1\u001b[0;31m \u001b[0mt\u001b[0m\u001b[0;34m[\u001b[0m\u001b[0;36m0\u001b[0m\u001b[0;34m]\u001b[0m \u001b[0;34m=\u001b[0m \u001b[0;36m1\u001b[0m\u001b[0;34m\u001b[0m\u001b[0m\n\u001b[0m", 
                        "\u001b[0;31mTypeError\u001b[0m: 'tuple' object does not support item assignment"
                    ], 
                    "ename": "TypeError", 
                    "output_type": "error"
                }
            ], 
            "cell_type": "code", 
            "source": "t[0] = 1"
        }, 
        {
            "source": "### Functions", 
            "cell_type": "markdown", 
            "metadata": {}
        }, 
        {
            "source": "Python functions are defined using the `def` keyword. For example:", 
            "cell_type": "markdown", 
            "metadata": {}
        }, 
        {
            "execution_count": 178, 
            "metadata": {
                "collapsed": false
            }, 
            "outputs": [
                {
                    "text": "negative\nzero\npositive\n", 
                    "name": "stdout", 
                    "output_type": "stream"
                }
            ], 
            "cell_type": "code", 
            "source": "def sign(x):\n    if x > 0:\n        return 'positive'\n    elif x < 0:\n        return 'negative'\n    else:\n        return 'zero'\n\nfor x in [-1, 0, 1]:\n    print sign(x)"
        }, 
        {
            "source": "We will often define functions to take optional keyword arguments, like this:", 
            "cell_type": "markdown", 
            "metadata": {}
        }, 
        {
            "execution_count": 179, 
            "metadata": {
                "collapsed": false
            }, 
            "outputs": [
                {
                    "text": "Hello, Bob!\nHELLO, FRED\n", 
                    "name": "stdout", 
                    "output_type": "stream"
                }
            ], 
            "cell_type": "code", 
            "source": "def hello(name, loud=False):\n    if loud:\n        print 'HELLO, %s' % name.upper()\n    else:\n        print 'Hello, %s!' % name\n\nhello('Bob')\nhello('Fred', loud=True)"
        }, 
        {
            "source": "### Classes", 
            "cell_type": "markdown", 
            "metadata": {}
        }, 
        {
            "source": "The syntax for defining classes in Python is straightforward:", 
            "cell_type": "markdown", 
            "metadata": {}
        }, 
        {
            "execution_count": 76, 
            "metadata": {
                "collapsed": false
            }, 
            "outputs": [
                {
                    "text": "Hello, Fred\nHELLO, FRED!\n", 
                    "name": "stdout", 
                    "output_type": "stream"
                }
            ], 
            "cell_type": "code", 
            "source": "class Greeter:\n\n    # Constructor\n    def __init__(self, name):\n        self.name = name  # Create an instance variable\n\n    # Instance method\n    def greet(self, loud=False):\n        if loud:\n            print 'HELLO, %s!' % self.name.upper()\n        else:\n            print 'Hello, %s' % self.name\n\ng = Greeter('Fred')  # Construct an instance of the Greeter class\ng.greet()            # Call an instance method; prints \"Hello, Fred\"\ng.greet(loud=True)   # Call an instance method; prints \"HELLO, FRED!\""
        }, 
        {
            "source": "# External libraries", 
            "cell_type": "markdown", 
            "metadata": {}
        }, 
        {
            "source": "**NumPy** stands for Numerical Python. The most powerful feature of NumPy is n-dimensional array. This library also contains basic linear algebra functions, Fourier transforms,  advanced random number capabilities and tools for integration with other low level languages like Fortran, C and C++\n\n**SciPy** stands for Scientific Python. SciPy is built on NumPy. It is one of the most useful library for variety of high level science and engineering modules like discrete Fourier transform, Linear Algebra, Optimization and Sparse matrices.\n\n**Matplotlib** for plotting vast variety of graphs, starting from histograms to line plots to heat plots.. You can use Pylab feature in ipython notebook (ipython notebook \u2013pylab = inline) to use these plotting features inline. If you ignore the inline option, then pylab converts ipython environment to an environment, very similar to Matlab. You can also use Latex commands to add math to your plot.\n\n**Pandas** for structured data operations and manipulations. It is extensively used for data munging and preparation. Pandas were added relatively recently to Python and have been instrumental in boosting Python\u2019s usage in data scientist community.\n\n**Scikit Learn** for machine learning. Built on NumPy, SciPy and matplotlib, this library contains a lot of effiecient tools for machine learning and statistical modeling including classification, regression, clustering and dimensionality reduction.\n\n**Statsmodels** for statistical modeling. Statsmodels is a Python module that allows users to explore data, estimate statistical models, and perform statistical tests. An extensive list of descriptive statistics, statistical tests, plotting functions, and result statistics are available for different types of data and each estimator.\nSeaborn for statistical data visualization. Seaborn is a library for making attractive and informative statistical graphics in Python. It is based on matplotlib. Seaborn aims to make visualization a central part of exploring and understanding data.\n\n**Bokeh** for creating interactive plots, dashboards and data applications on modern web-browsers. It empowers the user to generate elegant and concise graphics in the style of D3.js. Moreover, it has the capability of high-performance interactivity over very large or streaming datasets.\n\n**Blaz**e for extending the capability of Numpy and Pandas to distributed and streaming datasets. It can be used to access data from a multitude of sources including Bcolz, MongoDB, SQLAlchemy, Apache Spark, PyTables, etc. Together with Bokeh, Blaze can act as a very powerful tool for creating effective visualizations and dashboards on huge chunks of data.\nScrapy for web crawling. It is a very useful framework for getting specific patterns of data. It has the capability to start at a website home url and then dig through web-pages within the website to gather information.\n\n**SymP**y for symbolic computation. It has wide-ranging capabilities from basic symbolic arithmetic to calculus, algebra, discrete mathematics and quantum physics. Another useful feature is the capability of formatting the result of the computations as LaTeX code.\n\n**Requests** for accessing the web. It works similar to the the standard python library urllib2 but is much easier to code. You will find subtle differences with urllib2 but for beginners, Requests might be more convenient.", 
            "cell_type": "markdown", 
            "metadata": {}
        }
    ], 
    "metadata": {
        "language_info": {
            "nbconvert_exporter": "python", 
            "file_extension": ".py", 
            "codemirror_mode": {
                "name": "ipython", 
                "version": 2
            }, 
            "pygments_lexer": "ipython2", 
            "version": "2.7.11", 
            "mimetype": "text/x-python", 
            "name": "python"
        }, 
        "kernelspec": {
            "language": "python", 
            "display_name": "Python 2 with Spark 1.6", 
            "name": "python2"
        }
    }
}