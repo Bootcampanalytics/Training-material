{
    "metadata": {
        "language_info": {
            "file_extension": ".py", 
            "nbconvert_exporter": "python", 
            "mimetype": "text/x-python", 
            "version": "2.7.11", 
            "pygments_lexer": "ipython2", 
            "codemirror_mode": {
                "name": "ipython", 
                "version": 2
            }, 
            "name": "python"
        }, 
        "kernelspec": {
            "name": "python2", 
            "language": "python", 
            "display_name": "Python 2 with Spark 1.6"
        }
    }, 
    "nbformat": 4, 
    "nbformat_minor": 0, 
    "cells": [
        {
            "source": "# In-and export from BigInsights\n\nhttps://developer.ibm.com/hadoop/docs/getting-started/tutorials/big-sql-hadoop-tutorial/", 
            "metadata": {
                "collapsed": true
            }, 
            "cell_type": "markdown"
        }, 
        {
            "execution_count": 1, 
            "source": "!pip install --user ibm_db", 
            "cell_type": "code", 
            "metadata": {
                "scrolled": true, 
                "collapsed": false
            }, 
            "outputs": [
                {
                    "name": "stdout", 
                    "output_type": "stream", 
                    "text": "Collecting ibm-db\n  Downloading ibm_db-2.0.7.tar.gz (553kB)\n\u001b[K    100% |\u2588\u2588\u2588\u2588\u2588\u2588\u2588\u2588\u2588\u2588\u2588\u2588\u2588\u2588\u2588\u2588\u2588\u2588\u2588\u2588\u2588\u2588\u2588\u2588\u2588\u2588\u2588\u2588\u2588\u2588\u2588\u2588| 563kB 1.9MB/s \n\u001b[?25hInstalling collected packages: ibm-db\n  Running setup.py install for ibm-db ... \u001b[?25l-\b \b\\\b \b|\b \b/\b \b-\b \b\\\b \b|\b \b/\b \b-\b \b\\\b \b|\b \b/\b \b-\b \b\\\b \b|\b \b/\b \b-\b \b\\\b \b|\b \b/\b \b-\b \b\\\b \b|\b \b/\b \b-\b \b\\\b \b|\b \bdone\n\u001b[?25hSuccessfully installed ibm-db-2.0.7\n"
                }
            ]
        }, 
        {
            "execution_count": 2, 
            "source": "import ibm_db", 
            "cell_type": "code", 
            "metadata": {
                "collapsed": true
            }, 
            "outputs": []
        }, 
        {
            "source": "Credentials", 
            "metadata": {}, 
            "cell_type": "markdown"
        }, 
        {
            "execution_count": null, 
            "source": "@hidden_cell\n\ncredentials_1 = {\n  'user':'bootcamp',\n  'password':'bootcamp1bootcamp',\n  'database' : 'bigsql',\n  'hostname' : 'iop-bi-master.imdemocloud.com',\n  'port' : '32051'  \n}", 
            "cell_type": "code", 
            "metadata": {
                "collapsed": true
            }, 
            "outputs": []
        }, 
        {
            "execution_count": null, 
            "source": "conn_string = (\n      \"DRIVER={{IBM DB2 ODBC DRIVER}};\"\n      \"DATABASE={0};\"\n      \"HOSTNAME={1};\"\n      \"PORT={2};\"\n      \"PROTOCOL=TCPIP;\"\n      \"UID={3};\"\n      \"PWD={4};\").format(database, hostname, port, username, password);\n\nconn = ibm_db.connect(conn_string, \"\", \"\")", 
            "cell_type": "code", 
            "metadata": {
                "collapsed": true
            }, 
            "outputs": []
        }, 
        {
            "execution_count": null, 
            "source": "query = \"USE \"+username+\";\";\nibm_db.exec_immediate(conn, query);", 
            "cell_type": "code", 
            "metadata": {
                "collapsed": true
            }, 
            "outputs": []
        }, 
        {
            "execution_count": null, 
            "source": "# BigSQL not available in current cloud based BigInsights offering", 
            "cell_type": "code", 
            "metadata": {
                "collapsed": true
            }, 
            "outputs": []
        }
    ]
}