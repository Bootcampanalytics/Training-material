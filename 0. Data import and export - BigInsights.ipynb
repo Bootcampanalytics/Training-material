{
    "cells": [
        {
            "cell_type": "markdown", 
            "metadata": {
                "collapsed": true
            }, 
            "source": "# In-and export from BigInsights\n\nhttps://developer.ibm.com/hadoop/docs/getting-started/tutorials/big-sql-hadoop-tutorial/"
        }, 
        {
            "cell_type": "code", 
            "outputs": [
                {
                    "text": "Collecting ibm-db\n  Downloading ibm_db-2.0.7.tar.gz (553kB)\n\u001b[K    100% |\u2588\u2588\u2588\u2588\u2588\u2588\u2588\u2588\u2588\u2588\u2588\u2588\u2588\u2588\u2588\u2588\u2588\u2588\u2588\u2588\u2588\u2588\u2588\u2588\u2588\u2588\u2588\u2588\u2588\u2588\u2588\u2588| 563kB 1.9MB/s \n\u001b[?25hInstalling collected packages: ibm-db\n  Running setup.py install for ibm-db ... \u001b[?25l-\b \b\\\b \b|\b \b/\b \b-\b \b\\\b \b|\b \b/\b \b-\b \b\\\b \b|\b \b/\b \b-\b \b\\\b \b|\b \b/\b \b-\b \b\\\b \b|\b \b/\b \b-\b \b\\\b \b|\b \b/\b \b-\b \b\\\b \b|\b \bdone\n\u001b[?25hSuccessfully installed ibm-db-2.0.7\n", 
                    "output_type": "stream", 
                    "name": "stdout"
                }
            ], 
            "metadata": {
                "scrolled": true, 
                "collapsed": false
            }, 
            "source": "!pip install --user ibm_db", 
            "execution_count": 1
        }, 
        {
            "cell_type": "code", 
            "outputs": [], 
            "metadata": {
                "collapsed": true
            }, 
            "source": "import ibm_db", 
            "execution_count": 2
        }, 
        {
            "cell_type": "markdown", 
            "metadata": {}, 
            "source": "Credentials"
        }, 
        {
            "cell_type": "code", 
            "outputs": [], 
            "metadata": {
                "collapsed": true
            }, 
            "source": "@hidden_cell\n\ncredentials_1 = {\n  'user':'bootcamp',\n  'password':'bootcamp1bootcamp',\n  'database' : 'bigsql',\n  'hostname' : 'iop-bi-master.imdemocloud.com',\n  'port' : '32051'  \n}", 
            "execution_count": null
        }, 
        {
            "cell_type": "code", 
            "outputs": [], 
            "metadata": {
                "collapsed": true
            }, 
            "source": "conn_string = (\n      \"DRIVER={{IBM DB2 ODBC DRIVER}};\"\n      \"DATABASE={0};\"\n      \"HOSTNAME={1};\"\n      \"PORT={2};\"\n      \"PROTOCOL=TCPIP;\"\n      \"UID={3};\"\n      \"PWD={4};\").format(database, hostname, port, username, password);\n\nconn = ibm_db.connect(conn_string, \"\", \"\")", 
            "execution_count": null
        }, 
        {
            "cell_type": "code", 
            "outputs": [], 
            "metadata": {
                "collapsed": true
            }, 
            "source": "query = \"USE \"+username+\";\";\nibm_db.exec_immediate(conn, query);", 
            "execution_count": null
        }, 
        {
            "cell_type": "code", 
            "outputs": [], 
            "metadata": {
                "collapsed": true
            }, 
            "source": "# BigSQL not available in current cloud based BigInsights offering", 
            "execution_count": null
        }
    ], 
    "nbformat": 4, 
    "metadata": {
        "kernelspec": {
            "display_name": "Python 2 with Spark 1.6", 
            "name": "python2", 
            "language": "python"
        }, 
        "language_info": {
            "mimetype": "text/x-python", 
            "version": "2.7.11", 
            "file_extension": ".py", 
            "name": "python", 
            "pygments_lexer": "ipython2", 
            "nbconvert_exporter": "python", 
            "codemirror_mode": {
                "version": 2, 
                "name": "ipython"
            }
        }
    }, 
    "nbformat_minor": 0
}