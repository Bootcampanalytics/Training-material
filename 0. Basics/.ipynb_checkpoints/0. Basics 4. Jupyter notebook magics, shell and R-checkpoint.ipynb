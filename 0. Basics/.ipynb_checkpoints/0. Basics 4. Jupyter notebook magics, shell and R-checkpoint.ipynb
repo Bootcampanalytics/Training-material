{
 "cells": [
  {
   "cell_type": "markdown",
   "metadata": {
    "collapsed": true
   },
   "source": [
    "# Jupyter notebook magics, shell and R\n",
    "\n",
    "The notebook has built-in commands, referred to as 'magics'\n",
    "To see which magic commands you have available in your interpreter, you can simply run the following:\n",
    "%lsmagic"
   ]
  },
  {
   "cell_type": "code",
   "execution_count": 1,
   "metadata": {
    "collapsed": true
   },
   "outputs": [
    {
     "data": {
      "application/json": {
       "cell": {
        "!": "OSMagics",
        "HTML": "Other",
        "SVG": "Other",
        "bash": "Other",
        "capture": "ExecutionMagics",
        "debug": "ExecutionMagics",
        "file": "Other",
        "html": "DisplayMagics",
        "javascript": "DisplayMagics",
        "js": "DisplayMagics",
        "latex": "DisplayMagics",
        "perl": "Other",
        "prun": "ExecutionMagics",
        "pypy": "Other",
        "python": "Other",
        "python2": "Other",
        "python3": "Other",
        "ruby": "Other",
        "script": "ScriptMagics",
        "sh": "Other",
        "svg": "DisplayMagics",
        "sx": "OSMagics",
        "system": "OSMagics",
        "time": "ExecutionMagics",
        "timeit": "ExecutionMagics",
        "writefile": "OSMagics"
       },
       "line": {
        "alias": "OSMagics",
        "alias_magic": "BasicMagics",
        "autocall": "AutoMagics",
        "automagic": "AutoMagics",
        "autosave": "KernelMagics",
        "bookmark": "OSMagics",
        "cat": "Other",
        "cd": "OSMagics",
        "clear": "KernelMagics",
        "colors": "BasicMagics",
        "config": "ConfigMagics",
        "connect_info": "KernelMagics",
        "cp": "Other",
        "debug": "ExecutionMagics",
        "dhist": "OSMagics",
        "dirs": "OSMagics",
        "doctest_mode": "BasicMagics",
        "ed": "Other",
        "edit": "KernelMagics",
        "env": "OSMagics",
        "gui": "BasicMagics",
        "hist": "Other",
        "history": "HistoryMagics",
        "killbgscripts": "ScriptMagics",
        "ldir": "Other",
        "less": "KernelMagics",
        "lf": "Other",
        "lk": "Other",
        "ll": "Other",
        "load": "CodeMagics",
        "load_ext": "ExtensionMagics",
        "loadpy": "CodeMagics",
        "logoff": "LoggingMagics",
        "logon": "LoggingMagics",
        "logstart": "LoggingMagics",
        "logstate": "LoggingMagics",
        "logstop": "LoggingMagics",
        "ls": "Other",
        "lsmagic": "BasicMagics",
        "lx": "Other",
        "macro": "ExecutionMagics",
        "magic": "BasicMagics",
        "man": "KernelMagics",
        "matplotlib": "PylabMagics",
        "mkdir": "Other",
        "more": "KernelMagics",
        "mv": "Other",
        "notebook": "BasicMagics",
        "page": "BasicMagics",
        "pastebin": "CodeMagics",
        "pdb": "ExecutionMagics",
        "pdef": "NamespaceMagics",
        "pdoc": "NamespaceMagics",
        "pfile": "NamespaceMagics",
        "pinfo": "NamespaceMagics",
        "pinfo2": "NamespaceMagics",
        "popd": "OSMagics",
        "pprint": "BasicMagics",
        "precision": "BasicMagics",
        "profile": "BasicMagics",
        "prun": "ExecutionMagics",
        "psearch": "NamespaceMagics",
        "psource": "NamespaceMagics",
        "pushd": "OSMagics",
        "pwd": "OSMagics",
        "pycat": "OSMagics",
        "pylab": "PylabMagics",
        "qtconsole": "KernelMagics",
        "quickref": "BasicMagics",
        "recall": "HistoryMagics",
        "rehashx": "OSMagics",
        "reload_ext": "ExtensionMagics",
        "rep": "Other",
        "rerun": "HistoryMagics",
        "reset": "NamespaceMagics",
        "reset_selective": "NamespaceMagics",
        "rm": "Other",
        "rmdir": "Other",
        "run": "ExecutionMagics",
        "save": "CodeMagics",
        "sc": "OSMagics",
        "set_env": "OSMagics",
        "store": "StoreMagics",
        "sx": "OSMagics",
        "system": "OSMagics",
        "tb": "ExecutionMagics",
        "time": "ExecutionMagics",
        "timeit": "ExecutionMagics",
        "unalias": "OSMagics",
        "unload_ext": "ExtensionMagics",
        "who": "NamespaceMagics",
        "who_ls": "NamespaceMagics",
        "whos": "NamespaceMagics",
        "xdel": "NamespaceMagics",
        "xmode": "BasicMagics"
       }
      },
      "text/plain": [
       "Available line magics:\n",
       "%alias  %alias_magic  %autocall  %automagic  %autosave  %bookmark  %cat  %cd  %clear  %colors  %config  %connect_info  %cp  %debug  %dhist  %dirs  %doctest_mode  %ed  %edit  %env  %gui  %hist  %history  %killbgscripts  %ldir  %less  %lf  %lk  %ll  %load  %load_ext  %loadpy  %logoff  %logon  %logstart  %logstate  %logstop  %ls  %lsmagic  %lx  %macro  %magic  %man  %matplotlib  %mkdir  %more  %mv  %notebook  %page  %pastebin  %pdb  %pdef  %pdoc  %pfile  %pinfo  %pinfo2  %popd  %pprint  %precision  %profile  %prun  %psearch  %psource  %pushd  %pwd  %pycat  %pylab  %qtconsole  %quickref  %recall  %rehashx  %reload_ext  %rep  %rerun  %reset  %reset_selective  %rm  %rmdir  %run  %save  %sc  %set_env  %store  %sx  %system  %tb  %time  %timeit  %unalias  %unload_ext  %who  %who_ls  %whos  %xdel  %xmode\n",
       "\n",
       "Available cell magics:\n",
       "%%!  %%HTML  %%SVG  %%bash  %%capture  %%debug  %%file  %%html  %%javascript  %%js  %%latex  %%perl  %%prun  %%pypy  %%python  %%python2  %%python3  %%ruby  %%script  %%sh  %%svg  %%sx  %%system  %%time  %%timeit  %%writefile\n",
       "\n",
       "Automagic is ON, % prefix IS NOT needed for line magics."
      ]
     },
     "execution_count": 1,
     "metadata": {},
     "output_type": "execute_result"
    }
   ],
   "source": [
    "%lsmagic"
   ]
  },
  {
   "cell_type": "markdown",
   "metadata": {},
   "source": [
    "You can use the magic command %quickref to show a quick reference sheet for IPython.\n",
    "And you'll see a whole bunch of them appearing. You'll probably see some magics commands that you'll grasp, such as %save, %clear or %debug, but others will be less straightforward."
   ]
  },
  {
   "cell_type": "code",
   "execution_count": 3,
   "metadata": {
    "collapsed": true
   },
   "outputs": [],
   "source": [
    "%quickref"
   ]
  },
  {
   "cell_type": "markdown",
   "metadata": {},
   "source": [
    "# shell access\n",
    "\n",
    "If you want to install packages, you can also execute these commands as shell commands from inside your notebook by placing a ! in front of the commands, just like this:"
   ]
  },
  {
   "cell_type": "code",
   "execution_count": 5,
   "metadata": {
    "collapsed": true
   },
   "outputs": [
    {
     "name": "stdout",
     "output_type": "stream",
     "text": [
      "appdirs (1.4.0)\n",
      "backports-abc (0.5)\n",
      "bleach (1.5.0)\n",
      "certifi (2017.1.23)\n",
      "cloudant (2.3.1)\n",
      "decorator (4.0.11)\n",
      "Django (1.10.5)\n",
      "enum34 (1.1.6)\n",
      "fsdir (0.8.4)\n",
      "html5lib (0.9999999)\n",
      "ibm-db (2.0.7)\n",
      "image (1.5.5)\n",
      "ipykernel (4.5.2)\n",
      "ipython (5.2.2)\n",
      "ipywidgets (5.2.2)\n",
      "Jinja2 (2.9.5)\n",
      "jsonschema (2.6.0)\n",
      "jupyter (1.0.0)\n",
      "jupyter-client (4.4.0)\n",
      "jupyter-console (5.1.0)\n",
      "jupyter-contrib-core (0.3.0)\n",
      "jupyter-contrib-nbextensions (0.2.4)\n",
      "jupyter-core (4.2.1)\n",
      "jupyter-dashboards (0.6.1)\n",
      "jupyter-highlight-selected-word (0.0.8)\n",
      "jupyter-latex-envs (1.3.7.1)\n",
      "jupyter-nbextensions-configurator (0.2.3)\n",
      "lime (0.1.1.18)\n",
      "mistune (0.7.3)\n",
      "nbconvert (5.1.1)\n",
      "nbformat (4.2.0)\n",
      "notebook (4.3.2)\n",
      "packaging (16.8)\n",
      "pandocfilters (1.4.1)\n",
      "pathlib2 (2.2.1)\n",
      "pexpect (4.2.1)\n",
      "pickleshare (0.7.4)\n",
      "prompt-toolkit (1.0.13)\n",
      "psutil (5.1.3)\n",
      "ptyprocess (0.5.1)\n",
      "Pygments (2.2.0)\n",
      "pyparsing (2.1.10)\n",
      "pyzmq (16.0.2)\n",
      "qtconsole (4.2.1)\n",
      "scandir (1.4)\n",
      "scikit-learn (0.18.1)\n",
      "setuptools (34.1.1)\n",
      "terminado (0.6)\n",
      "testpath (0.3)\n",
      "tornado (4.4.2)\n",
      "tqdm (4.11.2)\n",
      "traitlets (4.3.1)\n",
      "unicodecsv (0.14.1)\n",
      "wcwidth (0.1.7)\n",
      "widgetsnbextension (1.2.6)\n",
      "xgboost (0.6a2)\n",
      "Collecting ipython-sql\n",
      "  Downloading ipython-sql-0.3.8.tar.gz\n",
      "Requirement already satisfied (use --upgrade to upgrade): prettytable in /usr/local/src/bluemix_jupyter_bundle.v33/notebook/lib/python2.7/site-packages (from ipython-sql)\n",
      "Requirement already satisfied (use --upgrade to upgrade): ipython>=1.0 in /gpfs/global_fs01/sym_shared/YPProdSpark/user/s16e-7918d85e6de098-7a7840b6cba3/.local/lib/python2.7/site-packages (from ipython-sql)\n",
      "Collecting sqlalchemy>=0.6.7 (from ipython-sql)\n",
      "  Downloading SQLAlchemy-1.1.5.tar.gz (5.1MB)\n",
      "\u001b[K    100% |████████████████████████████████| 5.1MB 222kB/s \n",
      "\u001b[?25hCollecting sqlparse (from ipython-sql)\n",
      "  Downloading sqlparse-0.2.2-py2.py3-none-any.whl\n",
      "Requirement already satisfied (use --upgrade to upgrade): six in /usr/local/src/bluemix_jupyter_bundle.v33/notebook/lib/python2.7/site-packages (from ipython-sql)\n",
      "Requirement already satisfied (use --upgrade to upgrade): ipython-genutils>=0.1.0 in /usr/local/src/bluemix_jupyter_bundle.v33/notebook/lib/python2.7/site-packages (from ipython-sql)\n",
      "Requirement already satisfied (use --upgrade to upgrade): pygments in /gpfs/global_fs01/sym_shared/YPProdSpark/user/s16e-7918d85e6de098-7a7840b6cba3/.local/lib/python2.7/site-packages (from ipython>=1.0->ipython-sql)\n",
      "Requirement already satisfied (use --upgrade to upgrade): pexpect in /gpfs/global_fs01/sym_shared/YPProdSpark/user/s16e-7918d85e6de098-7a7840b6cba3/.local/lib/python2.7/site-packages (from ipython>=1.0->ipython-sql)\n",
      "Requirement already satisfied (use --upgrade to upgrade): pickleshare in /gpfs/global_fs01/sym_shared/YPProdSpark/user/s16e-7918d85e6de098-7a7840b6cba3/.local/lib/python2.7/site-packages (from ipython>=1.0->ipython-sql)\n",
      "Requirement already satisfied (use --upgrade to upgrade): simplegeneric>0.8 in /usr/local/src/bluemix_jupyter_bundle.v33/notebook/lib/python2.7/site-packages (from ipython>=1.0->ipython-sql)\n",
      "Requirement already satisfied (use --upgrade to upgrade): backports.shutil-get-terminal-size in /usr/local/src/bluemix_jupyter_bundle.v33/notebook/lib/python2.7/site-packages (from ipython>=1.0->ipython-sql)\n",
      "Requirement already satisfied (use --upgrade to upgrade): traitlets>=4.2 in /gpfs/global_fs01/sym_shared/YPProdSpark/user/s16e-7918d85e6de098-7a7840b6cba3/.local/lib/python2.7/site-packages (from ipython>=1.0->ipython-sql)\n",
      "Requirement already satisfied (use --upgrade to upgrade): setuptools>=18.5 in /gpfs/global_fs01/sym_shared/YPProdSpark/user/s16e-7918d85e6de098-7a7840b6cba3/.local/lib/python2.7/site-packages (from ipython>=1.0->ipython-sql)\n",
      "Requirement already satisfied (use --upgrade to upgrade): decorator in /gpfs/global_fs01/sym_shared/YPProdSpark/user/s16e-7918d85e6de098-7a7840b6cba3/.local/lib/python2.7/site-packages (from ipython>=1.0->ipython-sql)\n",
      "Requirement already satisfied (use --upgrade to upgrade): prompt-toolkit<2.0.0,>=1.0.4 in /gpfs/global_fs01/sym_shared/YPProdSpark/user/s16e-7918d85e6de098-7a7840b6cba3/.local/lib/python2.7/site-packages (from ipython>=1.0->ipython-sql)\n",
      "Requirement already satisfied (use --upgrade to upgrade): pathlib2 in /gpfs/global_fs01/sym_shared/YPProdSpark/user/s16e-7918d85e6de098-7a7840b6cba3/.local/lib/python2.7/site-packages (from ipython>=1.0->ipython-sql)\n",
      "Requirement already satisfied (use --upgrade to upgrade): ptyprocess>=0.5 in /gpfs/global_fs01/sym_shared/YPProdSpark/user/s16e-7918d85e6de098-7a7840b6cba3/.local/lib/python2.7/site-packages (from pexpect->ipython>=1.0->ipython-sql)\n",
      "Requirement already satisfied (use --upgrade to upgrade): enum34 in /gpfs/global_fs01/sym_shared/YPProdSpark/user/s16e-7918d85e6de098-7a7840b6cba3/.local/lib/python2.7/site-packages (from traitlets>=4.2->ipython>=1.0->ipython-sql)\n",
      "Requirement already satisfied (use --upgrade to upgrade): packaging>=16.8 in /gpfs/global_fs01/sym_shared/YPProdSpark/user/s16e-7918d85e6de098-7a7840b6cba3/.local/lib/python2.7/site-packages (from setuptools>=18.5->ipython>=1.0->ipython-sql)\n",
      "Requirement already satisfied (use --upgrade to upgrade): appdirs>=1.4.0 in /gpfs/global_fs01/sym_shared/YPProdSpark/user/s16e-7918d85e6de098-7a7840b6cba3/.local/lib/python2.7/site-packages (from setuptools>=18.5->ipython>=1.0->ipython-sql)\n",
      "Requirement already satisfied (use --upgrade to upgrade): wcwidth in /gpfs/global_fs01/sym_shared/YPProdSpark/user/s16e-7918d85e6de098-7a7840b6cba3/.local/lib/python2.7/site-packages (from prompt-toolkit<2.0.0,>=1.0.4->ipython>=1.0->ipython-sql)\n",
      "Requirement already satisfied (use --upgrade to upgrade): scandir in /gpfs/global_fs01/sym_shared/YPProdSpark/user/s16e-7918d85e6de098-7a7840b6cba3/.local/lib/python2.7/site-packages (from pathlib2->ipython>=1.0->ipython-sql)\n",
      "Requirement already satisfied (use --upgrade to upgrade): pyparsing in /gpfs/global_fs01/sym_shared/YPProdSpark/user/s16e-7918d85e6de098-7a7840b6cba3/.local/lib/python2.7/site-packages (from packaging>=16.8->setuptools>=18.5->ipython>=1.0->ipython-sql)\n",
      "Installing collected packages: sqlalchemy, sqlparse, ipython-sql\n",
      "  Running setup.py install for sqlalchemy ... \u001b[?25l-\b \b\\\b \b|\b \b/\b \b-\b \b\\\b \b|\b \b/\b \b-\b \b\\\b \b|\b \b/\b \b-\b \b\\\b \b|\b \b/\b \b-\b \b\\\b \b|\b \b/\b \bdone\n",
      "\u001b[?25h  Running setup.py install for ipython-sql ... \u001b[?25l-\b \bdone\n",
      "\u001b[?25hSuccessfully installed ipython-sql-0.3.8 sqlalchemy-1.1.5 sqlparse-0.2.2\n",
      "10MB\t\tdialogs\t\t\t img.png\t  ubuntu_dialogs.tgz\n",
      "10MB.zip\tenron\t\t\t output_file\n",
      "data_train.csv\tenron_mail_20150507.tgz  random_data.csv\n"
     ]
    }
   ],
   "source": [
    "# Check, manage and install packages\n",
    "!pip list\n",
    "!pip install ipython-sql\n",
    "\n",
    "# Check the files in your working directory\n",
    "!ls"
   ]
  },
  {
   "cell_type": "code",
   "execution_count": null,
   "metadata": {
    "collapsed": true
   },
   "outputs": [],
   "source": [
    "# %% multi line magics"
   ]
  },
  {
   "cell_type": "code",
   "execution_count": 9,
   "metadata": {
    "collapsed": false
   },
   "outputs": [
    {
     "name": "stdout",
     "output_type": "stream",
     "text": [
      "10MB\t\tdialogs\t\t\t img.png\t  ubuntu_dialogs.tgz\n",
      "10MB.zip\tenron\t\t\t output_file\n",
      "data_train.csv\tenron_mail_20150507.tgz  random_data.csv\n",
      "---------------\n",
      "background_jobs.db  jupyter-data  logs\t       process-info  tmp\n",
      "downloads\t    jupyter-rt\t  process-ids  spark-config  work\n"
     ]
    }
   ],
   "source": [
    "%%bash\n",
    "dir\n",
    "cd ..\n",
    "echo ---------------\n",
    "dir"
   ]
  },
  {
   "cell_type": "markdown",
   "metadata": {},
   "source": [
    "# mixing Python and R\n",
    "\n",
    "## not working"
   ]
  },
  {
   "cell_type": "code",
   "execution_count": 21,
   "metadata": {
    "collapsed": false,
    "scrolled": true
   },
   "outputs": [
    {
     "name": "stdout",
     "output_type": "stream",
     "text": [
      "Collecting rpy2\n",
      "  Using cached rpy2-2.8.5.tar.gz\n",
      "    Complete output from command python setup.py egg_info:\n",
      "    Error: Tried to guess R's HOME but no command 'R' in the PATH.\n",
      "    \n",
      "    ----------------------------------------\n",
      "\u001b[31mCommand \"python setup.py egg_info\" failed with error code 1 in /gpfs/global_fs01/sym_shared/YPProdSpark/user/s16e-7918d85e6de098-7a7840b6cba3/notebook/tmp/pip-build-QITJ76/rpy2/\u001b[0m\n"
     ]
    }
   ],
   "source": [
    "!pip install rpy2 "
   ]
  },
  {
   "cell_type": "code",
   "execution_count": 19,
   "metadata": {
    "collapsed": false
   },
   "outputs": [
    {
     "name": "stderr",
     "output_type": "stream",
     "text": [
      "ERROR:root:Line magic function `%R` not found.\n"
     ]
    },
    {
     "name": "stdout",
     "output_type": "stream",
     "text": [
      "The rmagic extension is already loaded. To reload it, use:\n",
      "  %reload_ext rmagic\n"
     ]
    }
   ],
   "source": [
    "# Hide warnings if there are any\n",
    "#import warnings\n",
    "#warnings.filterwarnings('ignore')\n",
    "\n",
    "# Load in the r magic\n",
    "%load_ext rmagic\n",
    "\n",
    "\n",
    "# We need ggplot2\n",
    "%%R require(ggplot2)\n",
    "\n",
    "# Load in the pandas library\n",
    "import pandas as pd\n",
    "\n",
    "# Make a pandas DataFrame\n",
    "df = pd.DataFrame({'Alphabet': ['a', 'b', 'c', 'd','e', 'f', 'g', 'h','i'],\n",
    "                   'A': [4, 3, 5, 2, 1, 7, 7, 5, 9],\n",
    "                   'B': [0, 4, 3, 6, 7, 10, 11, 9, 13],\n",
    "                   'C': [1, 2, 3, 1, 2, 3, 1, 2, 3]})\n",
    "\n",
    "# Take the name of input variable df and assign it to an R variable of the same name\n"
   ]
  },
  {
   "cell_type": "markdown",
   "metadata": {},
   "source": [
    "# installing "
   ]
  },
  {
   "cell_type": "code",
   "execution_count": 3,
   "metadata": {
    "collapsed": false
   },
   "outputs": [
    {
     "name": "stdout",
     "output_type": "stream",
     "text": [
      "Requirement already up-to-date: sklearn in /anaconda/lib/python3.5/site-packages\n",
      "Requirement already up-to-date: scikit-learn in /anaconda/lib/python3.5/site-packages (from sklearn)\n",
      "Requirement already up-to-date: scikit-plot in /anaconda/lib/python3.5/site-packages\n",
      "Requirement already up-to-date: matplotlib>=1.3.1 in /anaconda/lib/python3.5/site-packages (from scikit-plot)\n",
      "Requirement already up-to-date: scikit-learn>=0.18 in /anaconda/lib/python3.5/site-packages (from scikit-plot)\n",
      "Requirement already up-to-date: scipy>=0.9 in /anaconda/lib/python3.5/site-packages (from scikit-plot)\n",
      "Requirement already up-to-date: python-dateutil in /anaconda/lib/python3.5/site-packages (from matplotlib>=1.3.1->scikit-plot)\n",
      "Requirement already up-to-date: numpy>=1.7.1 in /anaconda/lib/python3.5/site-packages (from matplotlib>=1.3.1->scikit-plot)\n",
      "Requirement already up-to-date: cycler>=0.10 in /anaconda/lib/python3.5/site-packages (from matplotlib>=1.3.1->scikit-plot)\n",
      "Requirement already up-to-date: six>=1.10 in /anaconda/lib/python3.5/site-packages (from matplotlib>=1.3.1->scikit-plot)\n",
      "Requirement already up-to-date: pyparsing!=2.0.0,!=2.0.4,!=2.1.2,!=2.1.6,>=1.5.6 in /anaconda/lib/python3.5/site-packages (from matplotlib>=1.3.1->scikit-plot)\n",
      "Requirement already up-to-date: pytz in /anaconda/lib/python3.5/site-packages (from matplotlib>=1.3.1->scikit-plot)\n"
     ]
    }
   ],
   "source": [
    "!pip install sklearn --upgrade\n",
    "!pip install scikit-plot --upgrade"
   ]
  },
  {
   "cell_type": "code",
   "execution_count": 4,
   "metadata": {
    "collapsed": false
   },
   "outputs": [
    {
     "data": {
      "image/png": "[encoded data removed]",
      "text/plain": [
       "<matplotlib.figure.Figure at 0x1054331d0>"
      ]
     },
     "metadata": {},
     "output_type": "display_data"
    }
   ],
   "source": [
    "%matplotlib inline \n",
    "\n",
    "from sklearn.datasets import load_digits as load_data\n",
    "from sklearn.naive_bayes import GaussianNB\n",
    "\n",
    "# This is all that's needed for scikit-plot\n",
    "import matplotlib.pyplot as plt\n",
    "from scikitplot import classifier_factory\n",
    "\n",
    "X, y = load_data(return_X_y=True)\n",
    "nb = GaussianNB()\n",
    "classifier_factory(nb)\n",
    "nb.plot_roc_curve(X, y, random_state=1)\n",
    "plt.show()"
   ]
  }
 ],
 "metadata": {
  "anaconda-cloud": {},
  "kernelspec": {
   "display_name": "Python [conda root]",
   "language": "python",
   "name": "conda-root-py"
  },
  "language_info": {
   "codemirror_mode": {
    "name": "ipython",
    "version": 3
   },
   "file_extension": ".py",
   "mimetype": "text/x-python",
   "name": "python",
   "nbconvert_exporter": "python",
   "pygments_lexer": "ipython3",
   "version": "3.5.2"
  }
 },
 "nbformat": 4,
 "nbformat_minor": 0
}
