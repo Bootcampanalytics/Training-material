{
 "cells": [
  {
   "cell_type": "markdown",
   "metadata": {},
   "source": [
    "# Moon phases"
   ]
  },
  {
   "cell_type": "markdown",
   "metadata": {
    "collapsed": false,
    "scrolled": false
   },
   "source": [
    "# This site contains the moon phases \n",
    "### http://aa.usno.navy.mil/data/docs/MoonFraction.php\n",
    "    \n",
    "# Download this data and convert in the appropriate format (think about what appropriate means)    \n",
    "### http://aa.usno.navy.mil/cgi-bin/aa_moonill2.pl?form=1&year=2017&task=00&tz=-05"
   ]
  }
 ],
 "metadata": {
  "anaconda-cloud": {},
  "kernelspec": {
   "display_name": "Python [conda root]",
   "language": "python",
   "name": "conda-root-py"
  },
  "language_info": {
   "codemirror_mode": {
    "name": "ipython",
    "version": 2
   },
   "file_extension": ".py",
   "mimetype": "text/x-python",
   "name": "python",
   "nbconvert_exporter": "python",
   "pygments_lexer": "ipython2",
   "version": "2.7.12"
  }
 },
 "nbformat": 4,
 "nbformat_minor": 1
}
