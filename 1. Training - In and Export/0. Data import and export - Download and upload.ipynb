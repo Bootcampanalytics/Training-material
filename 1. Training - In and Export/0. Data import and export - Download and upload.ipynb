{
    "nbformat": 4, 
    "nbformat_minor": 0, 
    "cells": [
        {
            "source": "# In-and export from url\n\nhttp://stackoverflow.com/questions/22676/how-do-i-download-a-file-over-http-using-python\n", 
            "cell_type": "markdown", 
            "metadata": {}
        }, 
        {
            "execution_count": 21, 
            "metadata": {
                "collapsed": true
            }, 
            "outputs": [
                {
                    "text": "Requirement already satisfied (use --upgrade to upgrade): tqdm in /gpfs/global_fs01/sym_shared/YPProdSpark/user/s16e-7918d85e6de098-7a7840b6cba3/.local/lib/python2.7/site-packages\nCollecting Image\n  Downloading image-1.5.5.tar.gz\nRequirement already satisfied (use --upgrade to upgrade): pillow in /usr/local/src/bluemix_jupyter_bundle.v33/notebook/lib/python2.7/site-packages (from Image)\nCollecting django (from Image)\n  Downloading Django-1.10.5-py2.py3-none-any.whl (6.8MB)\n\u001b[K    100% |\u2588\u2588\u2588\u2588\u2588\u2588\u2588\u2588\u2588\u2588\u2588\u2588\u2588\u2588\u2588\u2588\u2588\u2588\u2588\u2588\u2588\u2588\u2588\u2588\u2588\u2588\u2588\u2588\u2588\u2588\u2588\u2588| 6.8MB 171kB/s \n\u001b[?25hInstalling collected packages: django, Image\n  Running setup.py install for Image ... \u001b[?25l-\b \b\\\b \bdone\n\u001b[?25hSuccessfully installed Image-1.5.5 django-1.10.5\n", 
                    "name": "stdout", 
                    "output_type": "stream"
                }
            ], 
            "cell_type": "code", 
            "source": "!pip install tqdm"
        }, 
        {
            "execution_count": 1, 
            "metadata": {
                "collapsed": true
            }, 
            "outputs": [], 
            "cell_type": "code", 
            "source": "import urllib\nfrom tqdm import tqdm\nimport requests\nfrom requests.auth import HTTPDigestAuth\nimport json\nimport os"
        }, 
        {
            "execution_count": 2, 
            "metadata": {
                "collapsed": false
            }, 
            "outputs": [
                {
                    "data": {
                        "text/plain": "('10MB.zip', <httplib.HTTPMessage instance at 0x7f302421dd40>)"
                    }, 
                    "execution_count": 2, 
                    "output_type": "execute_result", 
                    "metadata": {}
                }
            ], 
            "cell_type": "code", 
            "source": "#simplest version\nurllib.urlretrieve (\"http://download.thinkbroadband.com/10MB.zip\", \"10MB.zip\")"
        }, 
        {
            "execution_count": null, 
            "metadata": {
                "collapsed": true
            }, 
            "outputs": [], 
            "cell_type": "code", 
            "source": "# Python 3 variant:\n\nfrom requests import get  \ndef download(url, file_name):\n    # open in binary mode\n    with open(file_name, \"wb\") as file:\n        # get request\n        response = get(url)\n        # write to file\n        file.write(response.content)\n"
        }, 
        {
            "execution_count": null, 
            "metadata": {
                "collapsed": true
            }, 
            "outputs": [], 
            "cell_type": "code", 
            "source": "url = \"http://download.thinkbroadband.com/10MB.zip\"\nresponse = requests.get(url, stream=True)\n\nwith open(\"10MB\", \"wb\") as handle:\n    for data in tqdm(response.iter_content()):\n        handle.write(data)"
        }, 
        {
            "execution_count": 13, 
            "metadata": {
                "collapsed": false, 
                "scrolled": true
            }, 
            "outputs": [
                {
                    "text": "200\n{\"type\": \"success\", \"value\": {\"joke\": \"Chuck Norris doesn't read books. He stares them down until he gets the information he wants.\", \"id\": 3, \"categories\": []}}\n", 
                    "name": "stdout", 
                    "output_type": "stream"
                }
            ], 
            "cell_type": "code", 
            "source": "# get data from an api call\n\n# visit http://www.icndb.com/api/ to see other options to quesry the Chuck norris jokes database\nurl = \"http://api.icndb.com/jokes/random\"\n\n# It is a good practice not to hardcode the credentials. So ask the user to enter credentials at runtime\nmyResponse = requests.get(url)\n#myResponse = requests.get(url,auth=HTTPDigestAuth(raw_input(\"username: \"), raw_input(\"Password: \")), verify=True)\nprint (myResponse.status_code)\n# For successful API call, response code will be 200 (OK)\n\njData = json.loads(myResponse.content)\nprint json.dumps(jData)\n"
        }, 
        {
            "execution_count": 18, 
            "metadata": {
                "collapsed": false
            }, 
            "outputs": [
                {
                    "text": "<Response [200]>\n", 
                    "name": "stdout", 
                    "output_type": "stream"
                }
            ], 
            "cell_type": "code", 
            "source": "#uploading data\n\nwith open('output_file', 'wb') as fout:\n    fout.write(os.urandom(1024)) \n\nr = requests.post('http://httpbin.org/post', files={'output_file': open('output_file', 'rb')})\nprint r"
        }
    ], 
    "metadata": {
        "language_info": {
            "nbconvert_exporter": "python", 
            "file_extension": ".py", 
            "codemirror_mode": {
                "name": "ipython", 
                "version": 2
            }, 
            "pygments_lexer": "ipython2", 
            "version": "2.7.11", 
            "mimetype": "text/x-python", 
            "name": "python"
        }, 
        "kernelspec": {
            "language": "python", 
            "display_name": "Python 2 with Spark 1.6", 
            "name": "python2"
        }
    }
}