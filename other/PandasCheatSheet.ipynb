{
 "cells": [
  {
   "cell_type": "markdown",
   "metadata": {},
   "source": [
    "<a id=\"top\"></a>"
   ]
  },
  {
   "cell_type": "markdown",
   "metadata": {},
   "source": [
    "<center><h1>Python <a href=\"http://pandas.pydata.org/pandas-docs/stable/\">Pandas</a> Cheat Sheet</h1></center>"
   ]
  },
  {
   "cell_type": "markdown",
   "metadata": {},
   "source": [
    "As a data analyst, these are common tasks I perform using Pandas"
   ]
  },
  {
   "cell_type": "markdown",
   "metadata": {},
   "source": [
    "- [Pandas display output options](#options)\n",
    "- [Quick summary statistics, # of rows, columns, etc](#quick_summary)\n",
    "- [Sorting More Than One Column](#sorting)\n",
    "- [Removing duplicates](#removing_duplicates)\n",
    "- [Creating a column based on values from another column](#map)\n",
    "- [Removing a column](#remove_column)\n",
    "- [Replacing values in a series](#replacing_values)\n",
    "- [Reading CSV or Excel files](http://pandas.pydata.org/pandas-docs/stable/io.html)\n",
    "- [Renaming axis](#renaming_axis)\n",
    "- [Renaming indexes or columns](#renaming_indexes_columns)\n",
    "- [Binning data into intervals](#binning)\n",
    "- [Grouping data](#group)\n",
    "- [Sub-selecting or Slicing a Data Frame](#slicing)\n",
    "- [Boolean indexing](#boolean)\n",
    "- [Obtaining columns with partial column labels](#partial_column_labels)\n",
    "- [Getting value counts](#value_counts)\n",
    "- [Getting cumulative sum](#cum_sum)\n",
    "- [Pivot table](#pivot_table)\n",
    "- [Creating a new column based on a grouping using transform() method](#transform)\n",
    "- [Pivot table Percent of Rows](#perc_rows)\n",
    "- [Pivot table Percent of Columns](#perc_columns)\n",
    "- [Transpose a data frame](#transpose)\n",
    "- [Converting index to a column](#index2column)\n",
    "- [Converting column to index](#column2index)\n",
    "- [How to add or fill in missing dates](#missing_dates)\n",
    "- [How to connect to an ODBC data source (Windows)](#database)\n",
    "- [How to convert data in wide format to long format using melt()](#melt)\n",
    "- [How to convert data in long format data to wide format using pivot()](#pivot)\n",
    "- [Using category data type to control sort order](#category)\n",
    "- [Merging 2 data frames using merge()](#merge)\n",
    "- [Finding rows containing data with missing values](#missing)\n",
    "- [Converting a data type of a column in a data frame](#convert_type)\n",
    "- [Plotting data frames using MATPLOTLIB ver 1.5+](#matplotlib)\n",
    "- [Plotting data frame directly and creating sub-plots](#subplots)\n",
    "- [Creating a Bokeh chart from a Data Frame](#bokeh)\n",
    "- [Making plotly charts directly from data frame](#plotly)\n",
    "- [Method chaining](#chaining)\n",
    "- [Sending Pandas data frame to R using rpy2 IPython notebook extension](#rpy2)\n",
    "- [Python clone of R's dplyr](http://nbviewer.jupyter.org/github/pybokeh/jupyter_notebooks/blob/master/dplython/dplython_example.ipynb)\n",
    "- [BONUS #1: A HUGE list of python and pandas snippets by Chris Albon](http://chrisalbon.com/)\n",
    "- [BONUS #2: More goodies from a major pandas contributor, Tom Augspurger](http://tomaugspurger.github.io/)"
   ]
  },
  {
   "cell_type": "markdown",
   "metadata": {},
   "source": [
    "<a id='options'></a>"
   ]
  },
  {
   "cell_type": "markdown",
   "metadata": {},
   "source": [
    "### Setting display output [options](http://pandas.pydata.org/pandas-docs/stable/generated/pandas.set_option.html)"
   ]
  },
  {
   "cell_type": "markdown",
   "metadata": {},
   "source": [
    "[[back to top](#top)]"
   ]
  },
  {
   "cell_type": "code",
   "execution_count": 70,
   "metadata": {
    "collapsed": false,
    "run_control": {
     "read_only": false
    }
   },
   "outputs": [],
   "source": [
    "import pandas as pd\n",
    "pd.set_option(\"display.max_rows\",1000)    # or pd.options.display.max_rows=1000\n",
    "pd.set_option(\"display.max_columns\",20)   # or pd.options.display.max_columns=20 \n",
    "pd.set_option('precision',7)\n",
    "pd.set_option('large_repr', 'truncate')"
   ]
  },
  {
   "cell_type": "markdown",
   "metadata": {},
   "source": [
    "<a id=\"quick_summary\">"
   ]
  },
  {
   "cell_type": "markdown",
   "metadata": {},
   "source": [
    "### Quick summary statistics using df.describe() and data types using df.info().  Also check out [pandas-summary](https://github.com/mouradmourafiq/pandas-summary) - an extension for data frame's describe() method."
   ]
  },
  {
   "cell_type": "markdown",
   "metadata": {},
   "source": [
    "[[back to top]](#top)"
   ]
  },
  {
   "cell_type": "code",
   "execution_count": 4,
   "metadata": {
    "collapsed": false,
    "run_control": {
     "read_only": false
    }
   },
   "outputs": [
    {
     "data": {
      "text/html": [
       "<div>\n",
       "<table border=\"1\" class=\"dataframe\">\n",
       "  <thead>\n",
       "    <tr style=\"text-align: right;\">\n",
       "      <th></th>\n",
       "      <th>group</th>\n",
       "      <th>ounces</th>\n",
       "    </tr>\n",
       "  </thead>\n",
       "  <tbody>\n",
       "    <tr>\n",
       "      <th>0</th>\n",
       "      <td>a</td>\n",
       "      <td>4.0</td>\n",
       "    </tr>\n",
       "    <tr>\n",
       "      <th>1</th>\n",
       "      <td>a</td>\n",
       "      <td>3.0</td>\n",
       "    </tr>\n",
       "    <tr>\n",
       "      <th>2</th>\n",
       "      <td>a</td>\n",
       "      <td>12.0</td>\n",
       "    </tr>\n",
       "    <tr>\n",
       "      <th>3</th>\n",
       "      <td>b</td>\n",
       "      <td>6.0</td>\n",
       "    </tr>\n",
       "    <tr>\n",
       "      <th>4</th>\n",
       "      <td>b</td>\n",
       "      <td>7.5</td>\n",
       "    </tr>\n",
       "    <tr>\n",
       "      <th>5</th>\n",
       "      <td>b</td>\n",
       "      <td>8.0</td>\n",
       "    </tr>\n",
       "    <tr>\n",
       "      <th>6</th>\n",
       "      <td>c</td>\n",
       "      <td>3.0</td>\n",
       "    </tr>\n",
       "    <tr>\n",
       "      <th>7</th>\n",
       "      <td>c</td>\n",
       "      <td>5.0</td>\n",
       "    </tr>\n",
       "    <tr>\n",
       "      <th>8</th>\n",
       "      <td>c</td>\n",
       "      <td>6.0</td>\n",
       "    </tr>\n",
       "  </tbody>\n",
       "</table>\n",
       "</div>"
      ],
      "text/plain": [
       "  group  ounces\n",
       "0     a     4.0\n",
       "1     a     3.0\n",
       "2     a    12.0\n",
       "3     b     6.0\n",
       "4     b     7.5\n",
       "5     b     8.0\n",
       "6     c     3.0\n",
       "7     c     5.0\n",
       "8     c     6.0"
      ]
     },
     "execution_count": 4,
     "metadata": {},
     "output_type": "execute_result"
    }
   ],
   "source": [
    "import pandas as pd\n",
    "data = pd.DataFrame({'group': ['a', 'a', 'a', 'b','b', 'b', 'c', 'c','c'],\n",
    "                 'ounces': [4, 3, 12, 6, 7.5, 8, 3, 5, 6]})\n",
    "data"
   ]
  },
  {
   "cell_type": "code",
   "execution_count": 5,
   "metadata": {
    "collapsed": false,
    "run_control": {
     "read_only": false
    }
   },
   "outputs": [
    {
     "data": {
      "text/html": [
       "<div>\n",
       "<table border=\"1\" class=\"dataframe\">\n",
       "  <thead>\n",
       "    <tr style=\"text-align: right;\">\n",
       "      <th></th>\n",
       "      <th>ounces</th>\n",
       "    </tr>\n",
       "  </thead>\n",
       "  <tbody>\n",
       "    <tr>\n",
       "      <th>count</th>\n",
       "      <td>9.000000</td>\n",
       "    </tr>\n",
       "    <tr>\n",
       "      <th>mean</th>\n",
       "      <td>6.055556</td>\n",
       "    </tr>\n",
       "    <tr>\n",
       "      <th>std</th>\n",
       "      <td>2.855307</td>\n",
       "    </tr>\n",
       "    <tr>\n",
       "      <th>min</th>\n",
       "      <td>3.000000</td>\n",
       "    </tr>\n",
       "    <tr>\n",
       "      <th>25%</th>\n",
       "      <td>4.000000</td>\n",
       "    </tr>\n",
       "    <tr>\n",
       "      <th>50%</th>\n",
       "      <td>6.000000</td>\n",
       "    </tr>\n",
       "    <tr>\n",
       "      <th>75%</th>\n",
       "      <td>7.500000</td>\n",
       "    </tr>\n",
       "    <tr>\n",
       "      <th>max</th>\n",
       "      <td>12.000000</td>\n",
       "    </tr>\n",
       "  </tbody>\n",
       "</table>\n",
       "</div>"
      ],
      "text/plain": [
       "          ounces\n",
       "count   9.000000\n",
       "mean    6.055556\n",
       "std     2.855307\n",
       "min     3.000000\n",
       "25%     4.000000\n",
       "50%     6.000000\n",
       "75%     7.500000\n",
       "max    12.000000"
      ]
     },
     "execution_count": 5,
     "metadata": {},
     "output_type": "execute_result"
    }
   ],
   "source": [
    "data.describe()"
   ]
  },
  {
   "cell_type": "markdown",
   "metadata": {},
   "source": [
    "### df.info() shows data types, number of rows and columns, and memory usage of your data frame"
   ]
  },
  {
   "cell_type": "code",
   "execution_count": 6,
   "metadata": {
    "collapsed": false,
    "run_control": {
     "read_only": false
    }
   },
   "outputs": [
    {
     "name": "stdout",
     "output_type": "stream",
     "text": [
      "<class 'pandas.core.frame.DataFrame'>\n",
      "Int64Index: 9 entries, 0 to 8\n",
      "Data columns (total 2 columns):\n",
      "group     9 non-null object\n",
      "ounces    9 non-null float64\n",
      "dtypes: float64(1), object(1)\n",
      "memory usage: 216.0+ bytes\n"
     ]
    }
   ],
   "source": [
    "data.info()"
   ]
  },
  {
   "cell_type": "markdown",
   "metadata": {},
   "source": [
    "<a id='sorting'></a>"
   ]
  },
  {
   "cell_type": "markdown",
   "metadata": {},
   "source": [
    "### Sorting More Than One Column"
   ]
  },
  {
   "cell_type": "markdown",
   "metadata": {},
   "source": [
    "[[back to top]](#top)"
   ]
  },
  {
   "cell_type": "markdown",
   "metadata": {},
   "source": [
    "**Just pass a list of columns you want to sort and pass corresponding list of True/False to the ascending parameter**"
   ]
  },
  {
   "cell_type": "code",
   "execution_count": 16,
   "metadata": {
    "collapsed": false,
    "run_control": {
     "read_only": false
    }
   },
   "outputs": [
    {
     "data": {
      "text/html": [
       "<div>\n",
       "<table border=\"1\" class=\"dataframe\">\n",
       "  <thead>\n",
       "    <tr style=\"text-align: right;\">\n",
       "      <th></th>\n",
       "      <th>group</th>\n",
       "      <th>ounces</th>\n",
       "    </tr>\n",
       "  </thead>\n",
       "  <tbody>\n",
       "    <tr>\n",
       "      <th>6</th>\n",
       "      <td>c</td>\n",
       "      <td>3.0</td>\n",
       "    </tr>\n",
       "    <tr>\n",
       "      <th>7</th>\n",
       "      <td>c</td>\n",
       "      <td>5.0</td>\n",
       "    </tr>\n",
       "    <tr>\n",
       "      <th>8</th>\n",
       "      <td>c</td>\n",
       "      <td>6.0</td>\n",
       "    </tr>\n",
       "    <tr>\n",
       "      <th>3</th>\n",
       "      <td>b</td>\n",
       "      <td>6.0</td>\n",
       "    </tr>\n",
       "    <tr>\n",
       "      <th>4</th>\n",
       "      <td>b</td>\n",
       "      <td>7.5</td>\n",
       "    </tr>\n",
       "    <tr>\n",
       "      <th>5</th>\n",
       "      <td>b</td>\n",
       "      <td>8.0</td>\n",
       "    </tr>\n",
       "    <tr>\n",
       "      <th>1</th>\n",
       "      <td>a</td>\n",
       "      <td>3.0</td>\n",
       "    </tr>\n",
       "    <tr>\n",
       "      <th>0</th>\n",
       "      <td>a</td>\n",
       "      <td>4.0</td>\n",
       "    </tr>\n",
       "    <tr>\n",
       "      <th>2</th>\n",
       "      <td>a</td>\n",
       "      <td>12.0</td>\n",
       "    </tr>\n",
       "  </tbody>\n",
       "</table>\n",
       "</div>"
      ],
      "text/plain": [
       "  group  ounces\n",
       "6     c     3.0\n",
       "7     c     5.0\n",
       "8     c     6.0\n",
       "3     b     6.0\n",
       "4     b     7.5\n",
       "5     b     8.0\n",
       "1     a     3.0\n",
       "0     a     4.0\n",
       "2     a    12.0"
      ]
     },
     "execution_count": 16,
     "metadata": {},
     "output_type": "execute_result"
    }
   ],
   "source": [
    "data.sort_values(by=['group','ounces'], ascending=[False, True], inplace=True)\n",
    "data"
   ]
  },
  {
   "cell_type": "markdown",
   "metadata": {},
   "source": [
    "<a id='removing_duplicates'></a>"
   ]
  },
  {
   "cell_type": "markdown",
   "metadata": {},
   "source": [
    "### Removing duplicates"
   ]
  },
  {
   "cell_type": "markdown",
   "metadata": {},
   "source": [
    "[[back to top](#top)]"
   ]
  },
  {
   "cell_type": "code",
   "execution_count": 19,
   "metadata": {
    "collapsed": false,
    "run_control": {
     "read_only": false
    }
   },
   "outputs": [],
   "source": [
    "import pandas as pd\n",
    "data = pd.DataFrame({'k1': ['one'] * 3 + ['two'] * 4, 'k2': [3, 2, 1, 3, 3, 4, 4]})"
   ]
  },
  {
   "cell_type": "code",
   "execution_count": 20,
   "metadata": {
    "collapsed": false,
    "run_control": {
     "read_only": false
    }
   },
   "outputs": [
    {
     "data": {
      "text/html": [
       "<div>\n",
       "<table border=\"1\" class=\"dataframe\">\n",
       "  <thead>\n",
       "    <tr style=\"text-align: right;\">\n",
       "      <th></th>\n",
       "      <th>k1</th>\n",
       "      <th>k2</th>\n",
       "    </tr>\n",
       "  </thead>\n",
       "  <tbody>\n",
       "    <tr>\n",
       "      <th>0</th>\n",
       "      <td>one</td>\n",
       "      <td>3</td>\n",
       "    </tr>\n",
       "    <tr>\n",
       "      <th>1</th>\n",
       "      <td>one</td>\n",
       "      <td>2</td>\n",
       "    </tr>\n",
       "    <tr>\n",
       "      <th>2</th>\n",
       "      <td>one</td>\n",
       "      <td>1</td>\n",
       "    </tr>\n",
       "    <tr>\n",
       "      <th>3</th>\n",
       "      <td>two</td>\n",
       "      <td>3</td>\n",
       "    </tr>\n",
       "    <tr>\n",
       "      <th>4</th>\n",
       "      <td>two</td>\n",
       "      <td>3</td>\n",
       "    </tr>\n",
       "    <tr>\n",
       "      <th>5</th>\n",
       "      <td>two</td>\n",
       "      <td>4</td>\n",
       "    </tr>\n",
       "    <tr>\n",
       "      <th>6</th>\n",
       "      <td>two</td>\n",
       "      <td>4</td>\n",
       "    </tr>\n",
       "  </tbody>\n",
       "</table>\n",
       "</div>"
      ],
      "text/plain": [
       "    k1  k2\n",
       "0  one   3\n",
       "1  one   2\n",
       "2  one   1\n",
       "3  two   3\n",
       "4  two   3\n",
       "5  two   4\n",
       "6  two   4"
      ]
     },
     "execution_count": 20,
     "metadata": {},
     "output_type": "execute_result"
    }
   ],
   "source": [
    "data.sort_values(by='k2')\n",
    "data"
   ]
  },
  {
   "cell_type": "code",
   "execution_count": 21,
   "metadata": {
    "collapsed": false,
    "run_control": {
     "read_only": false
    }
   },
   "outputs": [
    {
     "data": {
      "text/html": [
       "<div>\n",
       "<table border=\"1\" class=\"dataframe\">\n",
       "  <thead>\n",
       "    <tr style=\"text-align: right;\">\n",
       "      <th></th>\n",
       "      <th>k1</th>\n",
       "      <th>k2</th>\n",
       "    </tr>\n",
       "  </thead>\n",
       "  <tbody>\n",
       "    <tr>\n",
       "      <th>0</th>\n",
       "      <td>one</td>\n",
       "      <td>3</td>\n",
       "    </tr>\n",
       "    <tr>\n",
       "      <th>1</th>\n",
       "      <td>one</td>\n",
       "      <td>2</td>\n",
       "    </tr>\n",
       "    <tr>\n",
       "      <th>2</th>\n",
       "      <td>one</td>\n",
       "      <td>1</td>\n",
       "    </tr>\n",
       "    <tr>\n",
       "      <th>3</th>\n",
       "      <td>two</td>\n",
       "      <td>3</td>\n",
       "    </tr>\n",
       "    <tr>\n",
       "      <th>5</th>\n",
       "      <td>two</td>\n",
       "      <td>4</td>\n",
       "    </tr>\n",
       "  </tbody>\n",
       "</table>\n",
       "</div>"
      ],
      "text/plain": [
       "    k1  k2\n",
       "0  one   3\n",
       "1  one   2\n",
       "2  one   1\n",
       "3  two   3\n",
       "5  two   4"
      ]
     },
     "execution_count": 21,
     "metadata": {},
     "output_type": "execute_result"
    }
   ],
   "source": [
    "data.drop_duplicates()  # by default, duplicate is defined by all columns"
   ]
  },
  {
   "cell_type": "markdown",
   "metadata": {},
   "source": [
    "### Define duplicates by column name(s):"
   ]
  },
  {
   "cell_type": "code",
   "execution_count": 22,
   "metadata": {
    "collapsed": false,
    "run_control": {
     "read_only": false
    }
   },
   "outputs": [
    {
     "data": {
      "text/html": [
       "<div>\n",
       "<table border=\"1\" class=\"dataframe\">\n",
       "  <thead>\n",
       "    <tr style=\"text-align: right;\">\n",
       "      <th></th>\n",
       "      <th>k1</th>\n",
       "      <th>k2</th>\n",
       "    </tr>\n",
       "  </thead>\n",
       "  <tbody>\n",
       "    <tr>\n",
       "      <th>0</th>\n",
       "      <td>one</td>\n",
       "      <td>3</td>\n",
       "    </tr>\n",
       "    <tr>\n",
       "      <th>3</th>\n",
       "      <td>two</td>\n",
       "      <td>3</td>\n",
       "    </tr>\n",
       "  </tbody>\n",
       "</table>\n",
       "</div>"
      ],
      "text/plain": [
       "    k1  k2\n",
       "0  one   3\n",
       "3  two   3"
      ]
     },
     "execution_count": 22,
     "metadata": {},
     "output_type": "execute_result"
    }
   ],
   "source": [
    "data.drop_duplicates(subset='k1')  # duplicate in column k1 only"
   ]
  },
  {
   "cell_type": "markdown",
   "metadata": {},
   "source": [
    "<a id=\"map\"></a>"
   ]
  },
  {
   "cell_type": "markdown",
   "metadata": {},
   "source": [
    "### Creating a new column based on values from another column"
   ]
  },
  {
   "cell_type": "markdown",
   "metadata": {},
   "source": [
    "[[back to top](#top)]"
   ]
  },
  {
   "cell_type": "code",
   "execution_count": 5,
   "metadata": {
    "collapsed": false,
    "run_control": {
     "read_only": false
    }
   },
   "outputs": [
    {
     "data": {
      "text/html": [
       "<div>\n",
       "<table border=\"1\" class=\"dataframe\">\n",
       "  <thead>\n",
       "    <tr style=\"text-align: right;\">\n",
       "      <th></th>\n",
       "      <th>food</th>\n",
       "      <th>ounces</th>\n",
       "    </tr>\n",
       "  </thead>\n",
       "  <tbody>\n",
       "    <tr>\n",
       "      <th>0</th>\n",
       "      <td>bacon</td>\n",
       "      <td>4.0</td>\n",
       "    </tr>\n",
       "    <tr>\n",
       "      <th>1</th>\n",
       "      <td>pulled pork</td>\n",
       "      <td>3.0</td>\n",
       "    </tr>\n",
       "    <tr>\n",
       "      <th>2</th>\n",
       "      <td>bacon</td>\n",
       "      <td>12.0</td>\n",
       "    </tr>\n",
       "    <tr>\n",
       "      <th>3</th>\n",
       "      <td>Pastrami</td>\n",
       "      <td>6.0</td>\n",
       "    </tr>\n",
       "    <tr>\n",
       "      <th>4</th>\n",
       "      <td>corned beef</td>\n",
       "      <td>7.5</td>\n",
       "    </tr>\n",
       "    <tr>\n",
       "      <th>5</th>\n",
       "      <td>Bacon</td>\n",
       "      <td>8.0</td>\n",
       "    </tr>\n",
       "    <tr>\n",
       "      <th>6</th>\n",
       "      <td>pastrami</td>\n",
       "      <td>3.0</td>\n",
       "    </tr>\n",
       "    <tr>\n",
       "      <th>7</th>\n",
       "      <td>honey ham</td>\n",
       "      <td>5.0</td>\n",
       "    </tr>\n",
       "    <tr>\n",
       "      <th>8</th>\n",
       "      <td>nova lox</td>\n",
       "      <td>6.0</td>\n",
       "    </tr>\n",
       "  </tbody>\n",
       "</table>\n",
       "</div>"
      ],
      "text/plain": [
       "          food  ounces\n",
       "0        bacon     4.0\n",
       "1  pulled pork     3.0\n",
       "2        bacon    12.0\n",
       "3     Pastrami     6.0\n",
       "4  corned beef     7.5\n",
       "5        Bacon     8.0\n",
       "6     pastrami     3.0\n",
       "7    honey ham     5.0\n",
       "8     nova lox     6.0"
      ]
     },
     "execution_count": 5,
     "metadata": {},
     "output_type": "execute_result"
    }
   ],
   "source": [
    "import pandas as pd\n",
    "data = pd.DataFrame({'food': ['bacon', 'pulled pork', 'bacon', 'Pastrami','corned beef', 'Bacon', 'pastrami', 'honey ham','nova lox'],\n",
    "                 'ounces': [4, 3, 12, 6, 7.5, 8, 3, 5, 6]})\n",
    "data"
   ]
  },
  {
   "cell_type": "markdown",
   "metadata": {},
   "source": [
    "### Suppose you wanted to add a column indicating the type of animal that each food came from. Let’s write down a mapping of each distinct meat type to the kind of animal using a dictionary and a function:"
   ]
  },
  {
   "cell_type": "code",
   "execution_count": 7,
   "metadata": {
    "collapsed": false,
    "run_control": {
     "read_only": false
    }
   },
   "outputs": [],
   "source": [
    "meat_to_animal = {\n",
    "'bacon': 'pig',\n",
    "'pulled pork': 'pig',\n",
    "'pastrami': 'cow',\n",
    "'corned beef': 'cow',\n",
    "'honey ham': 'pig',\n",
    "'nova lox': 'salmon'\n",
    "}\n",
    "\n",
    "def meat2animal(series):\n",
    "    if series[\"food\"]=='bacon':\n",
    "        return 'pig'\n",
    "    elif series[\"food\"]=='pulled pork':\n",
    "        return 'pig'\n",
    "    elif series[\"food\"]=='pastrami':\n",
    "        return 'cow'\n",
    "    elif series[\"food\"]=='corned beef':\n",
    "        return 'cow'\n",
    "    elif series[\"food\"]=='honey ham':\n",
    "        return 'pig'\n",
    "    else:\n",
    "        return 'salmon'"
   ]
  },
  {
   "cell_type": "code",
   "execution_count": 8,
   "metadata": {
    "collapsed": false,
    "run_control": {
     "read_only": false
    }
   },
   "outputs": [
    {
     "data": {
      "text/html": [
       "<div>\n",
       "<table border=\"1\" class=\"dataframe\">\n",
       "  <thead>\n",
       "    <tr style=\"text-align: right;\">\n",
       "      <th></th>\n",
       "      <th>food</th>\n",
       "      <th>ounces</th>\n",
       "      <th>animal</th>\n",
       "    </tr>\n",
       "  </thead>\n",
       "  <tbody>\n",
       "    <tr>\n",
       "      <th>0</th>\n",
       "      <td>bacon</td>\n",
       "      <td>4.0</td>\n",
       "      <td>pig</td>\n",
       "    </tr>\n",
       "    <tr>\n",
       "      <th>1</th>\n",
       "      <td>pulled pork</td>\n",
       "      <td>3.0</td>\n",
       "      <td>pig</td>\n",
       "    </tr>\n",
       "    <tr>\n",
       "      <th>2</th>\n",
       "      <td>bacon</td>\n",
       "      <td>12.0</td>\n",
       "      <td>pig</td>\n",
       "    </tr>\n",
       "    <tr>\n",
       "      <th>3</th>\n",
       "      <td>Pastrami</td>\n",
       "      <td>6.0</td>\n",
       "      <td>cow</td>\n",
       "    </tr>\n",
       "    <tr>\n",
       "      <th>4</th>\n",
       "      <td>corned beef</td>\n",
       "      <td>7.5</td>\n",
       "      <td>cow</td>\n",
       "    </tr>\n",
       "    <tr>\n",
       "      <th>5</th>\n",
       "      <td>Bacon</td>\n",
       "      <td>8.0</td>\n",
       "      <td>pig</td>\n",
       "    </tr>\n",
       "    <tr>\n",
       "      <th>6</th>\n",
       "      <td>pastrami</td>\n",
       "      <td>3.0</td>\n",
       "      <td>cow</td>\n",
       "    </tr>\n",
       "    <tr>\n",
       "      <th>7</th>\n",
       "      <td>honey ham</td>\n",
       "      <td>5.0</td>\n",
       "      <td>pig</td>\n",
       "    </tr>\n",
       "    <tr>\n",
       "      <th>8</th>\n",
       "      <td>nova lox</td>\n",
       "      <td>6.0</td>\n",
       "      <td>salmon</td>\n",
       "    </tr>\n",
       "  </tbody>\n",
       "</table>\n",
       "</div>"
      ],
      "text/plain": [
       "          food  ounces  animal\n",
       "0        bacon     4.0     pig\n",
       "1  pulled pork     3.0     pig\n",
       "2        bacon    12.0     pig\n",
       "3     Pastrami     6.0     cow\n",
       "4  corned beef     7.5     cow\n",
       "5        Bacon     8.0     pig\n",
       "6     pastrami     3.0     cow\n",
       "7    honey ham     5.0     pig\n",
       "8     nova lox     6.0  salmon"
      ]
     },
     "execution_count": 8,
     "metadata": {},
     "output_type": "execute_result"
    }
   ],
   "source": [
    "data['animal'] = data['food'].map(str.lower).map(meat_to_animal)\n",
    "data"
   ]
  },
  {
   "cell_type": "markdown",
   "metadata": {},
   "source": [
    "#### Or we could use apply() and apply the meat2animal() function to the new column:"
   ]
  },
  {
   "cell_type": "code",
   "execution_count": 9,
   "metadata": {
    "collapsed": false,
    "run_control": {
     "read_only": false
    }
   },
   "outputs": [
    {
     "data": {
      "text/html": [
       "<div>\n",
       "<table border=\"1\" class=\"dataframe\">\n",
       "  <thead>\n",
       "    <tr style=\"text-align: right;\">\n",
       "      <th></th>\n",
       "      <th>food</th>\n",
       "      <th>ounces</th>\n",
       "      <th>animal</th>\n",
       "      <th>animal2</th>\n",
       "    </tr>\n",
       "  </thead>\n",
       "  <tbody>\n",
       "    <tr>\n",
       "      <th>0</th>\n",
       "      <td>bacon</td>\n",
       "      <td>4.0</td>\n",
       "      <td>pig</td>\n",
       "      <td>pig</td>\n",
       "    </tr>\n",
       "    <tr>\n",
       "      <th>1</th>\n",
       "      <td>pulled pork</td>\n",
       "      <td>3.0</td>\n",
       "      <td>pig</td>\n",
       "      <td>pig</td>\n",
       "    </tr>\n",
       "    <tr>\n",
       "      <th>2</th>\n",
       "      <td>bacon</td>\n",
       "      <td>12.0</td>\n",
       "      <td>pig</td>\n",
       "      <td>pig</td>\n",
       "    </tr>\n",
       "    <tr>\n",
       "      <th>3</th>\n",
       "      <td>Pastrami</td>\n",
       "      <td>6.0</td>\n",
       "      <td>cow</td>\n",
       "      <td>salmon</td>\n",
       "    </tr>\n",
       "    <tr>\n",
       "      <th>4</th>\n",
       "      <td>corned beef</td>\n",
       "      <td>7.5</td>\n",
       "      <td>cow</td>\n",
       "      <td>cow</td>\n",
       "    </tr>\n",
       "    <tr>\n",
       "      <th>5</th>\n",
       "      <td>Bacon</td>\n",
       "      <td>8.0</td>\n",
       "      <td>pig</td>\n",
       "      <td>salmon</td>\n",
       "    </tr>\n",
       "    <tr>\n",
       "      <th>6</th>\n",
       "      <td>pastrami</td>\n",
       "      <td>3.0</td>\n",
       "      <td>cow</td>\n",
       "      <td>cow</td>\n",
       "    </tr>\n",
       "    <tr>\n",
       "      <th>7</th>\n",
       "      <td>honey ham</td>\n",
       "      <td>5.0</td>\n",
       "      <td>pig</td>\n",
       "      <td>pig</td>\n",
       "    </tr>\n",
       "    <tr>\n",
       "      <th>8</th>\n",
       "      <td>nova lox</td>\n",
       "      <td>6.0</td>\n",
       "      <td>salmon</td>\n",
       "      <td>salmon</td>\n",
       "    </tr>\n",
       "  </tbody>\n",
       "</table>\n",
       "</div>"
      ],
      "text/plain": [
       "          food  ounces  animal animal2\n",
       "0        bacon     4.0     pig     pig\n",
       "1  pulled pork     3.0     pig     pig\n",
       "2        bacon    12.0     pig     pig\n",
       "3     Pastrami     6.0     cow  salmon\n",
       "4  corned beef     7.5     cow     cow\n",
       "5        Bacon     8.0     pig  salmon\n",
       "6     pastrami     3.0     cow     cow\n",
       "7    honey ham     5.0     pig     pig\n",
       "8     nova lox     6.0  salmon  salmon"
      ]
     },
     "execution_count": 9,
     "metadata": {},
     "output_type": "execute_result"
    }
   ],
   "source": [
    "# axis=1 means to apply the function for each row, but I prefer to use axis='columns' instead\n",
    "data['animal2'] = data.apply(meat2animal,axis='columns')\n",
    "data"
   ]
  },
  {
   "cell_type": "markdown",
   "metadata": {},
   "source": [
    "### We can also use [dataframe.assign()](http://pandas.pydata.org/pandas-docs/stable/dsintro.html#dsintro-chained-assignment) function which was added in pandas version 0.16"
   ]
  },
  {
   "cell_type": "code",
   "execution_count": 4,
   "metadata": {
    "collapsed": false,
    "run_control": {
     "read_only": false
    }
   },
   "outputs": [
    {
     "data": {
      "text/html": [
       "<div>\n",
       "<table border=\"1\" class=\"dataframe\">\n",
       "  <thead>\n",
       "    <tr style=\"text-align: right;\">\n",
       "      <th></th>\n",
       "      <th>data1</th>\n",
       "      <th>data2</th>\n",
       "      <th>ratio</th>\n",
       "    </tr>\n",
       "  </thead>\n",
       "  <tbody>\n",
       "    <tr>\n",
       "      <th>0</th>\n",
       "      <td>0.246394</td>\n",
       "      <td>-0.496658</td>\n",
       "      <td>-0.496105</td>\n",
       "    </tr>\n",
       "    <tr>\n",
       "      <th>1</th>\n",
       "      <td>1.690199</td>\n",
       "      <td>1.245658</td>\n",
       "      <td>1.356873</td>\n",
       "    </tr>\n",
       "    <tr>\n",
       "      <th>2</th>\n",
       "      <td>-0.132093</td>\n",
       "      <td>0.834331</td>\n",
       "      <td>-0.158322</td>\n",
       "    </tr>\n",
       "    <tr>\n",
       "      <th>3</th>\n",
       "      <td>-0.046662</td>\n",
       "      <td>0.717323</td>\n",
       "      <td>-0.065050</td>\n",
       "    </tr>\n",
       "    <tr>\n",
       "      <th>4</th>\n",
       "      <td>-0.355658</td>\n",
       "      <td>0.439520</td>\n",
       "      <td>-0.809196</td>\n",
       "    </tr>\n",
       "  </tbody>\n",
       "</table>\n",
       "</div>"
      ],
      "text/plain": [
       "      data1     data2     ratio\n",
       "0  0.246394 -0.496658 -0.496105\n",
       "1  1.690199  1.245658  1.356873\n",
       "2 -0.132093  0.834331 -0.158322\n",
       "3 -0.046662  0.717323 -0.065050\n",
       "4 -0.355658  0.439520 -0.809196"
      ]
     },
     "execution_count": 4,
     "metadata": {},
     "output_type": "execute_result"
    }
   ],
   "source": [
    "import pandas as pd\n",
    "import numpy as np\n",
    "\n",
    "df = pd.DataFrame({'data1' : np.random.randn(5),\n",
    "                   'data2' : np.random.randn(5)})\n",
    "\n",
    "df.assign(ratio = df['data1'] / df['data2'])"
   ]
  },
  {
   "cell_type": "markdown",
   "metadata": {},
   "source": [
    "[[back to top](#top)]"
   ]
  },
  {
   "cell_type": "markdown",
   "metadata": {},
   "source": [
    "<a id='remove_column'></a>"
   ]
  },
  {
   "cell_type": "markdown",
   "metadata": {},
   "source": [
    "### Removing or dropping a column"
   ]
  },
  {
   "cell_type": "markdown",
   "metadata": {},
   "source": [
    "[[back top top](#top)]"
   ]
  },
  {
   "cell_type": "code",
   "execution_count": 10,
   "metadata": {
    "collapsed": false,
    "run_control": {
     "read_only": false
    }
   },
   "outputs": [
    {
     "data": {
      "text/html": [
       "<div style=\"max-height:1000px;max-width:1500px;overflow:auto;\">\n",
       "<table border=\"1\" class=\"dataframe\">\n",
       "  <thead>\n",
       "    <tr style=\"text-align: right;\">\n",
       "      <th></th>\n",
       "      <th>food</th>\n",
       "      <th>ounces</th>\n",
       "      <th>animal</th>\n",
       "    </tr>\n",
       "  </thead>\n",
       "  <tbody>\n",
       "    <tr>\n",
       "      <th>0</th>\n",
       "      <td>       bacon</td>\n",
       "      <td>  4.0</td>\n",
       "      <td>    pig</td>\n",
       "    </tr>\n",
       "    <tr>\n",
       "      <th>1</th>\n",
       "      <td> pulled pork</td>\n",
       "      <td>  3.0</td>\n",
       "      <td>    pig</td>\n",
       "    </tr>\n",
       "    <tr>\n",
       "      <th>2</th>\n",
       "      <td>       bacon</td>\n",
       "      <td> 12.0</td>\n",
       "      <td>    pig</td>\n",
       "    </tr>\n",
       "    <tr>\n",
       "      <th>3</th>\n",
       "      <td>    Pastrami</td>\n",
       "      <td>  6.0</td>\n",
       "      <td>    cow</td>\n",
       "    </tr>\n",
       "    <tr>\n",
       "      <th>4</th>\n",
       "      <td> corned beef</td>\n",
       "      <td>  7.5</td>\n",
       "      <td>    cow</td>\n",
       "    </tr>\n",
       "    <tr>\n",
       "      <th>5</th>\n",
       "      <td>       Bacon</td>\n",
       "      <td>  8.0</td>\n",
       "      <td>    pig</td>\n",
       "    </tr>\n",
       "    <tr>\n",
       "      <th>6</th>\n",
       "      <td>    pastrami</td>\n",
       "      <td>  3.0</td>\n",
       "      <td>    cow</td>\n",
       "    </tr>\n",
       "    <tr>\n",
       "      <th>7</th>\n",
       "      <td>   honey ham</td>\n",
       "      <td>  5.0</td>\n",
       "      <td>    pig</td>\n",
       "    </tr>\n",
       "    <tr>\n",
       "      <th>8</th>\n",
       "      <td>    nova lox</td>\n",
       "      <td>  6.0</td>\n",
       "      <td> salmon</td>\n",
       "    </tr>\n",
       "  </tbody>\n",
       "</table>\n",
       "</div>"
      ],
      "text/plain": [
       "          food  ounces  animal\n",
       "0        bacon     4.0     pig\n",
       "1  pulled pork     3.0     pig\n",
       "2        bacon    12.0     pig\n",
       "3     Pastrami     6.0     cow\n",
       "4  corned beef     7.5     cow\n",
       "5        Bacon     8.0     pig\n",
       "6     pastrami     3.0     cow\n",
       "7    honey ham     5.0     pig\n",
       "8     nova lox     6.0  salmon"
      ]
     },
     "execution_count": 10,
     "metadata": {},
     "output_type": "execute_result"
    }
   ],
   "source": [
    "data.drop('animal2', axis='columns', inplace=True)  # dropping/removing a column\n",
    "data"
   ]
  },
  {
   "cell_type": "markdown",
   "metadata": {},
   "source": [
    "<a id=\"replacing_values\"></a>"
   ]
  },
  {
   "cell_type": "markdown",
   "metadata": {},
   "source": [
    "### Replacing Values in a Series"
   ]
  },
  {
   "cell_type": "markdown",
   "metadata": {},
   "source": [
    "[[back to top](#top)]"
   ]
  },
  {
   "cell_type": "code",
   "execution_count": 30,
   "metadata": {
    "collapsed": false,
    "run_control": {
     "read_only": false
    }
   },
   "outputs": [
    {
     "data": {
      "text/plain": [
       "0       1\n",
       "1    -999\n",
       "2       2\n",
       "3    -999\n",
       "4   -1000\n",
       "5       3\n",
       "dtype: float64"
      ]
     },
     "execution_count": 30,
     "metadata": {},
     "output_type": "execute_result"
    }
   ],
   "source": [
    "import pandas as pd\n",
    "data = pd.Series([1., -999., 2., -999., -1000., 3.])\n",
    "data"
   ]
  },
  {
   "cell_type": "markdown",
   "metadata": {},
   "source": [
    "#### If you want to replace -999 with NaN:"
   ]
  },
  {
   "cell_type": "code",
   "execution_count": 32,
   "metadata": {
    "collapsed": false,
    "run_control": {
     "read_only": false
    }
   },
   "outputs": [
    {
     "data": {
      "text/plain": [
       "0       1\n",
       "1     NaN\n",
       "2       2\n",
       "3     NaN\n",
       "4   -1000\n",
       "5       3\n",
       "dtype: float64"
      ]
     },
     "execution_count": 32,
     "metadata": {},
     "output_type": "execute_result"
    }
   ],
   "source": [
    "data.replace(-999, np.nan, inplace=True)\n",
    "data"
   ]
  },
  {
   "cell_type": "markdown",
   "metadata": {},
   "source": [
    "#### If you want to replace multiple values at once, you instead pass a list then the substitute value:"
   ]
  },
  {
   "cell_type": "code",
   "execution_count": 35,
   "metadata": {
    "collapsed": false,
    "run_control": {
     "read_only": false
    }
   },
   "outputs": [
    {
     "data": {
      "text/plain": [
       "0       1\n",
       "1    -999\n",
       "2       2\n",
       "3    -999\n",
       "4   -1000\n",
       "5       3\n",
       "dtype: float64"
      ]
     },
     "execution_count": 35,
     "metadata": {},
     "output_type": "execute_result"
    }
   ],
   "source": [
    "import pandas as pd\n",
    "data = pd.Series([1., -999., 2., -999., -1000., 3.])\n",
    "data"
   ]
  },
  {
   "cell_type": "code",
   "execution_count": 37,
   "metadata": {
    "collapsed": false,
    "run_control": {
     "read_only": false
    }
   },
   "outputs": [
    {
     "data": {
      "text/plain": [
       "0     1\n",
       "1   NaN\n",
       "2     2\n",
       "3   NaN\n",
       "4   NaN\n",
       "5     3\n",
       "dtype: float64"
      ]
     },
     "execution_count": 37,
     "metadata": {},
     "output_type": "execute_result"
    }
   ],
   "source": [
    "data.replace([-999, -1000], np.nan, inplace=True)\n",
    "data"
   ]
  },
  {
   "cell_type": "markdown",
   "metadata": {},
   "source": [
    "<a name=\"renaming_axis\"></a>\n",
    "<br>\n",
    "<br>"
   ]
  },
  {
   "cell_type": "markdown",
   "metadata": {},
   "source": [
    "### Renaming Axis Indexes"
   ]
  },
  {
   "cell_type": "markdown",
   "metadata": {},
   "source": [
    "[[back to top](#top)]"
   ]
  },
  {
   "cell_type": "code",
   "execution_count": 47,
   "metadata": {
    "collapsed": false,
    "run_control": {
     "read_only": false
    }
   },
   "outputs": [
    {
     "data": {
      "text/html": [
       "<div style=\"max-height:1000px;max-width:1500px;overflow:auto;\">\n",
       "<table border=\"1\" class=\"dataframe\">\n",
       "  <thead>\n",
       "    <tr style=\"text-align: right;\">\n",
       "      <th></th>\n",
       "      <th>one</th>\n",
       "      <th>two</th>\n",
       "      <th>three</th>\n",
       "      <th>four</th>\n",
       "    </tr>\n",
       "  </thead>\n",
       "  <tbody>\n",
       "    <tr>\n",
       "      <th>Ohio</th>\n",
       "      <td> 0</td>\n",
       "      <td> 1</td>\n",
       "      <td>  2</td>\n",
       "      <td>  3</td>\n",
       "    </tr>\n",
       "    <tr>\n",
       "      <th>Colorado</th>\n",
       "      <td> 4</td>\n",
       "      <td> 5</td>\n",
       "      <td>  6</td>\n",
       "      <td>  7</td>\n",
       "    </tr>\n",
       "    <tr>\n",
       "      <th>New York</th>\n",
       "      <td> 8</td>\n",
       "      <td> 9</td>\n",
       "      <td> 10</td>\n",
       "      <td> 11</td>\n",
       "    </tr>\n",
       "  </tbody>\n",
       "</table>\n",
       "<p>3 rows × 4 columns</p>\n",
       "</div>"
      ],
      "text/plain": [
       "          one  two  three  four\n",
       "Ohio        0    1      2     3\n",
       "Colorado    4    5      6     7\n",
       "New York    8    9     10    11\n",
       "\n",
       "[3 rows x 4 columns]"
      ]
     },
     "execution_count": 47,
     "metadata": {},
     "output_type": "execute_result"
    }
   ],
   "source": [
    "import pandas as pd\n",
    "data = pd.DataFrame(np.arange(12).reshape((3, 4)),index=['Ohio', 'Colorado', 'New York'],columns=['one', 'two', 'three', 'four'])\n",
    "data"
   ]
  },
  {
   "cell_type": "code",
   "execution_count": 48,
   "metadata": {
    "collapsed": false,
    "run_control": {
     "read_only": false
    }
   },
   "outputs": [
    {
     "data": {
      "text/plain": [
       "array(['OHIO', 'COLORADO', 'NEW YORK'], dtype=object)"
      ]
     },
     "execution_count": 48,
     "metadata": {},
     "output_type": "execute_result"
    }
   ],
   "source": [
    "data.index.map(str.upper)"
   ]
  },
  {
   "cell_type": "code",
   "execution_count": 51,
   "metadata": {
    "collapsed": false,
    "run_control": {
     "read_only": false
    }
   },
   "outputs": [
    {
     "data": {
      "text/html": [
       "<div style=\"max-height:1000px;max-width:1500px;overflow:auto;\">\n",
       "<table border=\"1\" class=\"dataframe\">\n",
       "  <thead>\n",
       "    <tr style=\"text-align: right;\">\n",
       "      <th></th>\n",
       "      <th>one</th>\n",
       "      <th>two</th>\n",
       "      <th>three</th>\n",
       "      <th>four</th>\n",
       "    </tr>\n",
       "  </thead>\n",
       "  <tbody>\n",
       "    <tr>\n",
       "      <th>OHIO</th>\n",
       "      <td> 0</td>\n",
       "      <td> 1</td>\n",
       "      <td>  2</td>\n",
       "      <td>  3</td>\n",
       "    </tr>\n",
       "    <tr>\n",
       "      <th>COLORADO</th>\n",
       "      <td> 4</td>\n",
       "      <td> 5</td>\n",
       "      <td>  6</td>\n",
       "      <td>  7</td>\n",
       "    </tr>\n",
       "    <tr>\n",
       "      <th>NEW YORK</th>\n",
       "      <td> 8</td>\n",
       "      <td> 9</td>\n",
       "      <td> 10</td>\n",
       "      <td> 11</td>\n",
       "    </tr>\n",
       "  </tbody>\n",
       "</table>\n",
       "<p>3 rows × 4 columns</p>\n",
       "</div>"
      ],
      "text/plain": [
       "          one  two  three  four\n",
       "OHIO        0    1      2     3\n",
       "COLORADO    4    5      6     7\n",
       "NEW YORK    8    9     10    11\n",
       "\n",
       "[3 rows x 4 columns]"
      ]
     },
     "execution_count": 51,
     "metadata": {},
     "output_type": "execute_result"
    }
   ],
   "source": [
    "data.index = data.index.map(str.upper)\n",
    "data"
   ]
  },
  {
   "cell_type": "markdown",
   "metadata": {},
   "source": [
    "#### If you want to create a transformed version of a data set without modifying the original, a useful method is rename:"
   ]
  },
  {
   "cell_type": "code",
   "execution_count": 65,
   "metadata": {
    "collapsed": false,
    "run_control": {
     "read_only": false
    }
   },
   "outputs": [
    {
     "data": {
      "text/html": [
       "<div style=\"max-height:1000px;max-width:1500px;overflow:auto;\">\n",
       "<table border=\"1\" class=\"dataframe\">\n",
       "  <thead>\n",
       "    <tr style=\"text-align: right;\">\n",
       "      <th></th>\n",
       "      <th>ONE</th>\n",
       "      <th>TWO</th>\n",
       "      <th>THREE</th>\n",
       "      <th>FOUR</th>\n",
       "    </tr>\n",
       "  </thead>\n",
       "  <tbody>\n",
       "    <tr>\n",
       "      <th>Ohio</th>\n",
       "      <td> 0</td>\n",
       "      <td> 1</td>\n",
       "      <td>  2</td>\n",
       "      <td>  3</td>\n",
       "    </tr>\n",
       "    <tr>\n",
       "      <th>Colorado</th>\n",
       "      <td> 4</td>\n",
       "      <td> 5</td>\n",
       "      <td>  6</td>\n",
       "      <td>  7</td>\n",
       "    </tr>\n",
       "    <tr>\n",
       "      <th>New York</th>\n",
       "      <td> 8</td>\n",
       "      <td> 9</td>\n",
       "      <td> 10</td>\n",
       "      <td> 11</td>\n",
       "    </tr>\n",
       "  </tbody>\n",
       "</table>\n",
       "<p>3 rows × 4 columns</p>\n",
       "</div>"
      ],
      "text/plain": [
       "          ONE  TWO  THREE  FOUR\n",
       "Ohio        0    1      2     3\n",
       "Colorado    4    5      6     7\n",
       "New York    8    9     10    11\n",
       "\n",
       "[3 rows x 4 columns]"
      ]
     },
     "execution_count": 65,
     "metadata": {},
     "output_type": "execute_result"
    }
   ],
   "source": [
    "data.rename(index=str.title, columns=str.upper, inplace=True)  # str.title means to make the 1st letter capitalized only\n",
    "data"
   ]
  },
  {
   "cell_type": "markdown",
   "metadata": {},
   "source": [
    "<a id=\"renaming_indexes_columns\"></a>"
   ]
  },
  {
   "cell_type": "markdown",
   "metadata": {},
   "source": [
    "### Renaming Indexes or Columns"
   ]
  },
  {
   "cell_type": "markdown",
   "metadata": {},
   "source": [
    "[[back to top](#top)]"
   ]
  },
  {
   "cell_type": "markdown",
   "metadata": {},
   "source": [
    "#### <i>rename()</i> can be used in conjunction with a dict-like object providing new values for a subset of the axis labels:"
   ]
  },
  {
   "cell_type": "code",
   "execution_count": 46,
   "metadata": {
    "collapsed": false,
    "run_control": {
     "read_only": false
    }
   },
   "outputs": [
    {
     "data": {
      "text/html": [
       "<div style=\"max-height:1000px;max-width:1500px;overflow:auto;\">\n",
       "<table border=\"1\" class=\"dataframe\">\n",
       "  <thead>\n",
       "    <tr style=\"text-align: right;\">\n",
       "      <th></th>\n",
       "      <th>one</th>\n",
       "      <th>two</th>\n",
       "      <th>three</th>\n",
       "      <th>four</th>\n",
       "    </tr>\n",
       "  </thead>\n",
       "  <tbody>\n",
       "    <tr>\n",
       "      <th>Ohio</th>\n",
       "      <td> 0</td>\n",
       "      <td> 1</td>\n",
       "      <td>  2</td>\n",
       "      <td>  3</td>\n",
       "    </tr>\n",
       "    <tr>\n",
       "      <th>Colorado</th>\n",
       "      <td> 4</td>\n",
       "      <td> 5</td>\n",
       "      <td>  6</td>\n",
       "      <td>  7</td>\n",
       "    </tr>\n",
       "    <tr>\n",
       "      <th>New York</th>\n",
       "      <td> 8</td>\n",
       "      <td> 9</td>\n",
       "      <td> 10</td>\n",
       "      <td> 11</td>\n",
       "    </tr>\n",
       "  </tbody>\n",
       "</table>\n",
       "</div>"
      ],
      "text/plain": [
       "          one  two  three  four\n",
       "Ohio        0    1      2     3\n",
       "Colorado    4    5      6     7\n",
       "New York    8    9     10    11"
      ]
     },
     "execution_count": 46,
     "metadata": {},
     "output_type": "execute_result"
    }
   ],
   "source": [
    "import pandas as pd\n",
    "data = pd.DataFrame(np.arange(12).reshape((3, 4)),index=['Ohio', 'Colorado', 'New York'],columns=['one', 'two', 'three', 'four'])\n",
    "data"
   ]
  },
  {
   "cell_type": "code",
   "execution_count": 47,
   "metadata": {
    "collapsed": false,
    "run_control": {
     "read_only": false
    }
   },
   "outputs": [
    {
     "data": {
      "text/html": [
       "<div style=\"max-height:1000px;max-width:1500px;overflow:auto;\">\n",
       "<table border=\"1\" class=\"dataframe\">\n",
       "  <thead>\n",
       "    <tr style=\"text-align: right;\">\n",
       "      <th></th>\n",
       "      <th>one</th>\n",
       "      <th>two</th>\n",
       "      <th>peekaboo</th>\n",
       "      <th>four</th>\n",
       "    </tr>\n",
       "  </thead>\n",
       "  <tbody>\n",
       "    <tr>\n",
       "      <th>INDIANA</th>\n",
       "      <td> 0</td>\n",
       "      <td> 1</td>\n",
       "      <td>  2</td>\n",
       "      <td>  3</td>\n",
       "    </tr>\n",
       "    <tr>\n",
       "      <th>Colorado</th>\n",
       "      <td> 4</td>\n",
       "      <td> 5</td>\n",
       "      <td>  6</td>\n",
       "      <td>  7</td>\n",
       "    </tr>\n",
       "    <tr>\n",
       "      <th>New York</th>\n",
       "      <td> 8</td>\n",
       "      <td> 9</td>\n",
       "      <td> 10</td>\n",
       "      <td> 11</td>\n",
       "    </tr>\n",
       "  </tbody>\n",
       "</table>\n",
       "</div>"
      ],
      "text/plain": [
       "          one  two  peekaboo  four\n",
       "INDIANA     0    1         2     3\n",
       "Colorado    4    5         6     7\n",
       "New York    8    9        10    11"
      ]
     },
     "execution_count": 47,
     "metadata": {},
     "output_type": "execute_result"
    }
   ],
   "source": [
    "data.rename(index={'Ohio': 'INDIANA'},columns={'three': 'peekaboo'},inplace=True)\n",
    "data"
   ]
  },
  {
   "cell_type": "markdown",
   "metadata": {},
   "source": [
    "You can also apply str functions to modify the index or column labels"
   ]
  },
  {
   "cell_type": "code",
   "execution_count": 48,
   "metadata": {
    "collapsed": false,
    "run_control": {
     "read_only": false
    }
   },
   "outputs": [
    {
     "data": {
      "text/html": [
       "<div style=\"max-height:1000px;max-width:1500px;overflow:auto;\">\n",
       "<table border=\"1\" class=\"dataframe\">\n",
       "  <thead>\n",
       "    <tr style=\"text-align: right;\">\n",
       "      <th></th>\n",
       "      <th>ONE</th>\n",
       "      <th>TWO</th>\n",
       "      <th>PEEKABOO</th>\n",
       "      <th>FOUR</th>\n",
       "    </tr>\n",
       "  </thead>\n",
       "  <tbody>\n",
       "    <tr>\n",
       "      <th>Indiana</th>\n",
       "      <td> 0</td>\n",
       "      <td> 1</td>\n",
       "      <td>  2</td>\n",
       "      <td>  3</td>\n",
       "    </tr>\n",
       "    <tr>\n",
       "      <th>Colorado</th>\n",
       "      <td> 4</td>\n",
       "      <td> 5</td>\n",
       "      <td>  6</td>\n",
       "      <td>  7</td>\n",
       "    </tr>\n",
       "    <tr>\n",
       "      <th>New York</th>\n",
       "      <td> 8</td>\n",
       "      <td> 9</td>\n",
       "      <td> 10</td>\n",
       "      <td> 11</td>\n",
       "    </tr>\n",
       "  </tbody>\n",
       "</table>\n",
       "</div>"
      ],
      "text/plain": [
       "          ONE  TWO  PEEKABOO  FOUR\n",
       "Indiana     0    1         2     3\n",
       "Colorado    4    5         6     7\n",
       "New York    8    9        10    11"
      ]
     },
     "execution_count": 48,
     "metadata": {},
     "output_type": "execute_result"
    }
   ],
   "source": [
    "data.rename(index=str.title, columns=str.upper, inplace=True)  # str.title means to make the 1st letter capitalized only\n",
    "data"
   ]
  },
  {
   "cell_type": "markdown",
   "metadata": {},
   "source": [
    "<a id=\"binning\"></a>"
   ]
  },
  {
   "cell_type": "markdown",
   "metadata": {},
   "source": [
    "### Binning Data Into Intervals"
   ]
  },
  {
   "cell_type": "markdown",
   "metadata": {},
   "source": [
    "[[back to top](#top)]"
   ]
  },
  {
   "cell_type": "code",
   "execution_count": 71,
   "metadata": {
    "collapsed": false,
    "run_control": {
     "read_only": false
    }
   },
   "outputs": [],
   "source": [
    "ages = [20, 22, 25, 27, 21, 23, 37, 31, 61, 45, 41, 32]"
   ]
  },
  {
   "cell_type": "markdown",
   "metadata": {},
   "source": [
    "#### Let’s divide these into bins of 18 to 25, 26 to 35, 35 to 60, and finally 60 and older. To do so, you have to use <i>cut()</i> function:"
   ]
  },
  {
   "cell_type": "code",
   "execution_count": 73,
   "metadata": {
    "collapsed": false,
    "run_control": {
     "read_only": false
    }
   },
   "outputs": [],
   "source": [
    "bins = [18, 25, 35, 60, 100]"
   ]
  },
  {
   "cell_type": "code",
   "execution_count": 75,
   "metadata": {
    "collapsed": false,
    "run_control": {
     "read_only": false
    }
   },
   "outputs": [
    {
     "data": {
      "text/plain": [
       "  (18, 25]\n",
       "  (18, 25]\n",
       "  (18, 25]\n",
       "  (25, 35]\n",
       "  (18, 25]\n",
       "  (18, 25]\n",
       "  (35, 60]\n",
       "  (25, 35]\n",
       " (60, 100]\n",
       "  (35, 60]\n",
       "  (35, 60]\n",
       "  (25, 35]\n",
       "Levels (4): Index(['(18, 25]', '(25, 35]', '(35, 60]', '(60, 100]'], dtype=object)"
      ]
     },
     "execution_count": 75,
     "metadata": {},
     "output_type": "execute_result"
    }
   ],
   "source": [
    "cats = pd.cut(ages, bins)\n",
    "cats"
   ]
  },
  {
   "cell_type": "code",
   "execution_count": 77,
   "metadata": {
    "collapsed": false,
    "run_control": {
     "read_only": false
    }
   },
   "outputs": [
    {
     "data": {
      "text/plain": [
       "array([0, 0, 0, 1, 0, 0, 2, 1, 3, 2, 2, 1], dtype=int32)"
      ]
     },
     "execution_count": 77,
     "metadata": {},
     "output_type": "execute_result"
    }
   ],
   "source": [
    "cats.labels"
   ]
  },
  {
   "cell_type": "code",
   "execution_count": 78,
   "metadata": {
    "collapsed": false,
    "run_control": {
     "read_only": false
    }
   },
   "outputs": [
    {
     "data": {
      "text/plain": [
       "Index(['(18, 25]', '(25, 35]', '(35, 60]', '(60, 100]'], dtype='object')"
      ]
     },
     "execution_count": 78,
     "metadata": {},
     "output_type": "execute_result"
    }
   ],
   "source": [
    "cats.levels"
   ]
  },
  {
   "cell_type": "code",
   "execution_count": 79,
   "metadata": {
    "collapsed": false,
    "run_control": {
     "read_only": false
    }
   },
   "outputs": [
    {
     "data": {
      "text/plain": [
       "(18, 25]     5\n",
       "(35, 60]     3\n",
       "(25, 35]     3\n",
       "(60, 100]    1\n",
       "dtype: int64"
      ]
     },
     "execution_count": 79,
     "metadata": {},
     "output_type": "execute_result"
    }
   ],
   "source": [
    "pd.value_counts(cats)"
   ]
  },
  {
   "cell_type": "markdown",
   "metadata": {},
   "source": [
    "#### If you want the right value to be exclusive in the intervals:"
   ]
  },
  {
   "cell_type": "code",
   "execution_count": 80,
   "metadata": {
    "collapsed": false,
    "run_control": {
     "read_only": false
    }
   },
   "outputs": [
    {
     "data": {
      "text/plain": [
       "  [18, 26)\n",
       "  [18, 26)\n",
       "  [18, 26)\n",
       "  [26, 36)\n",
       "  [18, 26)\n",
       "  [18, 26)\n",
       "  [36, 61)\n",
       "  [26, 36)\n",
       " [61, 100)\n",
       "  [36, 61)\n",
       "  [36, 61)\n",
       "  [26, 36)\n",
       "Levels (4): Index(['[18, 26)', '[26, 36)', '[36, 61)', '[61, 100)'], dtype=object)"
      ]
     },
     "execution_count": 80,
     "metadata": {},
     "output_type": "execute_result"
    }
   ],
   "source": [
    "pd.cut(ages, [18, 26, 36, 61, 100], right=False)"
   ]
  },
  {
   "cell_type": "markdown",
   "metadata": {},
   "source": [
    "#### You can also pass your own bin names by passing a list or array to the labels option:"
   ]
  },
  {
   "cell_type": "code",
   "execution_count": 83,
   "metadata": {
    "collapsed": false,
    "run_control": {
     "read_only": false
    }
   },
   "outputs": [
    {
     "data": {
      "text/plain": [
       "Youth         5\n",
       "YoungAdult    3\n",
       "MiddleAged    3\n",
       "Senior        1\n",
       "dtype: int64"
      ]
     },
     "execution_count": 83,
     "metadata": {},
     "output_type": "execute_result"
    }
   ],
   "source": [
    "group_names = ['Youth', 'YoungAdult', 'MiddleAged', 'Senior']\n",
    "pd.cut(ages, bins, labels=group_names)\n",
    "pd.value_counts(pd.cut(ages, bins, labels=group_names))"
   ]
  },
  {
   "cell_type": "markdown",
   "metadata": {},
   "source": [
    "[[back to top](#top)]"
   ]
  },
  {
   "cell_type": "markdown",
   "metadata": {},
   "source": [
    "<a id=\"group\"></a>"
   ]
  },
  {
   "cell_type": "markdown",
   "metadata": {},
   "source": [
    "## Grouping Data ( see also [value_count()](#value_counts) and [pivot_table()](#pivot_table) )"
   ]
  },
  {
   "cell_type": "markdown",
   "metadata": {},
   "source": [
    "[[back to top](#top)]"
   ]
  },
  {
   "cell_type": "code",
   "execution_count": 1,
   "metadata": {
    "collapsed": false,
    "run_control": {
     "read_only": false
    }
   },
   "outputs": [
    {
     "data": {
      "text/html": [
       "<div style=\"max-height:1000px;max-width:1500px;overflow:auto;\">\n",
       "<table border=\"1\" class=\"dataframe\">\n",
       "  <thead>\n",
       "    <tr style=\"text-align: right;\">\n",
       "      <th></th>\n",
       "      <th>data1</th>\n",
       "      <th>data2</th>\n",
       "      <th>key1</th>\n",
       "      <th>key2</th>\n",
       "    </tr>\n",
       "  </thead>\n",
       "  <tbody>\n",
       "    <tr>\n",
       "      <th>0</th>\n",
       "      <td>-1.206295</td>\n",
       "      <td> 0.277025</td>\n",
       "      <td> a</td>\n",
       "      <td> one</td>\n",
       "    </tr>\n",
       "    <tr>\n",
       "      <th>1</th>\n",
       "      <td>-0.210670</td>\n",
       "      <td> 1.700554</td>\n",
       "      <td> a</td>\n",
       "      <td> two</td>\n",
       "    </tr>\n",
       "    <tr>\n",
       "      <th>2</th>\n",
       "      <td> 1.090656</td>\n",
       "      <td> 0.141390</td>\n",
       "      <td> b</td>\n",
       "      <td> one</td>\n",
       "    </tr>\n",
       "    <tr>\n",
       "      <th>3</th>\n",
       "      <td>-0.755093</td>\n",
       "      <td> 1.402054</td>\n",
       "      <td> b</td>\n",
       "      <td> two</td>\n",
       "    </tr>\n",
       "    <tr>\n",
       "      <th>4</th>\n",
       "      <td> 0.251278</td>\n",
       "      <td> 0.767201</td>\n",
       "      <td> a</td>\n",
       "      <td> one</td>\n",
       "    </tr>\n",
       "  </tbody>\n",
       "</table>\n",
       "<p>5 rows × 4 columns</p>\n",
       "</div>"
      ],
      "text/plain": [
       "      data1     data2 key1 key2\n",
       "0 -1.206295  0.277025    a  one\n",
       "1 -0.210670  1.700554    a  two\n",
       "2  1.090656  0.141390    b  one\n",
       "3 -0.755093  1.402054    b  two\n",
       "4  0.251278  0.767201    a  one\n",
       "\n",
       "[5 rows x 4 columns]"
      ]
     },
     "execution_count": 1,
     "metadata": {},
     "output_type": "execute_result"
    }
   ],
   "source": [
    "import pandas as pd\n",
    "\n",
    "df = pd.DataFrame({'key1' : ['a', 'a', 'b', 'b', 'a'],\n",
    "                   'key2' : ['one', 'two', 'one', 'two', 'one'],\n",
    "                   'data1' : np.random.randn(5),\n",
    "                   'data2' : np.random.randn(5)})\n",
    "df"
   ]
  },
  {
   "cell_type": "code",
   "execution_count": 3,
   "metadata": {
    "collapsed": false,
    "run_control": {
     "read_only": false
    }
   },
   "outputs": [
    {
     "data": {
      "text/plain": [
       "key1\n",
       "a      -0.388562\n",
       "b       0.167782\n",
       "dtype: float64"
      ]
     },
     "execution_count": 3,
     "metadata": {},
     "output_type": "execute_result"
    }
   ],
   "source": [
    "grouped = df['data1'].groupby(df['key1'])\n",
    "grouped.mean()"
   ]
  },
  {
   "cell_type": "markdown",
   "metadata": {},
   "source": [
    "<a id='slicing'></a>"
   ]
  },
  {
   "cell_type": "markdown",
   "metadata": {},
   "source": [
    "## Sub-selecting or Slicing a Data Frame"
   ]
  },
  {
   "cell_type": "markdown",
   "metadata": {},
   "source": [
    "[[back to top](#top)]"
   ]
  },
  {
   "cell_type": "markdown",
   "metadata": {},
   "source": [
    "Filtering by label name: [[loc](#loc)]<br>\n",
    "Filtering by index row and/or column: [[iloc](#iloc)]"
   ]
  },
  {
   "cell_type": "markdown",
   "metadata": {},
   "source": [
    "<a id='df'></a>"
   ]
  },
  {
   "cell_type": "code",
   "execution_count": 1,
   "metadata": {
    "collapsed": false,
    "run_control": {
     "read_only": false
    }
   },
   "outputs": [
    {
     "data": {
      "text/html": [
       "<div>\n",
       "<table border=\"1\" class=\"dataframe\">\n",
       "  <thead>\n",
       "    <tr style=\"text-align: right;\">\n",
       "      <th></th>\n",
       "      <th>A</th>\n",
       "      <th>B</th>\n",
       "      <th>C</th>\n",
       "      <th>D</th>\n",
       "    </tr>\n",
       "  </thead>\n",
       "  <tbody>\n",
       "    <tr>\n",
       "      <th>2013-01-01</th>\n",
       "      <td>0.618255</td>\n",
       "      <td>0.699026</td>\n",
       "      <td>-0.857985</td>\n",
       "      <td>-0.167018</td>\n",
       "    </tr>\n",
       "    <tr>\n",
       "      <th>2013-01-02</th>\n",
       "      <td>1.193699</td>\n",
       "      <td>0.304388</td>\n",
       "      <td>0.036477</td>\n",
       "      <td>0.073046</td>\n",
       "    </tr>\n",
       "    <tr>\n",
       "      <th>2013-01-03</th>\n",
       "      <td>-1.409751</td>\n",
       "      <td>0.599982</td>\n",
       "      <td>1.359995</td>\n",
       "      <td>0.901001</td>\n",
       "    </tr>\n",
       "    <tr>\n",
       "      <th>2013-01-04</th>\n",
       "      <td>0.165882</td>\n",
       "      <td>-0.156601</td>\n",
       "      <td>-0.764553</td>\n",
       "      <td>0.665824</td>\n",
       "    </tr>\n",
       "    <tr>\n",
       "      <th>2013-01-05</th>\n",
       "      <td>0.190956</td>\n",
       "      <td>-0.515755</td>\n",
       "      <td>-0.866012</td>\n",
       "      <td>-0.908422</td>\n",
       "    </tr>\n",
       "    <tr>\n",
       "      <th>2013-01-06</th>\n",
       "      <td>0.849617</td>\n",
       "      <td>-1.473412</td>\n",
       "      <td>0.013182</td>\n",
       "      <td>0.443061</td>\n",
       "    </tr>\n",
       "  </tbody>\n",
       "</table>\n",
       "</div>"
      ],
      "text/plain": [
       "                   A         B         C         D\n",
       "2013-01-01  0.618255  0.699026 -0.857985 -0.167018\n",
       "2013-01-02  1.193699  0.304388  0.036477  0.073046\n",
       "2013-01-03 -1.409751  0.599982  1.359995  0.901001\n",
       "2013-01-04  0.165882 -0.156601 -0.764553  0.665824\n",
       "2013-01-05  0.190956 -0.515755 -0.866012 -0.908422\n",
       "2013-01-06  0.849617 -1.473412  0.013182  0.443061"
      ]
     },
     "execution_count": 1,
     "metadata": {},
     "output_type": "execute_result"
    }
   ],
   "source": [
    "import numpy as np\n",
    "import pandas as pd\n",
    "\n",
    "dates = pd.date_range('20130101',periods=6)\n",
    "df = pd.DataFrame(np.random.randn(6,4),index=dates,columns=list('ABCD'))\n",
    "df"
   ]
  },
  {
   "cell_type": "markdown",
   "metadata": {},
   "source": [
    "### Getting first n rows of data frame using index slicing syntax"
   ]
  },
  {
   "cell_type": "code",
   "execution_count": 2,
   "metadata": {
    "collapsed": false,
    "run_control": {
     "read_only": false
    }
   },
   "outputs": [
    {
     "data": {
      "text/html": [
       "<div style=\"max-height:1000px;max-width:1500px;overflow:auto;\">\n",
       "<table border=\"1\" class=\"dataframe\">\n",
       "  <thead>\n",
       "    <tr style=\"text-align: right;\">\n",
       "      <th></th>\n",
       "      <th>A</th>\n",
       "      <th>B</th>\n",
       "      <th>C</th>\n",
       "      <th>D</th>\n",
       "    </tr>\n",
       "  </thead>\n",
       "  <tbody>\n",
       "    <tr>\n",
       "      <th>2013-01-01</th>\n",
       "      <td> 1.495158</td>\n",
       "      <td> 2.136794</td>\n",
       "      <td> 0.034707</td>\n",
       "      <td>-0.128909</td>\n",
       "    </tr>\n",
       "    <tr>\n",
       "      <th>2013-01-02</th>\n",
       "      <td> 0.562039</td>\n",
       "      <td>-1.150613</td>\n",
       "      <td> 0.265513</td>\n",
       "      <td> 0.093981</td>\n",
       "    </tr>\n",
       "    <tr>\n",
       "      <th>2013-01-03</th>\n",
       "      <td> 0.973170</td>\n",
       "      <td> 0.877070</td>\n",
       "      <td> 0.682884</td>\n",
       "      <td>-0.026271</td>\n",
       "    </tr>\n",
       "  </tbody>\n",
       "</table>\n",
       "</div>"
      ],
      "text/plain": [
       "                   A         B         C         D\n",
       "2013-01-01  1.495158  2.136794  0.034707 -0.128909\n",
       "2013-01-02  0.562039 -1.150613  0.265513  0.093981\n",
       "2013-01-03  0.973170  0.877070  0.682884 -0.026271"
      ]
     },
     "execution_count": 2,
     "metadata": {},
     "output_type": "execute_result"
    }
   ],
   "source": [
    "df[0:3]  # get first 3 rows of the data frame"
   ]
  },
  {
   "cell_type": "markdown",
   "metadata": {},
   "source": [
    "### Slicing based on data frame's index range"
   ]
  },
  {
   "cell_type": "code",
   "execution_count": 3,
   "metadata": {
    "collapsed": false,
    "run_control": {
     "read_only": false
    }
   },
   "outputs": [
    {
     "data": {
      "text/html": [
       "<div style=\"max-height:1000px;max-width:1500px;overflow:auto;\">\n",
       "<table border=\"1\" class=\"dataframe\">\n",
       "  <thead>\n",
       "    <tr style=\"text-align: right;\">\n",
       "      <th></th>\n",
       "      <th>A</th>\n",
       "      <th>B</th>\n",
       "      <th>C</th>\n",
       "      <th>D</th>\n",
       "    </tr>\n",
       "  </thead>\n",
       "  <tbody>\n",
       "    <tr>\n",
       "      <th>2013-01-02</th>\n",
       "      <td> 0.562039</td>\n",
       "      <td>-1.150613</td>\n",
       "      <td> 0.265513</td>\n",
       "      <td> 0.093981</td>\n",
       "    </tr>\n",
       "    <tr>\n",
       "      <th>2013-01-03</th>\n",
       "      <td> 0.973170</td>\n",
       "      <td> 0.877070</td>\n",
       "      <td> 0.682884</td>\n",
       "      <td>-0.026271</td>\n",
       "    </tr>\n",
       "    <tr>\n",
       "      <th>2013-01-04</th>\n",
       "      <td>-1.146283</td>\n",
       "      <td> 1.350325</td>\n",
       "      <td>-0.040049</td>\n",
       "      <td> 1.069154</td>\n",
       "    </tr>\n",
       "  </tbody>\n",
       "</table>\n",
       "</div>"
      ],
      "text/plain": [
       "                   A         B         C         D\n",
       "2013-01-02  0.562039 -1.150613  0.265513  0.093981\n",
       "2013-01-03  0.973170  0.877070  0.682884 -0.026271\n",
       "2013-01-04 -1.146283  1.350325 -0.040049  1.069154"
      ]
     },
     "execution_count": 3,
     "metadata": {},
     "output_type": "execute_result"
    }
   ],
   "source": [
    "df['20130102':'20130104'] # get rows by index range"
   ]
  },
  {
   "cell_type": "markdown",
   "metadata": {},
   "source": [
    "<a id='loc'></a>"
   ]
  },
  {
   "cell_type": "markdown",
   "metadata": {},
   "source": [
    "### Slicing based on column labels/names using loc"
   ]
  },
  {
   "cell_type": "markdown",
   "metadata": {},
   "source": [
    "[[view df](#slicing)]"
   ]
  },
  {
   "cell_type": "code",
   "execution_count": 4,
   "metadata": {
    "collapsed": false,
    "run_control": {
     "read_only": false
    }
   },
   "outputs": [
    {
     "data": {
      "text/html": [
       "<div style=\"max-height:1000px;max-width:1500px;overflow:auto;\">\n",
       "<table border=\"1\" class=\"dataframe\">\n",
       "  <thead>\n",
       "    <tr style=\"text-align: right;\">\n",
       "      <th></th>\n",
       "      <th>A</th>\n",
       "      <th>B</th>\n",
       "    </tr>\n",
       "  </thead>\n",
       "  <tbody>\n",
       "    <tr>\n",
       "      <th>2013-01-01</th>\n",
       "      <td> 1.495158</td>\n",
       "      <td> 2.136794</td>\n",
       "    </tr>\n",
       "    <tr>\n",
       "      <th>2013-01-02</th>\n",
       "      <td> 0.562039</td>\n",
       "      <td>-1.150613</td>\n",
       "    </tr>\n",
       "    <tr>\n",
       "      <th>2013-01-03</th>\n",
       "      <td> 0.973170</td>\n",
       "      <td> 0.877070</td>\n",
       "    </tr>\n",
       "    <tr>\n",
       "      <th>2013-01-04</th>\n",
       "      <td>-1.146283</td>\n",
       "      <td> 1.350325</td>\n",
       "    </tr>\n",
       "    <tr>\n",
       "      <th>2013-01-05</th>\n",
       "      <td> 0.919800</td>\n",
       "      <td>-0.058590</td>\n",
       "    </tr>\n",
       "    <tr>\n",
       "      <th>2013-01-06</th>\n",
       "      <td> 1.286808</td>\n",
       "      <td>-0.357197</td>\n",
       "    </tr>\n",
       "  </tbody>\n",
       "</table>\n",
       "</div>"
      ],
      "text/plain": [
       "                   A         B\n",
       "2013-01-01  1.495158  2.136794\n",
       "2013-01-02  0.562039 -1.150613\n",
       "2013-01-03  0.973170  0.877070\n",
       "2013-01-04 -1.146283  1.350325\n",
       "2013-01-05  0.919800 -0.058590\n",
       "2013-01-06  1.286808 -0.357197"
      ]
     },
     "execution_count": 4,
     "metadata": {},
     "output_type": "execute_result"
    }
   ],
   "source": [
    "df.loc[:,['A','B']]  # syntax is: df.loc[rows_index, cols_index]"
   ]
  },
  {
   "cell_type": "markdown",
   "metadata": {},
   "source": [
    "### Slicing based on row index label and column label combined using loc"
   ]
  },
  {
   "cell_type": "code",
   "execution_count": 5,
   "metadata": {
    "collapsed": false,
    "run_control": {
     "read_only": false
    }
   },
   "outputs": [
    {
     "data": {
      "text/html": [
       "<div style=\"max-height:1000px;max-width:1500px;overflow:auto;\">\n",
       "<table border=\"1\" class=\"dataframe\">\n",
       "  <thead>\n",
       "    <tr style=\"text-align: right;\">\n",
       "      <th></th>\n",
       "      <th>A</th>\n",
       "      <th>B</th>\n",
       "    </tr>\n",
       "  </thead>\n",
       "  <tbody>\n",
       "    <tr>\n",
       "      <th>2013-01-02</th>\n",
       "      <td> 0.562039</td>\n",
       "      <td>-1.150613</td>\n",
       "    </tr>\n",
       "    <tr>\n",
       "      <th>2013-01-03</th>\n",
       "      <td> 0.973170</td>\n",
       "      <td> 0.877070</td>\n",
       "    </tr>\n",
       "    <tr>\n",
       "      <th>2013-01-04</th>\n",
       "      <td>-1.146283</td>\n",
       "      <td> 1.350325</td>\n",
       "    </tr>\n",
       "  </tbody>\n",
       "</table>\n",
       "</div>"
      ],
      "text/plain": [
       "                   A         B\n",
       "2013-01-02  0.562039 -1.150613\n",
       "2013-01-03  0.973170  0.877070\n",
       "2013-01-04 -1.146283  1.350325"
      ]
     },
     "execution_count": 5,
     "metadata": {},
     "output_type": "execute_result"
    }
   ],
   "source": [
    "df.loc['20130102':'20130104',['A','B']]"
   ]
  },
  {
   "cell_type": "markdown",
   "metadata": {},
   "source": [
    "<a id='iloc'></a>"
   ]
  },
  {
   "cell_type": "markdown",
   "metadata": {},
   "source": [
    "### Slicing based on index position of the row or column using iloc"
   ]
  },
  {
   "cell_type": "markdown",
   "metadata": {},
   "source": [
    "[[view df](#slicing)]"
   ]
  },
  {
   "cell_type": "code",
   "execution_count": 6,
   "metadata": {
    "collapsed": false,
    "run_control": {
     "read_only": false
    }
   },
   "outputs": [
    {
     "data": {
      "text/plain": [
       "A   -1.146283\n",
       "B    1.350325\n",
       "C   -0.040049\n",
       "D    1.069154\n",
       "Name: 2013-01-04 00:00:00, dtype: float64"
      ]
     },
     "execution_count": 6,
     "metadata": {},
     "output_type": "execute_result"
    }
   ],
   "source": [
    "df.iloc[3]  # returns 4th row (index=3) of the data frame"
   ]
  },
  {
   "cell_type": "code",
   "execution_count": 7,
   "metadata": {
    "collapsed": false,
    "run_control": {
     "read_only": false
    }
   },
   "outputs": [
    {
     "data": {
      "text/html": [
       "<div style=\"max-height:1000px;max-width:1500px;overflow:auto;\">\n",
       "<table border=\"1\" class=\"dataframe\">\n",
       "  <thead>\n",
       "    <tr style=\"text-align: right;\">\n",
       "      <th></th>\n",
       "      <th>A</th>\n",
       "      <th>B</th>\n",
       "    </tr>\n",
       "  </thead>\n",
       "  <tbody>\n",
       "    <tr>\n",
       "      <th>2013-01-04</th>\n",
       "      <td>-1.146283</td>\n",
       "      <td> 1.350325</td>\n",
       "    </tr>\n",
       "    <tr>\n",
       "      <th>2013-01-05</th>\n",
       "      <td> 0.919800</td>\n",
       "      <td>-0.058590</td>\n",
       "    </tr>\n",
       "  </tbody>\n",
       "</table>\n",
       "</div>"
      ],
      "text/plain": [
       "                   A         B\n",
       "2013-01-04 -1.146283  1.350325\n",
       "2013-01-05  0.919800 -0.058590"
      ]
     },
     "execution_count": 7,
     "metadata": {},
     "output_type": "execute_result"
    }
   ],
   "source": [
    "df.iloc[3:5,0:2]  # returns specific range of rows and columns of the data frame"
   ]
  },
  {
   "cell_type": "code",
   "execution_count": 9,
   "metadata": {
    "collapsed": false,
    "run_control": {
     "read_only": false
    }
   },
   "outputs": [
    {
     "data": {
      "text/html": [
       "<div style=\"max-height:1000px;max-width:1500px;overflow:auto;\">\n",
       "<table border=\"1\" class=\"dataframe\">\n",
       "  <thead>\n",
       "    <tr style=\"text-align: right;\">\n",
       "      <th></th>\n",
       "      <th>A</th>\n",
       "      <th>C</th>\n",
       "    </tr>\n",
       "  </thead>\n",
       "  <tbody>\n",
       "    <tr>\n",
       "      <th>2013-01-02</th>\n",
       "      <td> 0.562039</td>\n",
       "      <td> 0.265513</td>\n",
       "    </tr>\n",
       "    <tr>\n",
       "      <th>2013-01-06</th>\n",
       "      <td> 1.286808</td>\n",
       "      <td>-0.205763</td>\n",
       "    </tr>\n",
       "  </tbody>\n",
       "</table>\n",
       "</div>"
      ],
      "text/plain": [
       "                   A         C\n",
       "2013-01-02  0.562039  0.265513\n",
       "2013-01-06  1.286808 -0.205763"
      ]
     },
     "execution_count": 9,
     "metadata": {},
     "output_type": "execute_result"
    }
   ],
   "source": [
    "df.iloc[[1,5],[0,2]] # returns specific rows and columns using lists containing columns or row indexes"
   ]
  },
  {
   "cell_type": "code",
   "execution_count": 10,
   "metadata": {
    "collapsed": false,
    "run_control": {
     "read_only": false
    }
   },
   "outputs": [
    {
     "data": {
      "text/html": [
       "<div style=\"max-height:1000px;max-width:1500px;overflow:auto;\">\n",
       "<table border=\"1\" class=\"dataframe\">\n",
       "  <thead>\n",
       "    <tr style=\"text-align: right;\">\n",
       "      <th></th>\n",
       "      <th>A</th>\n",
       "      <th>B</th>\n",
       "      <th>C</th>\n",
       "      <th>D</th>\n",
       "    </tr>\n",
       "  </thead>\n",
       "  <tbody>\n",
       "    <tr>\n",
       "      <th>2013-01-02</th>\n",
       "      <td> 0.562039</td>\n",
       "      <td>-1.150613</td>\n",
       "      <td> 0.265513</td>\n",
       "      <td> 0.093981</td>\n",
       "    </tr>\n",
       "    <tr>\n",
       "      <th>2013-01-03</th>\n",
       "      <td> 0.973170</td>\n",
       "      <td> 0.877070</td>\n",
       "      <td> 0.682884</td>\n",
       "      <td>-0.026271</td>\n",
       "    </tr>\n",
       "  </tbody>\n",
       "</table>\n",
       "</div>"
      ],
      "text/plain": [
       "                   A         B         C         D\n",
       "2013-01-02  0.562039 -1.150613  0.265513  0.093981\n",
       "2013-01-03  0.973170  0.877070  0.682884 -0.026271"
      ]
     },
     "execution_count": 10,
     "metadata": {},
     "output_type": "execute_result"
    }
   ],
   "source": [
    "df.iloc[1:3,:]  # returning specific rows and returning all columns"
   ]
  },
  {
   "cell_type": "code",
   "execution_count": 11,
   "metadata": {
    "collapsed": false,
    "run_control": {
     "read_only": false
    }
   },
   "outputs": [
    {
     "data": {
      "text/html": [
       "<div style=\"max-height:1000px;max-width:1500px;overflow:auto;\">\n",
       "<table border=\"1\" class=\"dataframe\">\n",
       "  <thead>\n",
       "    <tr style=\"text-align: right;\">\n",
       "      <th></th>\n",
       "      <th>B</th>\n",
       "      <th>C</th>\n",
       "    </tr>\n",
       "  </thead>\n",
       "  <tbody>\n",
       "    <tr>\n",
       "      <th>2013-01-01</th>\n",
       "      <td> 2.136794</td>\n",
       "      <td> 0.034707</td>\n",
       "    </tr>\n",
       "    <tr>\n",
       "      <th>2013-01-02</th>\n",
       "      <td>-1.150613</td>\n",
       "      <td> 0.265513</td>\n",
       "    </tr>\n",
       "    <tr>\n",
       "      <th>2013-01-03</th>\n",
       "      <td> 0.877070</td>\n",
       "      <td> 0.682884</td>\n",
       "    </tr>\n",
       "    <tr>\n",
       "      <th>2013-01-04</th>\n",
       "      <td> 1.350325</td>\n",
       "      <td>-0.040049</td>\n",
       "    </tr>\n",
       "    <tr>\n",
       "      <th>2013-01-05</th>\n",
       "      <td>-0.058590</td>\n",
       "      <td> 0.083294</td>\n",
       "    </tr>\n",
       "    <tr>\n",
       "      <th>2013-01-06</th>\n",
       "      <td>-0.357197</td>\n",
       "      <td>-0.205763</td>\n",
       "    </tr>\n",
       "  </tbody>\n",
       "</table>\n",
       "</div>"
      ],
      "text/plain": [
       "                   B         C\n",
       "2013-01-01  2.136794  0.034707\n",
       "2013-01-02 -1.150613  0.265513\n",
       "2013-01-03  0.877070  0.682884\n",
       "2013-01-04  1.350325 -0.040049\n",
       "2013-01-05 -0.058590  0.083294\n",
       "2013-01-06 -0.357197 -0.205763"
      ]
     },
     "execution_count": 11,
     "metadata": {},
     "output_type": "execute_result"
    }
   ],
   "source": [
    "df.iloc[:,1:3]  # returning all rows and specific columns"
   ]
  },
  {
   "cell_type": "code",
   "execution_count": 12,
   "metadata": {
    "collapsed": false,
    "run_control": {
     "read_only": false
    }
   },
   "outputs": [
    {
     "data": {
      "text/plain": [
       "-1.1506133975623973"
      ]
     },
     "execution_count": 12,
     "metadata": {},
     "output_type": "execute_result"
    }
   ],
   "source": [
    "df.iloc[1,1]  # getting secific scalar/single value"
   ]
  },
  {
   "cell_type": "markdown",
   "metadata": {},
   "source": [
    "<a id='boolean'></a>"
   ]
  },
  {
   "cell_type": "markdown",
   "metadata": {},
   "source": [
    "## [Boolean Indexing](http://pandas.pydata.org/pandas-docs/stable/indexing.html#boolean-indexing)"
   ]
  },
  {
   "cell_type": "markdown",
   "metadata": {},
   "source": [
    "[[view df](#df)]"
   ]
  },
  {
   "cell_type": "markdown",
   "metadata": {},
   "source": [
    "The boolean operators are: **|** for or, <strong>&</strong> for and, and **~** for not. These **must** be grouped by using parentheses."
   ]
  },
  {
   "cell_type": "code",
   "execution_count": 33,
   "metadata": {
    "collapsed": false,
    "run_control": {
     "read_only": false
    }
   },
   "outputs": [
    {
     "data": {
      "text/html": [
       "<div style=\"max-height:1000px;max-width:1500px;overflow:auto;\">\n",
       "<table border=\"1\" class=\"dataframe\">\n",
       "  <thead>\n",
       "    <tr style=\"text-align: right;\">\n",
       "      <th></th>\n",
       "      <th>A</th>\n",
       "      <th>B</th>\n",
       "      <th>C</th>\n",
       "      <th>D</th>\n",
       "    </tr>\n",
       "  </thead>\n",
       "  <tbody>\n",
       "    <tr>\n",
       "      <th>2013-01-03</th>\n",
       "      <td> 2.351035</td>\n",
       "      <td> 0.085318</td>\n",
       "      <td>-2.265766</td>\n",
       "      <td> 0.432268</td>\n",
       "    </tr>\n",
       "    <tr>\n",
       "      <th>2013-01-04</th>\n",
       "      <td> 0.447390</td>\n",
       "      <td> 0.205224</td>\n",
       "      <td>-0.614702</td>\n",
       "      <td> 0.212125</td>\n",
       "    </tr>\n",
       "    <tr>\n",
       "      <th>2013-01-05</th>\n",
       "      <td>-0.455682</td>\n",
       "      <td>-2.765288</td>\n",
       "      <td> 0.475253</td>\n",
       "      <td> 0.432910</td>\n",
       "    </tr>\n",
       "    <tr>\n",
       "      <th>2013-01-06</th>\n",
       "      <td> 1.000494</td>\n",
       "      <td>-0.462591</td>\n",
       "      <td>-0.638053</td>\n",
       "      <td> 0.481087</td>\n",
       "    </tr>\n",
       "  </tbody>\n",
       "</table>\n",
       "</div>"
      ],
      "text/plain": [
       "                   A         B         C         D\n",
       "2013-01-03  2.351035  0.085318 -2.265766  0.432268\n",
       "2013-01-04  0.447390  0.205224 -0.614702  0.212125\n",
       "2013-01-05 -0.455682 -2.765288  0.475253  0.432910\n",
       "2013-01-06  1.000494 -0.462591 -0.638053  0.481087"
      ]
     },
     "execution_count": 33,
     "metadata": {},
     "output_type": "execute_result"
    }
   ],
   "source": [
    "df[df.A > -0.5]  # or df[df[\"A\"] > -0.5], this syntax works when there is a space in the column name"
   ]
  },
  {
   "cell_type": "markdown",
   "metadata": {},
   "source": [
    "or I've seen some people do boolean filtering by passing \"criteria\" variable to the data frame like so:"
   ]
  },
  {
   "cell_type": "code",
   "execution_count": 34,
   "metadata": {
    "collapsed": false,
    "run_control": {
     "read_only": false
    }
   },
   "outputs": [
    {
     "data": {
      "text/html": [
       "<div style=\"max-height:1000px;max-width:1500px;overflow:auto;\">\n",
       "<table border=\"1\" class=\"dataframe\">\n",
       "  <thead>\n",
       "    <tr style=\"text-align: right;\">\n",
       "      <th></th>\n",
       "      <th>A</th>\n",
       "      <th>B</th>\n",
       "      <th>C</th>\n",
       "      <th>D</th>\n",
       "    </tr>\n",
       "  </thead>\n",
       "  <tbody>\n",
       "    <tr>\n",
       "      <th>2013-01-03</th>\n",
       "      <td> 2.351035</td>\n",
       "      <td> 0.085318</td>\n",
       "      <td>-2.265766</td>\n",
       "      <td> 0.432268</td>\n",
       "    </tr>\n",
       "    <tr>\n",
       "      <th>2013-01-04</th>\n",
       "      <td> 0.447390</td>\n",
       "      <td> 0.205224</td>\n",
       "      <td>-0.614702</td>\n",
       "      <td> 0.212125</td>\n",
       "    </tr>\n",
       "    <tr>\n",
       "      <th>2013-01-05</th>\n",
       "      <td>-0.455682</td>\n",
       "      <td>-2.765288</td>\n",
       "      <td> 0.475253</td>\n",
       "      <td> 0.432910</td>\n",
       "    </tr>\n",
       "    <tr>\n",
       "      <th>2013-01-06</th>\n",
       "      <td> 1.000494</td>\n",
       "      <td>-0.462591</td>\n",
       "      <td>-0.638053</td>\n",
       "      <td> 0.481087</td>\n",
       "    </tr>\n",
       "  </tbody>\n",
       "</table>\n",
       "</div>"
      ],
      "text/plain": [
       "                   A         B         C         D\n",
       "2013-01-03  2.351035  0.085318 -2.265766  0.432268\n",
       "2013-01-04  0.447390  0.205224 -0.614702  0.212125\n",
       "2013-01-05 -0.455682 -2.765288  0.475253  0.432910\n",
       "2013-01-06  1.000494 -0.462591 -0.638053  0.481087"
      ]
     },
     "execution_count": 34,
     "metadata": {},
     "output_type": "execute_result"
    }
   ],
   "source": [
    "criteria = df.A > -0.5\n",
    "df[criteria]"
   ]
  },
  {
   "cell_type": "code",
   "execution_count": 2,
   "metadata": {
    "collapsed": false,
    "run_control": {
     "read_only": false
    }
   },
   "outputs": [
    {
     "data": {
      "text/html": [
       "<div>\n",
       "<table border=\"1\" class=\"dataframe\">\n",
       "  <thead>\n",
       "    <tr style=\"text-align: right;\">\n",
       "      <th></th>\n",
       "      <th>A</th>\n",
       "      <th>B</th>\n",
       "      <th>C</th>\n",
       "      <th>D</th>\n",
       "      <th>E</th>\n",
       "    </tr>\n",
       "  </thead>\n",
       "  <tbody>\n",
       "    <tr>\n",
       "      <th>2013-01-01</th>\n",
       "      <td>0.618255</td>\n",
       "      <td>0.699026</td>\n",
       "      <td>-0.857985</td>\n",
       "      <td>-0.167018</td>\n",
       "      <td>one</td>\n",
       "    </tr>\n",
       "    <tr>\n",
       "      <th>2013-01-02</th>\n",
       "      <td>1.193699</td>\n",
       "      <td>0.304388</td>\n",
       "      <td>0.036477</td>\n",
       "      <td>0.073046</td>\n",
       "      <td>one</td>\n",
       "    </tr>\n",
       "    <tr>\n",
       "      <th>2013-01-03</th>\n",
       "      <td>-1.409751</td>\n",
       "      <td>0.599982</td>\n",
       "      <td>1.359995</td>\n",
       "      <td>0.901001</td>\n",
       "      <td>two</td>\n",
       "    </tr>\n",
       "    <tr>\n",
       "      <th>2013-01-04</th>\n",
       "      <td>0.165882</td>\n",
       "      <td>-0.156601</td>\n",
       "      <td>-0.764553</td>\n",
       "      <td>0.665824</td>\n",
       "      <td>three</td>\n",
       "    </tr>\n",
       "    <tr>\n",
       "      <th>2013-01-05</th>\n",
       "      <td>0.190956</td>\n",
       "      <td>-0.515755</td>\n",
       "      <td>-0.866012</td>\n",
       "      <td>-0.908422</td>\n",
       "      <td>four</td>\n",
       "    </tr>\n",
       "    <tr>\n",
       "      <th>2013-01-06</th>\n",
       "      <td>0.849617</td>\n",
       "      <td>-1.473412</td>\n",
       "      <td>0.013182</td>\n",
       "      <td>0.443061</td>\n",
       "      <td>three</td>\n",
       "    </tr>\n",
       "  </tbody>\n",
       "</table>\n",
       "</div>"
      ],
      "text/plain": [
       "                   A         B         C         D      E\n",
       "2013-01-01  0.618255  0.699026 -0.857985 -0.167018    one\n",
       "2013-01-02  1.193699  0.304388  0.036477  0.073046    one\n",
       "2013-01-03 -1.409751  0.599982  1.359995  0.901001    two\n",
       "2013-01-04  0.165882 -0.156601 -0.764553  0.665824  three\n",
       "2013-01-05  0.190956 -0.515755 -0.866012 -0.908422   four\n",
       "2013-01-06  0.849617 -1.473412  0.013182  0.443061  three"
      ]
     },
     "execution_count": 2,
     "metadata": {},
     "output_type": "execute_result"
    }
   ],
   "source": [
    "df2 = df.copy()\n",
    "df2['E']=['one', 'one','two','three','four','three']\n",
    "df2"
   ]
  },
  {
   "cell_type": "code",
   "execution_count": 36,
   "metadata": {
    "collapsed": false,
    "run_control": {
     "read_only": false
    }
   },
   "outputs": [
    {
     "data": {
      "text/html": [
       "<div style=\"max-height:1000px;max-width:1500px;overflow:auto;\">\n",
       "<table border=\"1\" class=\"dataframe\">\n",
       "  <thead>\n",
       "    <tr style=\"text-align: right;\">\n",
       "      <th></th>\n",
       "      <th>A</th>\n",
       "      <th>B</th>\n",
       "      <th>C</th>\n",
       "      <th>D</th>\n",
       "      <th>E</th>\n",
       "    </tr>\n",
       "  </thead>\n",
       "  <tbody>\n",
       "    <tr>\n",
       "      <th>2013-01-03</th>\n",
       "      <td> 2.351035</td>\n",
       "      <td> 0.085318</td>\n",
       "      <td>-2.265766</td>\n",
       "      <td> 0.432268</td>\n",
       "      <td>  two</td>\n",
       "    </tr>\n",
       "    <tr>\n",
       "      <th>2013-01-05</th>\n",
       "      <td>-0.455682</td>\n",
       "      <td>-2.765288</td>\n",
       "      <td> 0.475253</td>\n",
       "      <td> 0.432910</td>\n",
       "      <td> four</td>\n",
       "    </tr>\n",
       "  </tbody>\n",
       "</table>\n",
       "</div>"
      ],
      "text/plain": [
       "                   A         B         C         D     E\n",
       "2013-01-03  2.351035  0.085318 -2.265766  0.432268   two\n",
       "2013-01-05 -0.455682 -2.765288  0.475253  0.432910  four"
      ]
     },
     "execution_count": 36,
     "metadata": {},
     "output_type": "execute_result"
    }
   ],
   "source": [
    "df2[df2['E'].isin(['two','four'])]  # read as \"return rows where column E contains two or four\""
   ]
  },
  {
   "cell_type": "markdown",
   "metadata": {},
   "source": [
    "#### We can also do partial string matching.  So let's say you don't know the exact spelling a word is you want to match, you can do this:"
   ]
  },
  {
   "cell_type": "code",
   "execution_count": 3,
   "metadata": {
    "collapsed": false,
    "run_control": {
     "read_only": false
    }
   },
   "outputs": [
    {
     "data": {
      "text/html": [
       "<div>\n",
       "<table border=\"1\" class=\"dataframe\">\n",
       "  <thead>\n",
       "    <tr style=\"text-align: right;\">\n",
       "      <th></th>\n",
       "      <th>A</th>\n",
       "      <th>B</th>\n",
       "      <th>C</th>\n",
       "      <th>D</th>\n",
       "      <th>E</th>\n",
       "    </tr>\n",
       "  </thead>\n",
       "  <tbody>\n",
       "    <tr>\n",
       "      <th>2013-01-03</th>\n",
       "      <td>-1.409751</td>\n",
       "      <td>0.599982</td>\n",
       "      <td>1.359995</td>\n",
       "      <td>0.901001</td>\n",
       "      <td>two</td>\n",
       "    </tr>\n",
       "    <tr>\n",
       "      <th>2013-01-05</th>\n",
       "      <td>0.190956</td>\n",
       "      <td>-0.515755</td>\n",
       "      <td>-0.866012</td>\n",
       "      <td>-0.908422</td>\n",
       "      <td>four</td>\n",
       "    </tr>\n",
       "  </tbody>\n",
       "</table>\n",
       "</div>"
      ],
      "text/plain": [
       "                   A         B         C         D     E\n",
       "2013-01-03 -1.409751  0.599982  1.359995  0.901001   two\n",
       "2013-01-05  0.190956 -0.515755 -0.866012 -0.908422  four"
      ]
     },
     "execution_count": 3,
     "metadata": {},
     "output_type": "execute_result"
    }
   ],
   "source": [
    "df2[df2.E.str.contains(\"tw|ou\")]"
   ]
  },
  {
   "cell_type": "markdown",
   "metadata": {},
   "source": [
    "#### Using ~ to do a \"NOT\""
   ]
  },
  {
   "cell_type": "code",
   "execution_count": 38,
   "metadata": {
    "collapsed": false,
    "run_control": {
     "read_only": false
    }
   },
   "outputs": [
    {
     "data": {
      "text/html": [
       "<div style=\"max-height:1000px;max-width:1500px;overflow:auto;\">\n",
       "<table border=\"1\" class=\"dataframe\">\n",
       "  <thead>\n",
       "    <tr style=\"text-align: right;\">\n",
       "      <th></th>\n",
       "      <th>A</th>\n",
       "      <th>B</th>\n",
       "      <th>C</th>\n",
       "      <th>D</th>\n",
       "      <th>E</th>\n",
       "    </tr>\n",
       "  </thead>\n",
       "  <tbody>\n",
       "    <tr>\n",
       "      <th>2013-01-01</th>\n",
       "      <td>-0.564503</td>\n",
       "      <td>-1.195000</td>\n",
       "      <td> 0.441140</td>\n",
       "      <td>-0.291384</td>\n",
       "      <td>   one</td>\n",
       "    </tr>\n",
       "    <tr>\n",
       "      <th>2013-01-02</th>\n",
       "      <td>-0.893038</td>\n",
       "      <td>-0.372430</td>\n",
       "      <td>-0.436048</td>\n",
       "      <td>-0.545141</td>\n",
       "      <td>   one</td>\n",
       "    </tr>\n",
       "    <tr>\n",
       "      <th>2013-01-04</th>\n",
       "      <td> 0.447390</td>\n",
       "      <td> 0.205224</td>\n",
       "      <td>-0.614702</td>\n",
       "      <td> 0.212125</td>\n",
       "      <td> three</td>\n",
       "    </tr>\n",
       "    <tr>\n",
       "      <th>2013-01-06</th>\n",
       "      <td> 1.000494</td>\n",
       "      <td>-0.462591</td>\n",
       "      <td>-0.638053</td>\n",
       "      <td> 0.481087</td>\n",
       "      <td> three</td>\n",
       "    </tr>\n",
       "  </tbody>\n",
       "</table>\n",
       "</div>"
      ],
      "text/plain": [
       "                   A         B         C         D      E\n",
       "2013-01-01 -0.564503 -1.195000  0.441140 -0.291384    one\n",
       "2013-01-02 -0.893038 -0.372430 -0.436048 -0.545141    one\n",
       "2013-01-04  0.447390  0.205224 -0.614702  0.212125  three\n",
       "2013-01-06  1.000494 -0.462591 -0.638053  0.481087  three"
      ]
     },
     "execution_count": 38,
     "metadata": {},
     "output_type": "execute_result"
    }
   ],
   "source": [
    "df2[~df2['E'].isin(['two','four'])]  # column E containing values not in two or four"
   ]
  },
  {
   "cell_type": "markdown",
   "metadata": {},
   "source": [
    "#### Filtering using query() method"
   ]
  },
  {
   "cell_type": "code",
   "execution_count": 52,
   "metadata": {
    "collapsed": false,
    "run_control": {
     "read_only": false
    }
   },
   "outputs": [
    {
     "data": {
      "text/html": [
       "<div style=\"max-height:1000px;max-width:1500px;overflow:auto;\">\n",
       "<table border=\"1\" class=\"dataframe\">\n",
       "  <thead>\n",
       "    <tr style=\"text-align: right;\">\n",
       "      <th></th>\n",
       "      <th>A</th>\n",
       "      <th>B</th>\n",
       "      <th>C</th>\n",
       "      <th>D</th>\n",
       "    </tr>\n",
       "  </thead>\n",
       "  <tbody>\n",
       "    <tr>\n",
       "      <th>2013-01-01</th>\n",
       "      <td>-0.683630</td>\n",
       "      <td>-0.961407</td>\n",
       "      <td> 1.052018</td>\n",
       "      <td> 0.512382</td>\n",
       "    </tr>\n",
       "    <tr>\n",
       "      <th>2013-01-02</th>\n",
       "      <td>-0.755844</td>\n",
       "      <td> 1.672273</td>\n",
       "      <td> 0.365384</td>\n",
       "      <td> 1.030149</td>\n",
       "    </tr>\n",
       "    <tr>\n",
       "      <th>2013-01-03</th>\n",
       "      <td>-0.532466</td>\n",
       "      <td> 0.616725</td>\n",
       "      <td> 1.066731</td>\n",
       "      <td>-1.056756</td>\n",
       "    </tr>\n",
       "    <tr>\n",
       "      <th>2013-01-04</th>\n",
       "      <td> 0.153878</td>\n",
       "      <td>-1.270198</td>\n",
       "      <td> 0.346587</td>\n",
       "      <td> 0.150570</td>\n",
       "    </tr>\n",
       "    <tr>\n",
       "      <th>2013-01-05</th>\n",
       "      <td> 1.645820</td>\n",
       "      <td> 0.817894</td>\n",
       "      <td> 0.168950</td>\n",
       "      <td>-0.833291</td>\n",
       "    </tr>\n",
       "    <tr>\n",
       "      <th>2013-01-06</th>\n",
       "      <td>-0.768034</td>\n",
       "      <td> 1.145290</td>\n",
       "      <td>-0.612168</td>\n",
       "      <td> 0.325120</td>\n",
       "    </tr>\n",
       "  </tbody>\n",
       "</table>\n",
       "</div>"
      ],
      "text/plain": [
       "                   A         B         C         D\n",
       "2013-01-01 -0.683630 -0.961407  1.052018  0.512382\n",
       "2013-01-02 -0.755844  1.672273  0.365384  1.030149\n",
       "2013-01-03 -0.532466  0.616725  1.066731 -1.056756\n",
       "2013-01-04  0.153878 -1.270198  0.346587  0.150570\n",
       "2013-01-05  1.645820  0.817894  0.168950 -0.833291\n",
       "2013-01-06 -0.768034  1.145290 -0.612168  0.325120"
      ]
     },
     "execution_count": 52,
     "metadata": {},
     "output_type": "execute_result"
    }
   ],
   "source": [
    "import numpy as np\n",
    "import pandas as pd\n",
    "\n",
    "dates = pd.date_range('20130101',periods=6)\n",
    "df = pd.DataFrame(np.random.randn(6,4),index=dates,columns=list('ABCD'))\n",
    "df"
   ]
  },
  {
   "cell_type": "code",
   "execution_count": 58,
   "metadata": {
    "collapsed": false,
    "run_control": {
     "read_only": false
    }
   },
   "outputs": [
    {
     "data": {
      "text/html": [
       "<div style=\"max-height:1000px;max-width:1500px;overflow:auto;\">\n",
       "<table border=\"1\" class=\"dataframe\">\n",
       "  <thead>\n",
       "    <tr style=\"text-align: right;\">\n",
       "      <th></th>\n",
       "      <th>A</th>\n",
       "      <th>B</th>\n",
       "      <th>C</th>\n",
       "      <th>D</th>\n",
       "    </tr>\n",
       "  </thead>\n",
       "  <tbody>\n",
       "    <tr>\n",
       "      <th>2013-01-05</th>\n",
       "      <td> 1.64582</td>\n",
       "      <td> 0.817894</td>\n",
       "      <td> 0.16895</td>\n",
       "      <td>-0.833291</td>\n",
       "    </tr>\n",
       "  </tbody>\n",
       "</table>\n",
       "</div>"
      ],
      "text/plain": [
       "                  A         B        C         D\n",
       "2013-01-05  1.64582  0.817894  0.16895 -0.833291"
      ]
     },
     "execution_count": 58,
     "metadata": {},
     "output_type": "execute_result"
    }
   ],
   "source": [
    "df.query('A > C')"
   ]
  },
  {
   "cell_type": "code",
   "execution_count": 69,
   "metadata": {
    "collapsed": false,
    "run_control": {
     "read_only": false
    }
   },
   "outputs": [
    {
     "data": {
      "text/html": [
       "<div style=\"max-height:1000px;max-width:1500px;overflow:auto;\">\n",
       "<table border=\"1\" class=\"dataframe\">\n",
       "  <thead>\n",
       "    <tr style=\"text-align: right;\">\n",
       "      <th></th>\n",
       "      <th>A</th>\n",
       "      <th>B</th>\n",
       "      <th>C</th>\n",
       "      <th>D</th>\n",
       "    </tr>\n",
       "  </thead>\n",
       "  <tbody>\n",
       "    <tr>\n",
       "      <th>2013-01-04</th>\n",
       "      <td> 0.153878</td>\n",
       "      <td>-1.270198</td>\n",
       "      <td> 0.346587</td>\n",
       "      <td> 0.150570</td>\n",
       "    </tr>\n",
       "    <tr>\n",
       "      <th>2013-01-05</th>\n",
       "      <td> 1.645820</td>\n",
       "      <td> 0.817894</td>\n",
       "      <td> 0.168950</td>\n",
       "      <td>-0.833291</td>\n",
       "    </tr>\n",
       "  </tbody>\n",
       "</table>\n",
       "</div>"
      ],
      "text/plain": [
       "                   A         B         C         D\n",
       "2013-01-04  0.153878 -1.270198  0.346587  0.150570\n",
       "2013-01-05  1.645820  0.817894  0.168950 -0.833291"
      ]
     },
     "execution_count": 69,
     "metadata": {},
     "output_type": "execute_result"
    }
   ],
   "source": [
    "df.query('A > 0')"
   ]
  },
  {
   "cell_type": "code",
   "execution_count": 68,
   "metadata": {
    "collapsed": false,
    "run_control": {
     "read_only": false
    }
   },
   "outputs": [
    {
     "data": {
      "text/html": [
       "<div style=\"max-height:1000px;max-width:1500px;overflow:auto;\">\n",
       "<table border=\"1\" class=\"dataframe\">\n",
       "  <thead>\n",
       "    <tr style=\"text-align: right;\">\n",
       "      <th></th>\n",
       "      <th>A</th>\n",
       "      <th>B</th>\n",
       "      <th>C</th>\n",
       "      <th>D</th>\n",
       "    </tr>\n",
       "  </thead>\n",
       "  <tbody>\n",
       "    <tr>\n",
       "      <th>2013-01-04</th>\n",
       "      <td> 0.153878</td>\n",
       "      <td>-1.270198</td>\n",
       "      <td> 0.346587</td>\n",
       "      <td> 0.15057</td>\n",
       "    </tr>\n",
       "  </tbody>\n",
       "</table>\n",
       "</div>"
      ],
      "text/plain": [
       "                   A         B         C        D\n",
       "2013-01-04  0.153878 -1.270198  0.346587  0.15057"
      ]
     },
     "execution_count": 68,
     "metadata": {},
     "output_type": "execute_result"
    }
   ],
   "source": [
    "df.query('A > 0 & A < 1')"
   ]
  },
  {
   "cell_type": "code",
   "execution_count": 65,
   "metadata": {
    "collapsed": false,
    "run_control": {
     "read_only": false
    }
   },
   "outputs": [
    {
     "data": {
      "text/html": [
       "<div style=\"max-height:1000px;max-width:1500px;overflow:auto;\">\n",
       "<table border=\"1\" class=\"dataframe\">\n",
       "  <thead>\n",
       "    <tr style=\"text-align: right;\">\n",
       "      <th></th>\n",
       "      <th>A</th>\n",
       "      <th>B</th>\n",
       "      <th>C</th>\n",
       "      <th>D</th>\n",
       "    </tr>\n",
       "  </thead>\n",
       "  <tbody>\n",
       "    <tr>\n",
       "      <th>2013-01-01</th>\n",
       "      <td>-0.683630</td>\n",
       "      <td>-0.961407</td>\n",
       "      <td> 1.052018</td>\n",
       "      <td> 0.512382</td>\n",
       "    </tr>\n",
       "    <tr>\n",
       "      <th>2013-01-04</th>\n",
       "      <td> 0.153878</td>\n",
       "      <td>-1.270198</td>\n",
       "      <td> 0.346587</td>\n",
       "      <td> 0.150570</td>\n",
       "    </tr>\n",
       "    <tr>\n",
       "      <th>2013-01-05</th>\n",
       "      <td> 1.645820</td>\n",
       "      <td> 0.817894</td>\n",
       "      <td> 0.168950</td>\n",
       "      <td>-0.833291</td>\n",
       "    </tr>\n",
       "  </tbody>\n",
       "</table>\n",
       "</div>"
      ],
      "text/plain": [
       "                   A         B         C         D\n",
       "2013-01-01 -0.683630 -0.961407  1.052018  0.512382\n",
       "2013-01-04  0.153878 -1.270198  0.346587  0.150570\n",
       "2013-01-05  1.645820  0.817894  0.168950 -0.833291"
      ]
     },
     "execution_count": 65,
     "metadata": {},
     "output_type": "execute_result"
    }
   ],
   "source": [
    "df.query('A > B | A > C')  # where A is greater than B or A is greater than C"
   ]
  },
  {
   "cell_type": "markdown",
   "metadata": {},
   "source": [
    "<a id='partial_column_labels'></a>"
   ]
  },
  {
   "cell_type": "markdown",
   "metadata": {},
   "source": [
    "## Obtaining columns with partial column labels"
   ]
  },
  {
   "cell_type": "markdown",
   "metadata": {},
   "source": [
    "[[back to top](#top)]"
   ]
  },
  {
   "cell_type": "code",
   "execution_count": 40,
   "metadata": {
    "collapsed": false,
    "run_control": {
     "read_only": false
    }
   },
   "outputs": [
    {
     "data": {
      "text/html": [
       "<div style=\"max-height:1000px;max-width:1500px;overflow:auto;\">\n",
       "<table border=\"1\" class=\"dataframe\">\n",
       "  <thead>\n",
       "    <tr style=\"text-align: right;\">\n",
       "      <th></th>\n",
       "      <th>data1</th>\n",
       "      <th>data2</th>\n",
       "      <th>key1</th>\n",
       "      <th>key2</th>\n",
       "    </tr>\n",
       "  </thead>\n",
       "  <tbody>\n",
       "    <tr>\n",
       "      <th>0</th>\n",
       "      <td> 0.740132</td>\n",
       "      <td> 1.220225</td>\n",
       "      <td> a</td>\n",
       "      <td> one</td>\n",
       "    </tr>\n",
       "    <tr>\n",
       "      <th>1</th>\n",
       "      <td> 1.223369</td>\n",
       "      <td> 0.830145</td>\n",
       "      <td> a</td>\n",
       "      <td> two</td>\n",
       "    </tr>\n",
       "    <tr>\n",
       "      <th>2</th>\n",
       "      <td>-2.046775</td>\n",
       "      <td>-1.149754</td>\n",
       "      <td> b</td>\n",
       "      <td> one</td>\n",
       "    </tr>\n",
       "    <tr>\n",
       "      <th>3</th>\n",
       "      <td>-3.068403</td>\n",
       "      <td> 0.675124</td>\n",
       "      <td> b</td>\n",
       "      <td> two</td>\n",
       "    </tr>\n",
       "    <tr>\n",
       "      <th>4</th>\n",
       "      <td>-0.467039</td>\n",
       "      <td> 0.640412</td>\n",
       "      <td> a</td>\n",
       "      <td> one</td>\n",
       "    </tr>\n",
       "  </tbody>\n",
       "</table>\n",
       "</div>"
      ],
      "text/plain": [
       "      data1     data2 key1 key2\n",
       "0  0.740132  1.220225    a  one\n",
       "1  1.223369  0.830145    a  two\n",
       "2 -2.046775 -1.149754    b  one\n",
       "3 -3.068403  0.675124    b  two\n",
       "4 -0.467039  0.640412    a  one"
      ]
     },
     "execution_count": 40,
     "metadata": {},
     "output_type": "execute_result"
    }
   ],
   "source": [
    "import pandas as pd\n",
    "\n",
    "df = pd.DataFrame({'key1' : ['a', 'a', 'b', 'b', 'a'],\n",
    "                   'key2' : ['one', 'two', 'one', 'two', 'one'],\n",
    "                   'data1' : np.random.randn(5),\n",
    "                   'data2' : np.random.randn(5)})\n",
    "df"
   ]
  },
  {
   "cell_type": "code",
   "execution_count": 42,
   "metadata": {
    "collapsed": false,
    "run_control": {
     "read_only": false
    }
   },
   "outputs": [
    {
     "data": {
      "text/html": [
       "<div style=\"max-height:1000px;max-width:1500px;overflow:auto;\">\n",
       "<table border=\"1\" class=\"dataframe\">\n",
       "  <thead>\n",
       "    <tr style=\"text-align: right;\">\n",
       "      <th></th>\n",
       "      <th>data1</th>\n",
       "      <th>data2</th>\n",
       "    </tr>\n",
       "  </thead>\n",
       "  <tbody>\n",
       "    <tr>\n",
       "      <th>0</th>\n",
       "      <td> 0.740132</td>\n",
       "      <td> 1.220225</td>\n",
       "    </tr>\n",
       "    <tr>\n",
       "      <th>1</th>\n",
       "      <td> 1.223369</td>\n",
       "      <td> 0.830145</td>\n",
       "    </tr>\n",
       "    <tr>\n",
       "      <th>2</th>\n",
       "      <td>-2.046775</td>\n",
       "      <td>-1.149754</td>\n",
       "    </tr>\n",
       "    <tr>\n",
       "      <th>3</th>\n",
       "      <td>-3.068403</td>\n",
       "      <td> 0.675124</td>\n",
       "    </tr>\n",
       "    <tr>\n",
       "      <th>4</th>\n",
       "      <td>-0.467039</td>\n",
       "      <td> 0.640412</td>\n",
       "    </tr>\n",
       "  </tbody>\n",
       "</table>\n",
       "</div>"
      ],
      "text/plain": [
       "      data1     data2\n",
       "0  0.740132  1.220225\n",
       "1  1.223369  0.830145\n",
       "2 -2.046775 -1.149754\n",
       "3 -3.068403  0.675124\n",
       "4 -0.467039  0.640412"
      ]
     },
     "execution_count": 42,
     "metadata": {},
     "output_type": "execute_result"
    }
   ],
   "source": [
    "df.filter(like='data')"
   ]
  },
  {
   "cell_type": "markdown",
   "metadata": {},
   "source": [
    "<a id='value_counts'></a>"
   ]
  },
  {
   "cell_type": "markdown",
   "metadata": {},
   "source": [
    "## Getting Value Counts"
   ]
  },
  {
   "cell_type": "markdown",
   "metadata": {},
   "source": [
    "It is so tempting to use the groupby() function or pivot_table, but most of the time, value_counts() function is all we need."
   ]
  },
  {
   "cell_type": "markdown",
   "metadata": {},
   "source": [
    "[[back to top](#top)]"
   ]
  },
  {
   "cell_type": "code",
   "execution_count": 1,
   "metadata": {
    "collapsed": false,
    "run_control": {
     "read_only": false
    }
   },
   "outputs": [
    {
     "data": {
      "text/html": [
       "<div>\n",
       "<table border=\"1\" class=\"dataframe\">\n",
       "  <thead>\n",
       "    <tr style=\"text-align: right;\">\n",
       "      <th></th>\n",
       "      <th>group</th>\n",
       "      <th>ounces</th>\n",
       "    </tr>\n",
       "  </thead>\n",
       "  <tbody>\n",
       "    <tr>\n",
       "      <th>0</th>\n",
       "      <td>a</td>\n",
       "      <td>4.0</td>\n",
       "    </tr>\n",
       "    <tr>\n",
       "      <th>1</th>\n",
       "      <td>a</td>\n",
       "      <td>3.0</td>\n",
       "    </tr>\n",
       "    <tr>\n",
       "      <th>2</th>\n",
       "      <td>a</td>\n",
       "      <td>12.0</td>\n",
       "    </tr>\n",
       "    <tr>\n",
       "      <th>3</th>\n",
       "      <td>b</td>\n",
       "      <td>6.0</td>\n",
       "    </tr>\n",
       "    <tr>\n",
       "      <th>4</th>\n",
       "      <td>b</td>\n",
       "      <td>7.5</td>\n",
       "    </tr>\n",
       "    <tr>\n",
       "      <th>5</th>\n",
       "      <td>b</td>\n",
       "      <td>8.0</td>\n",
       "    </tr>\n",
       "    <tr>\n",
       "      <th>6</th>\n",
       "      <td>c</td>\n",
       "      <td>3.0</td>\n",
       "    </tr>\n",
       "    <tr>\n",
       "      <th>7</th>\n",
       "      <td>c</td>\n",
       "      <td>5.0</td>\n",
       "    </tr>\n",
       "    <tr>\n",
       "      <th>8</th>\n",
       "      <td>c</td>\n",
       "      <td>6.0</td>\n",
       "    </tr>\n",
       "  </tbody>\n",
       "</table>\n",
       "</div>"
      ],
      "text/plain": [
       "  group  ounces\n",
       "0     a     4.0\n",
       "1     a     3.0\n",
       "2     a    12.0\n",
       "3     b     6.0\n",
       "4     b     7.5\n",
       "5     b     8.0\n",
       "6     c     3.0\n",
       "7     c     5.0\n",
       "8     c     6.0"
      ]
     },
     "execution_count": 1,
     "metadata": {},
     "output_type": "execute_result"
    }
   ],
   "source": [
    "import pandas as pd\n",
    "data = pd.DataFrame({'group': ['a', 'a', 'a', 'b','b', 'b', 'c', 'c','c'],\n",
    "                 'ounces': [4, 3, 12, 6, 7.5, 8, 3, 5, 6]})\n",
    "data"
   ]
  },
  {
   "cell_type": "code",
   "execution_count": 3,
   "metadata": {
    "collapsed": false,
    "run_control": {
     "read_only": false
    }
   },
   "outputs": [
    {
     "data": {
      "text/plain": [
       "a    3\n",
       "b    3\n",
       "c    3\n",
       "Name: group, dtype: int64"
      ]
     },
     "execution_count": 3,
     "metadata": {},
     "output_type": "execute_result"
    }
   ],
   "source": [
    "data.group.value_counts()"
   ]
  },
  {
   "cell_type": "markdown",
   "metadata": {},
   "source": [
    "<a id='cum_sum'></a>"
   ]
  },
  {
   "cell_type": "markdown",
   "metadata": {},
   "source": [
    "## Getting Cumulative Sum"
   ]
  },
  {
   "cell_type": "markdown",
   "metadata": {},
   "source": [
    "[[back to top](#top)]"
   ]
  },
  {
   "cell_type": "code",
   "execution_count": 3,
   "metadata": {
    "collapsed": false,
    "run_control": {
     "read_only": false
    }
   },
   "outputs": [
    {
     "data": {
      "text/plain": [
       "a    3\n",
       "b    6\n",
       "c    9\n",
       "dtype: int64"
      ]
     },
     "execution_count": 3,
     "metadata": {},
     "output_type": "execute_result"
    }
   ],
   "source": [
    "data.group.value_counts().cumsum()"
   ]
  },
  {
   "cell_type": "markdown",
   "metadata": {},
   "source": [
    "<a id='pivot_table'></a>"
   ]
  },
  {
   "cell_type": "markdown",
   "metadata": {},
   "source": [
    "## Pivot table example - see also this excellent [article](http://pbpython.com/pandas-pivot-table-explained.html) on pivot tables"
   ]
  },
  {
   "cell_type": "markdown",
   "metadata": {},
   "source": [
    "[[back to top](#top)]"
   ]
  },
  {
   "cell_type": "code",
   "execution_count": 51,
   "metadata": {
    "collapsed": false,
    "run_control": {
     "read_only": false
    }
   },
   "outputs": [
    {
     "data": {
      "text/html": [
       "<div style=\"max-height:1000px;max-width:1500px;overflow:auto;\">\n",
       "<table border=\"1\" class=\"dataframe\">\n",
       "  <thead>\n",
       "    <tr style=\"text-align: right;\">\n",
       "      <th></th>\n",
       "      <th>group</th>\n",
       "      <th>ounces</th>\n",
       "    </tr>\n",
       "  </thead>\n",
       "  <tbody>\n",
       "    <tr>\n",
       "      <th>0</th>\n",
       "      <td> a</td>\n",
       "      <td>  4.0</td>\n",
       "    </tr>\n",
       "    <tr>\n",
       "      <th>1</th>\n",
       "      <td> a</td>\n",
       "      <td>  3.0</td>\n",
       "    </tr>\n",
       "    <tr>\n",
       "      <th>2</th>\n",
       "      <td> a</td>\n",
       "      <td> 12.0</td>\n",
       "    </tr>\n",
       "    <tr>\n",
       "      <th>3</th>\n",
       "      <td> b</td>\n",
       "      <td>  6.0</td>\n",
       "    </tr>\n",
       "    <tr>\n",
       "      <th>4</th>\n",
       "      <td> b</td>\n",
       "      <td>  7.5</td>\n",
       "    </tr>\n",
       "    <tr>\n",
       "      <th>5</th>\n",
       "      <td> b</td>\n",
       "      <td>  8.0</td>\n",
       "    </tr>\n",
       "    <tr>\n",
       "      <th>6</th>\n",
       "      <td> c</td>\n",
       "      <td>  3.0</td>\n",
       "    </tr>\n",
       "    <tr>\n",
       "      <th>7</th>\n",
       "      <td> c</td>\n",
       "      <td>  5.0</td>\n",
       "    </tr>\n",
       "    <tr>\n",
       "      <th>8</th>\n",
       "      <td> c</td>\n",
       "      <td>  6.0</td>\n",
       "    </tr>\n",
       "  </tbody>\n",
       "</table>\n",
       "</div>"
      ],
      "text/plain": [
       "  group  ounces\n",
       "0     a     4.0\n",
       "1     a     3.0\n",
       "2     a    12.0\n",
       "3     b     6.0\n",
       "4     b     7.5\n",
       "5     b     8.0\n",
       "6     c     3.0\n",
       "7     c     5.0\n",
       "8     c     6.0"
      ]
     },
     "execution_count": 51,
     "metadata": {},
     "output_type": "execute_result"
    }
   ],
   "source": [
    "import pandas as pd\n",
    "data = pd.DataFrame({'group': ['a', 'a', 'a', 'b','b', 'b', 'c', 'c','c'],\n",
    "                 'ounces': [4, 3, 12, 6, 7.5, 8, 3, 5, 6]})\n",
    "data"
   ]
  },
  {
   "cell_type": "markdown",
   "metadata": {},
   "source": [
    "#### Calculating the means of each group"
   ]
  },
  {
   "cell_type": "code",
   "execution_count": 3,
   "metadata": {
    "collapsed": false,
    "run_control": {
     "read_only": false
    }
   },
   "outputs": [
    {
     "data": {
      "text/plain": [
       "group\n",
       "a        6.333333\n",
       "b        7.166667\n",
       "c        4.666667\n",
       "Name: ounces, dtype: float64"
      ]
     },
     "execution_count": 3,
     "metadata": {},
     "output_type": "execute_result"
    }
   ],
   "source": [
    "data.pivot_table(values='ounces',index='group',aggfunc=np.mean)"
   ]
  },
  {
   "cell_type": "markdown",
   "metadata": {},
   "source": [
    "#### Getting counts by group"
   ]
  },
  {
   "cell_type": "code",
   "execution_count": 5,
   "metadata": {
    "collapsed": false,
    "run_control": {
     "read_only": false
    }
   },
   "outputs": [
    {
     "data": {
      "text/plain": [
       "group\n",
       "a        3\n",
       "b        3\n",
       "c        3\n",
       "Name: ounces, dtype: int64"
      ]
     },
     "execution_count": 5,
     "metadata": {},
     "output_type": "execute_result"
    }
   ],
   "source": [
    "data.pivot_table(values='ounces',index='group',aggfunc='count')"
   ]
  },
  {
   "cell_type": "markdown",
   "metadata": {},
   "source": [
    "#### Getting cumulative sum or running total of the group counts"
   ]
  },
  {
   "cell_type": "code",
   "execution_count": 6,
   "metadata": {
    "collapsed": false,
    "run_control": {
     "read_only": false
    }
   },
   "outputs": [
    {
     "data": {
      "text/plain": [
       "group\n",
       "a        3\n",
       "b        6\n",
       "c        9\n",
       "Name: ounces, dtype: int64"
      ]
     },
     "execution_count": 6,
     "metadata": {},
     "output_type": "execute_result"
    }
   ],
   "source": [
    "data.pivot_table(values='ounces',index='group',aggfunc='count').cumsum()"
   ]
  },
  {
   "cell_type": "code",
   "execution_count": 14,
   "metadata": {
    "collapsed": false,
    "run_control": {
     "read_only": false
    }
   },
   "outputs": [],
   "source": [
    "import pandas as pd\n",
    "\n",
    "# sample data can be dowloaded here: http://pbpython.com/extras/sales-funnel.xlsx\n",
    "df = pd.read_csv('/home/pybokeh/Downloads/sales-funnel.csv')"
   ]
  },
  {
   "cell_type": "code",
   "execution_count": 5,
   "metadata": {
    "collapsed": false,
    "run_control": {
     "read_only": false
    }
   },
   "outputs": [
    {
     "data": {
      "text/html": [
       "<div style=\"max-height:1000px;max-width:1500px;overflow:auto;\">\n",
       "<table border=\"1\" class=\"dataframe\">\n",
       "  <thead>\n",
       "    <tr style=\"text-align: right;\">\n",
       "      <th></th>\n",
       "      <th>Account</th>\n",
       "      <th>Name</th>\n",
       "      <th>Rep</th>\n",
       "      <th>Manager</th>\n",
       "      <th>Product</th>\n",
       "      <th>Quantity</th>\n",
       "      <th>Price</th>\n",
       "      <th>Status</th>\n",
       "    </tr>\n",
       "  </thead>\n",
       "  <tbody>\n",
       "    <tr>\n",
       "      <th>0</th>\n",
       "      <td> 714466</td>\n",
       "      <td>              Trantow-Barrows</td>\n",
       "      <td>  Craig Booker</td>\n",
       "      <td> Debra Henley</td>\n",
       "      <td>         CPU</td>\n",
       "      <td> 1</td>\n",
       "      <td> 30000</td>\n",
       "      <td> presented</td>\n",
       "    </tr>\n",
       "    <tr>\n",
       "      <th>1</th>\n",
       "      <td> 714466</td>\n",
       "      <td>              Trantow-Barrows</td>\n",
       "      <td>  Craig Booker</td>\n",
       "      <td> Debra Henley</td>\n",
       "      <td>    Software</td>\n",
       "      <td> 1</td>\n",
       "      <td> 10000</td>\n",
       "      <td> presented</td>\n",
       "    </tr>\n",
       "    <tr>\n",
       "      <th>2</th>\n",
       "      <td> 714466</td>\n",
       "      <td>              Trantow-Barrows</td>\n",
       "      <td>  Craig Booker</td>\n",
       "      <td> Debra Henley</td>\n",
       "      <td> Maintenance</td>\n",
       "      <td> 2</td>\n",
       "      <td>  5000</td>\n",
       "      <td>   pending</td>\n",
       "    </tr>\n",
       "    <tr>\n",
       "      <th>3</th>\n",
       "      <td> 737550</td>\n",
       "      <td> Fritsch, Russel and Anderson</td>\n",
       "      <td>  Craig Booker</td>\n",
       "      <td> Debra Henley</td>\n",
       "      <td>         CPU</td>\n",
       "      <td> 1</td>\n",
       "      <td> 35000</td>\n",
       "      <td>  declined</td>\n",
       "    </tr>\n",
       "    <tr>\n",
       "      <th>4</th>\n",
       "      <td> 146832</td>\n",
       "      <td>                 Kiehn-Spinka</td>\n",
       "      <td> Daniel Hilton</td>\n",
       "      <td> Debra Henley</td>\n",
       "      <td>         CPU</td>\n",
       "      <td> 2</td>\n",
       "      <td> 65000</td>\n",
       "      <td>       won</td>\n",
       "    </tr>\n",
       "  </tbody>\n",
       "</table>\n",
       "</div>"
      ],
      "text/plain": [
       "   Account                          Name            Rep       Manager  \\\n",
       "0   714466               Trantow-Barrows   Craig Booker  Debra Henley   \n",
       "1   714466               Trantow-Barrows   Craig Booker  Debra Henley   \n",
       "2   714466               Trantow-Barrows   Craig Booker  Debra Henley   \n",
       "3   737550  Fritsch, Russel and Anderson   Craig Booker  Debra Henley   \n",
       "4   146832                  Kiehn-Spinka  Daniel Hilton  Debra Henley   \n",
       "\n",
       "       Product  Quantity  Price     Status  \n",
       "0          CPU         1  30000  presented  \n",
       "1     Software         1  10000  presented  \n",
       "2  Maintenance         2   5000    pending  \n",
       "3          CPU         1  35000   declined  \n",
       "4          CPU         2  65000        won  "
      ]
     },
     "execution_count": 5,
     "metadata": {},
     "output_type": "execute_result"
    }
   ],
   "source": [
    "df.head()"
   ]
  },
  {
   "cell_type": "code",
   "execution_count": 15,
   "metadata": {
    "collapsed": false,
    "run_control": {
     "read_only": false
    }
   },
   "outputs": [
    {
     "data": {
      "text/html": [
       "<div style=\"max-height:1000px;max-width:1500px;overflow:auto;\">\n",
       "<table border=\"1\" class=\"dataframe\">\n",
       "  <thead>\n",
       "    <tr style=\"text-align: right;\">\n",
       "      <th>Product</th>\n",
       "      <th>CPU</th>\n",
       "      <th>Maintenance</th>\n",
       "      <th>Monitor</th>\n",
       "      <th>Software</th>\n",
       "    </tr>\n",
       "    <tr>\n",
       "      <th>Rep</th>\n",
       "      <th></th>\n",
       "      <th></th>\n",
       "      <th></th>\n",
       "      <th></th>\n",
       "    </tr>\n",
       "  </thead>\n",
       "  <tbody>\n",
       "    <tr>\n",
       "      <th>Cedric Moss</th>\n",
       "      <td>2</td>\n",
       "      <td>1</td>\n",
       "      <td>0</td>\n",
       "      <td>1</td>\n",
       "    </tr>\n",
       "    <tr>\n",
       "      <th>Craig Booker</th>\n",
       "      <td>2</td>\n",
       "      <td>1</td>\n",
       "      <td>0</td>\n",
       "      <td>1</td>\n",
       "    </tr>\n",
       "    <tr>\n",
       "      <th>Daniel Hilton</th>\n",
       "      <td>2</td>\n",
       "      <td>0</td>\n",
       "      <td>0</td>\n",
       "      <td>1</td>\n",
       "    </tr>\n",
       "    <tr>\n",
       "      <th>John Smith</th>\n",
       "      <td>1</td>\n",
       "      <td>1</td>\n",
       "      <td>0</td>\n",
       "      <td>0</td>\n",
       "    </tr>\n",
       "    <tr>\n",
       "      <th>Wendy Yule</th>\n",
       "      <td>2</td>\n",
       "      <td>1</td>\n",
       "      <td>1</td>\n",
       "      <td>0</td>\n",
       "    </tr>\n",
       "  </tbody>\n",
       "</table>\n",
       "</div>"
      ],
      "text/plain": [
       "Product        CPU  Maintenance  Monitor  Software\n",
       "Rep                                               \n",
       "Cedric Moss      2            1        0         1\n",
       "Craig Booker     2            1        0         1\n",
       "Daniel Hilton    2            0        0         1\n",
       "John Smith       1            1        0         0\n",
       "Wendy Yule       2            1        1         0"
      ]
     },
     "execution_count": 15,
     "metadata": {},
     "output_type": "execute_result"
    }
   ],
   "source": [
    "by_rep = pd.pivot_table(data=df, index='Rep', columns='Product', values='Quantity', aggfunc='count', fill_value=0)\n",
    "by_rep"
   ]
  },
  {
   "cell_type": "markdown",
   "metadata": {},
   "source": [
    "<a id=\"transform\">"
   ]
  },
  {
   "cell_type": "markdown",
   "metadata": {},
   "source": [
    "## Creating a new column based on a grouping using transform() method"
   ]
  },
  {
   "cell_type": "markdown",
   "metadata": {},
   "source": [
    "[[back to top](#top)]"
   ]
  },
  {
   "cell_type": "markdown",
   "metadata": {},
   "source": [
    "Let's get sample data from dplython library which is a clone of dplyr"
   ]
  },
  {
   "cell_type": "code",
   "execution_count": 6,
   "metadata": {
    "collapsed": false,
    "run_control": {
     "read_only": false
    }
   },
   "outputs": [],
   "source": [
    "from dplython import *"
   ]
  },
  {
   "cell_type": "code",
   "execution_count": 7,
   "metadata": {
    "collapsed": false,
    "run_control": {
     "read_only": false
    }
   },
   "outputs": [
    {
     "data": {
      "text/html": [
       "<div>\n",
       "<table border=\"1\" class=\"dataframe\">\n",
       "  <thead>\n",
       "    <tr style=\"text-align: right;\">\n",
       "      <th></th>\n",
       "      <th>Unnamed: 0</th>\n",
       "      <th>carat</th>\n",
       "      <th>cut</th>\n",
       "      <th>color</th>\n",
       "      <th>clarity</th>\n",
       "      <th>depth</th>\n",
       "      <th>table</th>\n",
       "      <th>price</th>\n",
       "      <th>x</th>\n",
       "      <th>y</th>\n",
       "      <th>z</th>\n",
       "    </tr>\n",
       "  </thead>\n",
       "  <tbody>\n",
       "    <tr>\n",
       "      <th>0</th>\n",
       "      <td>1</td>\n",
       "      <td>0.23</td>\n",
       "      <td>Ideal</td>\n",
       "      <td>E</td>\n",
       "      <td>SI2</td>\n",
       "      <td>61.5</td>\n",
       "      <td>55.0</td>\n",
       "      <td>326</td>\n",
       "      <td>3.95</td>\n",
       "      <td>3.98</td>\n",
       "      <td>2.43</td>\n",
       "    </tr>\n",
       "    <tr>\n",
       "      <th>1</th>\n",
       "      <td>2</td>\n",
       "      <td>0.21</td>\n",
       "      <td>Premium</td>\n",
       "      <td>E</td>\n",
       "      <td>SI1</td>\n",
       "      <td>59.8</td>\n",
       "      <td>61.0</td>\n",
       "      <td>326</td>\n",
       "      <td>3.89</td>\n",
       "      <td>3.84</td>\n",
       "      <td>2.31</td>\n",
       "    </tr>\n",
       "    <tr>\n",
       "      <th>2</th>\n",
       "      <td>3</td>\n",
       "      <td>0.23</td>\n",
       "      <td>Good</td>\n",
       "      <td>E</td>\n",
       "      <td>VS1</td>\n",
       "      <td>56.9</td>\n",
       "      <td>65.0</td>\n",
       "      <td>327</td>\n",
       "      <td>4.05</td>\n",
       "      <td>4.07</td>\n",
       "      <td>2.31</td>\n",
       "    </tr>\n",
       "    <tr>\n",
       "      <th>3</th>\n",
       "      <td>4</td>\n",
       "      <td>0.29</td>\n",
       "      <td>Premium</td>\n",
       "      <td>I</td>\n",
       "      <td>VS2</td>\n",
       "      <td>62.4</td>\n",
       "      <td>58.0</td>\n",
       "      <td>334</td>\n",
       "      <td>4.20</td>\n",
       "      <td>4.23</td>\n",
       "      <td>2.63</td>\n",
       "    </tr>\n",
       "    <tr>\n",
       "      <th>4</th>\n",
       "      <td>5</td>\n",
       "      <td>0.31</td>\n",
       "      <td>Good</td>\n",
       "      <td>J</td>\n",
       "      <td>SI2</td>\n",
       "      <td>63.3</td>\n",
       "      <td>58.0</td>\n",
       "      <td>335</td>\n",
       "      <td>4.34</td>\n",
       "      <td>4.35</td>\n",
       "      <td>2.75</td>\n",
       "    </tr>\n",
       "  </tbody>\n",
       "</table>\n",
       "</div>"
      ],
      "text/plain": [
       "   Unnamed: 0  carat      cut color clarity  depth  table  price     x     y  \\\n",
       "0           1   0.23    Ideal     E     SI2   61.5   55.0    326  3.95  3.98   \n",
       "1           2   0.21  Premium     E     SI1   59.8   61.0    326  3.89  3.84   \n",
       "2           3   0.23     Good     E     VS1   56.9   65.0    327  4.05  4.07   \n",
       "3           4   0.29  Premium     I     VS2   62.4   58.0    334  4.20  4.23   \n",
       "4           5   0.31     Good     J     SI2   63.3   58.0    335  4.34  4.35   \n",
       "\n",
       "      z  \n",
       "0  2.43  \n",
       "1  2.31  \n",
       "2  2.31  \n",
       "3  2.63  \n",
       "4  2.75  "
      ]
     },
     "execution_count": 7,
     "metadata": {},
     "output_type": "execute_result"
    }
   ],
   "source": [
    "diamonds.head()"
   ]
  },
  {
   "cell_type": "markdown",
   "metadata": {},
   "source": [
    "**Goal:** Create a column that contains the difference between a diamond's carat and the average of the carats for *that diamond's* color.<br><br>\n",
    "Key take-away is to use the transform method of your specific column of the groupby object."
   ]
  },
  {
   "cell_type": "code",
   "execution_count": 21,
   "metadata": {
    "collapsed": false,
    "run_control": {
     "read_only": false
    }
   },
   "outputs": [
    {
     "data": {
      "text/html": [
       "<div>\n",
       "<table border=\"1\" class=\"dataframe\">\n",
       "  <thead>\n",
       "    <tr style=\"text-align: right;\">\n",
       "      <th></th>\n",
       "      <th>Unnamed: 0</th>\n",
       "      <th>carat</th>\n",
       "      <th>cut</th>\n",
       "      <th>color</th>\n",
       "      <th>clarity</th>\n",
       "      <th>depth</th>\n",
       "      <th>table</th>\n",
       "      <th>price</th>\n",
       "      <th>x</th>\n",
       "      <th>y</th>\n",
       "      <th>z</th>\n",
       "      <th>carat_diff</th>\n",
       "    </tr>\n",
       "  </thead>\n",
       "  <tbody>\n",
       "    <tr>\n",
       "      <th>31597</th>\n",
       "      <td>31598</td>\n",
       "      <td>0.20</td>\n",
       "      <td>Ideal</td>\n",
       "      <td>D</td>\n",
       "      <td>VS2</td>\n",
       "      <td>61.5</td>\n",
       "      <td>57.0</td>\n",
       "      <td>367</td>\n",
       "      <td>3.81</td>\n",
       "      <td>3.77</td>\n",
       "      <td>2.33</td>\n",
       "      <td>-0.457795</td>\n",
       "    </tr>\n",
       "    <tr>\n",
       "      <th>31600</th>\n",
       "      <td>31601</td>\n",
       "      <td>0.20</td>\n",
       "      <td>Premium</td>\n",
       "      <td>D</td>\n",
       "      <td>VS2</td>\n",
       "      <td>62.3</td>\n",
       "      <td>60.0</td>\n",
       "      <td>367</td>\n",
       "      <td>3.73</td>\n",
       "      <td>3.68</td>\n",
       "      <td>2.31</td>\n",
       "      <td>-0.457795</td>\n",
       "    </tr>\n",
       "    <tr>\n",
       "      <th>31601</th>\n",
       "      <td>31602</td>\n",
       "      <td>0.20</td>\n",
       "      <td>Premium</td>\n",
       "      <td>D</td>\n",
       "      <td>VS2</td>\n",
       "      <td>61.7</td>\n",
       "      <td>60.0</td>\n",
       "      <td>367</td>\n",
       "      <td>3.77</td>\n",
       "      <td>3.72</td>\n",
       "      <td>2.31</td>\n",
       "      <td>-0.457795</td>\n",
       "    </tr>\n",
       "    <tr>\n",
       "      <th>38276</th>\n",
       "      <td>38277</td>\n",
       "      <td>0.21</td>\n",
       "      <td>Premium</td>\n",
       "      <td>D</td>\n",
       "      <td>VS2</td>\n",
       "      <td>61.6</td>\n",
       "      <td>59.0</td>\n",
       "      <td>386</td>\n",
       "      <td>3.82</td>\n",
       "      <td>3.78</td>\n",
       "      <td>2.34</td>\n",
       "      <td>-0.447795</td>\n",
       "    </tr>\n",
       "    <tr>\n",
       "      <th>38277</th>\n",
       "      <td>38278</td>\n",
       "      <td>0.21</td>\n",
       "      <td>Premium</td>\n",
       "      <td>D</td>\n",
       "      <td>VS2</td>\n",
       "      <td>60.6</td>\n",
       "      <td>60.0</td>\n",
       "      <td>386</td>\n",
       "      <td>3.85</td>\n",
       "      <td>3.81</td>\n",
       "      <td>2.32</td>\n",
       "      <td>-0.447795</td>\n",
       "    </tr>\n",
       "    <tr>\n",
       "      <th>38278</th>\n",
       "      <td>38279</td>\n",
       "      <td>0.21</td>\n",
       "      <td>Premium</td>\n",
       "      <td>D</td>\n",
       "      <td>VS2</td>\n",
       "      <td>59.1</td>\n",
       "      <td>62.0</td>\n",
       "      <td>386</td>\n",
       "      <td>3.89</td>\n",
       "      <td>3.86</td>\n",
       "      <td>2.29</td>\n",
       "      <td>-0.447795</td>\n",
       "    </tr>\n",
       "    <tr>\n",
       "      <th>38279</th>\n",
       "      <td>38280</td>\n",
       "      <td>0.21</td>\n",
       "      <td>Premium</td>\n",
       "      <td>D</td>\n",
       "      <td>VS2</td>\n",
       "      <td>58.3</td>\n",
       "      <td>59.0</td>\n",
       "      <td>386</td>\n",
       "      <td>3.96</td>\n",
       "      <td>3.93</td>\n",
       "      <td>2.30</td>\n",
       "      <td>-0.447795</td>\n",
       "    </tr>\n",
       "    <tr>\n",
       "      <th>54</th>\n",
       "      <td>55</td>\n",
       "      <td>0.22</td>\n",
       "      <td>Premium</td>\n",
       "      <td>D</td>\n",
       "      <td>VS2</td>\n",
       "      <td>59.3</td>\n",
       "      <td>62.0</td>\n",
       "      <td>404</td>\n",
       "      <td>3.91</td>\n",
       "      <td>3.88</td>\n",
       "      <td>2.31</td>\n",
       "      <td>-0.437795</td>\n",
       "    </tr>\n",
       "    <tr>\n",
       "      <th>28</th>\n",
       "      <td>29</td>\n",
       "      <td>0.23</td>\n",
       "      <td>Very Good</td>\n",
       "      <td>D</td>\n",
       "      <td>VS2</td>\n",
       "      <td>60.5</td>\n",
       "      <td>61.0</td>\n",
       "      <td>357</td>\n",
       "      <td>3.96</td>\n",
       "      <td>3.97</td>\n",
       "      <td>2.40</td>\n",
       "      <td>-0.427795</td>\n",
       "    </tr>\n",
       "    <tr>\n",
       "      <th>34</th>\n",
       "      <td>35</td>\n",
       "      <td>0.23</td>\n",
       "      <td>Very Good</td>\n",
       "      <td>D</td>\n",
       "      <td>VS1</td>\n",
       "      <td>61.9</td>\n",
       "      <td>58.0</td>\n",
       "      <td>402</td>\n",
       "      <td>3.92</td>\n",
       "      <td>3.96</td>\n",
       "      <td>2.44</td>\n",
       "      <td>-0.427795</td>\n",
       "    </tr>\n",
       "  </tbody>\n",
       "</table>\n",
       "</div>"
      ],
      "text/plain": [
       "       Unnamed: 0  carat        cut color clarity  depth  table  price     x  \\\n",
       "31597       31598   0.20      Ideal     D     VS2   61.5   57.0    367  3.81   \n",
       "31600       31601   0.20    Premium     D     VS2   62.3   60.0    367  3.73   \n",
       "31601       31602   0.20    Premium     D     VS2   61.7   60.0    367  3.77   \n",
       "38276       38277   0.21    Premium     D     VS2   61.6   59.0    386  3.82   \n",
       "38277       38278   0.21    Premium     D     VS2   60.6   60.0    386  3.85   \n",
       "38278       38279   0.21    Premium     D     VS2   59.1   62.0    386  3.89   \n",
       "38279       38280   0.21    Premium     D     VS2   58.3   59.0    386  3.96   \n",
       "54             55   0.22    Premium     D     VS2   59.3   62.0    404  3.91   \n",
       "28             29   0.23  Very Good     D     VS2   60.5   61.0    357  3.96   \n",
       "34             35   0.23  Very Good     D     VS1   61.9   58.0    402  3.92   \n",
       "\n",
       "          y     z  carat_diff  \n",
       "31597  3.77  2.33   -0.457795  \n",
       "31600  3.68  2.31   -0.457795  \n",
       "31601  3.72  2.31   -0.457795  \n",
       "38276  3.78  2.34   -0.447795  \n",
       "38277  3.81  2.32   -0.447795  \n",
       "38278  3.86  2.29   -0.447795  \n",
       "38279  3.93  2.30   -0.447795  \n",
       "54     3.88  2.31   -0.437795  \n",
       "28     3.97  2.40   -0.427795  \n",
       "34     3.96  2.44   -0.427795  "
      ]
     },
     "execution_count": 21,
     "metadata": {},
     "output_type": "execute_result"
    }
   ],
   "source": [
    "(diamonds.assign(carat_diff=diamonds\n",
    "                 .groupby('color')['carat']\n",
    "                 .transform(lambda x:x-x.mean())\n",
    "                )\n",
    "                .sort_values(by=['color','carat_diff'])\n",
    "                .head(10)\n",
    ")"
   ]
  },
  {
   "cell_type": "markdown",
   "metadata": {},
   "source": [
    "**For those curious how to do this using dplyr / dplython:**"
   ]
  },
  {
   "cell_type": "code",
   "execution_count": 20,
   "metadata": {
    "collapsed": false,
    "run_control": {
     "read_only": false
    }
   },
   "outputs": [
    {
     "name": "stderr",
     "output_type": "stream",
     "text": [
      "/home/pybokeh/envs/jupyter/lib/python3.5/site-packages/dplython/dplython.py:379: SettingWithCopyWarning: \n",
      "A value is trying to be set on a copy of a slice from a DataFrame.\n",
      "Try using .loc[row_indexer,col_indexer] = value instead\n",
      "\n",
      "See the caveats in the documentation: http://pandas.pydata.org/pandas-docs/stable/indexing.html#indexing-view-versus-copy\n",
      "  df[key] = val.applyFcns(df)\n",
      "/home/pybokeh/envs/jupyter/lib/python3.5/site-packages/dplython/dplython.py:429: FutureWarning: sort(columns=....) is deprecated, use sort_values(by=.....)\n",
      "  return lambda df: DplyFrame(df.sort(names))\n"
     ]
    },
    {
     "data": {
      "text/html": [
       "<div>\n",
       "<table border=\"1\" class=\"dataframe\">\n",
       "  <thead>\n",
       "    <tr style=\"text-align: right;\">\n",
       "      <th></th>\n",
       "      <th>Unnamed: 0</th>\n",
       "      <th>carat</th>\n",
       "      <th>cut</th>\n",
       "      <th>color</th>\n",
       "      <th>clarity</th>\n",
       "      <th>depth</th>\n",
       "      <th>table</th>\n",
       "      <th>price</th>\n",
       "      <th>x</th>\n",
       "      <th>y</th>\n",
       "      <th>z</th>\n",
       "      <th>carat_diff</th>\n",
       "    </tr>\n",
       "  </thead>\n",
       "  <tbody>\n",
       "    <tr>\n",
       "      <th>25981</th>\n",
       "      <td>31598</td>\n",
       "      <td>0.20</td>\n",
       "      <td>Ideal</td>\n",
       "      <td>D</td>\n",
       "      <td>VS2</td>\n",
       "      <td>61.5</td>\n",
       "      <td>57.0</td>\n",
       "      <td>367</td>\n",
       "      <td>3.81</td>\n",
       "      <td>3.77</td>\n",
       "      <td>2.33</td>\n",
       "      <td>-0.457795</td>\n",
       "    </tr>\n",
       "    <tr>\n",
       "      <th>25982</th>\n",
       "      <td>31601</td>\n",
       "      <td>0.20</td>\n",
       "      <td>Premium</td>\n",
       "      <td>D</td>\n",
       "      <td>VS2</td>\n",
       "      <td>62.3</td>\n",
       "      <td>60.0</td>\n",
       "      <td>367</td>\n",
       "      <td>3.73</td>\n",
       "      <td>3.68</td>\n",
       "      <td>2.31</td>\n",
       "      <td>-0.457795</td>\n",
       "    </tr>\n",
       "    <tr>\n",
       "      <th>25983</th>\n",
       "      <td>31602</td>\n",
       "      <td>0.20</td>\n",
       "      <td>Premium</td>\n",
       "      <td>D</td>\n",
       "      <td>VS2</td>\n",
       "      <td>61.7</td>\n",
       "      <td>60.0</td>\n",
       "      <td>367</td>\n",
       "      <td>3.77</td>\n",
       "      <td>3.72</td>\n",
       "      <td>2.31</td>\n",
       "      <td>-0.457795</td>\n",
       "    </tr>\n",
       "    <tr>\n",
       "      <th>26960</th>\n",
       "      <td>38277</td>\n",
       "      <td>0.21</td>\n",
       "      <td>Premium</td>\n",
       "      <td>D</td>\n",
       "      <td>VS2</td>\n",
       "      <td>61.6</td>\n",
       "      <td>59.0</td>\n",
       "      <td>386</td>\n",
       "      <td>3.82</td>\n",
       "      <td>3.78</td>\n",
       "      <td>2.34</td>\n",
       "      <td>-0.447795</td>\n",
       "    </tr>\n",
       "    <tr>\n",
       "      <th>26961</th>\n",
       "      <td>38278</td>\n",
       "      <td>0.21</td>\n",
       "      <td>Premium</td>\n",
       "      <td>D</td>\n",
       "      <td>VS2</td>\n",
       "      <td>60.6</td>\n",
       "      <td>60.0</td>\n",
       "      <td>386</td>\n",
       "      <td>3.85</td>\n",
       "      <td>3.81</td>\n",
       "      <td>2.32</td>\n",
       "      <td>-0.447795</td>\n",
       "    </tr>\n",
       "    <tr>\n",
       "      <th>26962</th>\n",
       "      <td>38279</td>\n",
       "      <td>0.21</td>\n",
       "      <td>Premium</td>\n",
       "      <td>D</td>\n",
       "      <td>VS2</td>\n",
       "      <td>59.1</td>\n",
       "      <td>62.0</td>\n",
       "      <td>386</td>\n",
       "      <td>3.89</td>\n",
       "      <td>3.86</td>\n",
       "      <td>2.29</td>\n",
       "      <td>-0.447795</td>\n",
       "    </tr>\n",
       "    <tr>\n",
       "      <th>26963</th>\n",
       "      <td>38280</td>\n",
       "      <td>0.21</td>\n",
       "      <td>Premium</td>\n",
       "      <td>D</td>\n",
       "      <td>VS2</td>\n",
       "      <td>58.3</td>\n",
       "      <td>59.0</td>\n",
       "      <td>386</td>\n",
       "      <td>3.96</td>\n",
       "      <td>3.93</td>\n",
       "      <td>2.30</td>\n",
       "      <td>-0.447795</td>\n",
       "    </tr>\n",
       "    <tr>\n",
       "      <th>22409</th>\n",
       "      <td>55</td>\n",
       "      <td>0.22</td>\n",
       "      <td>Premium</td>\n",
       "      <td>D</td>\n",
       "      <td>VS2</td>\n",
       "      <td>59.3</td>\n",
       "      <td>62.0</td>\n",
       "      <td>404</td>\n",
       "      <td>3.91</td>\n",
       "      <td>3.88</td>\n",
       "      <td>2.31</td>\n",
       "      <td>-0.437795</td>\n",
       "    </tr>\n",
       "    <tr>\n",
       "      <th>22404</th>\n",
       "      <td>29</td>\n",
       "      <td>0.23</td>\n",
       "      <td>Very Good</td>\n",
       "      <td>D</td>\n",
       "      <td>VS2</td>\n",
       "      <td>60.5</td>\n",
       "      <td>61.0</td>\n",
       "      <td>357</td>\n",
       "      <td>3.96</td>\n",
       "      <td>3.97</td>\n",
       "      <td>2.40</td>\n",
       "      <td>-0.427795</td>\n",
       "    </tr>\n",
       "    <tr>\n",
       "      <th>22405</th>\n",
       "      <td>35</td>\n",
       "      <td>0.23</td>\n",
       "      <td>Very Good</td>\n",
       "      <td>D</td>\n",
       "      <td>VS1</td>\n",
       "      <td>61.9</td>\n",
       "      <td>58.0</td>\n",
       "      <td>402</td>\n",
       "      <td>3.92</td>\n",
       "      <td>3.96</td>\n",
       "      <td>2.44</td>\n",
       "      <td>-0.427795</td>\n",
       "    </tr>\n",
       "  </tbody>\n",
       "</table>\n",
       "</div>"
      ],
      "text/plain": [
       "       Unnamed: 0  carat        cut color clarity  depth  table  price     x  \\\n",
       "25981       31598   0.20      Ideal     D     VS2   61.5   57.0    367  3.81   \n",
       "25982       31601   0.20    Premium     D     VS2   62.3   60.0    367  3.73   \n",
       "25983       31602   0.20    Premium     D     VS2   61.7   60.0    367  3.77   \n",
       "26960       38277   0.21    Premium     D     VS2   61.6   59.0    386  3.82   \n",
       "26961       38278   0.21    Premium     D     VS2   60.6   60.0    386  3.85   \n",
       "26962       38279   0.21    Premium     D     VS2   59.1   62.0    386  3.89   \n",
       "26963       38280   0.21    Premium     D     VS2   58.3   59.0    386  3.96   \n",
       "22409          55   0.22    Premium     D     VS2   59.3   62.0    404  3.91   \n",
       "22404          29   0.23  Very Good     D     VS2   60.5   61.0    357  3.96   \n",
       "22405          35   0.23  Very Good     D     VS1   61.9   58.0    402  3.92   \n",
       "\n",
       "          y     z  carat_diff  \n",
       "25981  3.77  2.33   -0.457795  \n",
       "25982  3.68  2.31   -0.457795  \n",
       "25983  3.72  2.31   -0.457795  \n",
       "26960  3.78  2.34   -0.447795  \n",
       "26961  3.81  2.32   -0.447795  \n",
       "26962  3.86  2.29   -0.447795  \n",
       "26963  3.93  2.30   -0.447795  \n",
       "22409  3.88  2.31   -0.437795  \n",
       "22404  3.97  2.40   -0.427795  \n",
       "22405  3.96  2.44   -0.427795  "
      ]
     },
     "execution_count": 20,
     "metadata": {},
     "output_type": "execute_result"
    }
   ],
   "source": [
    "# Using dplyr/dplython syntax\n",
    "(diamonds >>\n",
    "  group_by(X.color) >>\n",
    "  mutate(carat_diff = X.carat - X.carat.mean()) >>\n",
    "  ungroup() >>\n",
    "  arrange(X.color, X.carat_diff) >>\n",
    "  head(10)\n",
    ")"
   ]
  },
  {
   "cell_type": "markdown",
   "metadata": {},
   "source": [
    "**Here's a [comparison](http://nbviewer.jupyter.org/github/pybokeh/jupyter_notebooks/blob/master/dplython/dplython_example.ipynb) I made between dplython and pandas.**"
   ]
  },
  {
   "cell_type": "markdown",
   "metadata": {},
   "source": [
    "<a id='perc_rows'>"
   ]
  },
  {
   "cell_type": "markdown",
   "metadata": {},
   "source": [
    "#### Percent of rows"
   ]
  },
  {
   "cell_type": "markdown",
   "metadata": {},
   "source": [
    "[[back to top](#top)]"
   ]
  },
  {
   "cell_type": "code",
   "execution_count": 24,
   "metadata": {
    "collapsed": false,
    "run_control": {
     "read_only": false
    }
   },
   "outputs": [
    {
     "data": {
      "text/html": [
       "<div style=\"max-height:1000px;max-width:1500px;overflow:auto;\">\n",
       "<table border=\"1\" class=\"dataframe\">\n",
       "  <thead>\n",
       "    <tr style=\"text-align: right;\">\n",
       "      <th>Product</th>\n",
       "      <th>CPU</th>\n",
       "      <th>Maintenance</th>\n",
       "      <th>Monitor</th>\n",
       "      <th>Software</th>\n",
       "    </tr>\n",
       "    <tr>\n",
       "      <th>Rep</th>\n",
       "      <th></th>\n",
       "      <th></th>\n",
       "      <th></th>\n",
       "      <th></th>\n",
       "    </tr>\n",
       "  </thead>\n",
       "  <tbody>\n",
       "    <tr>\n",
       "      <th>Cedric Moss</th>\n",
       "      <td>50.000000</td>\n",
       "      <td>25</td>\n",
       "      <td>0</td>\n",
       "      <td>25.000000</td>\n",
       "    </tr>\n",
       "    <tr>\n",
       "      <th>Craig Booker</th>\n",
       "      <td>50.000000</td>\n",
       "      <td>25</td>\n",
       "      <td>0</td>\n",
       "      <td>25.000000</td>\n",
       "    </tr>\n",
       "    <tr>\n",
       "      <th>Daniel Hilton</th>\n",
       "      <td>66.666667</td>\n",
       "      <td>0</td>\n",
       "      <td>0</td>\n",
       "      <td>33.333333</td>\n",
       "    </tr>\n",
       "    <tr>\n",
       "      <th>John Smith</th>\n",
       "      <td>50.000000</td>\n",
       "      <td>50</td>\n",
       "      <td>0</td>\n",
       "      <td>0.000000</td>\n",
       "    </tr>\n",
       "    <tr>\n",
       "      <th>Wendy Yule</th>\n",
       "      <td>50.000000</td>\n",
       "      <td>25</td>\n",
       "      <td>25</td>\n",
       "      <td>0.000000</td>\n",
       "    </tr>\n",
       "  </tbody>\n",
       "</table>\n",
       "</div>"
      ],
      "text/plain": [
       "Product              CPU  Maintenance  Monitor   Software\n",
       "Rep                                                      \n",
       "Cedric Moss    50.000000           25        0  25.000000\n",
       "Craig Booker   50.000000           25        0  25.000000\n",
       "Daniel Hilton  66.666667            0        0  33.333333\n",
       "John Smith     50.000000           50        0   0.000000\n",
       "Wendy Yule     50.000000           25       25   0.000000"
      ]
     },
     "execution_count": 24,
     "metadata": {},
     "output_type": "execute_result"
    }
   ],
   "source": [
    "perc_of_rows = by_rep.apply(lambda x : x / x.sum() * 100, axis='columns') # or axis=1\n",
    "perc_of_rows"
   ]
  },
  {
   "cell_type": "markdown",
   "metadata": {},
   "source": [
    "<a id='perc_columns'>"
   ]
  },
  {
   "cell_type": "markdown",
   "metadata": {},
   "source": [
    "#### Percent of columns"
   ]
  },
  {
   "cell_type": "markdown",
   "metadata": {},
   "source": [
    "[[back to top](#top)]"
   ]
  },
  {
   "cell_type": "code",
   "execution_count": 22,
   "metadata": {
    "collapsed": false,
    "run_control": {
     "read_only": false
    }
   },
   "outputs": [
    {
     "data": {
      "text/html": [
       "<div style=\"max-height:1000px;max-width:1500px;overflow:auto;\">\n",
       "<table border=\"1\" class=\"dataframe\">\n",
       "  <thead>\n",
       "    <tr style=\"text-align: right;\">\n",
       "      <th>Product</th>\n",
       "      <th>CPU</th>\n",
       "      <th>Maintenance</th>\n",
       "      <th>Monitor</th>\n",
       "      <th>Software</th>\n",
       "    </tr>\n",
       "    <tr>\n",
       "      <th>Rep</th>\n",
       "      <th></th>\n",
       "      <th></th>\n",
       "      <th></th>\n",
       "      <th></th>\n",
       "    </tr>\n",
       "  </thead>\n",
       "  <tbody>\n",
       "    <tr>\n",
       "      <th>Cedric Moss</th>\n",
       "      <td>22.222222</td>\n",
       "      <td>25</td>\n",
       "      <td>0</td>\n",
       "      <td>33.333333</td>\n",
       "    </tr>\n",
       "    <tr>\n",
       "      <th>Craig Booker</th>\n",
       "      <td>22.222222</td>\n",
       "      <td>25</td>\n",
       "      <td>0</td>\n",
       "      <td>33.333333</td>\n",
       "    </tr>\n",
       "    <tr>\n",
       "      <th>Daniel Hilton</th>\n",
       "      <td>22.222222</td>\n",
       "      <td>0</td>\n",
       "      <td>0</td>\n",
       "      <td>33.333333</td>\n",
       "    </tr>\n",
       "    <tr>\n",
       "      <th>John Smith</th>\n",
       "      <td>11.111111</td>\n",
       "      <td>25</td>\n",
       "      <td>0</td>\n",
       "      <td>0.000000</td>\n",
       "    </tr>\n",
       "    <tr>\n",
       "      <th>Wendy Yule</th>\n",
       "      <td>22.222222</td>\n",
       "      <td>25</td>\n",
       "      <td>100</td>\n",
       "      <td>0.000000</td>\n",
       "    </tr>\n",
       "  </tbody>\n",
       "</table>\n",
       "</div>"
      ],
      "text/plain": [
       "Product              CPU  Maintenance  Monitor   Software\n",
       "Rep                                                      \n",
       "Cedric Moss    22.222222           25        0  33.333333\n",
       "Craig Booker   22.222222           25        0  33.333333\n",
       "Daniel Hilton  22.222222            0        0  33.333333\n",
       "John Smith     11.111111           25        0   0.000000\n",
       "Wendy Yule     22.222222           25      100   0.000000"
      ]
     },
     "execution_count": 22,
     "metadata": {},
     "output_type": "execute_result"
    }
   ],
   "source": [
    "perc_of_columns = by_rep.apply(lambda x : x / x.sum() * 100, axis='index') # or axis=0\n",
    "perc_of_columns"
   ]
  },
  {
   "cell_type": "markdown",
   "metadata": {},
   "source": [
    "<a id='transpose'>"
   ]
  },
  {
   "cell_type": "markdown",
   "metadata": {},
   "source": [
    "## Transpose a data frame"
   ]
  },
  {
   "cell_type": "markdown",
   "metadata": {},
   "source": [
    "[[back to top](#top)]"
   ]
  },
  {
   "cell_type": "markdown",
   "metadata": {},
   "source": [
    "Let's say you have a data frame with several columns and having a hard time scrolling to see what the data looks like.  Transpose it!"
   ]
  },
  {
   "cell_type": "code",
   "execution_count": 2,
   "metadata": {
    "collapsed": false,
    "run_control": {
     "read_only": false
    }
   },
   "outputs": [
    {
     "data": {
      "text/html": [
       "<div style=\"max-height:1000px;max-width:1500px;overflow:auto;\">\n",
       "<table border=\"1\" class=\"dataframe\">\n",
       "  <thead>\n",
       "    <tr style=\"text-align: right;\">\n",
       "      <th></th>\n",
       "      <th>data1</th>\n",
       "      <th>data2</th>\n",
       "      <th>key1</th>\n",
       "      <th>key2</th>\n",
       "    </tr>\n",
       "  </thead>\n",
       "  <tbody>\n",
       "    <tr>\n",
       "      <th>0</th>\n",
       "      <td>-0.548420</td>\n",
       "      <td> 0.381045</td>\n",
       "      <td> a</td>\n",
       "      <td> one</td>\n",
       "    </tr>\n",
       "    <tr>\n",
       "      <th>1</th>\n",
       "      <td>-0.327573</td>\n",
       "      <td> 0.273854</td>\n",
       "      <td> a</td>\n",
       "      <td> two</td>\n",
       "    </tr>\n",
       "    <tr>\n",
       "      <th>2</th>\n",
       "      <td>-1.356345</td>\n",
       "      <td>-0.045686</td>\n",
       "      <td> b</td>\n",
       "      <td> one</td>\n",
       "    </tr>\n",
       "    <tr>\n",
       "      <th>3</th>\n",
       "      <td>-0.476385</td>\n",
       "      <td> 1.075987</td>\n",
       "      <td> b</td>\n",
       "      <td> two</td>\n",
       "    </tr>\n",
       "    <tr>\n",
       "      <th>4</th>\n",
       "      <td>-0.923575</td>\n",
       "      <td>-0.973773</td>\n",
       "      <td> a</td>\n",
       "      <td> one</td>\n",
       "    </tr>\n",
       "  </tbody>\n",
       "</table>\n",
       "</div>"
      ],
      "text/plain": [
       "      data1     data2 key1 key2\n",
       "0 -0.548420  0.381045    a  one\n",
       "1 -0.327573  0.273854    a  two\n",
       "2 -1.356345 -0.045686    b  one\n",
       "3 -0.476385  1.075987    b  two\n",
       "4 -0.923575 -0.973773    a  one"
      ]
     },
     "execution_count": 2,
     "metadata": {},
     "output_type": "execute_result"
    }
   ],
   "source": [
    "import pandas as pd\n",
    "\n",
    "df = pd.DataFrame({'key1' : ['a', 'a', 'b', 'b', 'a'],\n",
    "                   'key2' : ['one', 'two', 'one', 'two', 'one'],\n",
    "                   'data1' : np.random.randn(5),\n",
    "                   'data2' : np.random.randn(5)})\n",
    "df"
   ]
  },
  {
   "cell_type": "code",
   "execution_count": 3,
   "metadata": {
    "collapsed": false,
    "run_control": {
     "read_only": false
    }
   },
   "outputs": [
    {
     "data": {
      "text/html": [
       "<div style=\"max-height:1000px;max-width:1500px;overflow:auto;\">\n",
       "<table border=\"1\" class=\"dataframe\">\n",
       "  <thead>\n",
       "    <tr style=\"text-align: right;\">\n",
       "      <th></th>\n",
       "      <th>0</th>\n",
       "    </tr>\n",
       "  </thead>\n",
       "  <tbody>\n",
       "    <tr>\n",
       "      <th>data1</th>\n",
       "      <td>-0.5484204</td>\n",
       "    </tr>\n",
       "    <tr>\n",
       "      <th>data2</th>\n",
       "      <td> 0.3810447</td>\n",
       "    </tr>\n",
       "    <tr>\n",
       "      <th>key1</th>\n",
       "      <td>         a</td>\n",
       "    </tr>\n",
       "    <tr>\n",
       "      <th>key2</th>\n",
       "      <td>       one</td>\n",
       "    </tr>\n",
       "  </tbody>\n",
       "</table>\n",
       "</div>"
      ],
      "text/plain": [
       "               0\n",
       "data1 -0.5484204\n",
       "data2  0.3810447\n",
       "key1           a\n",
       "key2         one"
      ]
     },
     "execution_count": 3,
     "metadata": {},
     "output_type": "execute_result"
    }
   ],
   "source": [
    "df.head(1).transpose()"
   ]
  },
  {
   "cell_type": "markdown",
   "metadata": {},
   "source": [
    "You can also do df.dtypes to accomplish similar output, but it's nice to see actual data along with the columns."
   ]
  },
  {
   "cell_type": "code",
   "execution_count": 4,
   "metadata": {
    "collapsed": false,
    "run_control": {
     "read_only": false
    }
   },
   "outputs": [
    {
     "data": {
      "text/plain": [
       "data1    float64\n",
       "data2    float64\n",
       "key1      object\n",
       "key2      object\n",
       "dtype: object"
      ]
     },
     "execution_count": 4,
     "metadata": {},
     "output_type": "execute_result"
    }
   ],
   "source": [
    "df.dtypes"
   ]
  },
  {
   "cell_type": "markdown",
   "metadata": {},
   "source": [
    "<a id=\"index2column\">"
   ]
  },
  {
   "cell_type": "markdown",
   "metadata": {},
   "source": [
    "## Converting a data frame index to a column"
   ]
  },
  {
   "cell_type": "markdown",
   "metadata": {},
   "source": [
    "[[back to top](#top)]"
   ]
  },
  {
   "cell_type": "code",
   "execution_count": 49,
   "metadata": {
    "collapsed": false,
    "run_control": {
     "read_only": false
    }
   },
   "outputs": [
    {
     "data": {
      "text/html": [
       "<div style=\"max-height:1000px;max-width:1500px;overflow:auto;\">\n",
       "<table border=\"1\" class=\"dataframe\">\n",
       "  <thead>\n",
       "    <tr style=\"text-align: right;\">\n",
       "      <th></th>\n",
       "      <th>group</th>\n",
       "      <th>ounces</th>\n",
       "    </tr>\n",
       "  </thead>\n",
       "  <tbody>\n",
       "    <tr>\n",
       "      <th>0</th>\n",
       "      <td> a</td>\n",
       "      <td>  4.0</td>\n",
       "    </tr>\n",
       "    <tr>\n",
       "      <th>1</th>\n",
       "      <td> a</td>\n",
       "      <td>  3.0</td>\n",
       "    </tr>\n",
       "    <tr>\n",
       "      <th>2</th>\n",
       "      <td> a</td>\n",
       "      <td> 12.0</td>\n",
       "    </tr>\n",
       "    <tr>\n",
       "      <th>3</th>\n",
       "      <td> b</td>\n",
       "      <td>  6.0</td>\n",
       "    </tr>\n",
       "    <tr>\n",
       "      <th>4</th>\n",
       "      <td> b</td>\n",
       "      <td>  7.5</td>\n",
       "    </tr>\n",
       "    <tr>\n",
       "      <th>5</th>\n",
       "      <td> b</td>\n",
       "      <td>  8.0</td>\n",
       "    </tr>\n",
       "    <tr>\n",
       "      <th>6</th>\n",
       "      <td> c</td>\n",
       "      <td>  3.0</td>\n",
       "    </tr>\n",
       "    <tr>\n",
       "      <th>7</th>\n",
       "      <td> c</td>\n",
       "      <td>  5.0</td>\n",
       "    </tr>\n",
       "    <tr>\n",
       "      <th>8</th>\n",
       "      <td> c</td>\n",
       "      <td>  6.0</td>\n",
       "    </tr>\n",
       "  </tbody>\n",
       "</table>\n",
       "</div>"
      ],
      "text/plain": [
       "  group  ounces\n",
       "0     a     4.0\n",
       "1     a     3.0\n",
       "2     a    12.0\n",
       "3     b     6.0\n",
       "4     b     7.5\n",
       "5     b     8.0\n",
       "6     c     3.0\n",
       "7     c     5.0\n",
       "8     c     6.0"
      ]
     },
     "execution_count": 49,
     "metadata": {},
     "output_type": "execute_result"
    }
   ],
   "source": [
    "import pandas as pd\n",
    "data = pd.DataFrame({'group': ['a', 'a', 'a', 'b','b', 'b', 'c', 'c','c'],\n",
    "                 'ounces': [4, 3, 12, 6, 7.5, 8, 3, 5, 6]})\n",
    "data"
   ]
  },
  {
   "cell_type": "code",
   "execution_count": 50,
   "metadata": {
    "collapsed": false,
    "run_control": {
     "read_only": false
    }
   },
   "outputs": [
    {
     "data": {
      "text/html": [
       "<div style=\"max-height:1000px;max-width:1500px;overflow:auto;\">\n",
       "<table border=\"1\" class=\"dataframe\">\n",
       "  <thead>\n",
       "    <tr style=\"text-align: right;\">\n",
       "      <th></th>\n",
       "      <th>index</th>\n",
       "      <th>group</th>\n",
       "      <th>ounces</th>\n",
       "    </tr>\n",
       "  </thead>\n",
       "  <tbody>\n",
       "    <tr>\n",
       "      <th>0</th>\n",
       "      <td> 0</td>\n",
       "      <td> a</td>\n",
       "      <td>  4.0</td>\n",
       "    </tr>\n",
       "    <tr>\n",
       "      <th>1</th>\n",
       "      <td> 1</td>\n",
       "      <td> a</td>\n",
       "      <td>  3.0</td>\n",
       "    </tr>\n",
       "    <tr>\n",
       "      <th>2</th>\n",
       "      <td> 2</td>\n",
       "      <td> a</td>\n",
       "      <td> 12.0</td>\n",
       "    </tr>\n",
       "    <tr>\n",
       "      <th>3</th>\n",
       "      <td> 3</td>\n",
       "      <td> b</td>\n",
       "      <td>  6.0</td>\n",
       "    </tr>\n",
       "    <tr>\n",
       "      <th>4</th>\n",
       "      <td> 4</td>\n",
       "      <td> b</td>\n",
       "      <td>  7.5</td>\n",
       "    </tr>\n",
       "    <tr>\n",
       "      <th>5</th>\n",
       "      <td> 5</td>\n",
       "      <td> b</td>\n",
       "      <td>  8.0</td>\n",
       "    </tr>\n",
       "    <tr>\n",
       "      <th>6</th>\n",
       "      <td> 6</td>\n",
       "      <td> c</td>\n",
       "      <td>  3.0</td>\n",
       "    </tr>\n",
       "    <tr>\n",
       "      <th>7</th>\n",
       "      <td> 7</td>\n",
       "      <td> c</td>\n",
       "      <td>  5.0</td>\n",
       "    </tr>\n",
       "    <tr>\n",
       "      <th>8</th>\n",
       "      <td> 8</td>\n",
       "      <td> c</td>\n",
       "      <td>  6.0</td>\n",
       "    </tr>\n",
       "  </tbody>\n",
       "</table>\n",
       "</div>"
      ],
      "text/plain": [
       "   index group  ounces\n",
       "0      0     a     4.0\n",
       "1      1     a     3.0\n",
       "2      2     a    12.0\n",
       "3      3     b     6.0\n",
       "4      4     b     7.5\n",
       "5      5     b     8.0\n",
       "6      6     c     3.0\n",
       "7      7     c     5.0\n",
       "8      8     c     6.0"
      ]
     },
     "execution_count": 50,
     "metadata": {},
     "output_type": "execute_result"
    }
   ],
   "source": [
    "data.reset_index(level=0, inplace=True)\n",
    "data"
   ]
  },
  {
   "cell_type": "markdown",
   "metadata": {},
   "source": [
    "<a id=\"column2index\">"
   ]
  },
  {
   "cell_type": "markdown",
   "metadata": {},
   "source": [
    "## How to set the data frame's index to be one of the columns"
   ]
  },
  {
   "cell_type": "markdown",
   "metadata": {},
   "source": [
    "[[back to top]](#top)"
   ]
  },
  {
   "cell_type": "code",
   "execution_count": 6,
   "metadata": {
    "collapsed": false,
    "run_control": {
     "read_only": false
    }
   },
   "outputs": [
    {
     "data": {
      "text/html": [
       "<div>\n",
       "<table border=\"1\" class=\"dataframe\">\n",
       "  <thead>\n",
       "    <tr style=\"text-align: right;\">\n",
       "      <th></th>\n",
       "      <th>a</th>\n",
       "      <th>b</th>\n",
       "      <th>c</th>\n",
       "    </tr>\n",
       "  </thead>\n",
       "  <tbody>\n",
       "    <tr>\n",
       "      <th>0</th>\n",
       "      <td>1</td>\n",
       "      <td>2</td>\n",
       "      <td>3</td>\n",
       "    </tr>\n",
       "    <tr>\n",
       "      <th>1</th>\n",
       "      <td>10</td>\n",
       "      <td>11</td>\n",
       "      <td>12</td>\n",
       "    </tr>\n",
       "    <tr>\n",
       "      <th>2</th>\n",
       "      <td>20</td>\n",
       "      <td>21</td>\n",
       "      <td>22</td>\n",
       "    </tr>\n",
       "  </tbody>\n",
       "</table>\n",
       "</div>"
      ],
      "text/plain": [
       "    a   b   c\n",
       "0   1   2   3\n",
       "1  10  11  12\n",
       "2  20  21  22"
      ]
     },
     "execution_count": 6,
     "metadata": {},
     "output_type": "execute_result"
    }
   ],
   "source": [
    "import pandas as pd\n",
    "col = ['a','b','c']\n",
    "data = pd.DataFrame([[1,2,3],[10,11,12],[20,21,22]],columns=col)\n",
    "data"
   ]
  },
  {
   "cell_type": "code",
   "execution_count": 7,
   "metadata": {
    "collapsed": false,
    "run_control": {
     "read_only": false
    }
   },
   "outputs": [
    {
     "data": {
      "text/html": [
       "<div>\n",
       "<table border=\"1\" class=\"dataframe\">\n",
       "  <thead>\n",
       "    <tr style=\"text-align: right;\">\n",
       "      <th></th>\n",
       "      <th>b</th>\n",
       "      <th>c</th>\n",
       "    </tr>\n",
       "    <tr>\n",
       "      <th>a</th>\n",
       "      <th></th>\n",
       "      <th></th>\n",
       "    </tr>\n",
       "  </thead>\n",
       "  <tbody>\n",
       "    <tr>\n",
       "      <th>1</th>\n",
       "      <td>2</td>\n",
       "      <td>3</td>\n",
       "    </tr>\n",
       "    <tr>\n",
       "      <th>10</th>\n",
       "      <td>11</td>\n",
       "      <td>12</td>\n",
       "    </tr>\n",
       "    <tr>\n",
       "      <th>20</th>\n",
       "      <td>21</td>\n",
       "      <td>22</td>\n",
       "    </tr>\n",
       "  </tbody>\n",
       "</table>\n",
       "</div>"
      ],
      "text/plain": [
       "     b   c\n",
       "a         \n",
       "1    2   3\n",
       "10  11  12\n",
       "20  21  22"
      ]
     },
     "execution_count": 7,
     "metadata": {},
     "output_type": "execute_result"
    }
   ],
   "source": [
    "data = data.set_index('a')\n",
    "data"
   ]
  },
  {
   "cell_type": "markdown",
   "metadata": {},
   "source": [
    "To remove the index name (\"a\"), do:"
   ]
  },
  {
   "cell_type": "code",
   "execution_count": 8,
   "metadata": {
    "collapsed": false,
    "run_control": {
     "read_only": false
    }
   },
   "outputs": [
    {
     "data": {
      "text/html": [
       "<div>\n",
       "<table border=\"1\" class=\"dataframe\">\n",
       "  <thead>\n",
       "    <tr style=\"text-align: right;\">\n",
       "      <th></th>\n",
       "      <th>b</th>\n",
       "      <th>c</th>\n",
       "    </tr>\n",
       "  </thead>\n",
       "  <tbody>\n",
       "    <tr>\n",
       "      <th>1</th>\n",
       "      <td>2</td>\n",
       "      <td>3</td>\n",
       "    </tr>\n",
       "    <tr>\n",
       "      <th>10</th>\n",
       "      <td>11</td>\n",
       "      <td>12</td>\n",
       "    </tr>\n",
       "    <tr>\n",
       "      <th>20</th>\n",
       "      <td>21</td>\n",
       "      <td>22</td>\n",
       "    </tr>\n",
       "  </tbody>\n",
       "</table>\n",
       "</div>"
      ],
      "text/plain": [
       "     b   c\n",
       "1    2   3\n",
       "10  11  12\n",
       "20  21  22"
      ]
     },
     "execution_count": 8,
     "metadata": {},
     "output_type": "execute_result"
    }
   ],
   "source": [
    "data.index.name = None\n",
    "data"
   ]
  },
  {
   "cell_type": "markdown",
   "metadata": {},
   "source": [
    "<a id='missing_dates'>"
   ]
  },
  {
   "cell_type": "markdown",
   "metadata": {},
   "source": [
    "## How to add or fill in missing dates"
   ]
  },
  {
   "cell_type": "markdown",
   "metadata": {},
   "source": [
    "[[back to top]](#top)"
   ]
  },
  {
   "cell_type": "code",
   "execution_count": 1,
   "metadata": {
    "collapsed": false,
    "run_control": {
     "read_only": false
    }
   },
   "outputs": [
    {
     "data": {
      "text/plain": [
       "09-02-2013     2\n",
       "09-03-2013    10\n",
       "09-06-2013     5\n",
       "09-07-2013     1\n",
       "dtype: int64"
      ]
     },
     "execution_count": 1,
     "metadata": {},
     "output_type": "execute_result"
    }
   ],
   "source": [
    "import pandas as pd\n",
    "\n",
    "idx = pd.date_range('09-01-2013', '09-30-2013')\n",
    "\n",
    "s = pd.Series({'09-02-2013': 2,\n",
    "               '09-03-2013': 10,\n",
    "               '09-06-2013': 5,\n",
    "               '09-07-2013': 1})\n",
    "s"
   ]
  },
  {
   "cell_type": "markdown",
   "metadata": {},
   "source": [
    "#### From above, we have holes in our data.  Let's fill in those missing holes using the idx date_range we specified above."
   ]
  },
  {
   "cell_type": "code",
   "execution_count": 63,
   "metadata": {
    "collapsed": false,
    "run_control": {
     "read_only": false
    }
   },
   "outputs": [
    {
     "data": {
      "text/plain": [
       "2013-09-01     0\n",
       "2013-09-02     2\n",
       "2013-09-03    10\n",
       "2013-09-04     0\n",
       "2013-09-05     0\n",
       "2013-09-06     5\n",
       "2013-09-07     1\n",
       "2013-09-08     0\n",
       "2013-09-09     0\n",
       "2013-09-10     0\n",
       "2013-09-11     0\n",
       "2013-09-12     0\n",
       "2013-09-13     0\n",
       "2013-09-14     0\n",
       "2013-09-15     0\n",
       "2013-09-16     0\n",
       "2013-09-17     0\n",
       "2013-09-18     0\n",
       "2013-09-19     0\n",
       "2013-09-20     0\n",
       "2013-09-21     0\n",
       "2013-09-22     0\n",
       "2013-09-23     0\n",
       "2013-09-24     0\n",
       "2013-09-25     0\n",
       "2013-09-26     0\n",
       "2013-09-27     0\n",
       "2013-09-28     0\n",
       "2013-09-29     0\n",
       "2013-09-30     0\n",
       "Freq: D, dtype: int64"
      ]
     },
     "execution_count": 63,
     "metadata": {},
     "output_type": "execute_result"
    }
   ],
   "source": [
    "s.index = pd.DatetimeIndex(s.index)\n",
    "\n",
    "s = s.reindex(idx, fill_value=0)\n",
    "s"
   ]
  },
  {
   "cell_type": "markdown",
   "metadata": {},
   "source": [
    "<a id='database'>"
   ]
  },
  {
   "cell_type": "markdown",
   "metadata": {},
   "source": [
    "## How to connect and query against a database registered as an ODBC data source (Windows)"
   ]
  },
  {
   "cell_type": "markdown",
   "metadata": {},
   "source": [
    "[[back to top]](#top)"
   ]
  },
  {
   "cell_type": "code",
   "execution_count": null,
   "metadata": {
    "collapsed": false,
    "run_control": {
     "read_only": false
    }
   },
   "outputs": [],
   "source": [
    "import pyodbc           # If using PostgreSQL, MySQL, SQLite, Redshift, MS SQL Server, or Oracle, use db.py instead\n",
    "import pandas as pd\n",
    "from getpass import getpass    # Module that will create a text input widget AND mask your password\n",
    "\n",
    "userid = 'your_userid'\n",
    "pw = getpass(prompt='Enter your password: ')\n",
    "\n",
    "cnxn_string = 'DSN=your_dsn;UID=' + userid + ';PWD=' + pw\n",
    "\n",
    "cnxn = pyodbc.connect(cnxn_string)\n",
    "cursor = cnxn.cursor()\n",
    "\n",
    "sql = \"\"\"\n",
    "SELECT * from your_table...\n",
    "\"\"\"\n",
    "\n",
    "df = pd.read_sql(sql, cnxn, index_col=None, parse_dates={'some_column':\"%Y-%m-%d\"})\n",
    "\n",
    "# Close connections\n",
    "cursor.close()\n",
    "cnxn.close()"
   ]
  },
  {
   "cell_type": "markdown",
   "metadata": {},
   "source": [
    "### Also check out Yhat's [db.py](https://github.com/yhat/db.py).  Currently, doesn't support IBM DB2.  So I'm stuck with pyodbc at work for now."
   ]
  },
  {
   "cell_type": "markdown",
   "metadata": {},
   "source": [
    "<a id='melt'>"
   ]
  },
  {
   "cell_type": "markdown",
   "metadata": {},
   "source": [
    "## How to convert data in wide format to long format using pd.melt()"
   ]
  },
  {
   "cell_type": "markdown",
   "metadata": {},
   "source": [
    "[[back to top](#top)]"
   ]
  },
  {
   "cell_type": "markdown",
   "metadata": {},
   "source": [
    "When using [ggplot](https://github.com/yhat/ggplot) to plot data where you have multiple data series you want to plot, you need to convert data in wide format to long format."
   ]
  },
  {
   "cell_type": "code",
   "execution_count": 7,
   "metadata": {
    "collapsed": false,
    "run_control": {
     "read_only": false
    }
   },
   "outputs": [],
   "source": [
    "from pandas_datareader import data as web\n",
    "from datetime import datetime\n",
    "import pandas as pd\n",
    "\n",
    "stocks = {'tech':['GOOGL', 'MSFT', 'LNKD', 'YHOO', 'FB','HPQ','AMZN'],\n",
    "          'auto':['TM','F','GM','HMC','NSANY','HYMTF'],\n",
    "          'housing':['HD','WMT','LOW']\n",
    "          }\n",
    "\n",
    "start_date = datetime(2014,1,1)\n",
    "end_date = datetime(2014, 11, 30)\n",
    "\n",
    "def get_px(stock, start, end):\n",
    "    return web.get_data_yahoo(stock, start, end)['Adj Close']\n",
    "\n",
    "df = pd.DataFrame({n: get_px(n, start_date, end_date) for n in stocks['tech']})"
   ]
  },
  {
   "cell_type": "markdown",
   "metadata": {},
   "source": [
    "### Below is what data looks like in 'wide' format:"
   ]
  },
  {
   "cell_type": "code",
   "execution_count": 8,
   "metadata": {
    "collapsed": false,
    "run_control": {
     "read_only": false
    }
   },
   "outputs": [
    {
     "data": {
      "text/html": [
       "<div>\n",
       "<table border=\"1\" class=\"dataframe\">\n",
       "  <thead>\n",
       "    <tr style=\"text-align: right;\">\n",
       "      <th></th>\n",
       "      <th>AMZN</th>\n",
       "      <th>FB</th>\n",
       "      <th>GOOGL</th>\n",
       "      <th>HPQ</th>\n",
       "      <th>LNKD</th>\n",
       "      <th>MSFT</th>\n",
       "      <th>YHOO</th>\n",
       "    </tr>\n",
       "    <tr>\n",
       "      <th>Date</th>\n",
       "      <th></th>\n",
       "      <th></th>\n",
       "      <th></th>\n",
       "      <th></th>\n",
       "      <th></th>\n",
       "      <th></th>\n",
       "      <th></th>\n",
       "    </tr>\n",
       "  </thead>\n",
       "  <tbody>\n",
       "    <tr>\n",
       "      <th>2014-01-02</th>\n",
       "      <td>397.970001</td>\n",
       "      <td>54.709999</td>\n",
       "      <td>557.117134</td>\n",
       "      <td>26.726783</td>\n",
       "      <td>207.639999</td>\n",
       "      <td>35.448341</td>\n",
       "      <td>39.590000</td>\n",
       "    </tr>\n",
       "    <tr>\n",
       "      <th>2014-01-03</th>\n",
       "      <td>396.440002</td>\n",
       "      <td>54.560001</td>\n",
       "      <td>553.053047</td>\n",
       "      <td>27.383841</td>\n",
       "      <td>207.419998</td>\n",
       "      <td>35.209856</td>\n",
       "      <td>40.119999</td>\n",
       "    </tr>\n",
       "    <tr>\n",
       "      <th>2014-01-06</th>\n",
       "      <td>393.630005</td>\n",
       "      <td>57.200001</td>\n",
       "      <td>559.219245</td>\n",
       "      <td>27.335529</td>\n",
       "      <td>203.919998</td>\n",
       "      <td>34.465786</td>\n",
       "      <td>39.930000</td>\n",
       "    </tr>\n",
       "    <tr>\n",
       "      <th>2014-01-07</th>\n",
       "      <td>398.029999</td>\n",
       "      <td>57.919998</td>\n",
       "      <td>570.000007</td>\n",
       "      <td>27.229239</td>\n",
       "      <td>209.639999</td>\n",
       "      <td>34.732887</td>\n",
       "      <td>40.919998</td>\n",
       "    </tr>\n",
       "    <tr>\n",
       "      <th>2014-01-08</th>\n",
       "      <td>401.920013</td>\n",
       "      <td>58.230000</td>\n",
       "      <td>571.186226</td>\n",
       "      <td>26.523869</td>\n",
       "      <td>209.059998</td>\n",
       "      <td>34.112826</td>\n",
       "      <td>41.020000</td>\n",
       "    </tr>\n",
       "    <tr>\n",
       "      <th>2014-01-09</th>\n",
       "      <td>401.010010</td>\n",
       "      <td>57.220001</td>\n",
       "      <td>565.685676</td>\n",
       "      <td>26.678471</td>\n",
       "      <td>215.250000</td>\n",
       "      <td>33.893420</td>\n",
       "      <td>40.919998</td>\n",
       "    </tr>\n",
       "    <tr>\n",
       "      <th>2014-01-10</th>\n",
       "      <td>397.660004</td>\n",
       "      <td>57.939999</td>\n",
       "      <td>565.655647</td>\n",
       "      <td>26.765435</td>\n",
       "      <td>218.750000</td>\n",
       "      <td>34.379931</td>\n",
       "      <td>41.230000</td>\n",
       "    </tr>\n",
       "    <tr>\n",
       "      <th>2014-01-13</th>\n",
       "      <td>390.980011</td>\n",
       "      <td>55.910000</td>\n",
       "      <td>562.052070</td>\n",
       "      <td>27.171264</td>\n",
       "      <td>213.539993</td>\n",
       "      <td>33.368755</td>\n",
       "      <td>39.990002</td>\n",
       "    </tr>\n",
       "    <tr>\n",
       "      <th>2014-01-14</th>\n",
       "      <td>397.540009</td>\n",
       "      <td>57.740002</td>\n",
       "      <td>575.275276</td>\n",
       "      <td>27.876635</td>\n",
       "      <td>216.220001</td>\n",
       "      <td>34.131905</td>\n",
       "      <td>41.139999</td>\n",
       "    </tr>\n",
       "    <tr>\n",
       "      <th>2014-01-15</th>\n",
       "      <td>395.869995</td>\n",
       "      <td>57.599998</td>\n",
       "      <td>574.884895</td>\n",
       "      <td>27.866972</td>\n",
       "      <td>216.000000</td>\n",
       "      <td>35.066764</td>\n",
       "      <td>41.070000</td>\n",
       "    </tr>\n",
       "  </tbody>\n",
       "</table>\n",
       "</div>"
      ],
      "text/plain": [
       "                  AMZN         FB       GOOGL        HPQ        LNKD  \\\n",
       "Date                                                                   \n",
       "2014-01-02  397.970001  54.709999  557.117134  26.726783  207.639999   \n",
       "2014-01-03  396.440002  54.560001  553.053047  27.383841  207.419998   \n",
       "2014-01-06  393.630005  57.200001  559.219245  27.335529  203.919998   \n",
       "2014-01-07  398.029999  57.919998  570.000007  27.229239  209.639999   \n",
       "2014-01-08  401.920013  58.230000  571.186226  26.523869  209.059998   \n",
       "2014-01-09  401.010010  57.220001  565.685676  26.678471  215.250000   \n",
       "2014-01-10  397.660004  57.939999  565.655647  26.765435  218.750000   \n",
       "2014-01-13  390.980011  55.910000  562.052070  27.171264  213.539993   \n",
       "2014-01-14  397.540009  57.740002  575.275276  27.876635  216.220001   \n",
       "2014-01-15  395.869995  57.599998  574.884895  27.866972  216.000000   \n",
       "\n",
       "                 MSFT       YHOO  \n",
       "Date                              \n",
       "2014-01-02  35.448341  39.590000  \n",
       "2014-01-03  35.209856  40.119999  \n",
       "2014-01-06  34.465786  39.930000  \n",
       "2014-01-07  34.732887  40.919998  \n",
       "2014-01-08  34.112826  41.020000  \n",
       "2014-01-09  33.893420  40.919998  \n",
       "2014-01-10  34.379931  41.230000  \n",
       "2014-01-13  33.368755  39.990002  \n",
       "2014-01-14  34.131905  41.139999  \n",
       "2014-01-15  35.066764  41.070000  "
      ]
     },
     "execution_count": 8,
     "metadata": {},
     "output_type": "execute_result"
    }
   ],
   "source": [
    "df.head(10)"
   ]
  },
  {
   "cell_type": "code",
   "execution_count": 9,
   "metadata": {
    "collapsed": false,
    "run_control": {
     "read_only": false
    }
   },
   "outputs": [
    {
     "data": {
      "text/html": [
       "<div>\n",
       "<table border=\"1\" class=\"dataframe\">\n",
       "  <thead>\n",
       "    <tr style=\"text-align: right;\">\n",
       "      <th></th>\n",
       "      <th>Date</th>\n",
       "      <th>AMZN</th>\n",
       "      <th>FB</th>\n",
       "      <th>GOOGL</th>\n",
       "      <th>HPQ</th>\n",
       "      <th>LNKD</th>\n",
       "      <th>MSFT</th>\n",
       "      <th>YHOO</th>\n",
       "    </tr>\n",
       "  </thead>\n",
       "  <tbody>\n",
       "    <tr>\n",
       "      <th>0</th>\n",
       "      <td>2014-01-02</td>\n",
       "      <td>397.970001</td>\n",
       "      <td>54.709999</td>\n",
       "      <td>557.117134</td>\n",
       "      <td>26.726783</td>\n",
       "      <td>207.639999</td>\n",
       "      <td>35.448341</td>\n",
       "      <td>39.590000</td>\n",
       "    </tr>\n",
       "    <tr>\n",
       "      <th>1</th>\n",
       "      <td>2014-01-03</td>\n",
       "      <td>396.440002</td>\n",
       "      <td>54.560001</td>\n",
       "      <td>553.053047</td>\n",
       "      <td>27.383841</td>\n",
       "      <td>207.419998</td>\n",
       "      <td>35.209856</td>\n",
       "      <td>40.119999</td>\n",
       "    </tr>\n",
       "    <tr>\n",
       "      <th>2</th>\n",
       "      <td>2014-01-06</td>\n",
       "      <td>393.630005</td>\n",
       "      <td>57.200001</td>\n",
       "      <td>559.219245</td>\n",
       "      <td>27.335529</td>\n",
       "      <td>203.919998</td>\n",
       "      <td>34.465786</td>\n",
       "      <td>39.930000</td>\n",
       "    </tr>\n",
       "    <tr>\n",
       "      <th>3</th>\n",
       "      <td>2014-01-07</td>\n",
       "      <td>398.029999</td>\n",
       "      <td>57.919998</td>\n",
       "      <td>570.000007</td>\n",
       "      <td>27.229239</td>\n",
       "      <td>209.639999</td>\n",
       "      <td>34.732887</td>\n",
       "      <td>40.919998</td>\n",
       "    </tr>\n",
       "    <tr>\n",
       "      <th>4</th>\n",
       "      <td>2014-01-08</td>\n",
       "      <td>401.920013</td>\n",
       "      <td>58.230000</td>\n",
       "      <td>571.186226</td>\n",
       "      <td>26.523869</td>\n",
       "      <td>209.059998</td>\n",
       "      <td>34.112826</td>\n",
       "      <td>41.020000</td>\n",
       "    </tr>\n",
       "    <tr>\n",
       "      <th>5</th>\n",
       "      <td>2014-01-09</td>\n",
       "      <td>401.010010</td>\n",
       "      <td>57.220001</td>\n",
       "      <td>565.685676</td>\n",
       "      <td>26.678471</td>\n",
       "      <td>215.250000</td>\n",
       "      <td>33.893420</td>\n",
       "      <td>40.919998</td>\n",
       "    </tr>\n",
       "    <tr>\n",
       "      <th>6</th>\n",
       "      <td>2014-01-10</td>\n",
       "      <td>397.660004</td>\n",
       "      <td>57.939999</td>\n",
       "      <td>565.655647</td>\n",
       "      <td>26.765435</td>\n",
       "      <td>218.750000</td>\n",
       "      <td>34.379931</td>\n",
       "      <td>41.230000</td>\n",
       "    </tr>\n",
       "    <tr>\n",
       "      <th>7</th>\n",
       "      <td>2014-01-13</td>\n",
       "      <td>390.980011</td>\n",
       "      <td>55.910000</td>\n",
       "      <td>562.052070</td>\n",
       "      <td>27.171264</td>\n",
       "      <td>213.539993</td>\n",
       "      <td>33.368755</td>\n",
       "      <td>39.990002</td>\n",
       "    </tr>\n",
       "    <tr>\n",
       "      <th>8</th>\n",
       "      <td>2014-01-14</td>\n",
       "      <td>397.540009</td>\n",
       "      <td>57.740002</td>\n",
       "      <td>575.275276</td>\n",
       "      <td>27.876635</td>\n",
       "      <td>216.220001</td>\n",
       "      <td>34.131905</td>\n",
       "      <td>41.139999</td>\n",
       "    </tr>\n",
       "    <tr>\n",
       "      <th>9</th>\n",
       "      <td>2014-01-15</td>\n",
       "      <td>395.869995</td>\n",
       "      <td>57.599998</td>\n",
       "      <td>574.884895</td>\n",
       "      <td>27.866972</td>\n",
       "      <td>216.000000</td>\n",
       "      <td>35.066764</td>\n",
       "      <td>41.070000</td>\n",
       "    </tr>\n",
       "  </tbody>\n",
       "</table>\n",
       "</div>"
      ],
      "text/plain": [
       "        Date        AMZN         FB       GOOGL        HPQ        LNKD  \\\n",
       "0 2014-01-02  397.970001  54.709999  557.117134  26.726783  207.639999   \n",
       "1 2014-01-03  396.440002  54.560001  553.053047  27.383841  207.419998   \n",
       "2 2014-01-06  393.630005  57.200001  559.219245  27.335529  203.919998   \n",
       "3 2014-01-07  398.029999  57.919998  570.000007  27.229239  209.639999   \n",
       "4 2014-01-08  401.920013  58.230000  571.186226  26.523869  209.059998   \n",
       "5 2014-01-09  401.010010  57.220001  565.685676  26.678471  215.250000   \n",
       "6 2014-01-10  397.660004  57.939999  565.655647  26.765435  218.750000   \n",
       "7 2014-01-13  390.980011  55.910000  562.052070  27.171264  213.539993   \n",
       "8 2014-01-14  397.540009  57.740002  575.275276  27.876635  216.220001   \n",
       "9 2014-01-15  395.869995  57.599998  574.884895  27.866972  216.000000   \n",
       "\n",
       "        MSFT       YHOO  \n",
       "0  35.448341  39.590000  \n",
       "1  35.209856  40.119999  \n",
       "2  34.465786  39.930000  \n",
       "3  34.732887  40.919998  \n",
       "4  34.112826  41.020000  \n",
       "5  33.893420  40.919998  \n",
       "6  34.379931  41.230000  \n",
       "7  33.368755  39.990002  \n",
       "8  34.131905  41.139999  \n",
       "9  35.066764  41.070000  "
      ]
     },
     "execution_count": 9,
     "metadata": {},
     "output_type": "execute_result"
    }
   ],
   "source": [
    "# Create a column from the index values\n",
    "df.reset_index(level=0, inplace=True)\n",
    "df.head(10)"
   ]
  },
  {
   "cell_type": "markdown",
   "metadata": {},
   "source": [
    "### This is what data looks like in 'long' format:"
   ]
  },
  {
   "cell_type": "code",
   "execution_count": 10,
   "metadata": {
    "collapsed": false,
    "run_control": {
     "read_only": false
    }
   },
   "outputs": [
    {
     "data": {
      "text/html": [
       "<div>\n",
       "<table border=\"1\" class=\"dataframe\">\n",
       "  <thead>\n",
       "    <tr style=\"text-align: right;\">\n",
       "      <th></th>\n",
       "      <th>Date</th>\n",
       "      <th>variable</th>\n",
       "      <th>value</th>\n",
       "    </tr>\n",
       "  </thead>\n",
       "  <tbody>\n",
       "    <tr>\n",
       "      <th>0</th>\n",
       "      <td>2014-01-02</td>\n",
       "      <td>AMZN</td>\n",
       "      <td>397.970001</td>\n",
       "    </tr>\n",
       "    <tr>\n",
       "      <th>1</th>\n",
       "      <td>2014-01-03</td>\n",
       "      <td>AMZN</td>\n",
       "      <td>396.440002</td>\n",
       "    </tr>\n",
       "    <tr>\n",
       "      <th>2</th>\n",
       "      <td>2014-01-06</td>\n",
       "      <td>AMZN</td>\n",
       "      <td>393.630005</td>\n",
       "    </tr>\n",
       "    <tr>\n",
       "      <th>3</th>\n",
       "      <td>2014-01-07</td>\n",
       "      <td>AMZN</td>\n",
       "      <td>398.029999</td>\n",
       "    </tr>\n",
       "    <tr>\n",
       "      <th>4</th>\n",
       "      <td>2014-01-08</td>\n",
       "      <td>AMZN</td>\n",
       "      <td>401.920013</td>\n",
       "    </tr>\n",
       "  </tbody>\n",
       "</table>\n",
       "</div>"
      ],
      "text/plain": [
       "        Date variable       value\n",
       "0 2014-01-02     AMZN  397.970001\n",
       "1 2014-01-03     AMZN  396.440002\n",
       "2 2014-01-06     AMZN  393.630005\n",
       "3 2014-01-07     AMZN  398.029999\n",
       "4 2014-01-08     AMZN  401.920013"
      ]
     },
     "execution_count": 10,
     "metadata": {},
     "output_type": "execute_result"
    }
   ],
   "source": [
    "df_long = pd.melt(df, id_vars=['Date']).dropna()\n",
    "df_long.head()"
   ]
  },
  {
   "cell_type": "code",
   "execution_count": 11,
   "metadata": {
    "collapsed": false,
    "run_control": {
     "read_only": false
    }
   },
   "outputs": [
    {
     "data": {
      "text/html": [
       "<div>\n",
       "<table border=\"1\" class=\"dataframe\">\n",
       "  <thead>\n",
       "    <tr style=\"text-align: right;\">\n",
       "      <th></th>\n",
       "      <th>Date</th>\n",
       "      <th>variable</th>\n",
       "      <th>value</th>\n",
       "    </tr>\n",
       "  </thead>\n",
       "  <tbody>\n",
       "    <tr>\n",
       "      <th>1605</th>\n",
       "      <td>2014-11-21</td>\n",
       "      <td>YHOO</td>\n",
       "      <td>51.040001</td>\n",
       "    </tr>\n",
       "    <tr>\n",
       "      <th>1606</th>\n",
       "      <td>2014-11-24</td>\n",
       "      <td>YHOO</td>\n",
       "      <td>51.830002</td>\n",
       "    </tr>\n",
       "    <tr>\n",
       "      <th>1607</th>\n",
       "      <td>2014-11-25</td>\n",
       "      <td>YHOO</td>\n",
       "      <td>51.720001</td>\n",
       "    </tr>\n",
       "    <tr>\n",
       "      <th>1608</th>\n",
       "      <td>2014-11-26</td>\n",
       "      <td>YHOO</td>\n",
       "      <td>51.930000</td>\n",
       "    </tr>\n",
       "    <tr>\n",
       "      <th>1609</th>\n",
       "      <td>2014-11-28</td>\n",
       "      <td>YHOO</td>\n",
       "      <td>51.740002</td>\n",
       "    </tr>\n",
       "  </tbody>\n",
       "</table>\n",
       "</div>"
      ],
      "text/plain": [
       "           Date variable      value\n",
       "1605 2014-11-21     YHOO  51.040001\n",
       "1606 2014-11-24     YHOO  51.830002\n",
       "1607 2014-11-25     YHOO  51.720001\n",
       "1608 2014-11-26     YHOO  51.930000\n",
       "1609 2014-11-28     YHOO  51.740002"
      ]
     },
     "execution_count": 11,
     "metadata": {},
     "output_type": "execute_result"
    }
   ],
   "source": [
    "df_long.tail()"
   ]
  },
  {
   "cell_type": "code",
   "execution_count": 12,
   "metadata": {
    "collapsed": false,
    "run_control": {
     "read_only": false
    }
   },
   "outputs": [
    {
     "data": {
      "text/html": [
       "<div>\n",
       "<table border=\"1\" class=\"dataframe\">\n",
       "  <thead>\n",
       "    <tr style=\"text-align: right;\">\n",
       "      <th></th>\n",
       "      <th>Date</th>\n",
       "      <th>Stock</th>\n",
       "      <th>Price</th>\n",
       "    </tr>\n",
       "  </thead>\n",
       "  <tbody>\n",
       "    <tr>\n",
       "      <th>0</th>\n",
       "      <td>2014-01-02</td>\n",
       "      <td>AMZN</td>\n",
       "      <td>397.970001</td>\n",
       "    </tr>\n",
       "    <tr>\n",
       "      <th>1</th>\n",
       "      <td>2014-01-03</td>\n",
       "      <td>AMZN</td>\n",
       "      <td>396.440002</td>\n",
       "    </tr>\n",
       "    <tr>\n",
       "      <th>2</th>\n",
       "      <td>2014-01-06</td>\n",
       "      <td>AMZN</td>\n",
       "      <td>393.630005</td>\n",
       "    </tr>\n",
       "    <tr>\n",
       "      <th>3</th>\n",
       "      <td>2014-01-07</td>\n",
       "      <td>AMZN</td>\n",
       "      <td>398.029999</td>\n",
       "    </tr>\n",
       "    <tr>\n",
       "      <th>4</th>\n",
       "      <td>2014-01-08</td>\n",
       "      <td>AMZN</td>\n",
       "      <td>401.920013</td>\n",
       "    </tr>\n",
       "    <tr>\n",
       "      <th>5</th>\n",
       "      <td>2014-01-09</td>\n",
       "      <td>AMZN</td>\n",
       "      <td>401.010010</td>\n",
       "    </tr>\n",
       "    <tr>\n",
       "      <th>6</th>\n",
       "      <td>2014-01-10</td>\n",
       "      <td>AMZN</td>\n",
       "      <td>397.660004</td>\n",
       "    </tr>\n",
       "    <tr>\n",
       "      <th>7</th>\n",
       "      <td>2014-01-13</td>\n",
       "      <td>AMZN</td>\n",
       "      <td>390.980011</td>\n",
       "    </tr>\n",
       "    <tr>\n",
       "      <th>8</th>\n",
       "      <td>2014-01-14</td>\n",
       "      <td>AMZN</td>\n",
       "      <td>397.540009</td>\n",
       "    </tr>\n",
       "    <tr>\n",
       "      <th>9</th>\n",
       "      <td>2014-01-15</td>\n",
       "      <td>AMZN</td>\n",
       "      <td>395.869995</td>\n",
       "    </tr>\n",
       "  </tbody>\n",
       "</table>\n",
       "</div>"
      ],
      "text/plain": [
       "        Date Stock       Price\n",
       "0 2014-01-02  AMZN  397.970001\n",
       "1 2014-01-03  AMZN  396.440002\n",
       "2 2014-01-06  AMZN  393.630005\n",
       "3 2014-01-07  AMZN  398.029999\n",
       "4 2014-01-08  AMZN  401.920013\n",
       "5 2014-01-09  AMZN  401.010010\n",
       "6 2014-01-10  AMZN  397.660004\n",
       "7 2014-01-13  AMZN  390.980011\n",
       "8 2014-01-14  AMZN  397.540009\n",
       "9 2014-01-15  AMZN  395.869995"
      ]
     },
     "execution_count": 12,
     "metadata": {},
     "output_type": "execute_result"
    }
   ],
   "source": [
    "df_long.rename(columns={'variable': 'Stock', 'value':'Price'},inplace=True)\n",
    "df_long.head(10)"
   ]
  },
  {
   "cell_type": "markdown",
   "metadata": {},
   "source": [
    "#### Now we can plot the stock prices.  Since the data is in long format, we can take advantage of ggplot's color= parameter, which will magically make line charts with different colors for each stock.  If the data was in wide format, you would have had to manually specify all the different stocks to plot or use a loop construct."
   ]
  },
  {
   "cell_type": "markdown",
   "metadata": {},
   "source": [
    "[[back to top](#top)] [[back to section](#melt)]"
   ]
  },
  {
   "cell_type": "code",
   "execution_count": 13,
   "metadata": {
    "collapsed": false,
    "run_control": {
     "read_only": false
    }
   },
   "outputs": [
    {
     "data": {
      "image/png": "[encoded data removed]",
      "text/plain": [
       "<matplotlib.figure.Figure at 0x7f81ad614588>"
      ]
     },
     "metadata": {},
     "output_type": "display_data"
    }
   ],
   "source": [
    "%matplotlib inline\n",
    "import matplotlib.pyplot as plt\n",
    "from ggplot import *\n",
    "\n",
    "stock_plot = ggplot(df_long, aes(x='Date', y='Price', color='Stock')) + \\\n",
    "        geom_line() + \\\n",
    "        ylab('Price (US$)') + \\\n",
    "        ggtitle('Auto Stocks: Adj Close') + \\\n",
    "        scale_x_date(labels='%b %d %y',breaks=date_breaks('3 months') )\n",
    "    \n",
    "# Have to use MATPLOTLIB api to rotate x tick labels.  Hopefully some day, ggplot will implement a rotation option.\n",
    "fig = stock_plot.draw()\n",
    "ax = fig.gca()\n",
    "labels = ax.get_xticklabels() \n",
    "for label in labels: \n",
    "    label.set_rotation(270)\n",
    "plt.show()"
   ]
  },
  {
   "cell_type": "markdown",
   "metadata": {},
   "source": [
    "#### [ggplot](http://blog.yhathq.com/posts/ggplot-for-python.html) is AWESOME!"
   ]
  },
  {
   "cell_type": "markdown",
   "metadata": {},
   "source": [
    "<a id='pivot'>"
   ]
  },
  {
   "cell_type": "markdown",
   "metadata": {},
   "source": [
    "## How to convert data in long format to wide format using pd.pivot()"
   ]
  },
  {
   "cell_type": "markdown",
   "metadata": {},
   "source": [
    "[[back to top](#top)]"
   ]
  },
  {
   "cell_type": "code",
   "execution_count": 21,
   "metadata": {
    "collapsed": false,
    "run_control": {
     "read_only": false
    }
   },
   "outputs": [
    {
     "data": {
      "text/html": [
       "<div style=\"max-height:1000px;max-width:1500px;overflow:auto;\">\n",
       "<table border=\"1\" class=\"dataframe\">\n",
       "  <thead>\n",
       "    <tr style=\"text-align: right;\">\n",
       "      <th>Stock</th>\n",
       "      <th>AMZN</th>\n",
       "      <th>FB</th>\n",
       "      <th>GOOGL</th>\n",
       "      <th>HPQ</th>\n",
       "      <th>LNKD</th>\n",
       "      <th>MSFT</th>\n",
       "      <th>YHOO</th>\n",
       "    </tr>\n",
       "    <tr>\n",
       "      <th>Date</th>\n",
       "      <th></th>\n",
       "      <th></th>\n",
       "      <th></th>\n",
       "      <th></th>\n",
       "      <th></th>\n",
       "      <th></th>\n",
       "      <th></th>\n",
       "    </tr>\n",
       "  </thead>\n",
       "  <tbody>\n",
       "    <tr>\n",
       "      <th>2014-01-02</th>\n",
       "      <td> 397.97</td>\n",
       "      <td> 54.71</td>\n",
       "      <td> 557.12</td>\n",
       "      <td> 27.17</td>\n",
       "      <td> 207.64</td>\n",
       "      <td> 35.91</td>\n",
       "      <td> 39.59</td>\n",
       "    </tr>\n",
       "    <tr>\n",
       "      <th>2014-01-03</th>\n",
       "      <td> 396.44</td>\n",
       "      <td> 54.56</td>\n",
       "      <td> 553.05</td>\n",
       "      <td> 27.84</td>\n",
       "      <td> 207.42</td>\n",
       "      <td> 35.67</td>\n",
       "      <td> 40.12</td>\n",
       "    </tr>\n",
       "    <tr>\n",
       "      <th>2014-01-06</th>\n",
       "      <td> 393.63</td>\n",
       "      <td> 57.20</td>\n",
       "      <td> 559.22</td>\n",
       "      <td> 27.79</td>\n",
       "      <td> 203.92</td>\n",
       "      <td> 34.92</td>\n",
       "      <td> 39.93</td>\n",
       "    </tr>\n",
       "    <tr>\n",
       "      <th>2014-01-07</th>\n",
       "      <td> 398.03</td>\n",
       "      <td> 57.92</td>\n",
       "      <td> 570.00</td>\n",
       "      <td> 27.68</td>\n",
       "      <td> 209.64</td>\n",
       "      <td> 35.19</td>\n",
       "      <td> 40.92</td>\n",
       "    </tr>\n",
       "    <tr>\n",
       "      <th>2014-01-08</th>\n",
       "      <td> 401.92</td>\n",
       "      <td> 58.23</td>\n",
       "      <td> 571.19</td>\n",
       "      <td> 26.96</td>\n",
       "      <td> 209.06</td>\n",
       "      <td> 34.56</td>\n",
       "      <td> 41.02</td>\n",
       "    </tr>\n",
       "  </tbody>\n",
       "</table>\n",
       "</div>"
      ],
      "text/plain": [
       "Stock         AMZN     FB   GOOGL    HPQ    LNKD   MSFT   YHOO\n",
       "Date                                                          \n",
       "2014-01-02  397.97  54.71  557.12  27.17  207.64  35.91  39.59\n",
       "2014-01-03  396.44  54.56  553.05  27.84  207.42  35.67  40.12\n",
       "2014-01-06  393.63  57.20  559.22  27.79  203.92  34.92  39.93\n",
       "2014-01-07  398.03  57.92  570.00  27.68  209.64  35.19  40.92\n",
       "2014-01-08  401.92  58.23  571.19  26.96  209.06  34.56  41.02"
      ]
     },
     "execution_count": 21,
     "metadata": {},
     "output_type": "execute_result"
    }
   ],
   "source": [
    "pivoted = df_long.pivot(index='Date', columns='Stock', values='Price')\n",
    "pivoted.head()"
   ]
  },
  {
   "cell_type": "markdown",
   "metadata": {},
   "source": [
    "<a id='category'>"
   ]
  },
  {
   "cell_type": "markdown",
   "metadata": {},
   "source": [
    "## Using category data type to control sort order"
   ]
  },
  {
   "cell_type": "markdown",
   "metadata": {},
   "source": [
    "[[back to top](#top)]"
   ]
  },
  {
   "cell_type": "code",
   "execution_count": 27,
   "metadata": {
    "collapsed": false,
    "run_control": {
     "read_only": false
    }
   },
   "outputs": [
    {
     "data": {
      "text/html": [
       "<div>\n",
       "<table border=\"1\" class=\"dataframe\">\n",
       "  <thead>\n",
       "    <tr style=\"text-align: right;\">\n",
       "      <th></th>\n",
       "      <th>medal</th>\n",
       "      <th>ounces</th>\n",
       "    </tr>\n",
       "  </thead>\n",
       "  <tbody>\n",
       "    <tr>\n",
       "      <th>0</th>\n",
       "      <td>bronze</td>\n",
       "      <td>4.0</td>\n",
       "    </tr>\n",
       "    <tr>\n",
       "      <th>1</th>\n",
       "      <td>silver</td>\n",
       "      <td>3.0</td>\n",
       "    </tr>\n",
       "    <tr>\n",
       "      <th>2</th>\n",
       "      <td>silver</td>\n",
       "      <td>12.0</td>\n",
       "    </tr>\n",
       "    <tr>\n",
       "      <th>3</th>\n",
       "      <td>gold</td>\n",
       "      <td>6.0</td>\n",
       "    </tr>\n",
       "    <tr>\n",
       "      <th>4</th>\n",
       "      <td>bronze</td>\n",
       "      <td>7.5</td>\n",
       "    </tr>\n",
       "    <tr>\n",
       "      <th>5</th>\n",
       "      <td>bronze</td>\n",
       "      <td>8.0</td>\n",
       "    </tr>\n",
       "    <tr>\n",
       "      <th>6</th>\n",
       "      <td>gold</td>\n",
       "      <td>3.0</td>\n",
       "    </tr>\n",
       "    <tr>\n",
       "      <th>7</th>\n",
       "      <td>gold</td>\n",
       "      <td>5.0</td>\n",
       "    </tr>\n",
       "    <tr>\n",
       "      <th>8</th>\n",
       "      <td>gold</td>\n",
       "      <td>6.0</td>\n",
       "    </tr>\n",
       "  </tbody>\n",
       "</table>\n",
       "</div>"
      ],
      "text/plain": [
       "    medal  ounces\n",
       "0  bronze     4.0\n",
       "1  silver     3.0\n",
       "2  silver    12.0\n",
       "3    gold     6.0\n",
       "4  bronze     7.5\n",
       "5  bronze     8.0\n",
       "6    gold     3.0\n",
       "7    gold     5.0\n",
       "8    gold     6.0"
      ]
     },
     "execution_count": 27,
     "metadata": {},
     "output_type": "execute_result"
    }
   ],
   "source": [
    "import pandas as pd\n",
    "data = pd.DataFrame({'medal': ['bronze', 'silver', 'silver', 'gold','bronze', 'bronze', 'gold', 'gold','gold'],\n",
    "                 'ounces': [4, 3, 12, 6, 7.5, 8, 3, 5, 6]})\n",
    "data"
   ]
  },
  {
   "cell_type": "code",
   "execution_count": 28,
   "metadata": {
    "collapsed": false,
    "run_control": {
     "read_only": false
    }
   },
   "outputs": [
    {
     "data": {
      "text/plain": [
       "medal     category\n",
       "ounces     float64\n",
       "dtype: object"
      ]
     },
     "execution_count": 28,
     "metadata": {},
     "output_type": "execute_result"
    }
   ],
   "source": [
    "data[\"medal\"] = data[\"medal\"].astype(\"category\")\n",
    "data.dtypes"
   ]
  },
  {
   "cell_type": "code",
   "execution_count": 29,
   "metadata": {
    "collapsed": false,
    "run_control": {
     "read_only": false
    }
   },
   "outputs": [
    {
     "data": {
      "text/html": [
       "<div>\n",
       "<table border=\"1\" class=\"dataframe\">\n",
       "  <thead>\n",
       "    <tr style=\"text-align: right;\">\n",
       "      <th></th>\n",
       "      <th>medal</th>\n",
       "      <th>ounces</th>\n",
       "    </tr>\n",
       "  </thead>\n",
       "  <tbody>\n",
       "    <tr>\n",
       "      <th>0</th>\n",
       "      <td>bronze</td>\n",
       "      <td>4.0</td>\n",
       "    </tr>\n",
       "    <tr>\n",
       "      <th>4</th>\n",
       "      <td>bronze</td>\n",
       "      <td>7.5</td>\n",
       "    </tr>\n",
       "    <tr>\n",
       "      <th>5</th>\n",
       "      <td>bronze</td>\n",
       "      <td>8.0</td>\n",
       "    </tr>\n",
       "    <tr>\n",
       "      <th>3</th>\n",
       "      <td>gold</td>\n",
       "      <td>6.0</td>\n",
       "    </tr>\n",
       "    <tr>\n",
       "      <th>6</th>\n",
       "      <td>gold</td>\n",
       "      <td>3.0</td>\n",
       "    </tr>\n",
       "    <tr>\n",
       "      <th>7</th>\n",
       "      <td>gold</td>\n",
       "      <td>5.0</td>\n",
       "    </tr>\n",
       "    <tr>\n",
       "      <th>8</th>\n",
       "      <td>gold</td>\n",
       "      <td>6.0</td>\n",
       "    </tr>\n",
       "    <tr>\n",
       "      <th>1</th>\n",
       "      <td>silver</td>\n",
       "      <td>3.0</td>\n",
       "    </tr>\n",
       "    <tr>\n",
       "      <th>2</th>\n",
       "      <td>silver</td>\n",
       "      <td>12.0</td>\n",
       "    </tr>\n",
       "  </tbody>\n",
       "</table>\n",
       "</div>"
      ],
      "text/plain": [
       "    medal  ounces\n",
       "0  bronze     4.0\n",
       "4  bronze     7.5\n",
       "5  bronze     8.0\n",
       "3    gold     6.0\n",
       "6    gold     3.0\n",
       "7    gold     5.0\n",
       "8    gold     6.0\n",
       "1  silver     3.0\n",
       "2  silver    12.0"
      ]
     },
     "execution_count": 29,
     "metadata": {},
     "output_type": "execute_result"
    }
   ],
   "source": [
    "data.sort_values(by=[\"medal\"])"
   ]
  },
  {
   "cell_type": "markdown",
   "metadata": {},
   "source": [
    "### Now define the order of the cetgorical data using set_categories()"
   ]
  },
  {
   "cell_type": "markdown",
   "metadata": {},
   "source": [
    "[[back to top](#top)] [[back to section](#category)]"
   ]
  },
  {
   "cell_type": "code",
   "execution_count": 30,
   "metadata": {
    "collapsed": false,
    "run_control": {
     "read_only": false
    }
   },
   "outputs": [],
   "source": [
    "data[\"medal\"].cat.set_categories([ \"gold\",\"silver\",\"bronze\"],inplace=True)"
   ]
  },
  {
   "cell_type": "code",
   "execution_count": 31,
   "metadata": {
    "collapsed": false,
    "run_control": {
     "read_only": false
    }
   },
   "outputs": [
    {
     "data": {
      "text/html": [
       "<div>\n",
       "<table border=\"1\" class=\"dataframe\">\n",
       "  <thead>\n",
       "    <tr style=\"text-align: right;\">\n",
       "      <th></th>\n",
       "      <th>medal</th>\n",
       "      <th>ounces</th>\n",
       "    </tr>\n",
       "  </thead>\n",
       "  <tbody>\n",
       "    <tr>\n",
       "      <th>3</th>\n",
       "      <td>gold</td>\n",
       "      <td>6.0</td>\n",
       "    </tr>\n",
       "    <tr>\n",
       "      <th>6</th>\n",
       "      <td>gold</td>\n",
       "      <td>3.0</td>\n",
       "    </tr>\n",
       "    <tr>\n",
       "      <th>7</th>\n",
       "      <td>gold</td>\n",
       "      <td>5.0</td>\n",
       "    </tr>\n",
       "    <tr>\n",
       "      <th>8</th>\n",
       "      <td>gold</td>\n",
       "      <td>6.0</td>\n",
       "    </tr>\n",
       "    <tr>\n",
       "      <th>1</th>\n",
       "      <td>silver</td>\n",
       "      <td>3.0</td>\n",
       "    </tr>\n",
       "    <tr>\n",
       "      <th>2</th>\n",
       "      <td>silver</td>\n",
       "      <td>12.0</td>\n",
       "    </tr>\n",
       "    <tr>\n",
       "      <th>0</th>\n",
       "      <td>bronze</td>\n",
       "      <td>4.0</td>\n",
       "    </tr>\n",
       "    <tr>\n",
       "      <th>4</th>\n",
       "      <td>bronze</td>\n",
       "      <td>7.5</td>\n",
       "    </tr>\n",
       "    <tr>\n",
       "      <th>5</th>\n",
       "      <td>bronze</td>\n",
       "      <td>8.0</td>\n",
       "    </tr>\n",
       "  </tbody>\n",
       "</table>\n",
       "</div>"
      ],
      "text/plain": [
       "    medal  ounces\n",
       "3    gold     6.0\n",
       "6    gold     3.0\n",
       "7    gold     5.0\n",
       "8    gold     6.0\n",
       "1  silver     3.0\n",
       "2  silver    12.0\n",
       "0  bronze     4.0\n",
       "4  bronze     7.5\n",
       "5  bronze     8.0"
      ]
     },
     "execution_count": 31,
     "metadata": {},
     "output_type": "execute_result"
    }
   ],
   "source": [
    "data.sort_values(by=[\"medal\"])"
   ]
  },
  {
   "cell_type": "markdown",
   "metadata": {},
   "source": [
    "<a id='merge'>"
   ]
  },
  {
   "cell_type": "markdown",
   "metadata": {},
   "source": [
    "### Merging 2 data frames using merge()"
   ]
  },
  {
   "cell_type": "markdown",
   "metadata": {},
   "source": [
    "[[back to top](#top)]"
   ]
  },
  {
   "cell_type": "code",
   "execution_count": 72,
   "metadata": {
    "collapsed": false,
    "run_control": {
     "read_only": false
    }
   },
   "outputs": [
    {
     "data": {
      "text/html": [
       "<div style=\"max-height:1000px;max-width:1500px;overflow:auto;\">\n",
       "<table border=\"1\" class=\"dataframe\">\n",
       "  <thead>\n",
       "    <tr style=\"text-align: right;\">\n",
       "      <th></th>\n",
       "      <th>group</th>\n",
       "      <th>ounces</th>\n",
       "    </tr>\n",
       "  </thead>\n",
       "  <tbody>\n",
       "    <tr>\n",
       "      <th>0</th>\n",
       "      <td> a</td>\n",
       "      <td>  4.0</td>\n",
       "    </tr>\n",
       "    <tr>\n",
       "      <th>1</th>\n",
       "      <td> a</td>\n",
       "      <td>  3.0</td>\n",
       "    </tr>\n",
       "    <tr>\n",
       "      <th>2</th>\n",
       "      <td> a</td>\n",
       "      <td> 12.0</td>\n",
       "    </tr>\n",
       "    <tr>\n",
       "      <th>3</th>\n",
       "      <td> b</td>\n",
       "      <td>  6.0</td>\n",
       "    </tr>\n",
       "    <tr>\n",
       "      <th>4</th>\n",
       "      <td> b</td>\n",
       "      <td>  7.5</td>\n",
       "    </tr>\n",
       "    <tr>\n",
       "      <th>5</th>\n",
       "      <td> b</td>\n",
       "      <td>  8.0</td>\n",
       "    </tr>\n",
       "    <tr>\n",
       "      <th>6</th>\n",
       "      <td> c</td>\n",
       "      <td>  3.0</td>\n",
       "    </tr>\n",
       "    <tr>\n",
       "      <th>7</th>\n",
       "      <td> c</td>\n",
       "      <td>  5.0</td>\n",
       "    </tr>\n",
       "    <tr>\n",
       "      <th>8</th>\n",
       "      <td> c</td>\n",
       "      <td>  6.0</td>\n",
       "    </tr>\n",
       "  </tbody>\n",
       "</table>\n",
       "</div>"
      ],
      "text/plain": [
       "  group  ounces\n",
       "0     a     4.0\n",
       "1     a     3.0\n",
       "2     a    12.0\n",
       "3     b     6.0\n",
       "4     b     7.5\n",
       "5     b     8.0\n",
       "6     c     3.0\n",
       "7     c     5.0\n",
       "8     c     6.0"
      ]
     },
     "execution_count": 72,
     "metadata": {},
     "output_type": "execute_result"
    }
   ],
   "source": [
    "import pandas as pd\n",
    "left = pd.DataFrame({'group': ['a', 'a', 'a', 'b','b', 'b', 'c', 'c','c'],\n",
    "                 'ounces': [4, 3, 12, 6, 7.5, 8, 3, 5, 6]})\n",
    "left"
   ]
  },
  {
   "cell_type": "code",
   "execution_count": 76,
   "metadata": {
    "collapsed": false,
    "run_control": {
     "read_only": false
    }
   },
   "outputs": [
    {
     "data": {
      "text/html": [
       "<div style=\"max-height:1000px;max-width:1500px;overflow:auto;\">\n",
       "<table border=\"1\" class=\"dataframe\">\n",
       "  <thead>\n",
       "    <tr style=\"text-align: right;\">\n",
       "      <th></th>\n",
       "      <th>label</th>\n",
       "      <th>value</th>\n",
       "    </tr>\n",
       "  </thead>\n",
       "  <tbody>\n",
       "    <tr>\n",
       "      <th>0</th>\n",
       "      <td> a</td>\n",
       "      <td>   alpha</td>\n",
       "    </tr>\n",
       "    <tr>\n",
       "      <th>1</th>\n",
       "      <td> b</td>\n",
       "      <td>    beta</td>\n",
       "    </tr>\n",
       "    <tr>\n",
       "      <th>2</th>\n",
       "      <td> c</td>\n",
       "      <td> charlie</td>\n",
       "    </tr>\n",
       "  </tbody>\n",
       "</table>\n",
       "</div>"
      ],
      "text/plain": [
       "  label    value\n",
       "0     a    alpha\n",
       "1     b     beta\n",
       "2     c  charlie"
      ]
     },
     "execution_count": 76,
     "metadata": {},
     "output_type": "execute_result"
    }
   ],
   "source": [
    "right = pd.DataFrame({'label': ['a','b','c'],\n",
    "                     'value': ['alpha','beta','charlie']})\n",
    "right"
   ]
  },
  {
   "cell_type": "markdown",
   "metadata": {},
   "source": [
    "#### By default, merge() does an inner join, but you can specify 'left', 'right', or 'outer' joins"
   ]
  },
  {
   "cell_type": "code",
   "execution_count": 85,
   "metadata": {
    "collapsed": false,
    "run_control": {
     "read_only": false
    }
   },
   "outputs": [
    {
     "data": {
      "text/html": [
       "<div style=\"max-height:1000px;max-width:1500px;overflow:auto;\">\n",
       "<table border=\"1\" class=\"dataframe\">\n",
       "  <thead>\n",
       "    <tr style=\"text-align: right;\">\n",
       "      <th></th>\n",
       "      <th>group</th>\n",
       "      <th>ounces</th>\n",
       "      <th>label</th>\n",
       "      <th>value</th>\n",
       "    </tr>\n",
       "  </thead>\n",
       "  <tbody>\n",
       "    <tr>\n",
       "      <th>0</th>\n",
       "      <td> a</td>\n",
       "      <td>  4.0</td>\n",
       "      <td> a</td>\n",
       "      <td>   alpha</td>\n",
       "    </tr>\n",
       "    <tr>\n",
       "      <th>1</th>\n",
       "      <td> a</td>\n",
       "      <td>  3.0</td>\n",
       "      <td> a</td>\n",
       "      <td>   alpha</td>\n",
       "    </tr>\n",
       "    <tr>\n",
       "      <th>2</th>\n",
       "      <td> a</td>\n",
       "      <td> 12.0</td>\n",
       "      <td> a</td>\n",
       "      <td>   alpha</td>\n",
       "    </tr>\n",
       "    <tr>\n",
       "      <th>3</th>\n",
       "      <td> b</td>\n",
       "      <td>  6.0</td>\n",
       "      <td> b</td>\n",
       "      <td>    beta</td>\n",
       "    </tr>\n",
       "    <tr>\n",
       "      <th>4</th>\n",
       "      <td> b</td>\n",
       "      <td>  7.5</td>\n",
       "      <td> b</td>\n",
       "      <td>    beta</td>\n",
       "    </tr>\n",
       "    <tr>\n",
       "      <th>5</th>\n",
       "      <td> b</td>\n",
       "      <td>  8.0</td>\n",
       "      <td> b</td>\n",
       "      <td>    beta</td>\n",
       "    </tr>\n",
       "    <tr>\n",
       "      <th>6</th>\n",
       "      <td> c</td>\n",
       "      <td>  3.0</td>\n",
       "      <td> c</td>\n",
       "      <td> charlie</td>\n",
       "    </tr>\n",
       "    <tr>\n",
       "      <th>7</th>\n",
       "      <td> c</td>\n",
       "      <td>  5.0</td>\n",
       "      <td> c</td>\n",
       "      <td> charlie</td>\n",
       "    </tr>\n",
       "    <tr>\n",
       "      <th>8</th>\n",
       "      <td> c</td>\n",
       "      <td>  6.0</td>\n",
       "      <td> c</td>\n",
       "      <td> charlie</td>\n",
       "    </tr>\n",
       "  </tbody>\n",
       "</table>\n",
       "</div>"
      ],
      "text/plain": [
       "  group  ounces label    value\n",
       "0     a     4.0     a    alpha\n",
       "1     a     3.0     a    alpha\n",
       "2     a    12.0     a    alpha\n",
       "3     b     6.0     b     beta\n",
       "4     b     7.5     b     beta\n",
       "5     b     8.0     b     beta\n",
       "6     c     3.0     c  charlie\n",
       "7     c     5.0     c  charlie\n",
       "8     c     6.0     c  charlie"
      ]
     },
     "execution_count": 85,
     "metadata": {},
     "output_type": "execute_result"
    }
   ],
   "source": [
    "inner_joined = pd.merge(left, right, how='inner', left_on='group', right_on='label')\n",
    "inner_joined"
   ]
  },
  {
   "cell_type": "markdown",
   "metadata": {},
   "source": [
    "**NOTE:** To merge 2 Series, you have to use [pd.concat()](http://stackoverflow.com/questions/18062135/combining-two-series-into-a-dataframe-in-pandas) instead"
   ]
  },
  {
   "cell_type": "markdown",
   "metadata": {},
   "source": [
    "#### For more on merge, join, and concatenate, see the official [docs](http://pandas.pydata.org/pandas-docs/stable/merging.html)"
   ]
  },
  {
   "cell_type": "markdown",
   "metadata": {},
   "source": [
    "<a id=\"missing\">"
   ]
  },
  {
   "cell_type": "markdown",
   "metadata": {},
   "source": [
    "### Finding rows of a data frame containing missing data"
   ]
  },
  {
   "cell_type": "markdown",
   "metadata": {},
   "source": [
    "[[back to top](#top)]"
   ]
  },
  {
   "cell_type": "code",
   "execution_count": 1,
   "metadata": {
    "collapsed": false,
    "run_control": {
     "read_only": false
    }
   },
   "outputs": [
    {
     "data": {
      "text/html": [
       "<div style=\"max-height:1000px;max-width:1500px;overflow:auto;\">\n",
       "<table border=\"1\" class=\"dataframe\">\n",
       "  <thead>\n",
       "    <tr style=\"text-align: right;\">\n",
       "      <th></th>\n",
       "      <th>0</th>\n",
       "      <th>1</th>\n",
       "      <th>2</th>\n",
       "    </tr>\n",
       "  </thead>\n",
       "  <tbody>\n",
       "    <tr>\n",
       "      <th>0</th>\n",
       "      <td> 0</td>\n",
       "      <td>  1</td>\n",
       "      <td>  2</td>\n",
       "    </tr>\n",
       "    <tr>\n",
       "      <th>1</th>\n",
       "      <td> 0</td>\n",
       "      <td>NaN</td>\n",
       "      <td>  0</td>\n",
       "    </tr>\n",
       "    <tr>\n",
       "      <th>2</th>\n",
       "      <td> 0</td>\n",
       "      <td>  0</td>\n",
       "      <td>NaN</td>\n",
       "    </tr>\n",
       "    <tr>\n",
       "      <th>3</th>\n",
       "      <td> 0</td>\n",
       "      <td>  1</td>\n",
       "      <td>  2</td>\n",
       "    </tr>\n",
       "    <tr>\n",
       "      <th>4</th>\n",
       "      <td> 0</td>\n",
       "      <td>  1</td>\n",
       "      <td>  2</td>\n",
       "    </tr>\n",
       "  </tbody>\n",
       "</table>\n",
       "</div>"
      ],
      "text/plain": [
       "   0   1   2\n",
       "0  0   1   2\n",
       "1  0 NaN   0\n",
       "2  0   0 NaN\n",
       "3  0   1   2\n",
       "4  0   1   2"
      ]
     },
     "execution_count": 1,
     "metadata": {},
     "output_type": "execute_result"
    }
   ],
   "source": [
    "import numpy as np\n",
    "import pandas as pd\n",
    "df = pd.DataFrame([range(3), [0, np.NaN, 0], [0, 0, np.NaN], range(3), range(3)])\n",
    "df"
   ]
  },
  {
   "cell_type": "code",
   "execution_count": 2,
   "metadata": {
    "collapsed": false,
    "run_control": {
     "read_only": false
    }
   },
   "outputs": [
    {
     "data": {
      "text/plain": [
       "0    False\n",
       "1     True\n",
       "2     True\n",
       "3    False\n",
       "4    False\n",
       "dtype: bool"
      ]
     },
     "execution_count": 2,
     "metadata": {},
     "output_type": "execute_result"
    }
   ],
   "source": [
    "df.isnull().any(axis=1)"
   ]
  },
  {
   "cell_type": "code",
   "execution_count": 3,
   "metadata": {
    "collapsed": false,
    "run_control": {
     "read_only": false
    }
   },
   "outputs": [
    {
     "data": {
      "text/html": [
       "<div style=\"max-height:1000px;max-width:1500px;overflow:auto;\">\n",
       "<table border=\"1\" class=\"dataframe\">\n",
       "  <thead>\n",
       "    <tr style=\"text-align: right;\">\n",
       "      <th></th>\n",
       "      <th>0</th>\n",
       "      <th>1</th>\n",
       "      <th>2</th>\n",
       "    </tr>\n",
       "  </thead>\n",
       "  <tbody>\n",
       "    <tr>\n",
       "      <th>1</th>\n",
       "      <td> 0</td>\n",
       "      <td>NaN</td>\n",
       "      <td>  0</td>\n",
       "    </tr>\n",
       "    <tr>\n",
       "      <th>2</th>\n",
       "      <td> 0</td>\n",
       "      <td>  0</td>\n",
       "      <td>NaN</td>\n",
       "    </tr>\n",
       "  </tbody>\n",
       "</table>\n",
       "</div>"
      ],
      "text/plain": [
       "   0   1   2\n",
       "1  0 NaN   0\n",
       "2  0   0 NaN"
      ]
     },
     "execution_count": 3,
     "metadata": {},
     "output_type": "execute_result"
    }
   ],
   "source": [
    "df[df.isnull().any(axis=1)]"
   ]
  },
  {
   "cell_type": "markdown",
   "metadata": {},
   "source": [
    "<a id='convert_type'>"
   ]
  },
  {
   "cell_type": "markdown",
   "metadata": {},
   "source": [
    "### Converting a data type of a column in a data frame"
   ]
  },
  {
   "cell_type": "markdown",
   "metadata": {},
   "source": [
    "[[back to top](#top)]"
   ]
  },
  {
   "cell_type": "code",
   "execution_count": 10,
   "metadata": {
    "collapsed": false,
    "run_control": {
     "read_only": false
    }
   },
   "outputs": [
    {
     "data": {
      "text/html": [
       "<div style=\"max-height:1000px;max-width:1500px;overflow:auto;\">\n",
       "<table border=\"1\" class=\"dataframe\">\n",
       "  <thead>\n",
       "    <tr style=\"text-align: right;\">\n",
       "      <th></th>\n",
       "      <th>one</th>\n",
       "      <th>two</th>\n",
       "      <th>three</th>\n",
       "    </tr>\n",
       "  </thead>\n",
       "  <tbody>\n",
       "    <tr>\n",
       "      <th>0</th>\n",
       "      <td> a</td>\n",
       "      <td> 1.2</td>\n",
       "      <td>  4.2</td>\n",
       "    </tr>\n",
       "    <tr>\n",
       "      <th>1</th>\n",
       "      <td> b</td>\n",
       "      <td>  70</td>\n",
       "      <td> 0.03</td>\n",
       "    </tr>\n",
       "    <tr>\n",
       "      <th>2</th>\n",
       "      <td> x</td>\n",
       "      <td>   5</td>\n",
       "      <td>    0</td>\n",
       "    </tr>\n",
       "  </tbody>\n",
       "</table>\n",
       "</div>"
      ],
      "text/plain": [
       "  one  two three\n",
       "0   a  1.2   4.2\n",
       "1   b   70  0.03\n",
       "2   x    5     0"
      ]
     },
     "execution_count": 10,
     "metadata": {},
     "output_type": "execute_result"
    }
   ],
   "source": [
    "import pandas as pd\n",
    "\n",
    "a = [['a', '1.2', '4.2'], ['b', '70', '0.03'], ['x', '5', '0']]\n",
    "df = pd.DataFrame(a, columns=['one', 'two', 'three'])\n",
    "df"
   ]
  },
  {
   "cell_type": "code",
   "execution_count": 13,
   "metadata": {
    "collapsed": false,
    "run_control": {
     "read_only": false
    }
   },
   "outputs": [
    {
     "data": {
      "text/plain": [
       "one      object\n",
       "two      object\n",
       "three    object\n",
       "dtype: object"
      ]
     },
     "execution_count": 13,
     "metadata": {},
     "output_type": "execute_result"
    }
   ],
   "source": [
    "df.dtypes"
   ]
  },
  {
   "cell_type": "code",
   "execution_count": 14,
   "metadata": {
    "collapsed": false,
    "run_control": {
     "read_only": false
    }
   },
   "outputs": [],
   "source": [
    "df[['two', 'three']] = df[['two', 'three']].astype(float)"
   ]
  },
  {
   "cell_type": "code",
   "execution_count": 15,
   "metadata": {
    "collapsed": false,
    "run_control": {
     "read_only": false
    }
   },
   "outputs": [
    {
     "data": {
      "text/plain": [
       "one       object\n",
       "two      float64\n",
       "three    float64\n",
       "dtype: object"
      ]
     },
     "execution_count": 15,
     "metadata": {},
     "output_type": "execute_result"
    }
   ],
   "source": [
    "df.dtypes"
   ]
  },
  {
   "cell_type": "markdown",
   "metadata": {},
   "source": [
    "<a id=\"matplotlib\">"
   ]
  },
  {
   "cell_type": "markdown",
   "metadata": {},
   "source": [
    "### Plotting data frames using MATPLOTLIB version 1.5 and up"
   ]
  },
  {
   "cell_type": "markdown",
   "metadata": {},
   "source": [
    "[[back to top](#top)]"
   ]
  },
  {
   "cell_type": "markdown",
   "metadata": {},
   "source": [
    "Starting with version 1.5, you can now pass a \"data\" parameter inside MATPLOTLIB's plot() function"
   ]
  },
  {
   "cell_type": "markdown",
   "metadata": {},
   "source": [
    "Prior to version 1.5:"
   ]
  },
  {
   "cell_type": "code",
   "execution_count": 3,
   "metadata": {
    "collapsed": false,
    "run_control": {
     "read_only": false
    }
   },
   "outputs": [
    {
     "data": {
      "image/png": "[encoded data removed]",
      "text/plain": [
       "<matplotlib.figure.Figure at 0x7f09eb0b2978>"
      ]
     },
     "metadata": {},
     "output_type": "display_data"
    }
   ],
   "source": [
    "%matplotlib inline\n",
    "import pandas as pd\n",
    "import matplotlib.pyplot as plt\n",
    "\n",
    "df = pd.DataFrame({\"var1\":[1,2,3,4,5,6], \"var2\":[1,2,3,4,5,6]})\n",
    "plt.plot(df[\"var1\"], df[\"var2\"])\n",
    "plt.show()"
   ]
  },
  {
   "cell_type": "markdown",
   "metadata": {},
   "source": [
    "With version 1.5+"
   ]
  },
  {
   "cell_type": "code",
   "execution_count": 4,
   "metadata": {
    "collapsed": false,
    "run_control": {
     "read_only": false
    }
   },
   "outputs": [
    {
     "data": {
      "image/png": "[encoded data removed]",
      "text/plain": [
       "<matplotlib.figure.Figure at 0x7f09d9ee8940>"
      ]
     },
     "metadata": {},
     "output_type": "display_data"
    }
   ],
   "source": [
    "plt.plot(\"var1\", \"var2\", data=df)\n",
    "plt.show()"
   ]
  },
  {
   "cell_type": "markdown",
   "metadata": {},
   "source": [
    "<a id=\"subplots\">"
   ]
  },
  {
   "cell_type": "markdown",
   "metadata": {},
   "source": [
    "### Plotting data frame directly and creating sub-plots or grouping using column=, by= parameters"
   ]
  },
  {
   "cell_type": "markdown",
   "metadata": {},
   "source": [
    "[[back to top]](#top)"
   ]
  },
  {
   "cell_type": "markdown",
   "metadata": {},
   "source": [
    "**When making histograms, pandas knows to make sub-plots based on the by=column option:**"
   ]
  },
  {
   "cell_type": "code",
   "execution_count": 1,
   "metadata": {
    "collapsed": false,
    "run_control": {
     "read_only": false
    }
   },
   "outputs": [
    {
     "data": {
      "image/png": "[encoded data removed]",
      "text/plain": [
       "<matplotlib.figure.Figure at 0x7ff5084679e8>"
      ]
     },
     "metadata": {},
     "output_type": "display_data"
    }
   ],
   "source": [
    "%matplotlib inline\n",
    "import matplotlib.pyplot as plt\n",
    "import pandas as pd\n",
    "import seaborn as sns\n",
    "\n",
    "df = pd.read_excel('/home/pybokeh/Downloads/temp.xlsx', sheetname='Claims')\n",
    "df.hist(column='DTF', by='GRADE_SHORT')\n",
    "plt.show()"
   ]
  },
  {
   "cell_type": "markdown",
   "metadata": {},
   "source": [
    "**For box plots, instead of making sub-plots, pandas intelligently splits the data using the by= parameter\"**:"
   ]
  },
  {
   "cell_type": "code",
   "execution_count": 2,
   "metadata": {
    "collapsed": false,
    "run_control": {
     "read_only": false
    }
   },
   "outputs": [
    {
     "data": {
      "image/png": "[encoded data removed]",
      "text/plain": [
       "<matplotlib.figure.Figure at 0x7ff505ae2d30>"
      ]
     },
     "metadata": {},
     "output_type": "display_data"
    }
   ],
   "source": [
    "df.boxplot(column='DTF', by='GRADE_SHORT')\n",
    "plt.show()"
   ]
  },
  {
   "cell_type": "markdown",
   "metadata": {},
   "source": [
    "<a id=\"bokeh\">"
   ]
  },
  {
   "cell_type": "markdown",
   "metadata": {},
   "source": [
    "### Creating a Bokeh Chart from a Data Frame - see the [docs](http://bokeh.pydata.org/en/latest/docs/reference/charts.html) for more examples"
   ]
  },
  {
   "cell_type": "markdown",
   "metadata": {},
   "source": [
    "conda install bokeh or pip instal bokeh"
   ]
  },
  {
   "cell_type": "markdown",
   "metadata": {},
   "source": [
    "[[back to top](#top)]"
   ]
  },
  {
   "cell_type": "code",
   "execution_count": 1,
   "metadata": {
    "collapsed": false
   },
   "outputs": [
    {
     "data": {
      "text/html": [
       "\n",
       "    <div class=\"bk-banner\">\n",
       "        <a href=\"http://bokeh.pydata.org\" target=\"_blank\" class=\"bk-logo bk-logo-small bk-logo-notebook\"></a>\n",
       "        <span id=\"37c43c6f-467e-4acd-a87d-c74e36144275\">Loading BokehJS ...</span>\n",
       "    </div>"
      ]
     },
     "metadata": {},
     "output_type": "display_data"
    },
    {
     "data": {
      "application/javascript": [
       "\n",
       "(function(global) {\n",
       "  function now() {\n",
       "    return new Date();\n",
       "  }\n",
       "\n",
       "  if (typeof (window._bokeh_onload_callbacks) === \"undefined\") {\n",
       "    window._bokeh_onload_callbacks = [];\n",
       "  }\n",
       "\n",
       "  function run_callbacks() {\n",
       "    window._bokeh_onload_callbacks.forEach(function(callback) { callback() });\n",
       "    delete window._bokeh_onload_callbacks\n",
       "    console.info(\"Bokeh: all callbacks have finished\");\n",
       "  }\n",
       "\n",
       "  function load_libs(js_urls, callback) {\n",
       "    window._bokeh_onload_callbacks.push(callback);\n",
       "    if (window._bokeh_is_loading > 0) {\n",
       "      console.log(\"Bokeh: BokehJS is being loaded, scheduling callback at\", now());\n",
       "      return null;\n",
       "    }\n",
       "    if (js_urls == null || js_urls.length === 0) {\n",
       "      run_callbacks();\n",
       "      return null;\n",
       "    }\n",
       "    console.log(\"Bokeh: BokehJS not loaded, scheduling load and callback at\", now());\n",
       "    window._bokeh_is_loading = js_urls.length;\n",
       "    for (var i = 0; i < js_urls.length; i++) {\n",
       "      var url = js_urls[i];\n",
       "      var s = document.createElement('script');\n",
       "      s.src = url;\n",
       "      s.async = false;\n",
       "      s.onreadystatechange = s.onload = function() {\n",
       "        window._bokeh_is_loading--;\n",
       "        if (window._bokeh_is_loading === 0) {\n",
       "          console.log(\"Bokeh: all BokehJS libraries loaded\");\n",
       "          run_callbacks()\n",
       "        }\n",
       "      };\n",
       "      s.onerror = function() {\n",
       "        console.warn(\"failed to load library \" + url);\n",
       "      };\n",
       "      console.log(\"Bokeh: injecting script tag for BokehJS library: \", url);\n",
       "      document.getElementsByTagName(\"head\")[0].appendChild(s);\n",
       "    }\n",
       "  };\n",
       "\n",
       "  var js_urls = ['https://cdn.pydata.org/bokeh/release/bokeh-0.11.1.min.js', 'https://cdn.pydata.org/bokeh/release/bokeh-widgets-0.11.1.min.js', 'https://cdn.pydata.org/bokeh/release/bokeh-compiler-0.11.1.min.js'];\n",
       "\n",
       "  var inline_js = [\n",
       "    function(Bokeh) {\n",
       "      Bokeh.set_log_level(\"info\");\n",
       "    },\n",
       "    \n",
       "    function(Bokeh) {\n",
       "      Bokeh.$(\"#37c43c6f-467e-4acd-a87d-c74e36144275\").text(\"BokehJS successfully loaded\");\n",
       "    },\n",
       "    function(Bokeh) {\n",
       "      console.log(\"Bokeh: injecting CSS: https://cdn.pydata.org/bokeh/release/bokeh-0.11.1.min.css\");\n",
       "      Bokeh.embed.inject_css(\"https://cdn.pydata.org/bokeh/release/bokeh-0.11.1.min.css\");\n",
       "      console.log(\"Bokeh: injecting CSS: https://cdn.pydata.org/bokeh/release/bokeh-widgets-0.11.1.min.css\");\n",
       "      Bokeh.embed.inject_css(\"https://cdn.pydata.org/bokeh/release/bokeh-widgets-0.11.1.min.css\");\n",
       "    }\n",
       "  ];\n",
       "\n",
       "  function run_inline_js() {\n",
       "    for (var i = 0; i < inline_js.length; i++) {\n",
       "      inline_js[i](window.Bokeh);\n",
       "    }\n",
       "  }\n",
       "\n",
       "  if (window._bokeh_is_loading === 0) {\n",
       "    console.log(\"Bokeh: BokehJS loaded, going straight to plotting\");\n",
       "    run_inline_js();\n",
       "  } else {\n",
       "    load_libs(js_urls, function() {\n",
       "      console.log(\"Bokeh: BokehJS plotting callback run at\", now());\n",
       "      run_inline_js();\n",
       "    });\n",
       "  }\n",
       "}(this));"
      ]
     },
     "metadata": {},
     "output_type": "display_data"
    },
    {
     "data": {
      "text/html": [
       "\n",
       "\n",
       "    <div class=\"plotdiv\" id=\"6a3bab8a-bf08-44b6-9efe-a37c1d6923f6\"></div>\n",
       "<script type=\"text/javascript\">\n",
       "  \n",
       "  (function(global) {\n",
       "    function now() {\n",
       "      return new Date();\n",
       "    }\n",
       "  \n",
       "    if (typeof (window._bokeh_onload_callbacks) === \"undefined\") {\n",
       "      window._bokeh_onload_callbacks = [];\n",
       "    }\n",
       "  \n",
       "    function run_callbacks() {\n",
       "      window._bokeh_onload_callbacks.forEach(function(callback) { callback() });\n",
       "      delete window._bokeh_onload_callbacks\n",
       "      console.info(\"Bokeh: all callbacks have finished\");\n",
       "    }\n",
       "  \n",
       "    function load_libs(js_urls, callback) {\n",
       "      window._bokeh_onload_callbacks.push(callback);\n",
       "      if (window._bokeh_is_loading > 0) {\n",
       "        console.log(\"Bokeh: BokehJS is being loaded, scheduling callback at\", now());\n",
       "        return null;\n",
       "      }\n",
       "      if (js_urls == null || js_urls.length === 0) {\n",
       "        run_callbacks();\n",
       "        return null;\n",
       "      }\n",
       "      console.log(\"Bokeh: BokehJS not loaded, scheduling load and callback at\", now());\n",
       "      window._bokeh_is_loading = js_urls.length;\n",
       "      for (var i = 0; i < js_urls.length; i++) {\n",
       "        var url = js_urls[i];\n",
       "        var s = document.createElement('script');\n",
       "        s.src = url;\n",
       "        s.async = false;\n",
       "        s.onreadystatechange = s.onload = function() {\n",
       "          window._bokeh_is_loading--;\n",
       "          if (window._bokeh_is_loading === 0) {\n",
       "            console.log(\"Bokeh: all BokehJS libraries loaded\");\n",
       "            run_callbacks()\n",
       "          }\n",
       "        };\n",
       "        s.onerror = function() {\n",
       "          console.warn(\"failed to load library \" + url);\n",
       "        };\n",
       "        console.log(\"Bokeh: injecting script tag for BokehJS library: \", url);\n",
       "        document.getElementsByTagName(\"head\")[0].appendChild(s);\n",
       "      }\n",
       "    };var element = document.getElementById(\"6a3bab8a-bf08-44b6-9efe-a37c1d6923f6\");\n",
       "    if (element == null) {\n",
       "      console.log(\"Bokeh: ERROR: autoload.js configured with elementid '6a3bab8a-bf08-44b6-9efe-a37c1d6923f6' but no matching script tag was found. \")\n",
       "      return false;\n",
       "    }\n",
       "  \n",
       "    var js_urls = [];\n",
       "  \n",
       "    var inline_js = [\n",
       "      function(Bokeh) {\n",
       "        Bokeh.$(function() {\n",
       "            var docs_json = {\"54f906a7-0a5a-40c0-8d25-503cc40b925e\":{\"roots\":{\"references\":[{\"attributes\":{\"line_width\":{\"value\":2},\"x0\":{\"field\":\"x0s\"},\"x1\":{\"field\":\"x1s\"},\"y0\":{\"field\":\"y0s\"},\"y1\":{\"field\":\"y1s\"}},\"id\":\"f69724d4-38cd-419b-851c-8c290328edf9\",\"type\":\"Segment\"},{\"attributes\":{\"data_source\":{\"id\":\"66e782f2-2357-416c-9473-0a2927a0f70c\",\"type\":\"ColumnDataSource\"},\"glyph\":{\"id\":\"f69724d4-38cd-419b-851c-8c290328edf9\",\"type\":\"Segment\"},\"hover_glyph\":null,\"nonselection_glyph\":null,\"selection_glyph\":null},\"id\":\"77de1789-8361-4037-95f0-0c0aefe52488\",\"type\":\"GlyphRenderer\"},{\"attributes\":{\"fill_alpha\":{\"field\":\"fill_alpha\"},\"fill_color\":{\"field\":\"color\"},\"height\":{\"field\":\"height\",\"units\":\"data\"},\"line_color\":{\"field\":\"line_color\"},\"width\":{\"field\":\"width\",\"units\":\"data\"},\"x\":{\"field\":\"x\"},\"y\":{\"field\":\"y\"}},\"id\":\"4c901a8c-8b59-4349-828d-798188bd43a2\",\"type\":\"Rect\"},{\"attributes\":{\"callback\":null,\"column_names\":[\"width\",\"fill_alpha\",\"line_alpha\",\"height\",\"y\",\"color\",\"line_color\",\"x\"],\"data\":{\"chart_index\":[{\"cyl\":6}],\"color\":[\"#df5320\"],\"cyl\":[6],\"fill_alpha\":[0.8],\"height\":[2.0],\"line_alpha\":[1.0],\"line_color\":[\"black\"],\"width\":[0.8],\"x\":[\"6\"],\"y\":[20.0]}},\"id\":\"cb870202-6622-485b-93e3-7e88721c77af\",\"type\":\"ColumnDataSource\"},{\"attributes\":{\"callback\":null,\"column_names\":[\"width\",\"fill_alpha\",\"line_alpha\",\"height\",\"y\",\"color\",\"line_color\",\"x\"],\"data\":{\"chart_index\":[{\"cyl\":8}],\"color\":[\"DimGrey\"],\"cyl\":[8],\"fill_alpha\":[0.8],\"height\":[2.0],\"line_alpha\":[1.0],\"line_color\":[\"black\"],\"width\":[0.8],\"x\":[\"8\"],\"y\":[15.0]}},\"id\":\"0697a673-c48f-4fa5-8dfd-c9da5e5a463b\",\"type\":\"ColumnDataSource\"},{\"attributes\":{\"callback\":null,\"column_names\":[\"width\",\"fill_alpha\",\"line_alpha\",\"height\",\"y\",\"color\",\"line_color\",\"x\"],\"data\":{\"chart_index\":[{\"cyl\":8}],\"color\":[\"#00ad9c\"],\"cyl\":[8],\"fill_alpha\":[0.8],\"height\":[2.0],\"line_alpha\":[1.0],\"line_color\":[\"black\"],\"width\":[0.8],\"x\":[\"8\"],\"y\":[15.0]}},\"id\":\"6e320b7e-0ed5-464c-adb3-dcb0ba7c56d3\",\"type\":\"ColumnDataSource\"},{\"attributes\":{\"fill_alpha\":{\"field\":\"fill_alpha\"},\"fill_color\":{\"field\":\"color\"},\"height\":{\"field\":\"height\",\"units\":\"data\"},\"line_color\":{\"field\":\"line_color\"},\"width\":{\"field\":\"width\",\"units\":\"data\"},\"x\":{\"field\":\"x\"},\"y\":{\"field\":\"y\"}},\"id\":\"f2e2aa69-91b9-4905-a7b3-bfefee0a4337\",\"type\":\"Rect\"},{\"attributes\":{},\"id\":\"ee0e6786-8884-4301-a9a5-d09242af8737\",\"type\":\"ToolEvents\"},{\"attributes\":{\"callback\":null,\"column_names\":[\"x1s\",\"y1s\",\"x0s\",\"y0s\"],\"data\":{\"chart_index\":[{\"cyl\":4},{\"cyl\":4},{\"cyl\":4},{\"cyl\":4}],\"cyl\":[4,4,4,4],\"x0s\":[\"4:0.5\",\"4:0.65\",\"4:0.5\",\"4:0.65\"],\"x1s\":[\"4:0.5\",\"4:0.35\",\"4:0.5\",\"4:0.35\"],\"y0s\":[18.0,18.0,32.95,44.87500000000001],\"y1s\":[25.0,18.0,44.87500000000001,44.87500000000001]}},\"id\":\"50b5df1b-3706-48bc-8ffa-72ee5f219caf\",\"type\":\"ColumnDataSource\"},{\"attributes\":{\"callback\":null,\"column_names\":[\"width\",\"fill_alpha\",\"line_alpha\",\"height\",\"y\",\"color\",\"line_color\",\"x\"],\"data\":{\"chart_index\":[{\"cyl\":4}],\"color\":[\"#5ab738\"],\"cyl\":[4],\"fill_alpha\":[0.8],\"height\":[4.550000000000004],\"line_alpha\":[1.0],\"line_color\":[\"black\"],\"width\":[0.8],\"x\":[\"4\"],\"y\":[30.675]}},\"id\":\"19c2c850-a954-44d1-9706-4088ac750cd2\",\"type\":\"ColumnDataSource\"},{\"attributes\":{},\"id\":\"b788ad0e-78be-47bf-9d17-8ef680854abe\",\"type\":\"CategoricalTicker\"},{\"attributes\":{\"fill_alpha\":{\"value\":0.7},\"fill_color\":{\"value\":\"red\"},\"line_color\":{\"value\":\"red\"},\"size\":{\"units\":\"screen\",\"value\":5},\"x\":{\"field\":\"x_values\"},\"y\":{\"field\":\"y_values\"}},\"id\":\"ab4a2e7a-0de9-47fc-b38d-817c67950446\",\"type\":\"Circle\"},{\"attributes\":{\"data_source\":{\"id\":\"f0d221e8-5080-4a84-9ae3-01cb59f9eea1\",\"type\":\"ColumnDataSource\"},\"glyph\":{\"id\":\"c0bce6c7-e423-434e-bdae-2f0236933b4c\",\"type\":\"Segment\"},\"hover_glyph\":null,\"nonselection_glyph\":null,\"selection_glyph\":null},\"id\":\"487d8378-02aa-4e90-9494-b2d569da9eee\",\"type\":\"GlyphRenderer\"},{\"attributes\":{\"data_source\":{\"id\":\"2a65ad57-3c7d-4ad0-8552-84bdca7f4721\",\"type\":\"ColumnDataSource\"},\"glyph\":{\"id\":\"6035d187-53d7-4496-916d-d383861a80ff\",\"type\":\"Rect\"},\"hover_glyph\":null,\"nonselection_glyph\":null,\"selection_glyph\":null},\"id\":\"290573a4-df81-4dec-a185-de6e79a7914a\",\"type\":\"GlyphRenderer\"},{\"attributes\":{\"data_source\":{\"id\":\"cb870202-6622-485b-93e3-7e88721c77af\",\"type\":\"ColumnDataSource\"},\"glyph\":{\"id\":\"f2e2aa69-91b9-4905-a7b3-bfefee0a4337\",\"type\":\"Rect\"},\"hover_glyph\":null,\"nonselection_glyph\":null,\"selection_glyph\":null},\"id\":\"6e77d140-cd53-45a2-8119-468fa1f5b6d2\",\"type\":\"GlyphRenderer\"},{\"attributes\":{\"overlay\":{\"id\":\"5503ad4b-0339-4a4b-9a4a-42d7de827189\",\"type\":\"BoxAnnotation\"},\"plot\":{\"id\":\"847b27ca-745a-4a68-a809-cc9aca9e0c72\",\"subtype\":\"Chart\",\"type\":\"Plot\"}},\"id\":\"9116968d-e0f1-4902-af1d-bdf449a33da0\",\"type\":\"BoxZoomTool\"},{\"attributes\":{\"below\":[{\"id\":\"019ad21e-b956-4ba8-b0a1-b65a432bd290\",\"type\":\"CategoricalAxis\"}],\"left\":[{\"id\":\"4b1e8e8d-0f09-4446-9457-609988c565b6\",\"type\":\"LinearAxis\"}],\"legend\":null,\"plot_height\":400,\"plot_width\":400,\"renderers\":[{\"id\":\"6ebe606d-c8ec-4fe6-8db8-783557595f5e\",\"type\":\"BoxAnnotation\"},{\"id\":\"e37f60f2-7f4b-4f66-a7ec-57e1b518a099\",\"type\":\"GlyphRenderer\"},{\"id\":\"eaf9fce9-1897-4199-ad06-21bb20c8124b\",\"type\":\"GlyphRenderer\"},{\"id\":\"f6845efa-9b44-477e-91fe-2433f8fcd97e\",\"type\":\"GlyphRenderer\"},{\"id\":\"25e1ffef-8cb4-4762-a1cd-ee50283e62f8\",\"type\":\"GlyphRenderer\"},{\"id\":\"64722678-9fde-44e9-ba01-3c6b3495a7ea\",\"type\":\"GlyphRenderer\"},{\"id\":\"eefb0bac-cd2d-461b-803d-3d3a3be37eaa\",\"type\":\"GlyphRenderer\"},{\"id\":\"82f17246-048f-462b-ae49-a3b962732286\",\"type\":\"GlyphRenderer\"},{\"id\":\"00e6ec09-9cb6-41c6-a025-6f26b5c97527\",\"type\":\"GlyphRenderer\"},{\"id\":\"5b23bf00-5dd8-4372-81d1-821a29d1794b\",\"type\":\"GlyphRenderer\"},{\"id\":\"290573a4-df81-4dec-a185-de6e79a7914a\",\"type\":\"GlyphRenderer\"},{\"id\":\"84ad5ccc-2221-4262-bbc7-bf2da53041fa\",\"type\":\"GlyphRenderer\"},{\"id\":\"aa81e482-0589-4b15-8a98-8096e5056e32\",\"type\":\"GlyphRenderer\"},{\"id\":\"ae861430-7952-412a-a89d-4da90043c965\",\"type\":\"GlyphRenderer\"},{\"id\":\"d64909b4-e521-41d4-8cd5-bfc6013665d3\",\"type\":\"GlyphRenderer\"},{\"id\":\"77de1789-8361-4037-95f0-0c0aefe52488\",\"type\":\"GlyphRenderer\"},{\"id\":\"9ea841f4-862b-4f08-89d5-1ec80ec02259\",\"type\":\"GlyphRenderer\"},{\"id\":\"3d779d4b-9bbe-4291-83da-6526e257fd4a\",\"type\":\"GlyphRenderer\"},{\"id\":\"b9c7a470-523e-4881-947f-6318598c9e40\",\"type\":\"GlyphRenderer\"},{\"id\":\"019ad21e-b956-4ba8-b0a1-b65a432bd290\",\"type\":\"CategoricalAxis\"},{\"id\":\"4b1e8e8d-0f09-4446-9457-609988c565b6\",\"type\":\"LinearAxis\"},{\"id\":\"301587f4-b59c-493c-b386-267d103b8d4d\",\"type\":\"Grid\"}],\"title\":\"Auto MPG Box Plot\",\"title_text_font_size\":{\"value\":\"14pt\"},\"tool_events\":{\"id\":\"ee0e6786-8884-4301-a9a5-d09242af8737\",\"type\":\"ToolEvents\"},\"tools\":[{\"id\":\"8ddc2e3d-814b-4384-a65d-500648fde0e1\",\"type\":\"PanTool\"},{\"id\":\"f0cce7ae-3e4a-42d6-bf07-62707051075d\",\"type\":\"WheelZoomTool\"},{\"id\":\"feefcc95-c59b-4f8d-9c36-c4aef10b574a\",\"type\":\"BoxZoomTool\"},{\"id\":\"239eceb4-31b6-4bcd-9951-9f2a89c1fd96\",\"type\":\"PreviewSaveTool\"},{\"id\":\"f77c0dae-23bd-4afd-99a4-9760866ae9b1\",\"type\":\"ResizeTool\"},{\"id\":\"4974460b-6dfa-419d-9054-1e35a5ff4710\",\"type\":\"ResetTool\"},{\"id\":\"d0818983-6ad5-497e-912c-1b8c637bf720\",\"type\":\"HelpTool\"}],\"x_mapper_type\":\"auto\",\"x_range\":{\"id\":\"5ab4d262-cd40-4f4b-9c20-cee109783bd2\",\"type\":\"FactorRange\"},\"xgrid\":false,\"xscale\":\"auto\",\"y_mapper_type\":\"auto\",\"y_range\":{\"id\":\"82f2d8fd-eb0c-43a3-ad28-38ca16e85868\",\"type\":\"Range1d\"},\"yscale\":\"auto\"},\"id\":\"eab14ec9-b04f-4965-9de4-a1ae494a8fa0\",\"subtype\":\"Chart\",\"type\":\"Plot\"},{\"attributes\":{\"data_source\":{\"id\":\"a0c6f58d-91cc-4f27-bf4d-adaecb9ae6b7\",\"type\":\"ColumnDataSource\"},\"glyph\":{\"id\":\"8b1eac7f-f727-4846-94d3-a5fcfb5cbffe\",\"type\":\"Circle\"},\"hover_glyph\":null,\"nonselection_glyph\":null,\"selection_glyph\":null},\"id\":\"f593be62-dcaf-453d-8c6f-060ccfe355ef\",\"type\":\"GlyphRenderer\"},{\"attributes\":{\"line_width\":{\"value\":2},\"x0\":{\"field\":\"x0s\"},\"x1\":{\"field\":\"x1s\"},\"y0\":{\"field\":\"y0s\"},\"y1\":{\"field\":\"y1s\"}},\"id\":\"5f197628-e56e-4ea7-9885-49637c5ce088\",\"type\":\"Segment\"},{\"attributes\":{},\"id\":\"74610cb9-7668-4369-a6e0-fdf62574cdf8\",\"type\":\"CategoricalTickFormatter\"},{\"attributes\":{\"callback\":null,\"column_names\":[\"x1s\",\"y1s\",\"x0s\",\"y0s\"],\"data\":{\"chart_index\":[{\"cyl\":6},{\"cyl\":6},{\"cyl\":6},{\"cyl\":6}],\"cyl\":[6,6,6,6],\"x0s\":[\"6:0.5\",\"6:0.65\",\"6:0.5\",\"6:0.65\"],\"x1s\":[\"6:0.5\",\"6:0.35\",\"6:0.5\",\"6:0.35\"],\"y0s\":[15.0,15.0,21.0,25.5],\"y1s\":[18.0,15.0,25.5,25.5]}},\"id\":\"36f3335e-1e84-4301-bbfa-b3a5afa2c5ef\",\"type\":\"ColumnDataSource\"},{\"attributes\":{\"line_width\":{\"value\":2},\"x0\":{\"field\":\"x0s\"},\"x1\":{\"field\":\"x1s\"},\"y0\":{\"field\":\"y0s\"},\"y1\":{\"field\":\"y1s\"}},\"id\":\"4f570051-f65c-4265-a82e-0664a8869485\",\"type\":\"Segment\"},{\"attributes\":{\"callback\":null,\"column_names\":[\"width\",\"fill_alpha\",\"line_alpha\",\"height\",\"y\",\"color\",\"line_color\",\"x\"],\"data\":{\"chart_index\":[{\"cyl\":5}],\"color\":[\"DimGrey\"],\"cyl\":[5],\"fill_alpha\":[0.8],\"height\":[2.549999999999997],\"line_alpha\":[1.0],\"line_color\":[\"black\"],\"width\":[0.8],\"x\":[\"5\"],\"y\":[24.125]}},\"id\":\"9ef59340-c4de-4ec8-8b35-b5d69f81dc2c\",\"type\":\"ColumnDataSource\"},{\"attributes\":{\"plot\":{\"id\":\"847b27ca-745a-4a68-a809-cc9aca9e0c72\",\"subtype\":\"Chart\",\"type\":\"Plot\"}},\"id\":\"5bdbe694-e0ba-45e6-9f09-76904a9d5442\",\"type\":\"ResizeTool\"},{\"attributes\":{\"data_source\":{\"id\":\"c69740d4-93d6-479a-ac0e-5d9727b1a76e\",\"type\":\"ColumnDataSource\"},\"glyph\":{\"id\":\"401e8df7-8761-49a7-b6c1-5da669c4f914\",\"type\":\"Rect\"},\"hover_glyph\":null,\"nonselection_glyph\":null,\"selection_glyph\":null},\"id\":\"a2959b88-8a8e-4b12-914b-8ffb9478459b\",\"type\":\"GlyphRenderer\"},{\"attributes\":{\"callback\":null,\"factors\":[\"3\",\"4\",\"5\",\"6\",\"8\"]},\"id\":\"b8778478-164c-422e-9929-6d2213c98506\",\"type\":\"FactorRange\"},{\"attributes\":{\"data_source\":{\"id\":\"b3d40512-a591-4125-b445-d36e1c8b834d\",\"type\":\"ColumnDataSource\"},\"glyph\":{\"id\":\"c7482222-9202-4178-a480-4ed1a4c0766b\",\"type\":\"Circle\"},\"hover_glyph\":null,\"nonselection_glyph\":null,\"selection_glyph\":null},\"id\":\"84ad5ccc-2221-4262-bbc7-bf2da53041fa\",\"type\":\"GlyphRenderer\"},{\"attributes\":{\"callback\":null,\"column_names\":[\"x1s\",\"y1s\",\"x0s\",\"y0s\"],\"data\":{\"chart_index\":[{\"cyl\":5},{\"cyl\":5},{\"cyl\":5},{\"cyl\":5}],\"cyl\":[5,5,5,5],\"x0s\":[\"5:0.5\",\"5:0.65\",\"5:0.5\",\"5:0.65\"],\"x1s\":[\"5:0.5\",\"5:0.35\",\"5:0.5\",\"5:0.35\"],\"y0s\":[20.3,20.3,30.9,36.4],\"y1s\":[22.85,20.3,36.4,36.4]}},\"id\":\"16199327-4c9a-4766-960d-bd317e082e25\",\"type\":\"ColumnDataSource\"},{\"attributes\":{},\"id\":\"9252edc6-7168-4d78-9279-db373ae58cb0\",\"type\":\"BasicTicker\"},{\"attributes\":{\"data_source\":{\"id\":\"50b5df1b-3706-48bc-8ffa-72ee5f219caf\",\"type\":\"ColumnDataSource\"},\"glyph\":{\"id\":\"90aa0bfa-f3fa-4c70-a1d7-ae6549ee70b8\",\"type\":\"Segment\"},\"hover_glyph\":null,\"nonselection_glyph\":null,\"selection_glyph\":null},\"id\":\"8e986351-f5b1-4460-b372-02604948f72b\",\"type\":\"GlyphRenderer\"},{\"attributes\":{\"axis_label\":\"Mpg\",\"formatter\":{\"id\":\"00fbb171-8f4b-48ed-a7c2-1e9554df06a7\",\"type\":\"BasicTickFormatter\"},\"plot\":{\"id\":\"847b27ca-745a-4a68-a809-cc9aca9e0c72\",\"subtype\":\"Chart\",\"type\":\"Plot\"},\"ticker\":{\"id\":\"9252edc6-7168-4d78-9279-db373ae58cb0\",\"type\":\"BasicTicker\"}},\"id\":\"d13e02a3-9424-4a70-8368-5b7bce9aa2fd\",\"type\":\"LinearAxis\"},{\"attributes\":{\"fill_alpha\":{\"field\":\"fill_alpha\"},\"fill_color\":{\"field\":\"color\"},\"height\":{\"field\":\"height\",\"units\":\"data\"},\"line_color\":{\"field\":\"line_color\"},\"width\":{\"field\":\"width\",\"units\":\"data\"},\"x\":{\"field\":\"x\"},\"y\":{\"field\":\"y\"}},\"id\":\"f4603fae-990a-476b-a675-f614083aefa8\",\"type\":\"Rect\"},{\"attributes\":{\"data_source\":{\"id\":\"596716b6-8085-44c1-a71b-aaa1c6ed75ac\",\"type\":\"ColumnDataSource\"},\"glyph\":{\"id\":\"4c901a8c-8b59-4349-828d-798188bd43a2\",\"type\":\"Rect\"},\"hover_glyph\":null,\"nonselection_glyph\":null,\"selection_glyph\":null},\"id\":\"4d69027c-e23d-4b41-a599-c96b1e4c2cec\",\"type\":\"GlyphRenderer\"},{\"attributes\":{\"callback\":null,\"column_names\":[\"x1s\",\"y1s\",\"x0s\",\"y0s\"],\"data\":{\"chart_index\":[{\"cyl\":6},{\"cyl\":6},{\"cyl\":6},{\"cyl\":6}],\"cyl\":[6,6,6,6],\"x0s\":[\"6:0.5\",\"6:0.65\",\"6:0.5\",\"6:0.65\"],\"x1s\":[\"6:0.5\",\"6:0.35\",\"6:0.5\",\"6:0.35\"],\"y0s\":[15.0,15.0,21.0,25.5],\"y1s\":[18.0,15.0,25.5,25.5]}},\"id\":\"613e4f4b-7532-4897-a12e-f017f04370bd\",\"type\":\"ColumnDataSource\"},{\"attributes\":{\"callback\":null,\"column_names\":[\"width\",\"fill_alpha\",\"line_alpha\",\"height\",\"y\",\"color\",\"line_color\",\"x\"],\"data\":{\"chart_index\":[{\"cyl\":4}],\"color\":[\"DimGrey\"],\"cyl\":[4],\"fill_alpha\":[0.8],\"height\":[3.3999999999999986],\"line_alpha\":[1.0],\"line_color\":[\"black\"],\"width\":[0.8],\"x\":[\"4\"],\"y\":[26.7]}},\"id\":\"63a27ef7-c306-4cad-b849-b6c2888a43aa\",\"type\":\"ColumnDataSource\"},{\"attributes\":{\"data_source\":{\"id\":\"452a127e-9dbf-4dac-afbd-e189341f2702\",\"type\":\"ColumnDataSource\"},\"glyph\":{\"id\":\"ccf6b78c-9890-48a0-b6f7-7f87da49180b\",\"type\":\"Circle\"},\"hover_glyph\":null,\"nonselection_glyph\":null,\"selection_glyph\":null},\"id\":\"aca63adb-515a-4aa8-9ba0-99874b1bf0d0\",\"type\":\"GlyphRenderer\"},{\"attributes\":{\"line_width\":{\"value\":2},\"x0\":{\"field\":\"x0s\"},\"x1\":{\"field\":\"x1s\"},\"y0\":{\"field\":\"y0s\"},\"y1\":{\"field\":\"y1s\"}},\"id\":\"90aa0bfa-f3fa-4c70-a1d7-ae6549ee70b8\",\"type\":\"Segment\"},{\"attributes\":{\"fill_alpha\":{\"field\":\"fill_alpha\"},\"fill_color\":{\"field\":\"color\"},\"height\":{\"field\":\"height\",\"units\":\"data\"},\"line_color\":{\"field\":\"line_color\"},\"width\":{\"field\":\"width\",\"units\":\"data\"},\"x\":{\"field\":\"x\"},\"y\":{\"field\":\"y\"}},\"id\":\"ea266d28-627b-491a-8246-d52c1e88355a\",\"type\":\"Rect\"},{\"attributes\":{\"callback\":null,\"column_names\":[\"x1s\",\"y1s\",\"x0s\",\"y0s\"],\"data\":{\"chart_index\":[{\"cyl\":8},{\"cyl\":8},{\"cyl\":8},{\"cyl\":8}],\"cyl\":[8,8,8,8],\"x0s\":[\"8:0.5\",\"8:0.65\",\"8:0.5\",\"8:0.65\"],\"x1s\":[\"8:0.5\",\"8:0.35\",\"8:0.5\",\"8:0.35\"],\"y0s\":[9.0,9.0,16.0,20.5],\"y1s\":[13.0,9.0,20.5,20.5]}},\"id\":\"959a8e09-bab7-4d26-874e-fe7ddeff715f\",\"type\":\"ColumnDataSource\"},{\"attributes\":{\"data_source\":{\"id\":\"613e4f4b-7532-4897-a12e-f017f04370bd\",\"type\":\"ColumnDataSource\"},\"glyph\":{\"id\":\"4f570051-f65c-4265-a82e-0664a8869485\",\"type\":\"Segment\"},\"hover_glyph\":null,\"nonselection_glyph\":null,\"selection_glyph\":null},\"id\":\"aa81e482-0589-4b15-8a98-8096e5056e32\",\"type\":\"GlyphRenderer\"},{\"attributes\":{\"data_source\":{\"id\":\"6259e9ec-f9a9-4484-8902-4f0e93ebb6f7\",\"type\":\"ColumnDataSource\"},\"glyph\":{\"id\":\"b5d3bbaf-3eda-4376-badb-d00f84afb5f1\",\"type\":\"Rect\"},\"hover_glyph\":null,\"nonselection_glyph\":null,\"selection_glyph\":null},\"id\":\"e2966eae-ec83-44ed-904a-772c65c58ecd\",\"type\":\"GlyphRenderer\"},{\"attributes\":{\"plot\":{\"id\":\"eab14ec9-b04f-4965-9de4-a1ae494a8fa0\",\"subtype\":\"Chart\",\"type\":\"Plot\"}},\"id\":\"8ddc2e3d-814b-4384-a65d-500648fde0e1\",\"type\":\"PanTool\"},{\"attributes\":{\"dimension\":1,\"plot\":{\"id\":\"847b27ca-745a-4a68-a809-cc9aca9e0c72\",\"subtype\":\"Chart\",\"type\":\"Plot\"},\"ticker\":{\"id\":\"9252edc6-7168-4d78-9279-db373ae58cb0\",\"type\":\"BasicTicker\"}},\"id\":\"bbe31629-72ca-4290-b7a0-85d546e92ca3\",\"type\":\"Grid\"},{\"attributes\":{\"callback\":null,\"column_names\":[\"width\",\"fill_alpha\",\"line_alpha\",\"height\",\"y\",\"color\",\"line_color\",\"x\"],\"data\":{\"chart_index\":[{\"cyl\":3}],\"color\":[\"#f22c40\"],\"cyl\":[3],\"fill_alpha\":[0.8],\"height\":[1.8000000000000007],\"line_alpha\":[1.0],\"line_color\":[\"black\"],\"width\":[0.8],\"x\":[\"3\"],\"y\":[21.15]}},\"id\":\"6259e9ec-f9a9-4484-8902-4f0e93ebb6f7\",\"type\":\"ColumnDataSource\"},{\"attributes\":{\"children\":[{\"id\":\"eab14ec9-b04f-4965-9de4-a1ae494a8fa0\",\"subtype\":\"Chart\",\"type\":\"Plot\"},{\"id\":\"847b27ca-745a-4a68-a809-cc9aca9e0c72\",\"subtype\":\"Chart\",\"type\":\"Plot\"}]},\"id\":\"a170dc67-b1c1-4603-aa11-6a8ce00c5147\",\"type\":\"HBox\"},{\"attributes\":{\"callback\":null,\"column_names\":[\"width\",\"fill_alpha\",\"line_alpha\",\"height\",\"y\",\"color\",\"line_color\",\"x\"],\"data\":{\"chart_index\":[{\"cyl\":3}],\"color\":[\"#f22c40\"],\"cyl\":[3],\"fill_alpha\":[0.8],\"height\":[1.5],\"line_alpha\":[1.0],\"line_color\":[\"black\"],\"width\":[0.8],\"x\":[\"3\"],\"y\":[19.5]}},\"id\":\"1426920e-98d8-4bf0-b48b-72660cd39c9c\",\"type\":\"ColumnDataSource\"},{\"attributes\":{\"data_source\":{\"id\":\"1b620b1f-05c7-40f2-ac39-be36dd7ea6ad\",\"type\":\"ColumnDataSource\"},\"glyph\":{\"id\":\"453e29c7-9431-4db4-9364-0585fc9977a2\",\"type\":\"Segment\"},\"hover_glyph\":null,\"nonselection_glyph\":null,\"selection_glyph\":null},\"id\":\"b9c7a470-523e-4881-947f-6318598c9e40\",\"type\":\"GlyphRenderer\"},{\"attributes\":{\"plot\":{\"id\":\"eab14ec9-b04f-4965-9de4-a1ae494a8fa0\",\"subtype\":\"Chart\",\"type\":\"Plot\"}},\"id\":\"4974460b-6dfa-419d-9054-1e35a5ff4710\",\"type\":\"ResetTool\"},{\"attributes\":{},\"id\":\"772c0ae0-7f9a-4ceb-9438-1a1478db181c\",\"type\":\"CategoricalTickFormatter\"},{\"attributes\":{},\"id\":\"00fbb171-8f4b-48ed-a7c2-1e9554df06a7\",\"type\":\"BasicTickFormatter\"},{\"attributes\":{\"callback\":null,\"column_names\":[\"width\",\"fill_alpha\",\"line_alpha\",\"height\",\"y\",\"color\",\"line_color\",\"x\"],\"data\":{\"chart_index\":[{\"cyl\":4}],\"color\":[\"DimGrey\"],\"cyl\":[4],\"fill_alpha\":[0.8],\"height\":[4.550000000000004],\"line_alpha\":[1.0],\"line_color\":[\"black\"],\"width\":[0.8],\"x\":[\"4\"],\"y\":[30.675]}},\"id\":\"567ad86c-fe25-42d9-a544-73eebf9b2cd2\",\"type\":\"ColumnDataSource\"},{\"attributes\":{\"fill_alpha\":{\"value\":0.7},\"fill_color\":{\"value\":\"red\"},\"line_color\":{\"value\":\"red\"},\"size\":{\"units\":\"screen\",\"value\":5},\"x\":{\"field\":\"x_values\"},\"y\":{\"field\":\"y_values\"}},\"id\":\"ccf6b78c-9890-48a0-b6f7-7f87da49180b\",\"type\":\"Circle\"},{\"attributes\":{\"data_source\":{\"id\":\"abfdf2bb-7069-46ff-bb42-4ec4a801864d\",\"type\":\"ColumnDataSource\"},\"glyph\":{\"id\":\"ab4a2e7a-0de9-47fc-b38d-817c67950446\",\"type\":\"Circle\"},\"hover_glyph\":null,\"nonselection_glyph\":null,\"selection_glyph\":null},\"id\":\"703dfc55-147e-49de-a94a-b16aed4eee39\",\"type\":\"GlyphRenderer\"},{\"attributes\":{\"data_source\":{\"id\":\"19c2c850-a954-44d1-9706-4088ac750cd2\",\"type\":\"ColumnDataSource\"},\"glyph\":{\"id\":\"98eea508-0f20-41c4-b5bc-8e04c948efc7\",\"type\":\"Rect\"},\"hover_glyph\":null,\"nonselection_glyph\":null,\"selection_glyph\":null},\"id\":\"9631c7c4-11c5-4b16-9ef7-0ebbd7409844\",\"type\":\"GlyphRenderer\"},{\"attributes\":{\"bottom_units\":\"screen\",\"fill_alpha\":{\"value\":0.5},\"fill_color\":{\"value\":\"lightgrey\"},\"left_units\":\"screen\",\"level\":\"overlay\",\"line_alpha\":{\"value\":1.0},\"line_color\":{\"value\":\"black\"},\"line_dash\":[4,4],\"line_width\":{\"value\":2},\"plot\":null,\"render_mode\":\"css\",\"right_units\":\"screen\",\"top_units\":\"screen\"},\"id\":\"6ebe606d-c8ec-4fe6-8db8-783557595f5e\",\"type\":\"BoxAnnotation\"},{\"attributes\":{\"fill_alpha\":{\"field\":\"fill_alpha\"},\"fill_color\":{\"field\":\"color\"},\"height\":{\"field\":\"height\",\"units\":\"data\"},\"line_color\":{\"field\":\"line_color\"},\"width\":{\"field\":\"width\",\"units\":\"data\"},\"x\":{\"field\":\"x\"},\"y\":{\"field\":\"y\"}},\"id\":\"6035d187-53d7-4496-916d-d383861a80ff\",\"type\":\"Rect\"},{\"attributes\":{\"callback\":null,\"column_names\":[\"x_values\",\"y_values\"],\"data\":{\"chart_index\":[{\"cyl\":8},{\"cyl\":8},{\"cyl\":8}],\"cyl\":[8,8,8],\"x_values\":[\"8:0.5\",\"8:0.5\",\"8:0.5\"],\"y_values\":[23.0,23.9,26.6]}},\"id\":\"452a127e-9dbf-4dac-afbd-e189341f2702\",\"type\":\"ColumnDataSource\"},{\"attributes\":{\"data_source\":{\"id\":\"69aea16f-6bdc-47b4-a098-65c0cd7712a6\",\"type\":\"ColumnDataSource\"},\"glyph\":{\"id\":\"eff62764-f4b1-493b-8f42-42d512385bcf\",\"type\":\"Segment\"},\"hover_glyph\":null,\"nonselection_glyph\":null,\"selection_glyph\":null},\"id\":\"b494c11c-e99e-4c55-a267-afb2a1a02643\",\"type\":\"GlyphRenderer\"},{\"attributes\":{\"fill_alpha\":{\"field\":\"fill_alpha\"},\"fill_color\":{\"field\":\"color\"},\"height\":{\"field\":\"height\",\"units\":\"data\"},\"line_color\":{\"field\":\"line_color\"},\"width\":{\"field\":\"width\",\"units\":\"data\"},\"x\":{\"field\":\"x\"},\"y\":{\"field\":\"y\"}},\"id\":\"79262a47-13f6-4eba-a3b3-9cc3ba1005f6\",\"type\":\"Rect\"},{\"attributes\":{\"data_source\":{\"id\":\"9ef59340-c4de-4ec8-8b35-b5d69f81dc2c\",\"type\":\"ColumnDataSource\"},\"glyph\":{\"id\":\"8df51f78-55a9-453b-b97d-049ad93b5a51\",\"type\":\"Rect\"},\"hover_glyph\":null,\"nonselection_glyph\":null,\"selection_glyph\":null},\"id\":\"9ea841f4-862b-4f08-89d5-1ec80ec02259\",\"type\":\"GlyphRenderer\"},{\"attributes\":{\"data_source\":{\"id\":\"38d290e0-3caf-441d-89c7-4b51e6f3d94a\",\"type\":\"ColumnDataSource\"},\"glyph\":{\"id\":\"6a697de0-88bc-4cb7-b76b-f8b490a7c3b5\",\"type\":\"Rect\"},\"hover_glyph\":null,\"nonselection_glyph\":null,\"selection_glyph\":null},\"id\":\"5b23bf00-5dd8-4372-81d1-821a29d1794b\",\"type\":\"GlyphRenderer\"},{\"attributes\":{\"callback\":null,\"column_names\":[\"x_values\",\"y_values\"],\"data\":{\"chart_index\":[{\"cyl\":8},{\"cyl\":8},{\"cyl\":8}],\"cyl\":[8,8,8],\"x_values\":[\"8:0.5\",\"8:0.5\",\"8:0.5\"],\"y_values\":[23.0,23.9,26.6]}},\"id\":\"e0eca516-6d5d-4089-8014-3916f959c914\",\"type\":\"ColumnDataSource\"},{\"attributes\":{\"line_width\":{\"value\":2},\"x0\":{\"field\":\"x0s\"},\"x1\":{\"field\":\"x1s\"},\"y0\":{\"field\":\"y0s\"},\"y1\":{\"field\":\"y1s\"}},\"id\":\"c0bce6c7-e423-434e-bdae-2f0236933b4c\",\"type\":\"Segment\"},{\"attributes\":{\"data_source\":{\"id\":\"3d007d9d-5025-4b65-a89e-334ca742e3c8\",\"type\":\"ColumnDataSource\"},\"glyph\":{\"id\":\"79262a47-13f6-4eba-a3b3-9cc3ba1005f6\",\"type\":\"Rect\"},\"hover_glyph\":null,\"nonselection_glyph\":null,\"selection_glyph\":null},\"id\":\"e825d345-7055-486b-89ee-9f53d99a2950\",\"type\":\"GlyphRenderer\"},{\"attributes\":{\"fill_alpha\":{\"field\":\"fill_alpha\"},\"fill_color\":{\"field\":\"color\"},\"height\":{\"field\":\"height\",\"units\":\"data\"},\"line_color\":{\"field\":\"line_color\"},\"width\":{\"field\":\"width\",\"units\":\"data\"},\"x\":{\"field\":\"x\"},\"y\":{\"field\":\"y\"}},\"id\":\"13a2c589-6e55-4bac-80ed-3a6883863370\",\"type\":\"Rect\"},{\"attributes\":{\"data_source\":{\"id\":\"26761f8d-37df-40e3-9d01-ddcdb2a0d5c3\",\"type\":\"ColumnDataSource\"},\"glyph\":{\"id\":\"139bf107-90f7-4be4-9eb5-b0c19a450c34\",\"type\":\"Rect\"},\"hover_glyph\":null,\"nonselection_glyph\":null,\"selection_glyph\":null},\"id\":\"ae861430-7952-412a-a89d-4da90043c965\",\"type\":\"GlyphRenderer\"},{\"attributes\":{\"fill_alpha\":{\"field\":\"fill_alpha\"},\"fill_color\":{\"field\":\"color\"},\"height\":{\"field\":\"height\",\"units\":\"data\"},\"line_color\":{\"field\":\"line_color\"},\"width\":{\"field\":\"width\",\"units\":\"data\"},\"x\":{\"field\":\"x\"},\"y\":{\"field\":\"y\"}},\"id\":\"9186ab1a-31d0-4f81-a3cd-9f201b8d20c0\",\"type\":\"Rect\"},{\"attributes\":{\"fill_alpha\":{\"field\":\"fill_alpha\"},\"fill_color\":{\"field\":\"color\"},\"height\":{\"field\":\"height\",\"units\":\"data\"},\"line_color\":{\"field\":\"line_color\"},\"width\":{\"field\":\"width\",\"units\":\"data\"},\"x\":{\"field\":\"x\"},\"y\":{\"field\":\"y\"}},\"id\":\"dc8311c6-1b65-4994-bb6c-d2fd14086363\",\"type\":\"Rect\"},{\"attributes\":{\"callback\":null,\"column_names\":[\"width\",\"fill_alpha\",\"line_alpha\",\"height\",\"y\",\"color\",\"line_color\",\"x\"],\"data\":{\"chart_index\":[{\"cyl\":3}],\"color\":[\"DimGrey\"],\"cyl\":[3],\"fill_alpha\":[0.8],\"height\":[1.5],\"line_alpha\":[1.0],\"line_color\":[\"black\"],\"width\":[0.8],\"x\":[\"3\"],\"y\":[19.5]}},\"id\":\"26761f8d-37df-40e3-9d01-ddcdb2a0d5c3\",\"type\":\"ColumnDataSource\"},{\"attributes\":{\"plot\":{\"id\":\"847b27ca-745a-4a68-a809-cc9aca9e0c72\",\"subtype\":\"Chart\",\"type\":\"Plot\"}},\"id\":\"c40b326e-156c-4d68-903b-427b3e1fbb4c\",\"type\":\"PreviewSaveTool\"},{\"attributes\":{\"callback\":null,\"column_names\":[\"width\",\"fill_alpha\",\"line_alpha\",\"height\",\"y\",\"color\",\"line_color\",\"x\"],\"data\":{\"chart_index\":[{\"cyl\":5}],\"color\":[\"#407ee7\"],\"cyl\":[5],\"fill_alpha\":[0.8],\"height\":[5.5],\"line_alpha\":[1.0],\"line_color\":[\"black\"],\"width\":[0.8],\"x\":[\"5\"],\"y\":[28.15]}},\"id\":\"ff6b332f-e6a5-4fdb-97c1-e621318680be\",\"type\":\"ColumnDataSource\"},{\"attributes\":{\"callback\":null,\"column_names\":[\"width\",\"fill_alpha\",\"line_alpha\",\"height\",\"y\",\"color\",\"line_color\",\"x\"],\"data\":{\"chart_index\":[{\"cyl\":4}],\"color\":[\"#5ab738\"],\"cyl\":[4],\"fill_alpha\":[0.8],\"height\":[3.3999999999999986],\"line_alpha\":[1.0],\"line_color\":[\"black\"],\"width\":[0.8],\"x\":[\"4\"],\"y\":[26.7]}},\"id\":\"c495769a-76c2-402a-befd-a37156248297\",\"type\":\"ColumnDataSource\"},{\"attributes\":{\"callback\":null,\"column_names\":[\"x_values\",\"y_values\"],\"data\":{\"chart_index\":[{\"cyl\":4}],\"cyl\":[4],\"x_values\":[\"4:0.5\"],\"y_values\":[46.6]}},\"id\":\"abfdf2bb-7069-46ff-bb42-4ec4a801864d\",\"type\":\"ColumnDataSource\"},{\"attributes\":{\"data_source\":{\"id\":\"1426920e-98d8-4bf0-b48b-72660cd39c9c\",\"type\":\"ColumnDataSource\"},\"glyph\":{\"id\":\"7f41521a-e021-458c-b4c1-2861e5bac1d8\",\"type\":\"Rect\"},\"hover_glyph\":null,\"nonselection_glyph\":null,\"selection_glyph\":null},\"id\":\"3e63ca18-555f-4141-b8ca-1b8ff7a02fcb\",\"type\":\"GlyphRenderer\"},{\"attributes\":{\"callback\":null,\"factors\":[\"3\",\"4\",\"5\",\"6\",\"8\"]},\"id\":\"5ab4d262-cd40-4f4b-9c20-cee109783bd2\",\"type\":\"FactorRange\"},{\"attributes\":{\"callback\":null,\"column_names\":[\"x1s\",\"y1s\",\"x0s\",\"y0s\"],\"data\":{\"chart_index\":[{\"cyl\":8},{\"cyl\":8},{\"cyl\":8},{\"cyl\":8}],\"cyl\":[8,8,8,8],\"x0s\":[\"8:0.5\",\"8:0.65\",\"8:0.5\",\"8:0.65\"],\"x1s\":[\"8:0.5\",\"8:0.35\",\"8:0.5\",\"8:0.35\"],\"y0s\":[9.0,9.0,16.0,20.5],\"y1s\":[13.0,9.0,20.5,20.5]}},\"id\":\"69aea16f-6bdc-47b4-a098-65c0cd7712a6\",\"type\":\"ColumnDataSource\"},{\"attributes\":{\"callback\":null,\"column_names\":[\"width\",\"fill_alpha\",\"line_alpha\",\"height\",\"y\",\"color\",\"line_color\",\"x\"],\"data\":{\"chart_index\":[{\"cyl\":5}],\"color\":[\"DimGrey\"],\"cyl\":[5],\"fill_alpha\":[0.8],\"height\":[5.5],\"line_alpha\":[1.0],\"line_color\":[\"black\"],\"width\":[0.8],\"x\":[\"5\"],\"y\":[28.15]}},\"id\":\"b0e51823-3e75-4dbf-bd27-8d1dac258560\",\"type\":\"ColumnDataSource\"},{\"attributes\":{\"fill_alpha\":{\"field\":\"fill_alpha\"},\"fill_color\":{\"field\":\"color\"},\"height\":{\"field\":\"height\",\"units\":\"data\"},\"line_color\":{\"field\":\"line_color\"},\"width\":{\"field\":\"width\",\"units\":\"data\"},\"x\":{\"field\":\"x\"},\"y\":{\"field\":\"y\"}},\"id\":\"8df51f78-55a9-453b-b97d-049ad93b5a51\",\"type\":\"Rect\"},{\"attributes\":{\"below\":[{\"id\":\"3d49e58b-9e55-4348-9de8-df343370c725\",\"type\":\"CategoricalAxis\"}],\"left\":[{\"id\":\"d13e02a3-9424-4a70-8368-5b7bce9aa2fd\",\"type\":\"LinearAxis\"}],\"legend\":null,\"plot_height\":400,\"plot_width\":400,\"renderers\":[{\"id\":\"5503ad4b-0339-4a4b-9a4a-42d7de827189\",\"type\":\"BoxAnnotation\"},{\"id\":\"a2959b88-8a8e-4b12-914b-8ffb9478459b\",\"type\":\"GlyphRenderer\"},{\"id\":\"e5466171-8ec7-4472-bbf4-acebb97eedd8\",\"type\":\"GlyphRenderer\"},{\"id\":\"aca63adb-515a-4aa8-9ba0-99874b1bf0d0\",\"type\":\"GlyphRenderer\"},{\"id\":\"b494c11c-e99e-4c55-a267-afb2a1a02643\",\"type\":\"GlyphRenderer\"},{\"id\":\"ad6b2b17-3c6e-4a25-a012-6df78eb37470\",\"type\":\"GlyphRenderer\"},{\"id\":\"9631c7c4-11c5-4b16-9ef7-0ebbd7409844\",\"type\":\"GlyphRenderer\"},{\"id\":\"703dfc55-147e-49de-a94a-b16aed4eee39\",\"type\":\"GlyphRenderer\"},{\"id\":\"8e986351-f5b1-4460-b372-02604948f72b\",\"type\":\"GlyphRenderer\"},{\"id\":\"e825d345-7055-486b-89ee-9f53d99a2950\",\"type\":\"GlyphRenderer\"},{\"id\":\"6e77d140-cd53-45a2-8119-468fa1f5b6d2\",\"type\":\"GlyphRenderer\"},{\"id\":\"f593be62-dcaf-453d-8c6f-060ccfe355ef\",\"type\":\"GlyphRenderer\"},{\"id\":\"af876eb3-ce8c-4cf4-8e5b-493f576dcab7\",\"type\":\"GlyphRenderer\"},{\"id\":\"3e63ca18-555f-4141-b8ca-1b8ff7a02fcb\",\"type\":\"GlyphRenderer\"},{\"id\":\"e2966eae-ec83-44ed-904a-772c65c58ecd\",\"type\":\"GlyphRenderer\"},{\"id\":\"487d8378-02aa-4e90-9494-b2d569da9eee\",\"type\":\"GlyphRenderer\"},{\"id\":\"4d69027c-e23d-4b41-a599-c96b1e4c2cec\",\"type\":\"GlyphRenderer\"},{\"id\":\"e02b3565-1f30-4d6a-a51a-4d4e78f8be83\",\"type\":\"GlyphRenderer\"},{\"id\":\"d91ca993-b448-419d-b543-6e4663b8702a\",\"type\":\"GlyphRenderer\"},{\"id\":\"3d49e58b-9e55-4348-9de8-df343370c725\",\"type\":\"CategoricalAxis\"},{\"id\":\"d13e02a3-9424-4a70-8368-5b7bce9aa2fd\",\"type\":\"LinearAxis\"},{\"id\":\"bbe31629-72ca-4290-b7a0-85d546e92ca3\",\"type\":\"Grid\"}],\"title\":\"MPG Box Plot by Cylinder Count\",\"title_text_font_size\":{\"value\":\"14pt\"},\"tool_events\":{\"id\":\"21799b12-012d-4e96-a1e6-4b9b029dea3c\",\"type\":\"ToolEvents\"},\"tools\":[{\"id\":\"716464e4-0787-4c5e-9d00-f4239dea6c51\",\"type\":\"PanTool\"},{\"id\":\"afb8a6e9-4ca8-40e3-b7fd-32f5be7714c7\",\"type\":\"WheelZoomTool\"},{\"id\":\"9116968d-e0f1-4902-af1d-bdf449a33da0\",\"type\":\"BoxZoomTool\"},{\"id\":\"c40b326e-156c-4d68-903b-427b3e1fbb4c\",\"type\":\"PreviewSaveTool\"},{\"id\":\"5bdbe694-e0ba-45e6-9f09-76904a9d5442\",\"type\":\"ResizeTool\"},{\"id\":\"75341395-5ed6-47e1-ac8f-cddd4538be29\",\"type\":\"ResetTool\"},{\"id\":\"3a8a1ceb-8f8d-4b51-9c6c-08c706b930ee\",\"type\":\"HelpTool\"}],\"x_mapper_type\":\"auto\",\"x_range\":{\"id\":\"b8778478-164c-422e-9929-6d2213c98506\",\"type\":\"FactorRange\"},\"xgrid\":false,\"xscale\":\"auto\",\"y_mapper_type\":\"auto\",\"y_range\":{\"id\":\"a6460822-cb76-42d1-87b8-511e5cb80f05\",\"type\":\"Range1d\"},\"yscale\":\"auto\"},\"id\":\"847b27ca-745a-4a68-a809-cc9aca9e0c72\",\"subtype\":\"Chart\",\"type\":\"Plot\"},{\"attributes\":{\"callback\":null,\"column_names\":[\"x1s\",\"y1s\",\"x0s\",\"y0s\"],\"data\":{\"chart_index\":[{\"cyl\":5},{\"cyl\":5},{\"cyl\":5},{\"cyl\":5}],\"cyl\":[5,5,5,5],\"x0s\":[\"5:0.5\",\"5:0.65\",\"5:0.5\",\"5:0.65\"],\"x1s\":[\"5:0.5\",\"5:0.35\",\"5:0.5\",\"5:0.35\"],\"y0s\":[20.3,20.3,30.9,36.4],\"y1s\":[22.85,20.3,36.4,36.4]}},\"id\":\"1b620b1f-05c7-40f2-ac39-be36dd7ea6ad\",\"type\":\"ColumnDataSource\"},{\"attributes\":{\"plot\":{\"id\":\"eab14ec9-b04f-4965-9de4-a1ae494a8fa0\",\"subtype\":\"Chart\",\"type\":\"Plot\"}},\"id\":\"f0cce7ae-3e4a-42d6-bf07-62707051075d\",\"type\":\"WheelZoomTool\"},{\"attributes\":{\"data_source\":{\"id\":\"63a27ef7-c306-4cad-b849-b6c2888a43aa\",\"type\":\"ColumnDataSource\"},\"glyph\":{\"id\":\"82e7f374-81d8-49a7-958f-30c9cdceea18\",\"type\":\"Rect\"},\"hover_glyph\":null,\"nonselection_glyph\":null,\"selection_glyph\":null},\"id\":\"64722678-9fde-44e9-ba01-3c6b3495a7ea\",\"type\":\"GlyphRenderer\"},{\"attributes\":{\"callback\":null,\"column_names\":[\"width\",\"fill_alpha\",\"line_alpha\",\"height\",\"y\",\"color\",\"line_color\",\"x\"],\"data\":{\"chart_index\":[{\"cyl\":8}],\"color\":[\"#00ad9c\"],\"cyl\":[8],\"fill_alpha\":[0.8],\"height\":[1.0],\"line_alpha\":[1.0],\"line_color\":[\"black\"],\"width\":[0.8],\"x\":[\"8\"],\"y\":[13.5]}},\"id\":\"c69740d4-93d6-479a-ac0e-5d9727b1a76e\",\"type\":\"ColumnDataSource\"},{\"attributes\":{\"callback\":null,\"end\":49.38},\"id\":\"82f2d8fd-eb0c-43a3-ad28-38ca16e85868\",\"type\":\"Range1d\"},{\"attributes\":{\"callback\":null,\"column_names\":[\"width\",\"fill_alpha\",\"line_alpha\",\"height\",\"y\",\"color\",\"line_color\",\"x\"],\"data\":{\"chart_index\":[{\"cyl\":5}],\"color\":[\"#407ee7\"],\"cyl\":[5],\"fill_alpha\":[0.8],\"height\":[2.549999999999997],\"line_alpha\":[1.0],\"line_color\":[\"black\"],\"width\":[0.8],\"x\":[\"5\"],\"y\":[24.125]}},\"id\":\"596716b6-8085-44c1-a71b-aaa1c6ed75ac\",\"type\":\"ColumnDataSource\"},{\"attributes\":{\"data_source\":{\"id\":\"e0eca516-6d5d-4089-8014-3916f959c914\",\"type\":\"ColumnDataSource\"},\"glyph\":{\"id\":\"5601900c-8ed1-40cf-a80a-898db9b783fe\",\"type\":\"Circle\"},\"hover_glyph\":null,\"nonselection_glyph\":null,\"selection_glyph\":null},\"id\":\"f6845efa-9b44-477e-91fe-2433f8fcd97e\",\"type\":\"GlyphRenderer\"},{\"attributes\":{\"fill_alpha\":{\"field\":\"fill_alpha\"},\"fill_color\":{\"field\":\"color\"},\"height\":{\"field\":\"height\",\"units\":\"data\"},\"line_color\":{\"field\":\"line_color\"},\"width\":{\"field\":\"width\",\"units\":\"data\"},\"x\":{\"field\":\"x\"},\"y\":{\"field\":\"y\"}},\"id\":\"401e8df7-8761-49a7-b6c1-5da669c4f914\",\"type\":\"Rect\"},{\"attributes\":{\"data_source\":{\"id\":\"ff6b332f-e6a5-4fdb-97c1-e621318680be\",\"type\":\"ColumnDataSource\"},\"glyph\":{\"id\":\"9186ab1a-31d0-4f81-a3cd-9f201b8d20c0\",\"type\":\"Rect\"},\"hover_glyph\":null,\"nonselection_glyph\":null,\"selection_glyph\":null},\"id\":\"e02b3565-1f30-4d6a-a51a-4d4e78f8be83\",\"type\":\"GlyphRenderer\"},{\"attributes\":{\"callback\":null,\"column_names\":[\"width\",\"fill_alpha\",\"line_alpha\",\"height\",\"y\",\"color\",\"line_color\",\"x\"],\"data\":{\"chart_index\":[{\"cyl\":6}],\"color\":[\"DimGrey\"],\"cyl\":[6],\"fill_alpha\":[0.8],\"height\":[2.0],\"line_alpha\":[1.0],\"line_color\":[\"black\"],\"width\":[0.8],\"x\":[\"6\"],\"y\":[20.0]}},\"id\":\"2a65ad57-3c7d-4ad0-8552-84bdca7f4721\",\"type\":\"ColumnDataSource\"},{\"attributes\":{\"callback\":null,\"column_names\":[\"width\",\"fill_alpha\",\"line_alpha\",\"height\",\"y\",\"color\",\"line_color\",\"x\"],\"data\":{\"chart_index\":[{\"cyl\":3}],\"color\":[\"DimGrey\"],\"cyl\":[3],\"fill_alpha\":[0.8],\"height\":[1.8000000000000007],\"line_alpha\":[1.0],\"line_color\":[\"black\"],\"width\":[0.8],\"x\":[\"3\"],\"y\":[21.15]}},\"id\":\"574dadf3-e953-4b87-a100-c40974e18012\",\"type\":\"ColumnDataSource\"},{\"attributes\":{\"fill_alpha\":{\"field\":\"fill_alpha\"},\"fill_color\":{\"field\":\"color\"},\"height\":{\"field\":\"height\",\"units\":\"data\"},\"line_color\":{\"field\":\"line_color\"},\"width\":{\"field\":\"width\",\"units\":\"data\"},\"x\":{\"field\":\"x\"},\"y\":{\"field\":\"y\"}},\"id\":\"b5d3bbaf-3eda-4376-badb-d00f84afb5f1\",\"type\":\"Rect\"},{\"attributes\":{\"plot\":{\"id\":\"eab14ec9-b04f-4965-9de4-a1ae494a8fa0\",\"subtype\":\"Chart\",\"type\":\"Plot\"}},\"id\":\"f77c0dae-23bd-4afd-99a4-9760866ae9b1\",\"type\":\"ResizeTool\"},{\"attributes\":{\"fill_alpha\":{\"field\":\"fill_alpha\"},\"fill_color\":{\"field\":\"color\"},\"height\":{\"field\":\"height\",\"units\":\"data\"},\"line_color\":{\"field\":\"line_color\"},\"width\":{\"field\":\"width\",\"units\":\"data\"},\"x\":{\"field\":\"x\"},\"y\":{\"field\":\"y\"}},\"id\":\"82e7f374-81d8-49a7-958f-30c9cdceea18\",\"type\":\"Rect\"},{\"attributes\":{\"callback\":null,\"column_names\":[\"x1s\",\"y1s\",\"x0s\",\"y0s\"],\"data\":{\"chart_index\":[{\"cyl\":4},{\"cyl\":4},{\"cyl\":4},{\"cyl\":4}],\"cyl\":[4,4,4,4],\"x0s\":[\"4:0.5\",\"4:0.65\",\"4:0.5\",\"4:0.65\"],\"x1s\":[\"4:0.5\",\"4:0.35\",\"4:0.5\",\"4:0.35\"],\"y0s\":[18.0,18.0,32.95,44.87500000000001],\"y1s\":[25.0,18.0,44.87500000000001,44.87500000000001]}},\"id\":\"70c3b27b-c8af-4242-a600-190e8c67a5b5\",\"type\":\"ColumnDataSource\"},{\"attributes\":{\"fill_alpha\":{\"field\":\"fill_alpha\"},\"fill_color\":{\"field\":\"color\"},\"height\":{\"field\":\"height\",\"units\":\"data\"},\"line_color\":{\"field\":\"line_color\"},\"width\":{\"field\":\"width\",\"units\":\"data\"},\"x\":{\"field\":\"x\"},\"y\":{\"field\":\"y\"}},\"id\":\"aae63103-21cc-4058-af52-cd4e5a7b0246\",\"type\":\"Rect\"},{\"attributes\":{\"plot\":{\"id\":\"847b27ca-745a-4a68-a809-cc9aca9e0c72\",\"subtype\":\"Chart\",\"type\":\"Plot\"}},\"id\":\"3a8a1ceb-8f8d-4b51-9c6c-08c706b930ee\",\"type\":\"HelpTool\"},{\"attributes\":{\"plot\":{\"id\":\"eab14ec9-b04f-4965-9de4-a1ae494a8fa0\",\"subtype\":\"Chart\",\"type\":\"Plot\"}},\"id\":\"239eceb4-31b6-4bcd-9951-9f2a89c1fd96\",\"type\":\"PreviewSaveTool\"},{\"attributes\":{\"callback\":null,\"column_names\":[\"width\",\"fill_alpha\",\"line_alpha\",\"height\",\"y\",\"color\",\"line_color\",\"x\"],\"data\":{\"chart_index\":[{\"cyl\":8}],\"color\":[\"DimGrey\"],\"cyl\":[8],\"fill_alpha\":[0.8],\"height\":[1.0],\"line_alpha\":[1.0],\"line_color\":[\"black\"],\"width\":[0.8],\"x\":[\"8\"],\"y\":[13.5]}},\"id\":\"3f1774c8-eae1-45b2-b21e-4b926c7cbdf2\",\"type\":\"ColumnDataSource\"},{\"attributes\":{\"overlay\":{\"id\":\"6ebe606d-c8ec-4fe6-8db8-783557595f5e\",\"type\":\"BoxAnnotation\"},\"plot\":{\"id\":\"eab14ec9-b04f-4965-9de4-a1ae494a8fa0\",\"subtype\":\"Chart\",\"type\":\"Plot\"}},\"id\":\"feefcc95-c59b-4f8d-9c36-c4aef10b574a\",\"type\":\"BoxZoomTool\"},{\"attributes\":{\"fill_alpha\":{\"value\":0.7},\"fill_color\":{\"value\":\"red\"},\"line_color\":{\"value\":\"red\"},\"size\":{\"units\":\"screen\",\"value\":5},\"x\":{\"field\":\"x_values\"},\"y\":{\"field\":\"y_values\"}},\"id\":\"c7482222-9202-4178-a480-4ed1a4c0766b\",\"type\":\"Circle\"},{\"attributes\":{\"data_source\":{\"id\":\"6e320b7e-0ed5-464c-adb3-dcb0ba7c56d3\",\"type\":\"ColumnDataSource\"},\"glyph\":{\"id\":\"13bc6947-5ac5-4920-8b5b-c8333a3649f5\",\"type\":\"Rect\"},\"hover_glyph\":null,\"nonselection_glyph\":null,\"selection_glyph\":null},\"id\":\"e5466171-8ec7-4472-bbf4-acebb97eedd8\",\"type\":\"GlyphRenderer\"},{\"attributes\":{\"fill_alpha\":{\"value\":0.7},\"fill_color\":{\"value\":\"red\"},\"line_color\":{\"value\":\"red\"},\"size\":{\"units\":\"screen\",\"value\":5},\"x\":{\"field\":\"x_values\"},\"y\":{\"field\":\"y_values\"}},\"id\":\"8b1eac7f-f727-4846-94d3-a5fcfb5cbffe\",\"type\":\"Circle\"},{\"attributes\":{\"data_source\":{\"id\":\"0697a673-c48f-4fa5-8dfd-c9da5e5a463b\",\"type\":\"ColumnDataSource\"},\"glyph\":{\"id\":\"13a2c589-6e55-4bac-80ed-3a6883863370\",\"type\":\"Rect\"},\"hover_glyph\":null,\"nonselection_glyph\":null,\"selection_glyph\":null},\"id\":\"eaf9fce9-1897-4199-ad06-21bb20c8124b\",\"type\":\"GlyphRenderer\"},{\"attributes\":{\"line_width\":{\"value\":2},\"x0\":{\"field\":\"x0s\"},\"x1\":{\"field\":\"x1s\"},\"y0\":{\"field\":\"y0s\"},\"y1\":{\"field\":\"y1s\"}},\"id\":\"68170fdc-2891-4604-a2ac-246c6cf5496b\",\"type\":\"Segment\"},{\"attributes\":{\"fill_alpha\":{\"value\":0.7},\"fill_color\":{\"value\":\"red\"},\"line_color\":{\"value\":\"red\"},\"size\":{\"units\":\"screen\",\"value\":5},\"x\":{\"field\":\"x_values\"},\"y\":{\"field\":\"y_values\"}},\"id\":\"5601900c-8ed1-40cf-a80a-898db9b783fe\",\"type\":\"Circle\"},{\"attributes\":{\"callback\":null,\"column_names\":[\"x1s\",\"y1s\",\"x0s\",\"y0s\"],\"data\":{\"chart_index\":[{\"cyl\":3},{\"cyl\":3},{\"cyl\":3},{\"cyl\":3}],\"cyl\":[3,3,3,3],\"x0s\":[\"3:0.5\",\"3:0.65\",\"3:0.5\",\"3:0.65\"],\"x1s\":[\"3:0.5\",\"3:0.35\",\"3:0.5\",\"3:0.35\"],\"y0s\":[18.0,18.0,22.05,23.7],\"y1s\":[18.75,18.0,23.7,23.7]}},\"id\":\"f0d221e8-5080-4a84-9ae3-01cb59f9eea1\",\"type\":\"ColumnDataSource\"},{\"attributes\":{\"data_source\":{\"id\":\"36f3335e-1e84-4301-bbfa-b3a5afa2c5ef\",\"type\":\"ColumnDataSource\"},\"glyph\":{\"id\":\"68170fdc-2891-4604-a2ac-246c6cf5496b\",\"type\":\"Segment\"},\"hover_glyph\":null,\"nonselection_glyph\":null,\"selection_glyph\":null},\"id\":\"af876eb3-ce8c-4cf4-8e5b-493f576dcab7\",\"type\":\"GlyphRenderer\"},{\"attributes\":{\"callback\":null,\"column_names\":[\"x_values\",\"y_values\"],\"data\":{\"chart_index\":[{\"cyl\":4}],\"cyl\":[4],\"x_values\":[\"4:0.5\"],\"y_values\":[46.6]}},\"id\":\"749e8190-b432-4fa8-9e60-bae40720a886\",\"type\":\"ColumnDataSource\"},{\"attributes\":{\"fill_alpha\":{\"field\":\"fill_alpha\"},\"fill_color\":{\"field\":\"color\"},\"height\":{\"field\":\"height\",\"units\":\"data\"},\"line_color\":{\"field\":\"line_color\"},\"width\":{\"field\":\"width\",\"units\":\"data\"},\"x\":{\"field\":\"x\"},\"y\":{\"field\":\"y\"}},\"id\":\"7f41521a-e021-458c-b4c1-2861e5bac1d8\",\"type\":\"Rect\"},{\"attributes\":{\"fill_alpha\":{\"field\":\"fill_alpha\"},\"fill_color\":{\"field\":\"color\"},\"height\":{\"field\":\"height\",\"units\":\"data\"},\"line_color\":{\"field\":\"line_color\"},\"width\":{\"field\":\"width\",\"units\":\"data\"},\"x\":{\"field\":\"x\"},\"y\":{\"field\":\"y\"}},\"id\":\"98eea508-0f20-41c4-b5bc-8e04c948efc7\",\"type\":\"Rect\"},{\"attributes\":{},\"id\":\"21799b12-012d-4e96-a1e6-4b9b029dea3c\",\"type\":\"ToolEvents\"},{\"attributes\":{\"fill_alpha\":{\"field\":\"fill_alpha\"},\"fill_color\":{\"field\":\"color\"},\"height\":{\"field\":\"height\",\"units\":\"data\"},\"line_color\":{\"field\":\"line_color\"},\"width\":{\"field\":\"width\",\"units\":\"data\"},\"x\":{\"field\":\"x\"},\"y\":{\"field\":\"y\"}},\"id\":\"6a697de0-88bc-4cb7-b76b-f8b490a7c3b5\",\"type\":\"Rect\"},{\"attributes\":{\"callback\":null,\"column_names\":[\"width\",\"fill_alpha\",\"line_alpha\",\"height\",\"y\",\"color\",\"line_color\",\"x\"],\"data\":{\"chart_index\":[{\"cyl\":6}],\"color\":[\"#df5320\"],\"cyl\":[6],\"fill_alpha\":[0.8],\"height\":[1.0],\"line_alpha\":[1.0],\"line_color\":[\"black\"],\"width\":[0.8],\"x\":[\"6\"],\"y\":[18.5]}},\"id\":\"3d007d9d-5025-4b65-a89e-334ca742e3c8\",\"type\":\"ColumnDataSource\"},{\"attributes\":{\"data_source\":{\"id\":\"c495769a-76c2-402a-befd-a37156248297\",\"type\":\"ColumnDataSource\"},\"glyph\":{\"id\":\"f4603fae-990a-476b-a675-f614083aefa8\",\"type\":\"Rect\"},\"hover_glyph\":null,\"nonselection_glyph\":null,\"selection_glyph\":null},\"id\":\"ad6b2b17-3c6e-4a25-a012-6df78eb37470\",\"type\":\"GlyphRenderer\"},{\"attributes\":{\"plot\":{\"id\":\"847b27ca-745a-4a68-a809-cc9aca9e0c72\",\"subtype\":\"Chart\",\"type\":\"Plot\"}},\"id\":\"716464e4-0787-4c5e-9d00-f4239dea6c51\",\"type\":\"PanTool\"},{\"attributes\":{\"plot\":{\"id\":\"847b27ca-745a-4a68-a809-cc9aca9e0c72\",\"subtype\":\"Chart\",\"type\":\"Plot\"}},\"id\":\"75341395-5ed6-47e1-ac8f-cddd4538be29\",\"type\":\"ResetTool\"},{\"attributes\":{\"axis_label\":\"Mpg\",\"formatter\":{\"id\":\"c6802719-b077-4225-b603-0f44130ce02d\",\"type\":\"BasicTickFormatter\"},\"plot\":{\"id\":\"eab14ec9-b04f-4965-9de4-a1ae494a8fa0\",\"subtype\":\"Chart\",\"type\":\"Plot\"},\"ticker\":{\"id\":\"e94c89a5-d628-4345-acbc-e80f62ee3957\",\"type\":\"BasicTicker\"}},\"id\":\"4b1e8e8d-0f09-4446-9457-609988c565b6\",\"type\":\"LinearAxis\"},{\"attributes\":{},\"id\":\"e94c89a5-d628-4345-acbc-e80f62ee3957\",\"type\":\"BasicTicker\"},{\"attributes\":{},\"id\":\"c6802719-b077-4225-b603-0f44130ce02d\",\"type\":\"BasicTickFormatter\"},{\"attributes\":{\"bottom_units\":\"screen\",\"fill_alpha\":{\"value\":0.5},\"fill_color\":{\"value\":\"lightgrey\"},\"left_units\":\"screen\",\"level\":\"overlay\",\"line_alpha\":{\"value\":1.0},\"line_color\":{\"value\":\"black\"},\"line_dash\":[4,4],\"line_width\":{\"value\":2},\"plot\":null,\"render_mode\":\"css\",\"right_units\":\"screen\",\"top_units\":\"screen\"},\"id\":\"5503ad4b-0339-4a4b-9a4a-42d7de827189\",\"type\":\"BoxAnnotation\"},{\"attributes\":{\"callback\":null,\"column_names\":[\"x_values\",\"y_values\"],\"data\":{\"chart_index\":[{\"cyl\":6},{\"cyl\":6},{\"cyl\":6},{\"cyl\":6},{\"cyl\":6}],\"cyl\":[6,6,6,6,6],\"x_values\":[\"6:0.5\",\"6:0.5\",\"6:0.5\",\"6:0.5\",\"6:0.5\"],\"y_values\":[28.8,26.8,32.7,30.7,38.0]}},\"id\":\"b3d40512-a591-4125-b445-d36e1c8b834d\",\"type\":\"ColumnDataSource\"},{\"attributes\":{\"data_source\":{\"id\":\"574dadf3-e953-4b87-a100-c40974e18012\",\"type\":\"ColumnDataSource\"},\"glyph\":{\"id\":\"dc8311c6-1b65-4994-bb6c-d2fd14086363\",\"type\":\"Rect\"},\"hover_glyph\":null,\"nonselection_glyph\":null,\"selection_glyph\":null},\"id\":\"d64909b4-e521-41d4-8cd5-bfc6013665d3\",\"type\":\"GlyphRenderer\"},{\"attributes\":{\"data_source\":{\"id\":\"16199327-4c9a-4766-960d-bd317e082e25\",\"type\":\"ColumnDataSource\"},\"glyph\":{\"id\":\"1ecdfd2e-16aa-4fc5-a1d1-7da575ed4066\",\"type\":\"Segment\"},\"hover_glyph\":null,\"nonselection_glyph\":null,\"selection_glyph\":null},\"id\":\"d91ca993-b448-419d-b543-6e4663b8702a\",\"type\":\"GlyphRenderer\"},{\"attributes\":{\"data_source\":{\"id\":\"70c3b27b-c8af-4242-a600-190e8c67a5b5\",\"type\":\"ColumnDataSource\"},\"glyph\":{\"id\":\"5f197628-e56e-4ea7-9885-49637c5ce088\",\"type\":\"Segment\"},\"hover_glyph\":null,\"nonselection_glyph\":null,\"selection_glyph\":null},\"id\":\"00e6ec09-9cb6-41c6-a025-6f26b5c97527\",\"type\":\"GlyphRenderer\"},{\"attributes\":{\"line_width\":{\"value\":2},\"x0\":{\"field\":\"x0s\"},\"x1\":{\"field\":\"x1s\"},\"y0\":{\"field\":\"y0s\"},\"y1\":{\"field\":\"y1s\"}},\"id\":\"eff62764-f4b1-493b-8f42-42d512385bcf\",\"type\":\"Segment\"},{\"attributes\":{},\"id\":\"5e3f3d2a-b130-44a1-8dd6-ded1b1846768\",\"type\":\"CategoricalTicker\"},{\"attributes\":{\"data_source\":{\"id\":\"567ad86c-fe25-42d9-a544-73eebf9b2cd2\",\"type\":\"ColumnDataSource\"},\"glyph\":{\"id\":\"ded2e2ef-e925-41a8-a6b7-284f6ff911d4\",\"type\":\"Rect\"},\"hover_glyph\":null,\"nonselection_glyph\":null,\"selection_glyph\":null},\"id\":\"eefb0bac-cd2d-461b-803d-3d3a3be37eaa\",\"type\":\"GlyphRenderer\"},{\"attributes\":{\"axis_label\":\"Cyl\",\"formatter\":{\"id\":\"772c0ae0-7f9a-4ceb-9438-1a1478db181c\",\"type\":\"CategoricalTickFormatter\"},\"major_label_orientation\":0.7853981633974483,\"plot\":{\"id\":\"eab14ec9-b04f-4965-9de4-a1ae494a8fa0\",\"subtype\":\"Chart\",\"type\":\"Plot\"},\"ticker\":{\"id\":\"5e3f3d2a-b130-44a1-8dd6-ded1b1846768\",\"type\":\"CategoricalTicker\"}},\"id\":\"019ad21e-b956-4ba8-b0a1-b65a432bd290\",\"type\":\"CategoricalAxis\"},{\"attributes\":{\"callback\":null,\"column_names\":[\"width\",\"fill_alpha\",\"line_alpha\",\"height\",\"y\",\"color\",\"line_color\",\"x\"],\"data\":{\"chart_index\":[{\"cyl\":6}],\"color\":[\"DimGrey\"],\"cyl\":[6],\"fill_alpha\":[0.8],\"height\":[1.0],\"line_alpha\":[1.0],\"line_color\":[\"black\"],\"width\":[0.8],\"x\":[\"6\"],\"y\":[18.5]}},\"id\":\"38d290e0-3caf-441d-89c7-4b51e6f3d94a\",\"type\":\"ColumnDataSource\"},{\"attributes\":{\"fill_alpha\":{\"value\":0.7},\"fill_color\":{\"value\":\"red\"},\"line_color\":{\"value\":\"red\"},\"size\":{\"units\":\"screen\",\"value\":5},\"x\":{\"field\":\"x_values\"},\"y\":{\"field\":\"y_values\"}},\"id\":\"b53e26f0-2fbe-4612-8407-1b80a6592537\",\"type\":\"Circle\"},{\"attributes\":{\"fill_alpha\":{\"field\":\"fill_alpha\"},\"fill_color\":{\"field\":\"color\"},\"height\":{\"field\":\"height\",\"units\":\"data\"},\"line_color\":{\"field\":\"line_color\"},\"width\":{\"field\":\"width\",\"units\":\"data\"},\"x\":{\"field\":\"x\"},\"y\":{\"field\":\"y\"}},\"id\":\"13bc6947-5ac5-4920-8b5b-c8333a3649f5\",\"type\":\"Rect\"},{\"attributes\":{\"axis_label\":\"Cyl\",\"formatter\":{\"id\":\"74610cb9-7668-4369-a6e0-fdf62574cdf8\",\"type\":\"CategoricalTickFormatter\"},\"major_label_orientation\":0.7853981633974483,\"plot\":{\"id\":\"847b27ca-745a-4a68-a809-cc9aca9e0c72\",\"subtype\":\"Chart\",\"type\":\"Plot\"},\"ticker\":{\"id\":\"b788ad0e-78be-47bf-9d17-8ef680854abe\",\"type\":\"CategoricalTicker\"}},\"id\":\"3d49e58b-9e55-4348-9de8-df343370c725\",\"type\":\"CategoricalAxis\"},{\"attributes\":{\"plot\":{\"id\":\"847b27ca-745a-4a68-a809-cc9aca9e0c72\",\"subtype\":\"Chart\",\"type\":\"Plot\"}},\"id\":\"afb8a6e9-4ca8-40e3-b7fd-32f5be7714c7\",\"type\":\"WheelZoomTool\"},{\"attributes\":{\"dimension\":1,\"plot\":{\"id\":\"eab14ec9-b04f-4965-9de4-a1ae494a8fa0\",\"subtype\":\"Chart\",\"type\":\"Plot\"},\"ticker\":{\"id\":\"e94c89a5-d628-4345-acbc-e80f62ee3957\",\"type\":\"BasicTicker\"}},\"id\":\"301587f4-b59c-493c-b386-267d103b8d4d\",\"type\":\"Grid\"},{\"attributes\":{\"data_source\":{\"id\":\"3f1774c8-eae1-45b2-b21e-4b926c7cbdf2\",\"type\":\"ColumnDataSource\"},\"glyph\":{\"id\":\"aae63103-21cc-4058-af52-cd4e5a7b0246\",\"type\":\"Rect\"},\"hover_glyph\":null,\"nonselection_glyph\":null,\"selection_glyph\":null},\"id\":\"e37f60f2-7f4b-4f66-a7ec-57e1b518a099\",\"type\":\"GlyphRenderer\"},{\"attributes\":{\"line_width\":{\"value\":2},\"x0\":{\"field\":\"x0s\"},\"x1\":{\"field\":\"x1s\"},\"y0\":{\"field\":\"y0s\"},\"y1\":{\"field\":\"y1s\"}},\"id\":\"81d15f00-8a01-4b18-9c19-9c272751d0e3\",\"type\":\"Segment\"},{\"attributes\":{\"fill_alpha\":{\"field\":\"fill_alpha\"},\"fill_color\":{\"field\":\"color\"},\"height\":{\"field\":\"height\",\"units\":\"data\"},\"line_color\":{\"field\":\"line_color\"},\"width\":{\"field\":\"width\",\"units\":\"data\"},\"x\":{\"field\":\"x\"},\"y\":{\"field\":\"y\"}},\"id\":\"ded2e2ef-e925-41a8-a6b7-284f6ff911d4\",\"type\":\"Rect\"},{\"attributes\":{\"callback\":null,\"column_names\":[\"x1s\",\"y1s\",\"x0s\",\"y0s\"],\"data\":{\"chart_index\":[{\"cyl\":3},{\"cyl\":3},{\"cyl\":3},{\"cyl\":3}],\"cyl\":[3,3,3,3],\"x0s\":[\"3:0.5\",\"3:0.65\",\"3:0.5\",\"3:0.65\"],\"x1s\":[\"3:0.5\",\"3:0.35\",\"3:0.5\",\"3:0.35\"],\"y0s\":[18.0,18.0,22.05,23.7],\"y1s\":[18.75,18.0,23.7,23.7]}},\"id\":\"66e782f2-2357-416c-9473-0a2927a0f70c\",\"type\":\"ColumnDataSource\"},{\"attributes\":{\"line_width\":{\"value\":2},\"x0\":{\"field\":\"x0s\"},\"x1\":{\"field\":\"x1s\"},\"y0\":{\"field\":\"y0s\"},\"y1\":{\"field\":\"y1s\"}},\"id\":\"453e29c7-9431-4db4-9364-0585fc9977a2\",\"type\":\"Segment\"},{\"attributes\":{\"callback\":null,\"column_names\":[\"x_values\",\"y_values\"],\"data\":{\"chart_index\":[{\"cyl\":6},{\"cyl\":6},{\"cyl\":6},{\"cyl\":6},{\"cyl\":6}],\"cyl\":[6,6,6,6,6],\"x_values\":[\"6:0.5\",\"6:0.5\",\"6:0.5\",\"6:0.5\",\"6:0.5\"],\"y_values\":[28.8,26.8,32.7,30.7,38.0]}},\"id\":\"a0c6f58d-91cc-4f27-bf4d-adaecb9ae6b7\",\"type\":\"ColumnDataSource\"},{\"attributes\":{\"callback\":null,\"end\":49.38},\"id\":\"a6460822-cb76-42d1-87b8-511e5cb80f05\",\"type\":\"Range1d\"},{\"attributes\":{\"data_source\":{\"id\":\"959a8e09-bab7-4d26-874e-fe7ddeff715f\",\"type\":\"ColumnDataSource\"},\"glyph\":{\"id\":\"81d15f00-8a01-4b18-9c19-9c272751d0e3\",\"type\":\"Segment\"},\"hover_glyph\":null,\"nonselection_glyph\":null,\"selection_glyph\":null},\"id\":\"25e1ffef-8cb4-4762-a1cd-ee50283e62f8\",\"type\":\"GlyphRenderer\"},{\"attributes\":{\"plot\":{\"id\":\"eab14ec9-b04f-4965-9de4-a1ae494a8fa0\",\"subtype\":\"Chart\",\"type\":\"Plot\"}},\"id\":\"d0818983-6ad5-497e-912c-1b8c637bf720\",\"type\":\"HelpTool\"},{\"attributes\":{\"data_source\":{\"id\":\"b0e51823-3e75-4dbf-bd27-8d1dac258560\",\"type\":\"ColumnDataSource\"},\"glyph\":{\"id\":\"ea266d28-627b-491a-8246-d52c1e88355a\",\"type\":\"Rect\"},\"hover_glyph\":null,\"nonselection_glyph\":null,\"selection_glyph\":null},\"id\":\"3d779d4b-9bbe-4291-83da-6526e257fd4a\",\"type\":\"GlyphRenderer\"},{\"attributes\":{\"fill_alpha\":{\"field\":\"fill_alpha\"},\"fill_color\":{\"field\":\"color\"},\"height\":{\"field\":\"height\",\"units\":\"data\"},\"line_color\":{\"field\":\"line_color\"},\"width\":{\"field\":\"width\",\"units\":\"data\"},\"x\":{\"field\":\"x\"},\"y\":{\"field\":\"y\"}},\"id\":\"139bf107-90f7-4be4-9eb5-b0c19a450c34\",\"type\":\"Rect\"},{\"attributes\":{\"data_source\":{\"id\":\"749e8190-b432-4fa8-9e60-bae40720a886\",\"type\":\"ColumnDataSource\"},\"glyph\":{\"id\":\"b53e26f0-2fbe-4612-8407-1b80a6592537\",\"type\":\"Circle\"},\"hover_glyph\":null,\"nonselection_glyph\":null,\"selection_glyph\":null},\"id\":\"82f17246-048f-462b-ae49-a3b962732286\",\"type\":\"GlyphRenderer\"},{\"attributes\":{\"line_width\":{\"value\":2},\"x0\":{\"field\":\"x0s\"},\"x1\":{\"field\":\"x1s\"},\"y0\":{\"field\":\"y0s\"},\"y1\":{\"field\":\"y1s\"}},\"id\":\"1ecdfd2e-16aa-4fc5-a1d1-7da575ed4066\",\"type\":\"Segment\"}],\"root_ids\":[\"a170dc67-b1c1-4603-aa11-6a8ce00c5147\"]},\"title\":\"Bokeh Application\",\"version\":\"0.11.1\"}};\n",
       "            var render_items = [{\"docid\":\"54f906a7-0a5a-40c0-8d25-503cc40b925e\",\"elementid\":\"6a3bab8a-bf08-44b6-9efe-a37c1d6923f6\",\"modelid\":\"a170dc67-b1c1-4603-aa11-6a8ce00c5147\",\"notebook_comms_target\":\"7bc9d316-b8d3-4c93-8d22-04955145c195\"}];\n",
       "            \n",
       "            Bokeh.embed.embed_items(docs_json, render_items);\n",
       "        });\n",
       "      },\n",
       "      function(Bokeh) {\n",
       "      }\n",
       "    ];\n",
       "  \n",
       "    function run_inline_js() {\n",
       "      for (var i = 0; i < inline_js.length; i++) {\n",
       "        inline_js[i](window.Bokeh);\n",
       "      }\n",
       "    }\n",
       "  \n",
       "    if (window._bokeh_is_loading === 0) {\n",
       "      console.log(\"Bokeh: BokehJS loaded, going straight to plotting\");\n",
       "      run_inline_js();\n",
       "    } else {\n",
       "      load_libs(js_urls, function() {\n",
       "        console.log(\"Bokeh: BokehJS plotting callback run at\", now());\n",
       "        run_inline_js();\n",
       "      });\n",
       "    }\n",
       "  }(this));\n",
       "</script>"
      ]
     },
     "metadata": {},
     "output_type": "display_data"
    },
    {
     "data": {
      "text/html": [
       "<p><code>&lt;Bokeh Notebook handle for <strong>In[1]</strong>&gt;</code></p>"
      ],
      "text/plain": [
       "<bokeh.io._CommsHandle at 0x7fdf95a2e7f0>"
      ]
     },
     "execution_count": 1,
     "metadata": {},
     "output_type": "execute_result"
    }
   ],
   "source": [
    "from bokeh.sampledata.autompg import autompg as df\n",
    "from bokeh.charts import BoxPlot, output_notebook, show, hplot\n",
    "\n",
    "box = BoxPlot(df, values='mpg', label='cyl', title=\"Auto MPG Box Plot\", plot_width=400, plot_height=400)\n",
    "box2 = BoxPlot(df, values='mpg', label='cyl', color='cyl',\n",
    "               title=\"MPG Box Plot by Cylinder Count\", plot_width=400, plot_height=400)\n",
    "\n",
    "output_notebook()\n",
    "show(hplot(box, box2))"
   ]
  },
  {
   "cell_type": "markdown",
   "metadata": {},
   "source": [
    "<a id=\"plotly\">"
   ]
  },
  {
   "cell_type": "markdown",
   "metadata": {},
   "source": [
    "### Making plotly charts directly from data frame.  See plotly [documentation](https://plot.ly/python/offline/) for more details."
   ]
  },
  {
   "cell_type": "markdown",
   "metadata": {},
   "source": [
    "Need to first install plotly and cufflinks: pip install plotly and pip install cufflinks"
   ]
  },
  {
   "cell_type": "markdown",
   "metadata": {},
   "source": [
    "[[back to top](#top)]"
   ]
  },
  {
   "cell_type": "code",
   "execution_count": 2,
   "metadata": {
    "collapsed": false,
    "run_control": {
     "read_only": false
    }
   },
   "outputs": [
    {
     "data": {
      "text/html": [
       "<div id=\"02c2718a-4fcb-4c34-a840-2177194e19fa\" style=\"height: 500; width: 800px;\" class=\"plotly-graph-div\"></div><script type=\"text/javascript\">window.PLOTLYENV=window.PLOTLYENV || {};window.PLOTLYENV.BASE_URL=\"https://plot.ly\";Plotly.newPlot(\"02c2718a-4fcb-4c34-a840-2177194e19fa\", [{\"y\": [0.49485701567718243, 0.1489900774917795, 0.5635171458472495, 0.2861311328196805, 0.5105892817155726, 0.5328847535069048, 0.5603148235411177, 0.7038216929804261, 0.17598284708098488, 0.6340096701843306], \"line\": {\"width\": 1.3}, \"type\": \"box\", \"name\": \"A\", \"boxpoints\": false, \"marker\": {\"color\": \"rgba(255, 153, 51, 1.0)\"}}, {\"y\": [0.09156786998787936, 0.9357055851799271, 0.8439149119908194, 0.8169742102755223, 0.12349825408504711, 0.27174371168654543, 0.39367666237655397, 0.8826322128984038, 0.7945657873159881, 0.10257505837286018], \"line\": {\"width\": 1.3}, \"type\": \"box\", \"name\": \"B\", \"boxpoints\": false, \"marker\": {\"color\": \"rgba(55, 128, 191, 1.0)\"}}, {\"y\": [0.3711625785889209, 0.26883118332507383, 0.97178129162547, 0.5934611037580209, 0.9011558548424885, 0.5499763858930155, 0.4670281961696965, 0.6195063603950746, 0.837155424449581, 0.5750595384976235], \"line\": {\"width\": 1.3}, \"type\": \"box\", \"name\": \"C\", \"boxpoints\": false, \"marker\": {\"color\": \"rgba(50, 171, 96, 1.0)\"}}, {\"y\": [0.9949155513071452, 0.3586675353497122, 0.7420385481419092, 0.5937226313101065, 0.8926029930573889, 0.45075482429114155, 0.9192897387494157, 0.4282922137481152, 0.3834206671884558, 0.9690353468781382], \"line\": {\"width\": 1.3}, \"type\": \"box\", \"name\": \"D\", \"boxpoints\": false, \"marker\": {\"color\": \"rgba(128, 0, 128, 1.0)\"}}, {\"y\": [0.04769579750183928, 0.76052099151547, 0.39675617708273214, 0.45782000674201007, 0.9008630096606345, 0.0996807138853395, 0.4506166089444035, 0.9477033146830205, 0.49277334566308173, 0.17116978887530798], \"line\": {\"width\": 1.3}, \"type\": \"box\", \"name\": \"E\", \"boxpoints\": false, \"marker\": {\"color\": \"rgba(219, 64, 82, 1.0)\"}}], {\"plot_bgcolor\": \"#F5F6F9\", \"yaxis1\": {\"title\": \"\", \"gridcolor\": \"#E1E5ED\", \"showgrid\": true, \"zerolinecolor\": \"#E1E5ED\", \"tickfont\": {\"color\": \"#4D5663\"}, \"titlefont\": {\"color\": \"#4D5663\"}}, \"title\": \"Plotly Pandas\", \"xaxis1\": {\"title\": \"\", \"gridcolor\": \"#E1E5ED\", \"showgrid\": true, \"zerolinecolor\": \"#E1E5ED\", \"tickfont\": {\"color\": \"#4D5663\"}, \"titlefont\": {\"color\": \"#4D5663\"}}, \"width\": 800, \"paper_bgcolor\": \"#F5F6F9\", \"legend\": {\"bgcolor\": \"#F5F6F9\", \"font\": {\"color\": \"#4D5663\"}}, \"height\": 500, \"titlefont\": {\"color\": \"#4D5663\"}}, {\"showLink\": true, \"linkText\": \"Export to plot.ly\"})</script>"
      ],
      "text/plain": [
       "<IPython.core.display.HTML object>"
      ]
     },
     "metadata": {},
     "output_type": "display_data"
    }
   ],
   "source": [
    "import pandas as pd\n",
    "from plotly.offline import download_plotlyjs, init_notebook_mode, iplot\n",
    "import numpy as np\n",
    "import cufflinks as cf\n",
    "init_notebook_mode()\n",
    "\n",
    "df = pd.DataFrame(np.random.rand(10, 5), columns=['A', 'B', 'C', 'D', 'E'])\n",
    "\n",
    "iplot(df.iplot(asFigure=True, kind='box', title='Plotly Pandas', dimensions=(800,500)))"
   ]
  },
  {
   "cell_type": "markdown",
   "metadata": {},
   "source": [
    "<a id=\"chaining\">"
   ]
  },
  {
   "cell_type": "markdown",
   "metadata": {},
   "source": [
    "### Method Chaining"
   ]
  },
  {
   "cell_type": "markdown",
   "metadata": {},
   "source": [
    "[[back to top](#top)]"
   ]
  },
  {
   "cell_type": "markdown",
   "metadata": {},
   "source": [
    "With method chaining, it eliminates the need for making intermediary variables.  You can process your data frame in a series of method calls when you enclose your data frame with parenthesis. Here's a very contrived example:"
   ]
  },
  {
   "cell_type": "code",
   "execution_count": 6,
   "metadata": {
    "collapsed": false,
    "run_control": {
     "read_only": false
    }
   },
   "outputs": [
    {
     "data": {
      "image/png": "[encoded data removed]",
      "text/plain": [
       "<matplotlib.figure.Figure at 0x7fa40ee46438>"
      ]
     },
     "metadata": {},
     "output_type": "display_data"
    }
   ],
   "source": [
    "%matplotlib inline\n",
    "import pandas as pd\n",
    "import matplotlib.pyplot as plt\n",
    "import seaborn as sns\n",
    "\n",
    "df = (pd.read_csv('/home/pybokeh/temp/vehicles.csv',\n",
    "                 usecols=['year', 'make', 'model', 'comb08', 'fuelType', 'fuelType1', \n",
    "                          'fuelType2', 'atvType', 'cylinders', 'VClass'])\n",
    "      .rename(columns={'comb08':'combmpg'})\n",
    "      .query(\"make in('Honda','Acura','Toyota','Lexus') \\\n",
    "              & fuelType1 in('Regular Gasoline','Premium Gasoline','Midgrade Gasoline') \\\n",
    "              & cylinders in(4, 6) \\\n",
    "              & VClass in('Compact Cars','Subcompact Cars','Midsize Cars','Large Cars','Sport Utility','Minivan') \\\n",
    "              & ~(fuelType2 in('E85','Electricity','Natural Gas','Propane'))\")\n",
    "      ['combmpg'].plot.hist(alpha=0.5, label='Honda Motor Co')\n",
    "     )\n",
    "plt.title(\"Histogram of Combined Hwy+City MPG\", weight=\"bold\")\n",
    "plt.show()"
   ]
  },
  {
   "cell_type": "markdown",
   "metadata": {},
   "source": [
    "**Also check out [pipe() method](http://pandas.pydata.org/pandas-docs/stable/basics.html#tablewise-function-application).**"
   ]
  },
  {
   "cell_type": "markdown",
   "metadata": {},
   "source": [
    "<a id=\"rpy2\">"
   ]
  },
  {
   "cell_type": "markdown",
   "metadata": {},
   "source": [
    "### Sending Pandas data frame to R using rpy2 IPython notebook extension"
   ]
  },
  {
   "cell_type": "markdown",
   "metadata": {},
   "source": [
    "[[back to top](#top)]"
   ]
  },
  {
   "cell_type": "markdown",
   "metadata": {},
   "source": [
    "Assuming you have [R](http://www.r-project.org/) and [rpy2](http://rpy.sourceforge.net/rpy2/doc-2.4/html/interactive.html#module-rpy2.ipython.rmagic) installed, we can send a Pandas data frame to R using the rpy2 IPython notebook extension to take advantage of R's various statistical and graphing packages.\n",
    "\n",
    "#### Simple example where I will pull Yen currency exchange rate data from the web and graph it using R's ggplot2 library:"
   ]
  },
  {
   "cell_type": "code",
   "execution_count": 1,
   "metadata": {
    "collapsed": false,
    "run_control": {
     "read_only": false
    }
   },
   "outputs": [],
   "source": [
    "# load the rpy2 extension\n",
    "%load_ext rpy2.ipython"
   ]
  },
  {
   "cell_type": "markdown",
   "metadata": {},
   "source": [
    "#### Let's fetch the exchange rate data:"
   ]
  },
  {
   "cell_type": "code",
   "execution_count": 2,
   "metadata": {
    "collapsed": false,
    "run_control": {
     "read_only": false
    }
   },
   "outputs": [],
   "source": [
    "import pandas as pd\n",
    "\n",
    "pandas_df = pd.read_csv('http://research.stlouisfed.org/fred2/data/EXJPUS.txt', sep='  ', skiprows=28, engine='python',\n",
    "                 parse_dates=[0], header=None, names=['Month','Value'])"
   ]
  },
  {
   "cell_type": "markdown",
   "metadata": {},
   "source": [
    "#### Sanity check on the data:"
   ]
  },
  {
   "cell_type": "code",
   "execution_count": 3,
   "metadata": {
    "collapsed": false,
    "run_control": {
     "read_only": false
    }
   },
   "outputs": [
    {
     "data": {
      "text/plain": [
       "Month    datetime64[ns]\n",
       "Value           float64\n",
       "dtype: object"
      ]
     },
     "execution_count": 3,
     "metadata": {},
     "output_type": "execute_result"
    }
   ],
   "source": [
    "pandas_df.dtypes"
   ]
  },
  {
   "cell_type": "code",
   "execution_count": 4,
   "metadata": {
    "collapsed": false,
    "run_control": {
     "read_only": false
    }
   },
   "outputs": [
    {
     "data": {
      "text/html": [
       "<div style=\"max-height:1000px;max-width:1500px;overflow:auto;\">\n",
       "<table border=\"1\" class=\"dataframe\">\n",
       "  <thead>\n",
       "    <tr style=\"text-align: right;\">\n",
       "      <th></th>\n",
       "      <th>Month</th>\n",
       "      <th>Value</th>\n",
       "    </tr>\n",
       "  </thead>\n",
       "  <tbody>\n",
       "    <tr>\n",
       "      <th>528</th>\n",
       "      <td>2015-01-01</td>\n",
       "      <td>118.2500</td>\n",
       "    </tr>\n",
       "    <tr>\n",
       "      <th>529</th>\n",
       "      <td>2015-02-01</td>\n",
       "      <td>118.7600</td>\n",
       "    </tr>\n",
       "    <tr>\n",
       "      <th>530</th>\n",
       "      <td>2015-03-01</td>\n",
       "      <td>120.3945</td>\n",
       "    </tr>\n",
       "    <tr>\n",
       "      <th>531</th>\n",
       "      <td>2015-04-01</td>\n",
       "      <td>119.5095</td>\n",
       "    </tr>\n",
       "    <tr>\n",
       "      <th>532</th>\n",
       "      <td>2015-05-01</td>\n",
       "      <td>119.7064</td>\n",
       "    </tr>\n",
       "  </tbody>\n",
       "</table>\n",
       "</div>"
      ],
      "text/plain": [
       "         Month     Value\n",
       "528 2015-01-01  118.2500\n",
       "529 2015-02-01  118.7600\n",
       "530 2015-03-01  120.3945\n",
       "531 2015-04-01  119.5095\n",
       "532 2015-05-01  119.7064"
      ]
     },
     "execution_count": 4,
     "metadata": {},
     "output_type": "execute_result"
    }
   ],
   "source": [
    "pandas_df.tail()"
   ]
  },
  {
   "cell_type": "markdown",
   "metadata": {},
   "source": [
    "#### We'll use this one-liner %R magic command to send the Pandas data frame to R as input using the \"-i\" flag.  See [here](http://rpy.sourceforge.net/rpy2/doc-2.4/html/interactive.html#module-rpy2.ipython.rmagic) for other flags."
   ]
  },
  {
   "cell_type": "code",
   "execution_count": 7,
   "metadata": {
    "collapsed": false,
    "run_control": {
     "read_only": false
    }
   },
   "outputs": [],
   "source": [
    "%R -i pandas_df"
   ]
  },
  {
   "cell_type": "markdown",
   "metadata": {},
   "source": [
    "#### Alternatively, you can use pandas built-in [facility](http://pandas.pydata.org/pandas-docs/stable/r_interface.html) to do this:"
   ]
  },
  {
   "cell_type": "code",
   "execution_count": 5,
   "metadata": {
    "collapsed": false,
    "run_control": {
     "read_only": false
    }
   },
   "outputs": [],
   "source": [
    "from rpy2.robjects import pandas2ri\n",
    "pandas2ri.activate()"
   ]
  },
  {
   "cell_type": "markdown",
   "metadata": {},
   "source": [
    "#### Next, we'll use %%R magic command which will make the entire code cell R executable:"
   ]
  },
  {
   "cell_type": "code",
   "execution_count": 8,
   "metadata": {
    "collapsed": false,
    "run_control": {
     "read_only": false
    }
   },
   "outputs": [
    {
     "data": {
      "image/png": "[encoded data removed]"
     },
     "metadata": {},
     "output_type": "display_data"
    }
   ],
   "source": [
    "%%R -w 800 -h 500 -u px # instead of px, you can also choose 'in', 'cm', or 'mm'\n",
    "df = as.data.frame(pandas_df)  # ensure data frame that was passed in from Python will be R's data frame type\n",
    "library(ggplot2)        # plotting library\n",
    "library(scales)         # enables us to change the x label time scale\n",
    "\n",
    "p = ggplot(pandas_df, aes(pandas_df$Month, pandas_df$Value))\n",
    "p = p + \n",
    "    geom_line() +\n",
    "    scale_x_datetime(labels=date_format(\"%Y-%m\"), breaks=\"5 years\", minor_breaks=\"1 year\") +\n",
    "    ggtitle(\"Yen to US Dollars\") +\n",
    "    xlab(\"Time\") +\n",
    "    ylab(\"Yen Value\")\n",
    "print(p)"
   ]
  },
  {
   "cell_type": "markdown",
   "metadata": {},
   "source": [
    "[[back to top](#top)]"
   ]
  }
 ],
 "metadata": {
  "hide_input": false,
  "kernelspec": {
   "display_name": "Python 3",
   "language": "python",
   "name": "python3"
  },
  "language_info": {
   "codemirror_mode": {
    "name": "ipython",
    "version": 3
   },
   "file_extension": ".py",
   "mimetype": "text/x-python",
   "name": "python",
   "nbconvert_exporter": "python",
   "pygments_lexer": "ipython3",
   "version": "3.5.1"
  },
  "toc": {
   "toc_cell": false,
   "toc_number_sections": true,
   "toc_threshold": 6,
   "toc_window_display": false
  }
 },
 "nbformat": 4,
 "nbformat_minor": 0
}
