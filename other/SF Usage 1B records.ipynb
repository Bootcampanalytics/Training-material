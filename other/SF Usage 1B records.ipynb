{
    "nbformat_minor": 0, 
    "metadata": {
        "language_info": {
            "pygments_lexer": "ipython2", 
            "name": "python", 
            "file_extension": ".py", 
            "codemirror_mode": {
                "name": "ipython", 
                "version": 2
            }, 
            "mimetype": "text/x-python", 
            "nbconvert_exporter": "python", 
            "version": "2.7.11"
        }, 
        "kernelspec": {
            "language": "python", 
            "name": "python2", 
            "display_name": "Python 2 with Spark 1.6"
        }
    }, 
    "nbformat": 4, 
    "cells": [
        {
            "execution_count": 7, 
            "metadata": {
                "collapsed": true
            }, 
            "source": "import pandas as pd\nimport numpy as np", 
            "outputs": [], 
            "cell_type": "code"
        }, 
        {
            "execution_count": 8, 
            "metadata": {
                "collapsed": false
            }, 
            "source": "import ibmdbpy\nfrom ibmdbpy import IdaDataBase,IdaDataFrame\n\ncredentials_1 = {\n  'host':'dashdb-entry-yp-dal09-08.services.dal.bluemix.net',\n  'port':'50000',\n  'user':'dash8753',\n  'password':\"\"\"ddd6463d0ddc\"\"\",\n  'database':'BLUDB'\n}\n\nidadb = IdaDataBase(dsn=\"DASHDB;Database=BLUDB;Hostname=\" + credentials_1[\"host\"] + \";Port=50000;PROTOCOL=TCPIP;UID=\" + credentials_1[\"user\"] + \";PWD=\" + credentials_1[\"password\"])\n\n", 
            "outputs": [], 
            "cell_type": "code"
        }, 
        {
            "execution_count": 9, 
            "metadata": {
                "collapsed": false, 
                "scrolled": true
            }, 
            "source": "date_range=np.hstack((\n        np.arange(20160701,20160731),\n        np.arange(20160801,20160831),\n        np.arange(20160901,20160930),        \n        np.arange(20161001,20161031),\n        np.arange(20161101,20161130),\n        np.arange(20161201,20161231)))\n\npivot=['VOICE,INCOMING','VOICE,OUTGOING','SMS,INCOMING','SMS,OUTGOING','DATA,INCOMING','DATA,OUTGOING']\n      \nbase=np.transpose([np.tile(pivot, len(date_range)), np.repeat(date_range, len(pivot))])\nbase[:,[0, 1]] = base[:,[1, 0]]\nbase = np.hstack((base[:,:1], map(lambda x: x.split(','), base[:,1])))\n\nID = 11111111\nrecs = np.random.random_integers(500,base.shape[0])\none_ID=base[np.sort(np.random.choice(range(base.shape[0]), recs, replace=False)),:]\n\nnums=np.reshape(np.maximum(0,np.random.normal(1,10,recs*4)),(-1,4))\n\n\n#from timeit import default_timer as timer\n\n#start = timer()\n#res=pd.DataFrame(np.c_[ (np.repeat(ID,recs), one_ID, nums)],columns=['ID','date','cdr_type_name','cdr_type_direction','tot_num_times','tot_duration','total_up_down','tot_costs'])\n#res=res.apply(lambda x: pd.to_numeric(x, errors='ignore'))\n#end = timer()\n#print(end - start)    \n\n#start = timer()\nres=pd.concat([pd.DataFrame(np.repeat(ID,recs),columns=['subs_id']),\n               pd.DataFrame(one_ID,columns=['prd_id','cdr_type_name','cdr_direction']),\n               pd.DataFrame(nums,columns=['tot_num_times','tot_duration','total_up_down','tot_costs'])], axis=1)\nres['prd_id']=pd.to_datetime(res['prd_id'], format='%Y%m%d', errors='ignore')\n#end = timer()\n#print(end - start)   \n\n#idadb.as_idadataframe(res, \"SF_USAGE\", clear_existing=True)", 
            "outputs": [
                {
                    "name": "stderr", 
                    "output_type": "stream", 
                    "text": "Exception AttributeError: \"Cursor instance has no attribute 'closed'\" in <bound method Cursor.__del__ of <pypyodbc.Cursor instance at 0x7f759ca99d88>> ignored\n"
                }, 
                {
                    "name": "stdout", 
                    "output_type": "stream", 
                    "text": "Uploading 987 rows (maxnrow was set to 1000)\n"
                }, 
                {
                    "execution_count": 9, 
                    "metadata": {}, 
                    "data": {
                        "text/plain": "<ibmdbpy.frame.IdaDataFrame at 0x7f75b0d2f350>"
                    }, 
                    "output_type": "execute_result"
                }
            ], 
            "cell_type": "code"
        }, 
        {
            "execution_count": 11, 
            "metadata": {
                "collapsed": false
            }, 
            "source": "%%capture\n\nID = 11235879\n\n\nSF_USAGE = IdaDataFrame(idadb, 'SF_USAGE')\nfor i in range(15232):\n    ID+=1\n    recs = np.random.random_integers(500,base.shape[0])\n    one_ID=base[np.sort(np.random.choice(range(base.shape[0]), recs, replace=False)),:]\n\n    nums=np.reshape(np.maximum(0,np.random.normal(1,10,recs*4)),(-1,4))\n    res=pd.concat([pd.DataFrame(np.repeat(ID,recs),columns=['subs_id']),\n               pd.DataFrame(one_ID,columns=['prd_id','cdr_type_name','cdr_direction']),\n               pd.DataFrame(nums,columns=['tot_num_times','tot_duration','total_up_down','tot_costs'])], axis=1)\n    res['prd_id']=pd.to_datetime(res['prd_id'], format='%Y%m%d', errors='ignore')\n    \n    idadb.append(SF_USAGE,res);\n    SF_USAGE.commit()", 
            "outputs": [
                {
                    "name": "stdout", 
                    "output_type": "stream", 
                    "text": "Uploading 836 rows (maxnrow was set to 1000)\nUploading 903 rows (maxnrow was set to 1000)\nUploading 740 rows (maxnrow was set to 1000)\nUploading 937 rows (maxnrow was set to 1000)\nUploading 883 rows (maxnrow was set to 1000)\nUploading 732 rows (maxnrow was set to 1000)\nUploading 1046 rows (maxnrow was set to 1000)\nUploading 663 rows (maxnrow was set to 1000)\nUploading 812 rows (maxnrow was set to 1000)\nUploading 901 rows (maxnrow was set to 1000)\nUploading 596 rows (maxnrow was set to 1000)\nUploading 525 rows (maxnrow was set to 1000)\nUploading 553 rows (maxnrow was set to 1000)\nUploading 982 rows (maxnrow was set to 1000)\nUploading 808 rows (maxnrow was set to 1000)\nUploading 759 rows (maxnrow was set to 1000)\nUploading 769 rows (maxnrow was set to 1000)\nUploading 954 rows (maxnrow was set to 1000)\nUploading 667 rows (maxnrow was set to 1000)\nUploading 675 rows (maxnrow was set to 1000)\nUploading 912 rows (maxnrow was set to 1000)\n"
                }, 
                {
                    "ename": "KeyboardInterrupt", 
                    "evalue": "", 
                    "output_type": "error", 
                    "traceback": [
                        "\u001b[0;31m\u001b[0m", 
                        "\u001b[0;31mKeyboardInterrupt\u001b[0mTraceback (most recent call last)", 
                        "\u001b[0;32m<ipython-input-11-28e64b35a2aa>\u001b[0m in \u001b[0;36m<module>\u001b[0;34m()\u001b[0m\n\u001b[1;32m     15\u001b[0m     \u001b[0mres\u001b[0m\u001b[0;34m[\u001b[0m\u001b[0;34m'prd_id'\u001b[0m\u001b[0;34m]\u001b[0m\u001b[0;34m=\u001b[0m\u001b[0mpd\u001b[0m\u001b[0;34m.\u001b[0m\u001b[0mto_datetime\u001b[0m\u001b[0;34m(\u001b[0m\u001b[0mres\u001b[0m\u001b[0;34m[\u001b[0m\u001b[0;34m'prd_id'\u001b[0m\u001b[0;34m]\u001b[0m\u001b[0;34m,\u001b[0m \u001b[0mformat\u001b[0m\u001b[0;34m=\u001b[0m\u001b[0;34m'%Y%m%d'\u001b[0m\u001b[0;34m,\u001b[0m \u001b[0merrors\u001b[0m\u001b[0;34m=\u001b[0m\u001b[0;34m'ignore'\u001b[0m\u001b[0;34m)\u001b[0m\u001b[0;34m\u001b[0m\u001b[0m\n\u001b[1;32m     16\u001b[0m \u001b[0;34m\u001b[0m\u001b[0m\n\u001b[0;32m---> 17\u001b[0;31m     \u001b[0midadb\u001b[0m\u001b[0;34m.\u001b[0m\u001b[0mappend\u001b[0m\u001b[0;34m(\u001b[0m\u001b[0mSF_USAGE\u001b[0m\u001b[0;34m,\u001b[0m\u001b[0mres\u001b[0m\u001b[0;34m)\u001b[0m\u001b[0;34m;\u001b[0m\u001b[0;34m\u001b[0m\u001b[0m\n\u001b[0m\u001b[1;32m     18\u001b[0m     \u001b[0mSF_USAGE\u001b[0m\u001b[0;34m.\u001b[0m\u001b[0mcommit\u001b[0m\u001b[0;34m(\u001b[0m\u001b[0;34m)\u001b[0m\u001b[0;34m\u001b[0m\u001b[0m\n", 
                        "\u001b[0;32m/usr/local/src/bluemix_jupyter_bundle.v33/notebook/lib/python2.7/site-packages/ibmdbpy/base.pyc\u001b[0m in \u001b[0;36mappend\u001b[0;34m(self, idadf, df, maxnrow)\u001b[0m\n\u001b[1;32m   1382\u001b[0m             \u001b[0;32mprint\u001b[0m\u001b[0;34m(\u001b[0m\u001b[0;34m\"Uploading %s rows (maxnrow was set to %s)\"\u001b[0m\u001b[0;34m%\u001b[0m\u001b[0;34m(\u001b[0m\u001b[0mdf\u001b[0m\u001b[0;34m.\u001b[0m\u001b[0mshape\u001b[0m\u001b[0;34m[\u001b[0m\u001b[0;36m0\u001b[0m\u001b[0;34m]\u001b[0m\u001b[0;34m,\u001b[0m \u001b[0mmaxnrow\u001b[0m\u001b[0;34m)\u001b[0m\u001b[0;34m)\u001b[0m\u001b[0;34m\u001b[0m\u001b[0m\n\u001b[1;32m   1383\u001b[0m             \u001b[0;32mtry\u001b[0m\u001b[0;34m:\u001b[0m\u001b[0;34m\u001b[0m\u001b[0m\n\u001b[0;32m-> 1384\u001b[0;31m                 \u001b[0mself\u001b[0m\u001b[0;34m.\u001b[0m\u001b[0m_insert_into_database\u001b[0m\u001b[0;34m(\u001b[0m\u001b[0mdf\u001b[0m\u001b[0;34m,\u001b[0m \u001b[0midadf\u001b[0m\u001b[0;34m.\u001b[0m\u001b[0mtablename\u001b[0m\u001b[0;34m,\u001b[0m \u001b[0msilent\u001b[0m\u001b[0;34m=\u001b[0m\u001b[0mTrue\u001b[0m\u001b[0;34m)\u001b[0m\u001b[0;34m\u001b[0m\u001b[0m\n\u001b[0m\u001b[1;32m   1385\u001b[0m             \u001b[0;32mexcept\u001b[0m\u001b[0;34m:\u001b[0m\u001b[0;34m\u001b[0m\u001b[0m\n\u001b[1;32m   1386\u001b[0m                 \u001b[0;32mraise\u001b[0m\u001b[0;34m\u001b[0m\u001b[0m\n", 
                        "\u001b[0;32m/usr/local/src/bluemix_jupyter_bundle.v33/notebook/lib/python2.7/site-packages/ibmdbpy/base.pyc\u001b[0m in \u001b[0;36m_insert_into_database\u001b[0;34m(self, dataframe, tablename, silent)\u001b[0m\n\u001b[1;32m   1926\u001b[0m                 \u001b[0;32melse\u001b[0m\u001b[0;34m:\u001b[0m\u001b[0;34m\u001b[0m\u001b[0m\n\u001b[1;32m   1927\u001b[0m                     \u001b[0mvalue_string\u001b[0m \u001b[0;34m+=\u001b[0m \u001b[0;34m'%s,'\u001b[0m \u001b[0;34m%\u001b[0m \u001b[0mvalue\u001b[0m\u001b[0;34m\u001b[0m\u001b[0m\n\u001b[0;32m-> 1928\u001b[0;31m             \u001b[0;32mif\u001b[0m \u001b[0mvalue_string\u001b[0m\u001b[0;34m[\u001b[0m\u001b[0;34m-\u001b[0m\u001b[0;36m1\u001b[0m\u001b[0;34m]\u001b[0m \u001b[0;34m==\u001b[0m \u001b[0;34m','\u001b[0m\u001b[0;34m:\u001b[0m\u001b[0;34m\u001b[0m\u001b[0m\n\u001b[0m\u001b[1;32m   1929\u001b[0m                 \u001b[0mvalue_string\u001b[0m \u001b[0;34m=\u001b[0m \u001b[0mvalue_string\u001b[0m\u001b[0;34m[\u001b[0m\u001b[0;34m:\u001b[0m\u001b[0;34m-\u001b[0m\u001b[0;36m1\u001b[0m\u001b[0;34m]\u001b[0m\u001b[0;34m\u001b[0m\u001b[0m\n\u001b[1;32m   1930\u001b[0m             \u001b[0mrow_string\u001b[0m \u001b[0;34m+=\u001b[0m \u001b[0;34m\"(%s),\"\u001b[0m \u001b[0;34m%\u001b[0m \u001b[0mvalue_string\u001b[0m\u001b[0;34m\u001b[0m\u001b[0m\n", 
                        "\u001b[0;31mKeyboardInterrupt\u001b[0m: "
                    ]
                }
            ], 
            "cell_type": "code"
        }
    ]
}