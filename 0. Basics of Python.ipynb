{
    "metadata": {
        "kernelspec": {
            "name": "python2", 
            "display_name": "Python 2 with Spark 1.6", 
            "language": "python"
        }, 
        "language_info": {
            "version": "2.7.11", 
            "file_extension": ".py", 
            "nbconvert_exporter": "python", 
            "codemirror_mode": {
                "version": 2, 
                "name": "ipython"
            }, 
            "name": "python", 
            "mimetype": "text/x-python", 
            "pygments_lexer": "ipython2"
        }
    }, 
    "cells": [
        {
            "metadata": {}, 
            "cell_type": "markdown", 
            "source": "# Basics of Python\n\nAdopted from http://cs231n.github.io/python-numpy-tutorial/"
        }, 
        {
            "metadata": {}, 
            "cell_type": "markdown", 
            "source": "Python is a high-level, dynamically typed multiparadigm programming language. Python code is often said to be almost like pseudocode, since it allows you to express very powerful ideas in very few lines of code while being very readable."
        }, 
        {
            "metadata": {}, 
            "cell_type": "markdown", 
            "source": "### Basic data types"
        }, 
        {
            "metadata": {}, 
            "cell_type": "markdown", 
            "source": "#### Numbers"
        }, 
        {
            "metadata": {}, 
            "cell_type": "markdown", 
            "source": "Integers and floats work as you would expect from other languages:"
        }, 
        {
            "metadata": {
                "collapsed": false
            }, 
            "cell_type": "code", 
            "outputs": [
                {
                    "text": "3 <type 'int'>\n", 
                    "name": "stdout", 
                    "output_type": "stream"
                }
            ], 
            "execution_count": 13, 
            "source": "x = 3\nprint x, type(x)"
        }, 
        {
            "metadata": {
                "collapsed": false
            }, 
            "cell_type": "code", 
            "outputs": [
                {
                    "text": "4\n2\n6\n9\n", 
                    "name": "stdout", 
                    "output_type": "stream"
                }
            ], 
            "execution_count": 15, 
            "source": "print x + 1   # Addition;\nprint x - 1   # Subtraction;\nprint x * 2   # Multiplication;\nprint x ** 2  # Exponentiation;"
        }, 
        {
            "metadata": {
                "collapsed": false
            }, 
            "cell_type": "code", 
            "outputs": [
                {
                    "text": "4\n8\n", 
                    "name": "stdout", 
                    "output_type": "stream"
                }
            ], 
            "execution_count": 16, 
            "source": "x += 1\nprint x  # Prints \"4\"\nx *= 2\nprint x  # Prints \"8\""
        }, 
        {
            "metadata": {
                "collapsed": false
            }, 
            "cell_type": "code", 
            "outputs": [
                {
                    "text": "<type 'float'>\n2.5 3.5 5.0 6.25\n", 
                    "name": "stdout", 
                    "output_type": "stream"
                }
            ], 
            "execution_count": 17, 
            "source": "y = 2.5\nprint type(y) # Prints \"<type 'float'>\"\nprint y, y + 1, y * 2, y ** 2 # Prints \"2.5 3.5 5.0 6.25\""
        }, 
        {
            "metadata": {}, 
            "cell_type": "markdown", 
            "source": "Note that unlike many languages, Python does not have unary increment (x++) or decrement (x--) operators.\n\nPython also has built-in types for long integers and complex numbers; you can find all of the details in the [documentation](https://docs.python.org/2/library/stdtypes.html#numeric-types-int-float-long-complex)."
        }, 
        {
            "metadata": {}, 
            "cell_type": "markdown", 
            "source": "#### Booleans"
        }, 
        {
            "metadata": {}, 
            "cell_type": "markdown", 
            "source": "Python implements all of the usual operators for Boolean logic, but uses English words rather than symbols (`&&`, `||`, etc.):"
        }, 
        {
            "metadata": {
                "collapsed": false
            }, 
            "cell_type": "code", 
            "outputs": [
                {
                    "text": "<type 'bool'>\n", 
                    "name": "stdout", 
                    "output_type": "stream"
                }
            ], 
            "execution_count": 139, 
            "source": "t, f = True, False\nprint type(t) # Prints \"<type 'bool'>\""
        }, 
        {
            "metadata": {}, 
            "cell_type": "markdown", 
            "source": "Now we let's look at the operations:"
        }, 
        {
            "metadata": {
                "collapsed": false
            }, 
            "cell_type": "code", 
            "outputs": [
                {
                    "text": "False\nTrue\nFalse\nTrue\n", 
                    "name": "stdout", 
                    "output_type": "stream"
                }
            ], 
            "execution_count": 140, 
            "source": "print t and f # Logical AND;\nprint t or f  # Logical OR;\nprint not t   # Logical NOT;\nprint t != f  # Logical XOR;"
        }, 
        {
            "metadata": {}, 
            "cell_type": "markdown", 
            "source": "#### Strings"
        }, 
        {
            "metadata": {
                "collapsed": false
            }, 
            "cell_type": "code", 
            "outputs": [
                {
                    "text": "hello 5\n", 
                    "name": "stdout", 
                    "output_type": "stream"
                }
            ], 
            "execution_count": 142, 
            "source": "hello = 'hello'   # String literals can use single quotes\nworld = \"world\"   # or double quotes; it does not matter.\nprint hello, len(hello)"
        }, 
        {
            "metadata": {
                "collapsed": false
            }, 
            "cell_type": "code", 
            "outputs": [
                {
                    "text": "hello world\n", 
                    "name": "stdout", 
                    "output_type": "stream"
                }
            ], 
            "execution_count": 143, 
            "source": "hw = hello + ' ' + world  # String concatenation\nprint hw  # prints \"hello world\""
        }, 
        {
            "metadata": {
                "collapsed": false
            }, 
            "cell_type": "code", 
            "outputs": [
                {
                    "text": "hello world 12\n", 
                    "name": "stdout", 
                    "output_type": "stream"
                }
            ], 
            "execution_count": 144, 
            "source": "hw12 = '%s %s %d' % (hello, world, 12)  # sprintf style string formatting\nprint hw12  # prints \"hello world 12\""
        }, 
        {
            "metadata": {}, 
            "cell_type": "markdown", 
            "source": "String objects have a bunch of useful methods; for example:"
        }, 
        {
            "metadata": {
                "collapsed": false
            }, 
            "cell_type": "code", 
            "outputs": [
                {
                    "text": "Hello\nHELLO\n  hello\n hello \nhe(ell)(ell)o\nworld\n", 
                    "name": "stdout", 
                    "output_type": "stream"
                }
            ], 
            "execution_count": 26, 
            "source": "s = \"hello\"\nprint s.capitalize()  # Capitalize a string; prints \"Hello\"\nprint s.upper()       # Convert a string to uppercase; prints \"HELLO\"\nprint s.rjust(7)      # Right-justify a string, padding with spaces; prints \"  hello\"\nprint s.center(7)     # Center a string, padding with spaces; prints \" hello \"\nprint s.replace('l', '(ell)')  # Replace all instances of one substring with another;\n                               # prints \"he(ell)(ell)o\"\nprint '  world '.strip()  # Strip leading and trailing whitespace; prints \"world\""
        }, 
        {
            "metadata": {}, 
            "cell_type": "markdown", 
            "source": "You can find a list of all string methods in the [documentation](https://docs.python.org/2/library/stdtypes.html#string-methods)."
        }, 
        {
            "metadata": {}, 
            "cell_type": "markdown", 
            "source": "### Containers"
        }, 
        {
            "metadata": {}, 
            "cell_type": "markdown", 
            "source": "Python includes several built-in container types: lists, dictionaries, sets, and tuples."
        }, 
        {
            "metadata": {}, 
            "cell_type": "markdown", 
            "source": "#### Lists"
        }, 
        {
            "metadata": {}, 
            "cell_type": "markdown", 
            "source": "A list is the Python equivalent of an array, but is resizeable and can contain elements of different types:"
        }, 
        {
            "metadata": {
                "collapsed": false
            }, 
            "cell_type": "code", 
            "outputs": [
                {
                    "text": "[3, 1, 2] 2\n2\n", 
                    "name": "stdout", 
                    "output_type": "stream"
                }
            ], 
            "execution_count": 146, 
            "source": "xs = [3, 1, 2]   # Create a list\nprint xs, xs[2]\nprint xs[-1]     # Negative indices count from the end of the list; prints \"2\""
        }, 
        {
            "metadata": {
                "collapsed": false
            }, 
            "cell_type": "code", 
            "outputs": [
                {
                    "text": "[3, 1, 'foo']\n", 
                    "name": "stdout", 
                    "output_type": "stream"
                }
            ], 
            "execution_count": 148, 
            "source": "xs[2] = 'foo'    # Lists can contain elements of different types\nprint xs"
        }, 
        {
            "metadata": {
                "collapsed": false
            }, 
            "cell_type": "code", 
            "outputs": [
                {
                    "text": "[3, 1, 'foo', 'bar', 'bar']\n", 
                    "name": "stdout", 
                    "output_type": "stream"
                }
            ], 
            "execution_count": 150, 
            "source": "xs.append('bar') # Add a new element to the end of the list\nprint xs  "
        }, 
        {
            "metadata": {
                "collapsed": false
            }, 
            "cell_type": "code", 
            "outputs": [
                {
                    "text": "bar [3, 1, 'foo']\n", 
                    "name": "stdout", 
                    "output_type": "stream"
                }
            ], 
            "execution_count": 152, 
            "source": "x = xs.pop()     # Remove and return the last element of the list\nprint x, xs "
        }, 
        {
            "metadata": {}, 
            "cell_type": "markdown", 
            "source": "As usual, you can find all the gory details about lists in the [documentation](https://docs.python.org/2/tutorial/datastructures.html#more-on-lists)."
        }, 
        {
            "metadata": {}, 
            "cell_type": "markdown", 
            "source": "#### Slicing"
        }, 
        {
            "metadata": {}, 
            "cell_type": "markdown", 
            "source": "In addition to accessing list elements one at a time, Python provides concise syntax to access sublists; this is known as slicing:"
        }, 
        {
            "metadata": {
                "collapsed": false
            }, 
            "cell_type": "code", 
            "outputs": [
                {
                    "text": "[0, 1, 2, 3, 4]\n[2, 3]\n[2, 3, 4]\n[0, 1]\n[0, 1, 2, 3, 4]\n[0, 1, 2, 3]\n[0, 1, 8, 9, 4]\n", 
                    "name": "stdout", 
                    "output_type": "stream"
                }
            ], 
            "execution_count": 36, 
            "source": "nums = range(5)    # range is a built-in function that creates a list of integers\nprint nums         # Prints \"[0, 1, 2, 3, 4]\"\nprint nums[2:4]    # Get a slice from index 2 to 4 (exclusive); prints \"[2, 3]\"\nprint nums[2:]     # Get a slice from index 2 to the end; prints \"[2, 3, 4]\"\nprint nums[:2]     # Get a slice from the start to index 2 (exclusive); prints \"[0, 1]\"\nprint nums[:]      # Get a slice of the whole list; prints [\"0, 1, 2, 3, 4]\"\nprint nums[:-1]    # Slice indices can be negative; prints [\"0, 1, 2, 3]\"\nnums[2:4] = [8, 9] # Assign a new sublist to a slice\nprint nums         # Prints \"[0, 1, 8, 8, 4]\""
        }, 
        {
            "metadata": {}, 
            "cell_type": "markdown", 
            "source": "#### Loops"
        }, 
        {
            "metadata": {}, 
            "cell_type": "markdown", 
            "source": "You can loop over the elements of a list like this:"
        }, 
        {
            "metadata": {
                "collapsed": false
            }, 
            "cell_type": "code", 
            "outputs": [
                {
                    "text": "cat\ndog\nmonkey\n", 
                    "name": "stdout", 
                    "output_type": "stream"
                }
            ], 
            "execution_count": 153, 
            "source": "animals = ['cat', 'dog', 'monkey']\nfor animal in animals:\n    print animal"
        }, 
        {
            "metadata": {}, 
            "cell_type": "markdown", 
            "source": "If you want access to the index of each element within the body of a loop, use the built-in `enumerate` function:"
        }, 
        {
            "metadata": {
                "collapsed": false
            }, 
            "cell_type": "code", 
            "outputs": [
                {
                    "text": "#1: cat\n#2: dog\n#3: monkey\n", 
                    "name": "stdout", 
                    "output_type": "stream"
                }
            ], 
            "execution_count": 154, 
            "source": "animals = ['cat', 'dog', 'monkey']\nfor idx, animal in enumerate(animals):\n    print '#%d: %s' % (idx + 1, animal)"
        }, 
        {
            "metadata": {}, 
            "cell_type": "markdown", 
            "source": "#### List comprehensions:"
        }, 
        {
            "metadata": {}, 
            "cell_type": "markdown", 
            "source": "When programming, frequently we want to transform one type of data into another. As a simple example, consider the following code that computes square numbers:"
        }, 
        {
            "metadata": {
                "collapsed": false
            }, 
            "cell_type": "code", 
            "outputs": [
                {
                    "text": "[0, 1, 4, 9, 16]\n", 
                    "name": "stdout", 
                    "output_type": "stream"
                }
            ], 
            "execution_count": 155, 
            "source": "nums = [0, 1, 2, 3, 4]\nsquares = []\nfor x in nums:\n    squares.append(x ** 2)\nprint squares"
        }, 
        {
            "metadata": {}, 
            "cell_type": "markdown", 
            "source": "You can make this code simpler using a list comprehension:"
        }, 
        {
            "metadata": {
                "collapsed": false
            }, 
            "cell_type": "code", 
            "outputs": [
                {
                    "text": "[0, 1, 4, 9, 16]\n", 
                    "name": "stdout", 
                    "output_type": "stream"
                }
            ], 
            "execution_count": 156, 
            "source": "nums = [0, 1, 2, 3, 4]\nsquares = [x ** 2 for x in nums]\nprint squares"
        }, 
        {
            "metadata": {}, 
            "cell_type": "markdown", 
            "source": "List comprehensions can also contain conditions:"
        }, 
        {
            "metadata": {
                "collapsed": false
            }, 
            "cell_type": "code", 
            "outputs": [
                {
                    "text": "[0, 4, 16]\n", 
                    "name": "stdout", 
                    "output_type": "stream"
                }
            ], 
            "execution_count": 157, 
            "source": "nums = [0, 1, 2, 3, 4]\neven_squares = [x ** 2 for x in nums if x % 2 == 0]\nprint even_squares"
        }, 
        {
            "metadata": {}, 
            "cell_type": "markdown", 
            "source": "#### Dictionaries"
        }, 
        {
            "metadata": {}, 
            "cell_type": "markdown", 
            "source": "A dictionary stores (key, value) pairs, similar to a `Map` in Java or an object in Javascript. You can use it like this:"
        }, 
        {
            "metadata": {
                "collapsed": false
            }, 
            "cell_type": "code", 
            "outputs": [
                {
                    "text": "cute\nTrue\n", 
                    "name": "stdout", 
                    "output_type": "stream"
                }
            ], 
            "execution_count": 158, 
            "source": "d = {'cat': 'cute', 'dog': 'furry'}  # Create a new dictionary with some data\nprint d['cat']       # Get an entry from a dictionary; prints \"cute\"\nprint 'cat' in d     # Check if a dictionary has a given key; prints \"True\""
        }, 
        {
            "metadata": {
                "collapsed": false
            }, 
            "cell_type": "code", 
            "outputs": [
                {
                    "text": "wet\n", 
                    "name": "stdout", 
                    "output_type": "stream"
                }
            ], 
            "execution_count": 159, 
            "source": "d['fish'] = 'wet'    # Set an entry in a dictionary\nprint d['fish']      # Prints \"wet\""
        }, 
        {
            "metadata": {
                "collapsed": false
            }, 
            "cell_type": "code", 
            "outputs": [
                {
                    "ename": "KeyError", 
                    "traceback": [
                        "\u001b[0;31m---------------------------------------------------------------------------\u001b[0m\n\u001b[0;31mKeyError\u001b[0m                                  Traceback (most recent call last)", 
                        "\u001b[0;32m<ipython-input-161-85f0c5ba0fa7>\u001b[0m in \u001b[0;36m<module>\u001b[0;34m()\u001b[0m\n\u001b[0;32m----> 1\u001b[0;31m \u001b[0;32mprint\u001b[0m \u001b[0md\u001b[0m\u001b[0;34m[\u001b[0m\u001b[0;34m'monkey'\u001b[0m\u001b[0;34m]\u001b[0m  \u001b[0;31m# KeyError: 'monkey' not a key of d\u001b[0m\u001b[0;34m\u001b[0m\u001b[0m\n\u001b[0m", 
                        "\u001b[0;31mKeyError\u001b[0m: 'monkey'"
                    ], 
                    "evalue": "'monkey'", 
                    "output_type": "error"
                }
            ], 
            "execution_count": 161, 
            "source": "print d['monkey']  # KeyError: 'monkey' not a key of d"
        }, 
        {
            "metadata": {
                "collapsed": false
            }, 
            "cell_type": "code", 
            "outputs": [
                {
                    "text": "N/A\nwet\n", 
                    "name": "stdout", 
                    "output_type": "stream"
                }
            ], 
            "execution_count": 162, 
            "source": "print d.get('monkey', 'N/A')  # Get an element with a default; prints \"N/A\"\nprint d.get('fish', 'N/A')    # Get an element with a default; prints \"wet\""
        }, 
        {
            "metadata": {
                "collapsed": false
            }, 
            "cell_type": "code", 
            "outputs": [
                {
                    "text": "N/A\n", 
                    "name": "stdout", 
                    "output_type": "stream"
                }
            ], 
            "execution_count": 163, 
            "source": "del d['fish']        # Remove an element from a dictionary\nprint d.get('fish', 'N/A') # \"fish\" is no longer a key; prints \"N/A\""
        }, 
        {
            "metadata": {}, 
            "cell_type": "markdown", 
            "source": "You can find all you need to know about dictionaries in the [documentation](https://docs.python.org/2/library/stdtypes.html#dict)."
        }, 
        {
            "metadata": {}, 
            "cell_type": "markdown", 
            "source": "It is easy to iterate over the keys in a dictionary:"
        }, 
        {
            "metadata": {
                "collapsed": false
            }, 
            "cell_type": "code", 
            "outputs": [
                {
                    "text": "A person has 2 legs\nA spider has 8 legs\nA cat has 4 legs\n", 
                    "name": "stdout", 
                    "output_type": "stream"
                }
            ], 
            "execution_count": 164, 
            "source": "d = {'person': 2, 'cat': 4, 'spider': 8}\nfor animal in d:\n    legs = d[animal]\n    print 'A %s has %d legs' % (animal, legs)"
        }, 
        {
            "metadata": {}, 
            "cell_type": "markdown", 
            "source": "If you want access to keys and their corresponding values, use the iteritems method:"
        }, 
        {
            "metadata": {
                "collapsed": false
            }, 
            "cell_type": "code", 
            "outputs": [
                {
                    "text": "A person has 2 legs\nA spider has 8 legs\nA cat has 4 legs\n", 
                    "name": "stdout", 
                    "output_type": "stream"
                }
            ], 
            "execution_count": 165, 
            "source": "d = {'person': 2, 'cat': 4, 'spider': 8}\nfor animal, legs in d.iteritems():\n    print 'A %s has %d legs' % (animal, legs)"
        }, 
        {
            "metadata": {}, 
            "cell_type": "markdown", 
            "source": "Dictionary comprehensions: These are similar to list comprehensions, but allow you to easily construct dictionaries. For example:"
        }, 
        {
            "metadata": {
                "collapsed": false
            }, 
            "cell_type": "code", 
            "outputs": [
                {
                    "text": "{0: 0, 2: 4, 4: 16}\n", 
                    "name": "stdout", 
                    "output_type": "stream"
                }
            ], 
            "execution_count": 166, 
            "source": "nums = [0, 1, 2, 3, 4]\neven_num_to_square = {x: x ** 2 for x in nums if x % 2 == 0}\nprint even_num_to_square"
        }, 
        {
            "metadata": {}, 
            "cell_type": "markdown", 
            "source": "#### Sets"
        }, 
        {
            "metadata": {}, 
            "cell_type": "markdown", 
            "source": "A set is an unordered collection of distinct elements. As a simple example, consider the following:"
        }, 
        {
            "metadata": {
                "collapsed": false
            }, 
            "cell_type": "code", 
            "outputs": [
                {
                    "text": "True\nFalse\n", 
                    "name": "stdout", 
                    "output_type": "stream"
                }
            ], 
            "execution_count": 167, 
            "source": "animals = {'cat', 'dog'}\nprint 'cat' in animals   # Check if an element is in a set; prints \"True\"\nprint 'fish' in animals  # prints \"False\"\n"
        }, 
        {
            "metadata": {
                "collapsed": false
            }, 
            "cell_type": "code", 
            "outputs": [
                {
                    "text": "True\n3\n", 
                    "name": "stdout", 
                    "output_type": "stream"
                }
            ], 
            "execution_count": 170, 
            "source": "animals.add('fish')      # Add an element to a set\nprint 'fish' in animals\nprint len(animals)       # Number of elements in a set;"
        }, 
        {
            "metadata": {
                "collapsed": false
            }, 
            "cell_type": "code", 
            "outputs": [
                {
                    "text": "3\n2\n", 
                    "name": "stdout", 
                    "output_type": "stream"
                }
            ], 
            "execution_count": 171, 
            "source": "animals.add('cat')       # Adding an element that is already in the set does nothing\nprint len(animals)       \nanimals.remove('cat')    # Remove an element from a set\nprint len(animals)       "
        }, 
        {
            "metadata": {}, 
            "cell_type": "markdown", 
            "source": "_Loops_: Iterating over a set has the same syntax as iterating over a list; however since sets are unordered, you cannot make assumptions about the order in which you visit the elements of the set:"
        }, 
        {
            "metadata": {
                "collapsed": false
            }, 
            "cell_type": "code", 
            "outputs": [
                {
                    "text": "#1: fish\n#2: dog\n#3: cat\n", 
                    "name": "stdout", 
                    "output_type": "stream"
                }
            ], 
            "execution_count": 63, 
            "source": "animals = {'cat', 'dog', 'fish'}\nfor idx, animal in enumerate(animals):\n    print '#%d: %s' % (idx + 1, animal)\n# Prints \"#1: fish\", \"#2: dog\", \"#3: cat\""
        }, 
        {
            "metadata": {}, 
            "cell_type": "markdown", 
            "source": "Set comprehensions: Like lists and dictionaries, we can easily construct sets using set comprehensions:"
        }, 
        {
            "metadata": {
                "collapsed": false
            }, 
            "cell_type": "code", 
            "outputs": [
                {
                    "text": "set([0, 1, 2, 3, 4, 5])\n", 
                    "name": "stdout", 
                    "output_type": "stream"
                }
            ], 
            "execution_count": 172, 
            "source": "from math import sqrt\nprint {int(sqrt(x)) for x in range(30)}"
        }, 
        {
            "metadata": {}, 
            "cell_type": "markdown", 
            "source": "#### Tuples"
        }, 
        {
            "metadata": {}, 
            "cell_type": "markdown", 
            "source": "A tuple is an (immutable) ordered list of values. A tuple is in many ways similar to a list; one of the most important differences is that tuples can be used as keys in dictionaries and as elements of sets, while lists cannot. Here is a trivial example:"
        }, 
        {
            "metadata": {
                "collapsed": false
            }, 
            "cell_type": "code", 
            "outputs": [
                {
                    "text": "<type 'tuple'>\n5\n1\n", 
                    "name": "stdout", 
                    "output_type": "stream"
                }
            ], 
            "execution_count": 173, 
            "source": "d = {(x, x + 1): x for x in range(10)}  # Create a dictionary with tuple keys\nt = (5, 6)       # Create a tuple\nprint type(t)\nprint d[t]       \nprint d[(1, 2)]"
        }, 
        {
            "metadata": {
                "collapsed": false
            }, 
            "cell_type": "code", 
            "outputs": [
                {
                    "ename": "TypeError", 
                    "traceback": [
                        "\u001b[0;31m---------------------------------------------------------------------------\u001b[0m\n\u001b[0;31mTypeError\u001b[0m                                 Traceback (most recent call last)", 
                        "\u001b[0;32m<ipython-input-176-0a69537257d5>\u001b[0m in \u001b[0;36m<module>\u001b[0;34m()\u001b[0m\n\u001b[0;32m----> 1\u001b[0;31m \u001b[0mt\u001b[0m\u001b[0;34m[\u001b[0m\u001b[0;36m0\u001b[0m\u001b[0;34m]\u001b[0m \u001b[0;34m=\u001b[0m \u001b[0;36m1\u001b[0m\u001b[0;34m\u001b[0m\u001b[0m\n\u001b[0m", 
                        "\u001b[0;31mTypeError\u001b[0m: 'tuple' object does not support item assignment"
                    ], 
                    "evalue": "'tuple' object does not support item assignment", 
                    "output_type": "error"
                }
            ], 
            "execution_count": 176, 
            "source": "t[0] = 1"
        }, 
        {
            "metadata": {}, 
            "cell_type": "markdown", 
            "source": "### Functions"
        }, 
        {
            "metadata": {}, 
            "cell_type": "markdown", 
            "source": "Python functions are defined using the `def` keyword. For example:"
        }, 
        {
            "metadata": {
                "collapsed": false
            }, 
            "cell_type": "code", 
            "outputs": [
                {
                    "text": "negative\nzero\npositive\n", 
                    "name": "stdout", 
                    "output_type": "stream"
                }
            ], 
            "execution_count": 178, 
            "source": "def sign(x):\n    if x > 0:\n        return 'positive'\n    elif x < 0:\n        return 'negative'\n    else:\n        return 'zero'\n\nfor x in [-1, 0, 1]:\n    print sign(x)"
        }, 
        {
            "metadata": {}, 
            "cell_type": "markdown", 
            "source": "We will often define functions to take optional keyword arguments, like this:"
        }, 
        {
            "metadata": {
                "collapsed": false
            }, 
            "cell_type": "code", 
            "outputs": [
                {
                    "text": "Hello, Bob!\nHELLO, FRED\n", 
                    "name": "stdout", 
                    "output_type": "stream"
                }
            ], 
            "execution_count": 179, 
            "source": "def hello(name, loud=False):\n    if loud:\n        print 'HELLO, %s' % name.upper()\n    else:\n        print 'Hello, %s!' % name\n\nhello('Bob')\nhello('Fred', loud=True)"
        }, 
        {
            "metadata": {}, 
            "cell_type": "markdown", 
            "source": "### Classes"
        }, 
        {
            "metadata": {}, 
            "cell_type": "markdown", 
            "source": "The syntax for defining classes in Python is straightforward:"
        }, 
        {
            "metadata": {
                "collapsed": false
            }, 
            "cell_type": "code", 
            "outputs": [
                {
                    "text": "Hello, Fred\nHELLO, FRED!\n", 
                    "name": "stdout", 
                    "output_type": "stream"
                }
            ], 
            "execution_count": 76, 
            "source": "class Greeter:\n\n    # Constructor\n    def __init__(self, name):\n        self.name = name  # Create an instance variable\n\n    # Instance method\n    def greet(self, loud=False):\n        if loud:\n            print 'HELLO, %s!' % self.name.upper()\n        else:\n            print 'Hello, %s' % self.name\n\ng = Greeter('Fred')  # Construct an instance of the Greeter class\ng.greet()            # Call an instance method; prints \"Hello, Fred\"\ng.greet(loud=True)   # Call an instance method; prints \"HELLO, FRED!\""
        }
    ], 
    "nbformat_minor": 0, 
    "nbformat": 4
}