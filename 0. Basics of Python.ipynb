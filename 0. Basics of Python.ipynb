{
    "cells": [
        {
            "cell_type": "markdown", 
            "metadata": {}, 
            "source": "# Basics of Python"
        }, 
        {
            "cell_type": "markdown", 
            "metadata": {}, 
            "source": "Python is a high-level, dynamically typed multiparadigm programming language. Python code is often said to be almost like pseudocode, since it allows you to express very powerful ideas in very few lines of code while being very readable."
        }, 
        {
            "cell_type": "markdown", 
            "metadata": {}, 
            "source": "### Basic data types"
        }, 
        {
            "cell_type": "markdown", 
            "metadata": {}, 
            "source": "#### Numbers"
        }, 
        {
            "cell_type": "markdown", 
            "metadata": {}, 
            "source": "Integers and floats work as you would expect from other languages:"
        }, 
        {
            "cell_type": "code", 
            "outputs": [
                {
                    "text": "3 <type 'int'>\n", 
                    "output_type": "stream", 
                    "name": "stdout"
                }
            ], 
            "metadata": {
                "collapsed": false
            }, 
            "source": "x = 3\nprint x, type(x)", 
            "execution_count": 13
        }, 
        {
            "cell_type": "code", 
            "outputs": [
                {
                    "text": "4\n2\n6\n9\n", 
                    "output_type": "stream", 
                    "name": "stdout"
                }
            ], 
            "metadata": {
                "collapsed": false
            }, 
            "source": "print x + 1   # Addition;\nprint x - 1   # Subtraction;\nprint x * 2   # Multiplication;\nprint x ** 2  # Exponentiation;", 
            "execution_count": 15
        }, 
        {
            "cell_type": "code", 
            "outputs": [
                {
                    "text": "4\n8\n", 
                    "output_type": "stream", 
                    "name": "stdout"
                }
            ], 
            "metadata": {
                "collapsed": false
            }, 
            "source": "x += 1\nprint x  # Prints \"4\"\nx *= 2\nprint x  # Prints \"8\"", 
            "execution_count": 16
        }, 
        {
            "cell_type": "code", 
            "outputs": [
                {
                    "text": "<type 'float'>\n2.5 3.5 5.0 6.25\n", 
                    "output_type": "stream", 
                    "name": "stdout"
                }
            ], 
            "metadata": {
                "collapsed": false
            }, 
            "source": "y = 2.5\nprint type(y) # Prints \"<type 'float'>\"\nprint y, y + 1, y * 2, y ** 2 # Prints \"2.5 3.5 5.0 6.25\"", 
            "execution_count": 17
        }, 
        {
            "cell_type": "markdown", 
            "metadata": {}, 
            "source": "Note that unlike many languages, Python does not have unary increment (x++) or decrement (x--) operators.\n\nPython also has built-in types for long integers and complex numbers; you can find all of the details in the [documentation](https://docs.python.org/2/library/stdtypes.html#numeric-types-int-float-long-complex)."
        }, 
        {
            "cell_type": "markdown", 
            "metadata": {}, 
            "source": "#### Booleans"
        }, 
        {
            "cell_type": "markdown", 
            "metadata": {}, 
            "source": "Python implements all of the usual operators for Boolean logic, but uses English words rather than symbols (`&&`, `||`, etc.):"
        }, 
        {
            "cell_type": "code", 
            "outputs": [
                {
                    "text": "<type 'bool'>\n", 
                    "output_type": "stream", 
                    "name": "stdout"
                }
            ], 
            "metadata": {
                "collapsed": false
            }, 
            "source": "t, f = True, False\nprint type(t) # Prints \"<type 'bool'>\"", 
            "execution_count": 139
        }, 
        {
            "cell_type": "markdown", 
            "metadata": {}, 
            "source": "Now we let's look at the operations:"
        }, 
        {
            "cell_type": "code", 
            "outputs": [
                {
                    "text": "False\nTrue\nFalse\nTrue\n", 
                    "output_type": "stream", 
                    "name": "stdout"
                }
            ], 
            "metadata": {
                "collapsed": false
            }, 
            "source": "print t and f # Logical AND;\nprint t or f  # Logical OR;\nprint not t   # Logical NOT;\nprint t != f  # Logical XOR;", 
            "execution_count": 140
        }, 
        {
            "cell_type": "markdown", 
            "metadata": {}, 
            "source": "#### Strings"
        }, 
        {
            "cell_type": "code", 
            "outputs": [
                {
                    "text": "hello 5\n", 
                    "output_type": "stream", 
                    "name": "stdout"
                }
            ], 
            "metadata": {
                "collapsed": false
            }, 
            "source": "hello = 'hello'   # String literals can use single quotes\nworld = \"world\"   # or double quotes; it does not matter.\nprint hello, len(hello)", 
            "execution_count": 142
        }, 
        {
            "cell_type": "code", 
            "outputs": [
                {
                    "text": "hello world\n", 
                    "output_type": "stream", 
                    "name": "stdout"
                }
            ], 
            "metadata": {
                "collapsed": false
            }, 
            "source": "hw = hello + ' ' + world  # String concatenation\nprint hw  # prints \"hello world\"", 
            "execution_count": 143
        }, 
        {
            "cell_type": "code", 
            "outputs": [
                {
                    "text": "hello world 12\n", 
                    "output_type": "stream", 
                    "name": "stdout"
                }
            ], 
            "metadata": {
                "collapsed": false
            }, 
            "source": "hw12 = '%s %s %d' % (hello, world, 12)  # sprintf style string formatting\nprint hw12  # prints \"hello world 12\"", 
            "execution_count": 144
        }, 
        {
            "cell_type": "markdown", 
            "metadata": {}, 
            "source": "String objects have a bunch of useful methods; for example:"
        }, 
        {
            "cell_type": "code", 
            "outputs": [
                {
                    "text": "Hello\nHELLO\n  hello\n hello \nhe(ell)(ell)o\nworld\n", 
                    "output_type": "stream", 
                    "name": "stdout"
                }
            ], 
            "metadata": {
                "collapsed": false
            }, 
            "source": "s = \"hello\"\nprint s.capitalize()  # Capitalize a string; prints \"Hello\"\nprint s.upper()       # Convert a string to uppercase; prints \"HELLO\"\nprint s.rjust(7)      # Right-justify a string, padding with spaces; prints \"  hello\"\nprint s.center(7)     # Center a string, padding with spaces; prints \" hello \"\nprint s.replace('l', '(ell)')  # Replace all instances of one substring with another;\n                               # prints \"he(ell)(ell)o\"\nprint '  world '.strip()  # Strip leading and trailing whitespace; prints \"world\"", 
            "execution_count": 26
        }, 
        {
            "cell_type": "markdown", 
            "metadata": {}, 
            "source": "You can find a list of all string methods in the [documentation](https://docs.python.org/2/library/stdtypes.html#string-methods)."
        }, 
        {
            "cell_type": "markdown", 
            "metadata": {}, 
            "source": "### Containers"
        }, 
        {
            "cell_type": "markdown", 
            "metadata": {}, 
            "source": "Python includes several built-in container types: lists, dictionaries, sets, and tuples."
        }, 
        {
            "cell_type": "markdown", 
            "metadata": {}, 
            "source": "#### Lists"
        }, 
        {
            "cell_type": "markdown", 
            "metadata": {}, 
            "source": "A list is the Python equivalent of an array, but is resizeable and can contain elements of different types:"
        }, 
        {
            "cell_type": "code", 
            "outputs": [
                {
                    "text": "[3, 1, 2] 2\n2\n", 
                    "output_type": "stream", 
                    "name": "stdout"
                }
            ], 
            "metadata": {
                "collapsed": false
            }, 
            "source": "xs = [3, 1, 2]   # Create a list\nprint xs, xs[2]\nprint xs[-1]     # Negative indices count from the end of the list; prints \"2\"", 
            "execution_count": 146
        }, 
        {
            "cell_type": "code", 
            "outputs": [
                {
                    "text": "[3, 1, 'foo']\n", 
                    "output_type": "stream", 
                    "name": "stdout"
                }
            ], 
            "metadata": {
                "collapsed": false
            }, 
            "source": "xs[2] = 'foo'    # Lists can contain elements of different types\nprint xs", 
            "execution_count": 148
        }, 
        {
            "cell_type": "code", 
            "outputs": [
                {
                    "text": "[3, 1, 'foo', 'bar', 'bar']\n", 
                    "output_type": "stream", 
                    "name": "stdout"
                }
            ], 
            "metadata": {
                "collapsed": false
            }, 
            "source": "xs.append('bar') # Add a new element to the end of the list\nprint xs  ", 
            "execution_count": 150
        }, 
        {
            "cell_type": "code", 
            "outputs": [
                {
                    "text": "bar [3, 1, 'foo']\n", 
                    "output_type": "stream", 
                    "name": "stdout"
                }
            ], 
            "metadata": {
                "collapsed": false
            }, 
            "source": "x = xs.pop()     # Remove and return the last element of the list\nprint x, xs ", 
            "execution_count": 152
        }, 
        {
            "cell_type": "markdown", 
            "metadata": {}, 
            "source": "As usual, you can find all the gory details about lists in the [documentation](https://docs.python.org/2/tutorial/datastructures.html#more-on-lists)."
        }, 
        {
            "cell_type": "markdown", 
            "metadata": {}, 
            "source": "#### Slicing"
        }, 
        {
            "cell_type": "markdown", 
            "metadata": {}, 
            "source": "In addition to accessing list elements one at a time, Python provides concise syntax to access sublists; this is known as slicing:"
        }, 
        {
            "cell_type": "code", 
            "outputs": [
                {
                    "text": "[0, 1, 2, 3, 4]\n[2, 3]\n[2, 3, 4]\n[0, 1]\n[0, 1, 2, 3, 4]\n[0, 1, 2, 3]\n[0, 1, 8, 9, 4]\n", 
                    "output_type": "stream", 
                    "name": "stdout"
                }
            ], 
            "metadata": {
                "collapsed": false
            }, 
            "source": "nums = range(5)    # range is a built-in function that creates a list of integers\nprint nums         # Prints \"[0, 1, 2, 3, 4]\"\nprint nums[2:4]    # Get a slice from index 2 to 4 (exclusive); prints \"[2, 3]\"\nprint nums[2:]     # Get a slice from index 2 to the end; prints \"[2, 3, 4]\"\nprint nums[:2]     # Get a slice from the start to index 2 (exclusive); prints \"[0, 1]\"\nprint nums[:]      # Get a slice of the whole list; prints [\"0, 1, 2, 3, 4]\"\nprint nums[:-1]    # Slice indices can be negative; prints [\"0, 1, 2, 3]\"\nnums[2:4] = [8, 9] # Assign a new sublist to a slice\nprint nums         # Prints \"[0, 1, 8, 8, 4]\"", 
            "execution_count": 36
        }, 
        {
            "cell_type": "markdown", 
            "metadata": {}, 
            "source": "#### Loops"
        }, 
        {
            "cell_type": "markdown", 
            "metadata": {}, 
            "source": "You can loop over the elements of a list like this:"
        }, 
        {
            "cell_type": "code", 
            "outputs": [
                {
                    "text": "cat\ndog\nmonkey\n", 
                    "output_type": "stream", 
                    "name": "stdout"
                }
            ], 
            "metadata": {
                "collapsed": false
            }, 
            "source": "animals = ['cat', 'dog', 'monkey']\nfor animal in animals:\n    print animal", 
            "execution_count": 153
        }, 
        {
            "cell_type": "markdown", 
            "metadata": {}, 
            "source": "If you want access to the index of each element within the body of a loop, use the built-in `enumerate` function:"
        }, 
        {
            "cell_type": "code", 
            "outputs": [
                {
                    "text": "#1: cat\n#2: dog\n#3: monkey\n", 
                    "output_type": "stream", 
                    "name": "stdout"
                }
            ], 
            "metadata": {
                "collapsed": false
            }, 
            "source": "animals = ['cat', 'dog', 'monkey']\nfor idx, animal in enumerate(animals):\n    print '#%d: %s' % (idx + 1, animal)", 
            "execution_count": 154
        }, 
        {
            "cell_type": "markdown", 
            "metadata": {}, 
            "source": "#### List comprehensions:"
        }, 
        {
            "cell_type": "markdown", 
            "metadata": {}, 
            "source": "When programming, frequently we want to transform one type of data into another. As a simple example, consider the following code that computes square numbers:"
        }, 
        {
            "cell_type": "code", 
            "outputs": [
                {
                    "text": "[0, 1, 4, 9, 16]\n", 
                    "output_type": "stream", 
                    "name": "stdout"
                }
            ], 
            "metadata": {
                "collapsed": false
            }, 
            "source": "nums = [0, 1, 2, 3, 4]\nsquares = []\nfor x in nums:\n    squares.append(x ** 2)\nprint squares", 
            "execution_count": 155
        }, 
        {
            "cell_type": "markdown", 
            "metadata": {}, 
            "source": "You can make this code simpler using a list comprehension:"
        }, 
        {
            "cell_type": "code", 
            "outputs": [
                {
                    "text": "[0, 1, 4, 9, 16]\n", 
                    "output_type": "stream", 
                    "name": "stdout"
                }
            ], 
            "metadata": {
                "collapsed": false
            }, 
            "source": "nums = [0, 1, 2, 3, 4]\nsquares = [x ** 2 for x in nums]\nprint squares", 
            "execution_count": 156
        }, 
        {
            "cell_type": "markdown", 
            "metadata": {}, 
            "source": "List comprehensions can also contain conditions:"
        }, 
        {
            "cell_type": "code", 
            "outputs": [
                {
                    "text": "[0, 4, 16]\n", 
                    "output_type": "stream", 
                    "name": "stdout"
                }
            ], 
            "metadata": {
                "collapsed": false
            }, 
            "source": "nums = [0, 1, 2, 3, 4]\neven_squares = [x ** 2 for x in nums if x % 2 == 0]\nprint even_squares", 
            "execution_count": 157
        }, 
        {
            "cell_type": "markdown", 
            "metadata": {}, 
            "source": "#### Dictionaries"
        }, 
        {
            "cell_type": "markdown", 
            "metadata": {}, 
            "source": "A dictionary stores (key, value) pairs, similar to a `Map` in Java or an object in Javascript. You can use it like this:"
        }, 
        {
            "cell_type": "code", 
            "outputs": [
                {
                    "text": "cute\nTrue\n", 
                    "output_type": "stream", 
                    "name": "stdout"
                }
            ], 
            "metadata": {
                "collapsed": false
            }, 
            "source": "d = {'cat': 'cute', 'dog': 'furry'}  # Create a new dictionary with some data\nprint d['cat']       # Get an entry from a dictionary; prints \"cute\"\nprint 'cat' in d     # Check if a dictionary has a given key; prints \"True\"", 
            "execution_count": 158
        }, 
        {
            "cell_type": "code", 
            "outputs": [
                {
                    "text": "wet\n", 
                    "output_type": "stream", 
                    "name": "stdout"
                }
            ], 
            "metadata": {
                "collapsed": false
            }, 
            "source": "d['fish'] = 'wet'    # Set an entry in a dictionary\nprint d['fish']      # Prints \"wet\"", 
            "execution_count": 159
        }, 
        {
            "cell_type": "code", 
            "outputs": [
                {
                    "traceback": [
                        "\u001b[0;31m---------------------------------------------------------------------------\u001b[0m\n\u001b[0;31mKeyError\u001b[0m                                  Traceback (most recent call last)", 
                        "\u001b[0;32m<ipython-input-161-85f0c5ba0fa7>\u001b[0m in \u001b[0;36m<module>\u001b[0;34m()\u001b[0m\n\u001b[0;32m----> 1\u001b[0;31m \u001b[0;32mprint\u001b[0m \u001b[0md\u001b[0m\u001b[0;34m[\u001b[0m\u001b[0;34m'monkey'\u001b[0m\u001b[0;34m]\u001b[0m  \u001b[0;31m# KeyError: 'monkey' not a key of d\u001b[0m\u001b[0;34m\u001b[0m\u001b[0m\n\u001b[0m", 
                        "\u001b[0;31mKeyError\u001b[0m: 'monkey'"
                    ], 
                    "output_type": "error", 
                    "evalue": "'monkey'", 
                    "ename": "KeyError"
                }
            ], 
            "metadata": {
                "collapsed": false
            }, 
            "source": "print d['monkey']  # KeyError: 'monkey' not a key of d", 
            "execution_count": 161
        }, 
        {
            "cell_type": "code", 
            "outputs": [
                {
                    "text": "N/A\nwet\n", 
                    "output_type": "stream", 
                    "name": "stdout"
                }
            ], 
            "metadata": {
                "collapsed": false
            }, 
            "source": "print d.get('monkey', 'N/A')  # Get an element with a default; prints \"N/A\"\nprint d.get('fish', 'N/A')    # Get an element with a default; prints \"wet\"", 
            "execution_count": 162
        }, 
        {
            "cell_type": "code", 
            "outputs": [
                {
                    "text": "N/A\n", 
                    "output_type": "stream", 
                    "name": "stdout"
                }
            ], 
            "metadata": {
                "collapsed": false
            }, 
            "source": "del d['fish']        # Remove an element from a dictionary\nprint d.get('fish', 'N/A') # \"fish\" is no longer a key; prints \"N/A\"", 
            "execution_count": 163
        }, 
        {
            "cell_type": "markdown", 
            "metadata": {}, 
            "source": "You can find all you need to know about dictionaries in the [documentation](https://docs.python.org/2/library/stdtypes.html#dict)."
        }, 
        {
            "cell_type": "markdown", 
            "metadata": {}, 
            "source": "It is easy to iterate over the keys in a dictionary:"
        }, 
        {
            "cell_type": "code", 
            "outputs": [
                {
                    "text": "A person has 2 legs\nA spider has 8 legs\nA cat has 4 legs\n", 
                    "output_type": "stream", 
                    "name": "stdout"
                }
            ], 
            "metadata": {
                "collapsed": false
            }, 
            "source": "d = {'person': 2, 'cat': 4, 'spider': 8}\nfor animal in d:\n    legs = d[animal]\n    print 'A %s has %d legs' % (animal, legs)", 
            "execution_count": 164
        }, 
        {
            "cell_type": "markdown", 
            "metadata": {}, 
            "source": "If you want access to keys and their corresponding values, use the iteritems method:"
        }, 
        {
            "cell_type": "code", 
            "outputs": [
                {
                    "text": "A person has 2 legs\nA spider has 8 legs\nA cat has 4 legs\n", 
                    "output_type": "stream", 
                    "name": "stdout"
                }
            ], 
            "metadata": {
                "collapsed": false
            }, 
            "source": "d = {'person': 2, 'cat': 4, 'spider': 8}\nfor animal, legs in d.iteritems():\n    print 'A %s has %d legs' % (animal, legs)", 
            "execution_count": 165
        }, 
        {
            "cell_type": "markdown", 
            "metadata": {}, 
            "source": "Dictionary comprehensions: These are similar to list comprehensions, but allow you to easily construct dictionaries. For example:"
        }, 
        {
            "cell_type": "code", 
            "outputs": [
                {
                    "text": "{0: 0, 2: 4, 4: 16}\n", 
                    "output_type": "stream", 
                    "name": "stdout"
                }
            ], 
            "metadata": {
                "collapsed": false
            }, 
            "source": "nums = [0, 1, 2, 3, 4]\neven_num_to_square = {x: x ** 2 for x in nums if x % 2 == 0}\nprint even_num_to_square", 
            "execution_count": 166
        }, 
        {
            "cell_type": "markdown", 
            "metadata": {}, 
            "source": "#### Sets"
        }, 
        {
            "cell_type": "markdown", 
            "metadata": {}, 
            "source": "A set is an unordered collection of distinct elements. As a simple example, consider the following:"
        }, 
        {
            "cell_type": "code", 
            "outputs": [
                {
                    "text": "True\nFalse\n", 
                    "output_type": "stream", 
                    "name": "stdout"
                }
            ], 
            "metadata": {
                "collapsed": false
            }, 
            "source": "animals = {'cat', 'dog'}\nprint 'cat' in animals   # Check if an element is in a set; prints \"True\"\nprint 'fish' in animals  # prints \"False\"\n", 
            "execution_count": 167
        }, 
        {
            "cell_type": "code", 
            "outputs": [
                {
                    "text": "True\n3\n", 
                    "output_type": "stream", 
                    "name": "stdout"
                }
            ], 
            "metadata": {
                "collapsed": false
            }, 
            "source": "animals.add('fish')      # Add an element to a set\nprint 'fish' in animals\nprint len(animals)       # Number of elements in a set;", 
            "execution_count": 170
        }, 
        {
            "cell_type": "code", 
            "outputs": [
                {
                    "text": "3\n2\n", 
                    "output_type": "stream", 
                    "name": "stdout"
                }
            ], 
            "metadata": {
                "collapsed": false
            }, 
            "source": "animals.add('cat')       # Adding an element that is already in the set does nothing\nprint len(animals)       \nanimals.remove('cat')    # Remove an element from a set\nprint len(animals)       ", 
            "execution_count": 171
        }, 
        {
            "cell_type": "markdown", 
            "metadata": {}, 
            "source": "_Loops_: Iterating over a set has the same syntax as iterating over a list; however since sets are unordered, you cannot make assumptions about the order in which you visit the elements of the set:"
        }, 
        {
            "cell_type": "code", 
            "outputs": [
                {
                    "text": "#1: fish\n#2: dog\n#3: cat\n", 
                    "output_type": "stream", 
                    "name": "stdout"
                }
            ], 
            "metadata": {
                "collapsed": false
            }, 
            "source": "animals = {'cat', 'dog', 'fish'}\nfor idx, animal in enumerate(animals):\n    print '#%d: %s' % (idx + 1, animal)\n# Prints \"#1: fish\", \"#2: dog\", \"#3: cat\"", 
            "execution_count": 63
        }, 
        {
            "cell_type": "markdown", 
            "metadata": {}, 
            "source": "Set comprehensions: Like lists and dictionaries, we can easily construct sets using set comprehensions:"
        }, 
        {
            "cell_type": "code", 
            "outputs": [
                {
                    "text": "set([0, 1, 2, 3, 4, 5])\n", 
                    "output_type": "stream", 
                    "name": "stdout"
                }
            ], 
            "metadata": {
                "collapsed": false
            }, 
            "source": "from math import sqrt\nprint {int(sqrt(x)) for x in range(30)}", 
            "execution_count": 172
        }, 
        {
            "cell_type": "markdown", 
            "metadata": {}, 
            "source": "#### Tuples"
        }, 
        {
            "cell_type": "markdown", 
            "metadata": {}, 
            "source": "A tuple is an (immutable) ordered list of values. A tuple is in many ways similar to a list; one of the most important differences is that tuples can be used as keys in dictionaries and as elements of sets, while lists cannot. Here is a trivial example:"
        }, 
        {
            "cell_type": "code", 
            "outputs": [
                {
                    "text": "<type 'tuple'>\n5\n1\n", 
                    "output_type": "stream", 
                    "name": "stdout"
                }
            ], 
            "metadata": {
                "collapsed": false
            }, 
            "source": "d = {(x, x + 1): x for x in range(10)}  # Create a dictionary with tuple keys\nt = (5, 6)       # Create a tuple\nprint type(t)\nprint d[t]       \nprint d[(1, 2)]", 
            "execution_count": 173
        }, 
        {
            "cell_type": "code", 
            "outputs": [
                {
                    "traceback": [
                        "\u001b[0;31m---------------------------------------------------------------------------\u001b[0m\n\u001b[0;31mTypeError\u001b[0m                                 Traceback (most recent call last)", 
                        "\u001b[0;32m<ipython-input-176-0a69537257d5>\u001b[0m in \u001b[0;36m<module>\u001b[0;34m()\u001b[0m\n\u001b[0;32m----> 1\u001b[0;31m \u001b[0mt\u001b[0m\u001b[0;34m[\u001b[0m\u001b[0;36m0\u001b[0m\u001b[0;34m]\u001b[0m \u001b[0;34m=\u001b[0m \u001b[0;36m1\u001b[0m\u001b[0;34m\u001b[0m\u001b[0m\n\u001b[0m", 
                        "\u001b[0;31mTypeError\u001b[0m: 'tuple' object does not support item assignment"
                    ], 
                    "output_type": "error", 
                    "evalue": "'tuple' object does not support item assignment", 
                    "ename": "TypeError"
                }
            ], 
            "metadata": {
                "collapsed": false
            }, 
            "source": "t[0] = 1", 
            "execution_count": 176
        }, 
        {
            "cell_type": "markdown", 
            "metadata": {}, 
            "source": "### Functions"
        }, 
        {
            "cell_type": "markdown", 
            "metadata": {}, 
            "source": "Python functions are defined using the `def` keyword. For example:"
        }, 
        {
            "cell_type": "code", 
            "outputs": [
                {
                    "text": "negative\nzero\npositive\n", 
                    "output_type": "stream", 
                    "name": "stdout"
                }
            ], 
            "metadata": {
                "collapsed": false
            }, 
            "source": "def sign(x):\n    if x > 0:\n        return 'positive'\n    elif x < 0:\n        return 'negative'\n    else:\n        return 'zero'\n\nfor x in [-1, 0, 1]:\n    print sign(x)", 
            "execution_count": 178
        }, 
        {
            "cell_type": "markdown", 
            "metadata": {}, 
            "source": "We will often define functions to take optional keyword arguments, like this:"
        }, 
        {
            "cell_type": "code", 
            "outputs": [
                {
                    "text": "Hello, Bob!\nHELLO, FRED\n", 
                    "output_type": "stream", 
                    "name": "stdout"
                }
            ], 
            "metadata": {
                "collapsed": false
            }, 
            "source": "def hello(name, loud=False):\n    if loud:\n        print 'HELLO, %s' % name.upper()\n    else:\n        print 'Hello, %s!' % name\n\nhello('Bob')\nhello('Fred', loud=True)", 
            "execution_count": 179
        }, 
        {
            "cell_type": "markdown", 
            "metadata": {}, 
            "source": "### Classes"
        }, 
        {
            "cell_type": "markdown", 
            "metadata": {}, 
            "source": "The syntax for defining classes in Python is straightforward:"
        }, 
        {
            "cell_type": "code", 
            "outputs": [
                {
                    "text": "Hello, Fred\nHELLO, FRED!\n", 
                    "output_type": "stream", 
                    "name": "stdout"
                }
            ], 
            "metadata": {
                "collapsed": false
            }, 
            "source": "class Greeter:\n\n    # Constructor\n    def __init__(self, name):\n        self.name = name  # Create an instance variable\n\n    # Instance method\n    def greet(self, loud=False):\n        if loud:\n            print 'HELLO, %s!' % self.name.upper()\n        else:\n            print 'Hello, %s' % self.name\n\ng = Greeter('Fred')  # Construct an instance of the Greeter class\ng.greet()            # Call an instance method; prints \"Hello, Fred\"\ng.greet(loud=True)   # Call an instance method; prints \"HELLO, FRED!\"", 
            "execution_count": 76
        }
    ], 
    "nbformat": 4, 
    "metadata": {
        "kernelspec": {
            "display_name": "Python 2 with Spark 1.6", 
            "name": "python2", 
            "language": "python"
        }, 
        "language_info": {
            "mimetype": "text/x-python", 
            "version": "2.7.11", 
            "file_extension": ".py", 
            "name": "python", 
            "pygments_lexer": "ipython2", 
            "nbconvert_exporter": "python", 
            "codemirror_mode": {
                "version": 2, 
                "name": "ipython"
            }
        }
    }, 
    "nbformat_minor": 0
}