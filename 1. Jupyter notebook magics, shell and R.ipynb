{
    "nbformat": 4, 
    "metadata": {
        "language_info": {
            "pygments_lexer": "ipython2", 
            "file_extension": ".py", 
            "mimetype": "text/x-python", 
            "nbconvert_exporter": "python", 
            "version": "2.7.11", 
            "codemirror_mode": {
                "name": "ipython", 
                "version": 2
            }, 
            "name": "python"
        }, 
        "kernelspec": {
            "name": "python2", 
            "language": "python", 
            "display_name": "Python 2 with Spark 1.6"
        }
    }, 
    "cells": [
        {
            "source": "# Jupyter notebook magics, shell and R\n\nThe notebook has built-in commands, referred to as 'magics'\nTo see which magic commands you have available in your interpreter, you can simply run the following:\n%lsmagic", 
            "metadata": {
                "collapsed": true
            }, 
            "cell_type": "markdown"
        }, 
        {
            "outputs": [
                {
                    "output_type": "execute_result", 
                    "execution_count": 1, 
                    "data": {
                        "text/plain": "Available line magics:\n%alias  %alias_magic  %autocall  %automagic  %autosave  %bookmark  %cat  %cd  %clear  %colors  %config  %connect_info  %cp  %debug  %dhist  %dirs  %doctest_mode  %ed  %edit  %env  %gui  %hist  %history  %killbgscripts  %ldir  %less  %lf  %lk  %ll  %load  %load_ext  %loadpy  %logoff  %logon  %logstart  %logstate  %logstop  %ls  %lsmagic  %lx  %macro  %magic  %man  %matplotlib  %mkdir  %more  %mv  %notebook  %page  %pastebin  %pdb  %pdef  %pdoc  %pfile  %pinfo  %pinfo2  %popd  %pprint  %precision  %profile  %prun  %psearch  %psource  %pushd  %pwd  %pycat  %pylab  %qtconsole  %quickref  %recall  %rehashx  %reload_ext  %rep  %rerun  %reset  %reset_selective  %rm  %rmdir  %run  %save  %sc  %set_env  %store  %sx  %system  %tb  %time  %timeit  %unalias  %unload_ext  %who  %who_ls  %whos  %xdel  %xmode\n\nAvailable cell magics:\n%%!  %%HTML  %%SVG  %%bash  %%capture  %%debug  %%file  %%html  %%javascript  %%js  %%latex  %%perl  %%prun  %%pypy  %%python  %%python2  %%python3  %%ruby  %%script  %%sh  %%svg  %%sx  %%system  %%time  %%timeit  %%writefile\n\nAutomagic is ON, % prefix IS NOT needed for line magics.", 
                        "application/json": {
                            "line": {
                                "logstop": "LoggingMagics", 
                                "store": "StoreMagics", 
                                "lsmagic": "BasicMagics", 
                                "macro": "ExecutionMagics", 
                                "pycat": "OSMagics", 
                                "reload_ext": "ExtensionMagics", 
                                "rep": "Other", 
                                "prun": "ExecutionMagics", 
                                "edit": "KernelMagics", 
                                "rmdir": "Other", 
                                "qtconsole": "KernelMagics", 
                                "mv": "Other", 
                                "pinfo2": "NamespaceMagics", 
                                "autosave": "KernelMagics", 
                                "load_ext": "ExtensionMagics", 
                                "config": "ConfigMagics", 
                                "autocall": "AutoMagics", 
                                "rerun": "HistoryMagics", 
                                "mkdir": "Other", 
                                "logstart": "LoggingMagics", 
                                "alias": "OSMagics", 
                                "reset": "NamespaceMagics", 
                                "man": "KernelMagics", 
                                "time": "ExecutionMagics", 
                                "run": "ExecutionMagics", 
                                "debug": "ExecutionMagics", 
                                "bookmark": "OSMagics", 
                                "logoff": "LoggingMagics", 
                                "ed": "Other", 
                                "pdb": "ExecutionMagics", 
                                "clear": "KernelMagics", 
                                "loadpy": "CodeMagics", 
                                "load": "CodeMagics", 
                                "who_ls": "NamespaceMagics", 
                                "env": "OSMagics", 
                                "automagic": "AutoMagics", 
                                "rm": "Other", 
                                "timeit": "ExecutionMagics", 
                                "who": "NamespaceMagics", 
                                "dirs": "OSMagics", 
                                "history": "HistoryMagics", 
                                "pinfo": "NamespaceMagics", 
                                "matplotlib": "PylabMagics", 
                                "whos": "NamespaceMagics", 
                                "xmode": "BasicMagics", 
                                "killbgscripts": "ScriptMagics", 
                                "profile": "BasicMagics", 
                                "rehashx": "OSMagics", 
                                "pdef": "NamespaceMagics", 
                                "doctest_mode": "BasicMagics", 
                                "reset_selective": "NamespaceMagics", 
                                "pprint": "BasicMagics", 
                                "pylab": "PylabMagics", 
                                "dhist": "OSMagics", 
                                "logstate": "LoggingMagics", 
                                "page": "BasicMagics", 
                                "quickref": "BasicMagics", 
                                "system": "OSMagics", 
                                "psource": "NamespaceMagics", 
                                "logon": "LoggingMagics", 
                                "sc": "OSMagics", 
                                "alias_magic": "BasicMagics", 
                                "pwd": "OSMagics", 
                                "pfile": "NamespaceMagics", 
                                "sx": "OSMagics", 
                                "precision": "BasicMagics", 
                                "set_env": "OSMagics", 
                                "popd": "OSMagics", 
                                "save": "CodeMagics", 
                                "hist": "Other", 
                                "unalias": "OSMagics", 
                                "more": "KernelMagics", 
                                "psearch": "NamespaceMagics", 
                                "cp": "Other", 
                                "notebook": "BasicMagics", 
                                "ldir": "Other", 
                                "cd": "OSMagics", 
                                "recall": "HistoryMagics", 
                                "tb": "ExecutionMagics", 
                                "colors": "BasicMagics", 
                                "xdel": "NamespaceMagics", 
                                "less": "KernelMagics", 
                                "cat": "Other", 
                                "pastebin": "CodeMagics", 
                                "ls": "Other", 
                                "lx": "Other", 
                                "connect_info": "KernelMagics", 
                                "pdoc": "NamespaceMagics", 
                                "pushd": "OSMagics", 
                                "lf": "Other", 
                                "ll": "Other", 
                                "unload_ext": "ExtensionMagics", 
                                "magic": "BasicMagics", 
                                "gui": "BasicMagics", 
                                "lk": "Other"
                            }, 
                            "cell": {
                                "capture": "ExecutionMagics", 
                                "script": "ScriptMagics", 
                                "file": "Other", 
                                "js": "DisplayMagics", 
                                "python3": "Other", 
                                "python2": "Other", 
                                "prun": "ExecutionMagics", 
                                "svg": "DisplayMagics", 
                                "python": "Other", 
                                "time": "ExecutionMagics", 
                                "writefile": "OSMagics", 
                                "bash": "Other", 
                                "system": "OSMagics", 
                                "debug": "ExecutionMagics", 
                                "pypy": "Other", 
                                "sh": "Other", 
                                "ruby": "Other", 
                                "perl": "Other", 
                                "timeit": "ExecutionMagics", 
                                "HTML": "Other", 
                                "latex": "DisplayMagics", 
                                "sx": "OSMagics", 
                                "html": "DisplayMagics", 
                                "!": "OSMagics", 
                                "javascript": "DisplayMagics", 
                                "SVG": "Other"
                            }
                        }
                    }, 
                    "metadata": {}
                }
            ], 
            "source": "%lsmagic", 
            "execution_count": 1, 
            "cell_type": "code", 
            "metadata": {
                "collapsed": true
            }
        }, 
        {
            "source": "You can use the magic command %quickref to show a quick reference sheet for IPython.\nAnd you'll see a whole bunch of them appearing. You'll probably see some magics commands that you'll grasp, such as %save, %clear or %debug, but others will be less straightforward.", 
            "metadata": {}, 
            "cell_type": "markdown"
        }, 
        {
            "outputs": [], 
            "source": "%quickref", 
            "execution_count": 3, 
            "cell_type": "code", 
            "metadata": {
                "collapsed": true
            }
        }, 
        {
            "source": "# shell access\n\nIf you want to install packages, you can also execute these commands as shell commands from inside your notebook by placing a ! in front of the commands, just like this:", 
            "metadata": {}, 
            "cell_type": "markdown"
        }, 
        {
            "outputs": [
                {
                    "name": "stdout", 
                    "output_type": "stream", 
                    "text": "appdirs (1.4.0)\nbackports-abc (0.5)\nbleach (1.5.0)\ncertifi (2017.1.23)\ncloudant (2.3.1)\ndecorator (4.0.11)\nDjango (1.10.5)\nenum34 (1.1.6)\nfsdir (0.8.4)\nhtml5lib (0.9999999)\nibm-db (2.0.7)\nimage (1.5.5)\nipykernel (4.5.2)\nipython (5.2.2)\nipywidgets (5.2.2)\nJinja2 (2.9.5)\njsonschema (2.6.0)\njupyter (1.0.0)\njupyter-client (4.4.0)\njupyter-console (5.1.0)\njupyter-contrib-core (0.3.0)\njupyter-contrib-nbextensions (0.2.4)\njupyter-core (4.2.1)\njupyter-dashboards (0.6.1)\njupyter-highlight-selected-word (0.0.8)\njupyter-latex-envs (1.3.7.1)\njupyter-nbextensions-configurator (0.2.3)\nlime (0.1.1.18)\nmistune (0.7.3)\nnbconvert (5.1.1)\nnbformat (4.2.0)\nnotebook (4.3.2)\npackaging (16.8)\npandocfilters (1.4.1)\npathlib2 (2.2.1)\npexpect (4.2.1)\npickleshare (0.7.4)\nprompt-toolkit (1.0.13)\npsutil (5.1.3)\nptyprocess (0.5.1)\nPygments (2.2.0)\npyparsing (2.1.10)\npyzmq (16.0.2)\nqtconsole (4.2.1)\nscandir (1.4)\nscikit-learn (0.18.1)\nsetuptools (34.1.1)\nterminado (0.6)\ntestpath (0.3)\ntornado (4.4.2)\ntqdm (4.11.2)\ntraitlets (4.3.1)\nunicodecsv (0.14.1)\nwcwidth (0.1.7)\nwidgetsnbextension (1.2.6)\nxgboost (0.6a2)\nCollecting ipython-sql\n  Downloading ipython-sql-0.3.8.tar.gz\nRequirement already satisfied (use --upgrade to upgrade): prettytable in /usr/local/src/bluemix_jupyter_bundle.v33/notebook/lib/python2.7/site-packages (from ipython-sql)\nRequirement already satisfied (use --upgrade to upgrade): ipython>=1.0 in /gpfs/global_fs01/sym_shared/YPProdSpark/user/s16e-7918d85e6de098-7a7840b6cba3/.local/lib/python2.7/site-packages (from ipython-sql)\nCollecting sqlalchemy>=0.6.7 (from ipython-sql)\n  Downloading SQLAlchemy-1.1.5.tar.gz (5.1MB)\n\u001b[K    100% |\u2588\u2588\u2588\u2588\u2588\u2588\u2588\u2588\u2588\u2588\u2588\u2588\u2588\u2588\u2588\u2588\u2588\u2588\u2588\u2588\u2588\u2588\u2588\u2588\u2588\u2588\u2588\u2588\u2588\u2588\u2588\u2588| 5.1MB 222kB/s \n\u001b[?25hCollecting sqlparse (from ipython-sql)\n  Downloading sqlparse-0.2.2-py2.py3-none-any.whl\nRequirement already satisfied (use --upgrade to upgrade): six in /usr/local/src/bluemix_jupyter_bundle.v33/notebook/lib/python2.7/site-packages (from ipython-sql)\nRequirement already satisfied (use --upgrade to upgrade): ipython-genutils>=0.1.0 in /usr/local/src/bluemix_jupyter_bundle.v33/notebook/lib/python2.7/site-packages (from ipython-sql)\nRequirement already satisfied (use --upgrade to upgrade): pygments in /gpfs/global_fs01/sym_shared/YPProdSpark/user/s16e-7918d85e6de098-7a7840b6cba3/.local/lib/python2.7/site-packages (from ipython>=1.0->ipython-sql)\nRequirement already satisfied (use --upgrade to upgrade): pexpect in /gpfs/global_fs01/sym_shared/YPProdSpark/user/s16e-7918d85e6de098-7a7840b6cba3/.local/lib/python2.7/site-packages (from ipython>=1.0->ipython-sql)\nRequirement already satisfied (use --upgrade to upgrade): pickleshare in /gpfs/global_fs01/sym_shared/YPProdSpark/user/s16e-7918d85e6de098-7a7840b6cba3/.local/lib/python2.7/site-packages (from ipython>=1.0->ipython-sql)\nRequirement already satisfied (use --upgrade to upgrade): simplegeneric>0.8 in /usr/local/src/bluemix_jupyter_bundle.v33/notebook/lib/python2.7/site-packages (from ipython>=1.0->ipython-sql)\nRequirement already satisfied (use --upgrade to upgrade): backports.shutil-get-terminal-size in /usr/local/src/bluemix_jupyter_bundle.v33/notebook/lib/python2.7/site-packages (from ipython>=1.0->ipython-sql)\nRequirement already satisfied (use --upgrade to upgrade): traitlets>=4.2 in /gpfs/global_fs01/sym_shared/YPProdSpark/user/s16e-7918d85e6de098-7a7840b6cba3/.local/lib/python2.7/site-packages (from ipython>=1.0->ipython-sql)\nRequirement already satisfied (use --upgrade to upgrade): setuptools>=18.5 in /gpfs/global_fs01/sym_shared/YPProdSpark/user/s16e-7918d85e6de098-7a7840b6cba3/.local/lib/python2.7/site-packages (from ipython>=1.0->ipython-sql)\nRequirement already satisfied (use --upgrade to upgrade): decorator in /gpfs/global_fs01/sym_shared/YPProdSpark/user/s16e-7918d85e6de098-7a7840b6cba3/.local/lib/python2.7/site-packages (from ipython>=1.0->ipython-sql)\nRequirement already satisfied (use --upgrade to upgrade): prompt-toolkit<2.0.0,>=1.0.4 in /gpfs/global_fs01/sym_shared/YPProdSpark/user/s16e-7918d85e6de098-7a7840b6cba3/.local/lib/python2.7/site-packages (from ipython>=1.0->ipython-sql)\nRequirement already satisfied (use --upgrade to upgrade): pathlib2 in /gpfs/global_fs01/sym_shared/YPProdSpark/user/s16e-7918d85e6de098-7a7840b6cba3/.local/lib/python2.7/site-packages (from ipython>=1.0->ipython-sql)\nRequirement already satisfied (use --upgrade to upgrade): ptyprocess>=0.5 in /gpfs/global_fs01/sym_shared/YPProdSpark/user/s16e-7918d85e6de098-7a7840b6cba3/.local/lib/python2.7/site-packages (from pexpect->ipython>=1.0->ipython-sql)\nRequirement already satisfied (use --upgrade to upgrade): enum34 in /gpfs/global_fs01/sym_shared/YPProdSpark/user/s16e-7918d85e6de098-7a7840b6cba3/.local/lib/python2.7/site-packages (from traitlets>=4.2->ipython>=1.0->ipython-sql)\nRequirement already satisfied (use --upgrade to upgrade): packaging>=16.8 in /gpfs/global_fs01/sym_shared/YPProdSpark/user/s16e-7918d85e6de098-7a7840b6cba3/.local/lib/python2.7/site-packages (from setuptools>=18.5->ipython>=1.0->ipython-sql)\nRequirement already satisfied (use --upgrade to upgrade): appdirs>=1.4.0 in /gpfs/global_fs01/sym_shared/YPProdSpark/user/s16e-7918d85e6de098-7a7840b6cba3/.local/lib/python2.7/site-packages (from setuptools>=18.5->ipython>=1.0->ipython-sql)\nRequirement already satisfied (use --upgrade to upgrade): wcwidth in /gpfs/global_fs01/sym_shared/YPProdSpark/user/s16e-7918d85e6de098-7a7840b6cba3/.local/lib/python2.7/site-packages (from prompt-toolkit<2.0.0,>=1.0.4->ipython>=1.0->ipython-sql)\nRequirement already satisfied (use --upgrade to upgrade): scandir in /gpfs/global_fs01/sym_shared/YPProdSpark/user/s16e-7918d85e6de098-7a7840b6cba3/.local/lib/python2.7/site-packages (from pathlib2->ipython>=1.0->ipython-sql)\nRequirement already satisfied (use --upgrade to upgrade): pyparsing in /gpfs/global_fs01/sym_shared/YPProdSpark/user/s16e-7918d85e6de098-7a7840b6cba3/.local/lib/python2.7/site-packages (from packaging>=16.8->setuptools>=18.5->ipython>=1.0->ipython-sql)\nInstalling collected packages: sqlalchemy, sqlparse, ipython-sql\n  Running setup.py install for sqlalchemy ... \u001b[?25l-\b \b\\\b \b|\b \b/\b \b-\b \b\\\b \b|\b \b/\b \b-\b \b\\\b \b|\b \b/\b \b-\b \b\\\b \b|\b \b/\b \b-\b \b\\\b \b|\b \b/\b \bdone\n\u001b[?25h  Running setup.py install for ipython-sql ... \u001b[?25l-\b \bdone\n\u001b[?25hSuccessfully installed ipython-sql-0.3.8 sqlalchemy-1.1.5 sqlparse-0.2.2\n10MB\t\tdialogs\t\t\t img.png\t  ubuntu_dialogs.tgz\n10MB.zip\tenron\t\t\t output_file\ndata_train.csv\tenron_mail_20150507.tgz  random_data.csv\n"
                }
            ], 
            "source": "# Check, manage and install packages\n!pip list\n!pip install ipython-sql\n\n# Check the files in your working directory\n!ls", 
            "execution_count": 5, 
            "cell_type": "code", 
            "metadata": {
                "collapsed": true
            }
        }, 
        {
            "outputs": [], 
            "source": "# %% multi line magics", 
            "execution_count": null, 
            "cell_type": "code", 
            "metadata": {
                "collapsed": true
            }
        }, 
        {
            "outputs": [
                {
                    "name": "stdout", 
                    "output_type": "stream", 
                    "text": "10MB\t\tdialogs\t\t\t img.png\t  ubuntu_dialogs.tgz\n10MB.zip\tenron\t\t\t output_file\ndata_train.csv\tenron_mail_20150507.tgz  random_data.csv\n---------------\nbackground_jobs.db  jupyter-data  logs\t       process-info  tmp\ndownloads\t    jupyter-rt\t  process-ids  spark-config  work\n"
                }
            ], 
            "source": "%%bash\ndir\ncd ..\necho ---------------\ndir", 
            "execution_count": 9, 
            "cell_type": "code", 
            "metadata": {
                "collapsed": false
            }
        }, 
        {
            "source": "# mixing Python and R\n\n## not working", 
            "metadata": {}, 
            "cell_type": "markdown"
        }, 
        {
            "outputs": [
                {
                    "name": "stdout", 
                    "output_type": "stream", 
                    "text": "Collecting rpy2\n  Using cached rpy2-2.8.5.tar.gz\n    Complete output from command python setup.py egg_info:\n    Error: Tried to guess R's HOME but no command 'R' in the PATH.\n    \n    ----------------------------------------\n\u001b[31mCommand \"python setup.py egg_info\" failed with error code 1 in /gpfs/global_fs01/sym_shared/YPProdSpark/user/s16e-7918d85e6de098-7a7840b6cba3/notebook/tmp/pip-build-QITJ76/rpy2/\u001b[0m\n"
                }
            ], 
            "source": "!pip install rpy2 ", 
            "execution_count": 21, 
            "cell_type": "code", 
            "metadata": {
                "scrolled": true, 
                "collapsed": false
            }
        }, 
        {
            "outputs": [
                {
                    "name": "stderr", 
                    "output_type": "stream", 
                    "text": "ERROR:root:Line magic function `%R` not found.\n"
                }, 
                {
                    "name": "stdout", 
                    "output_type": "stream", 
                    "text": "The rmagic extension is already loaded. To reload it, use:\n  %reload_ext rmagic\n"
                }
            ], 
            "source": "# Hide warnings if there are any\n#import warnings\n#warnings.filterwarnings('ignore')\n\n# Load in the r magic\n%load_ext rmagic\n\n\n# We need ggplot2\n%%R require(ggplot2)\n\n# Load in the pandas library\nimport pandas as pd\n\n# Make a pandas DataFrame\ndf = pd.DataFrame({'Alphabet': ['a', 'b', 'c', 'd','e', 'f', 'g', 'h','i'],\n                   'A': [4, 3, 5, 2, 1, 7, 7, 5, 9],\n                   'B': [0, 4, 3, 6, 7, 10, 11, 9, 13],\n                   'C': [1, 2, 3, 1, 2, 3, 1, 2, 3]})\n\n# Take the name of input variable df and assign it to an R variable of the same name\n", 
            "execution_count": 19, 
            "cell_type": "code", 
            "metadata": {
                "collapsed": false
            }
        }
    ], 
    "nbformat_minor": 0
}