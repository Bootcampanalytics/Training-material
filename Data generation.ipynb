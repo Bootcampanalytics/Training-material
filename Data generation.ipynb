{
    "nbformat_minor": 0, 
    "cells": [
        {
            "cell_type": "code", 
            "execution_count": 1, 
            "source": "import numpy as np\nimport pandas as pd", 
            "outputs": [], 
            "metadata": {
                "collapsed": true
            }
        }, 
        {
            "cell_type": "code", 
            "execution_count": 28, 
            "source": "def gen_data(n=100):\n    data = { \\\n    'v01': np.random.normal(0,1,n), \n    'v02': np.random.beta(3,1,n),\n    'v03': np.random.chisquare(3,n),       \n    'v04': np.random.exponential(3,n),\n    'v05': np.random.f(10,3,n),      \n    'v06': np.random.gamma(2,n),         \n    'v07': np.random.logistic(10,1,n),  \n    'v08': np.random.choice(2, n, p=[0.1, 0.9]),\n    'v09': np.random.choice(2, n, p=[0.2, 0.8]),\n    'v10': np.random.choice(2, n, p=[0.4, 0.6]),                \n    'v11': np.random.choice(3, n, p=[0.1, 0.2, 0.7]),\n    'v12': np.random.choice(3, n, p=[0.3, 0.3, 0.4]),\n    'v13': np.random.choice(5, n, p=[0.1, 0.2, 0.3, 0.2, 0.2 ]),\n    'v14': np.random.choice(5, n, p=[0.2, 0.2, 0.2, 0.2, 0.2]),\n    'v15': np.random.choice(10, n, p=[0.1, 0.1, 0.1, 0.1, 0.1,0.1, 0.1, 0.1, 0.1, 0.1]) \\\n         }\n\n    df = pd.DataFrame(data) \n\n\n    target =             \\\n    0.1     * df.v01 +      \\\n    -0.1    * df.v03 +      \\\n    0.015   * df.v04 +      \\\n    -0.00015* df.v06 +      \\\n    0.12    * df.v07 +      \\\n    0.11    * df.v08 +      \\\n    -0.13   * df.v10 +      \\\n    -0.05   * (df.v11==1) + \\\n    0.13    * (df.v13==1) + \\\n    -0.12   * (df.v13==3) + \\\n    0.16    * (df.v14==1) + \\\n    -0.02   * (df.v14==2) + \\\n    0.01    * (df.v15==2) + \\\n    -0.02   * (df.v15==4) + \\\n    0.04    * (df.v15==6) + \\\n    -0.04   * (df.v15==8) + \\\n    0.1     * df.v01 * df.v02 +        \\\n    -0.1    * df.v02 * df.v03 +        \\\n    0.000005* df.v04 * df.v06 +        \\\n    -0.15   * df.v03 * df.v08 +        \\\n    0.12    * df.v07 * df.v09 +        \\\n    0.11    * df.v10 * df.v11 +        \\\n    -0.13   * df.v12 * df.v14 +        \\\n    -0.05   * (df.v11==2) * df.v01 +   \\\n    0.13    * (df.v13==1) * df.v02 +   \\\n    -0.12   * (df.v13==2) * df.v03 +   \\\n    0.16    * (df.v14==2) * df.v04 +   \\\n    -0.02   * (df.v14==3) * df.v05 +   \\\n    0.00001 * (df.v15==1) * df.v06 +   \\\n    -0.02   * (df.v15==5) * df.v07 +   \\\n    0.04    * (df.v15==7) * df.v08 +   \\\n    -0.04   * (df.v15==5) * df.v09 +   \\\n    0.04    * (df.v15==4) * (df.v13==8) +  \\\n    -0.04   * (df.v15==3) * (df.v13==8) +  \\\n    0.04    * (df.v15==2) * (df.v14==8) +  \\\n    -0.04   * (df.v15==1) * (df.v14==8) +  \\\n    0.04    * (df.v15==2) * (df.v12==8) +  \\\n    -0.04   * (df.v15==3) * (df.v13==8)\n\n    #df['target']=target\n    df['target']=(np.exp(target)/(1+np.exp(target))>0.5).astype(int)\n    \n    return df\n", 
            "outputs": [], 
            "metadata": {
                "collapsed": false
            }
        }, 
        {
            "cell_type": "code", 
            "execution_count": 47, 
            "source": "data_train = gen_data(n=20000)\ndata_test  = gen_data(n=100000)\n\ndata_train.head()\n", 
            "outputs": [
                {
                    "data": {
                        "text/html": "<div>\n<table border=\"1\" class=\"dataframe\">\n  <thead>\n    <tr style=\"text-align: right;\">\n      <th></th>\n      <th>v01</th>\n      <th>v02</th>\n      <th>v03</th>\n      <th>v04</th>\n      <th>v05</th>\n      <th>v06</th>\n      <th>v07</th>\n      <th>v08</th>\n      <th>v09</th>\n      <th>v10</th>\n      <th>v11</th>\n      <th>v12</th>\n      <th>v13</th>\n      <th>v14</th>\n      <th>v15</th>\n      <th>target</th>\n    </tr>\n  </thead>\n  <tbody>\n    <tr>\n      <th>0</th>\n      <td>-0.581274</td>\n      <td>0.299583</td>\n      <td>0.672571</td>\n      <td>0.879624</td>\n      <td>1.417787</td>\n      <td>12273.412584</td>\n      <td>11.577250</td>\n      <td>1</td>\n      <td>0</td>\n      <td>1</td>\n      <td>0</td>\n      <td>2</td>\n      <td>4</td>\n      <td>1</td>\n      <td>3</td>\n      <td>0</td>\n    </tr>\n    <tr>\n      <th>1</th>\n      <td>0.102360</td>\n      <td>0.942390</td>\n      <td>1.358432</td>\n      <td>1.289167</td>\n      <td>3.519207</td>\n      <td>12273.412584</td>\n      <td>8.978558</td>\n      <td>1</td>\n      <td>1</td>\n      <td>1</td>\n      <td>2</td>\n      <td>1</td>\n      <td>1</td>\n      <td>2</td>\n      <td>6</td>\n      <td>1</td>\n    </tr>\n    <tr>\n      <th>2</th>\n      <td>-0.131057</td>\n      <td>0.796321</td>\n      <td>1.218057</td>\n      <td>1.704464</td>\n      <td>0.582041</td>\n      <td>12273.412584</td>\n      <td>10.950337</td>\n      <td>1</td>\n      <td>1</td>\n      <td>1</td>\n      <td>2</td>\n      <td>0</td>\n      <td>3</td>\n      <td>3</td>\n      <td>0</td>\n      <td>1</td>\n    </tr>\n    <tr>\n      <th>3</th>\n      <td>-1.664699</td>\n      <td>0.972988</td>\n      <td>2.604471</td>\n      <td>1.165724</td>\n      <td>4.582620</td>\n      <td>12273.412584</td>\n      <td>12.149130</td>\n      <td>1</td>\n      <td>1</td>\n      <td>1</td>\n      <td>1</td>\n      <td>0</td>\n      <td>2</td>\n      <td>3</td>\n      <td>0</td>\n      <td>0</td>\n    </tr>\n    <tr>\n      <th>4</th>\n      <td>1.018567</td>\n      <td>0.796813</td>\n      <td>1.549261</td>\n      <td>5.730283</td>\n      <td>0.854525</td>\n      <td>12273.412584</td>\n      <td>8.379034</td>\n      <td>1</td>\n      <td>1</td>\n      <td>0</td>\n      <td>0</td>\n      <td>0</td>\n      <td>3</td>\n      <td>0</td>\n      <td>9</td>\n      <td>1</td>\n    </tr>\n  </tbody>\n</table>\n</div>", 
                        "text/plain": "        v01       v02       v03       v04       v05           v06        v07  \\\n0 -0.581274  0.299583  0.672571  0.879624  1.417787  12273.412584  11.577250   \n1  0.102360  0.942390  1.358432  1.289167  3.519207  12273.412584   8.978558   \n2 -0.131057  0.796321  1.218057  1.704464  0.582041  12273.412584  10.950337   \n3 -1.664699  0.972988  2.604471  1.165724  4.582620  12273.412584  12.149130   \n4  1.018567  0.796813  1.549261  5.730283  0.854525  12273.412584   8.379034   \n\n   v08  v09  v10  v11  v12  v13  v14  v15  target  \n0    1    0    1    0    2    4    1    3       0  \n1    1    1    1    2    1    1    2    6       1  \n2    1    1    1    2    0    3    3    0       1  \n3    1    1    1    1    0    2    3    0       0  \n4    1    1    0    0    0    3    0    9       1  "
                    }, 
                    "output_type": "execute_result", 
                    "execution_count": 47, 
                    "metadata": {}
                }
            ], 
            "metadata": {
                "collapsed": false, 
                "scrolled": true
            }
        }, 
        {
            "cell_type": "code", 
            "execution_count": 48, 
            "source": "import ibmdbpy\nfrom ibmdbpy import IdaDataBase\n\ncredentials_1 = {\n  'host':'awh-yp-small03.services.dal.bluemix.net',\n  'port':'50000',\n  'user':'dash110459',\n  'password':\"\"\"cc7fcfe60374\"\"\",\n  'database':'BLUDB'\n}\n\nidadb = IdaDataBase(dsn=\"DASHDB;Database=BLUDB;Hostname=\" + credentials_1[\"host\"] + \";Port=50000;PROTOCOL=TCPIP;UID=\" + credentials_1[\"user\"] + \";PWD=\" + credentials_1[\"password\"])\nidadf = idadb.as_idadataframe(data_train, \"DATA_TRAIN\", clear_existing=True)\nidadf = idadb.as_idadataframe(data_test, \"DATA_TEST\", clear_existing=True)", 
            "outputs": [
                {
                    "name": "stderr", 
                    "output_type": "stream", 
                    "text": "Exception AttributeError: \"Cursor instance has no attribute 'closed'\" in <bound method Cursor.__del__ of <pypyodbc.Cursor instance at 0x7f79963ed7e8>> ignored\n"
                }, 
                {
                    "name": "stdout", 
                    "output_type": "stream", 
                    "text": "DataFrame will be splitted into 40 chunks. (500 rows per chunk)\nUploaded: 40/40... [DONE]\n"
                }, 
                {
                    "name": "stderr", 
                    "output_type": "stream", 
                    "text": "Exception AttributeError: \"Cursor instance has no attribute 'closed'\" in <bound method Cursor.__del__ of <pypyodbc.Cursor instance at 0x7f79899cc758>> ignored\n"
                }, 
                {
                    "name": "stdout", 
                    "output_type": "stream", 
                    "text": "DataFrame will be splitted into 200 chunks. (500 rows per chunk)\nUploaded: 200/200... [DONE]\n"
                }
            ], 
            "metadata": {
                "collapsed": false, 
                "scrolled": true
            }
        }
    ], 
    "metadata": {
        "kernelspec": {
            "display_name": "Python 2 with Spark 1.6", 
            "language": "python", 
            "name": "python2"
        }, 
        "language_info": {
            "version": "2.7.11", 
            "nbconvert_exporter": "python", 
            "mimetype": "text/x-python", 
            "file_extension": ".py", 
            "name": "python", 
            "pygments_lexer": "ipython2", 
            "codemirror_mode": {
                "version": 2, 
                "name": "ipython"
            }
        }
    }, 
    "nbformat": 4
}